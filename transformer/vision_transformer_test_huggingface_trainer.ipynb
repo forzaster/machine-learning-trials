{
 "cells": [
  {
   "attachments": {},
   "cell_type": "markdown",
   "metadata": {},
   "source": [
    "# Vision Transformer Exercise by using Huggingface libraries\n",
    "\n",
    "Reference : https://huggingface.co/blog/fine-tune-vit"
   ]
  },
  {
   "attachments": {},
   "cell_type": "markdown",
   "metadata": {},
   "source": [
    "## Setup"
   ]
  },
  {
   "cell_type": "code",
   "execution_count": 1,
   "metadata": {},
   "outputs": [
    {
     "name": "stderr",
     "output_type": "stream",
     "text": [
      "Some weights of the model checkpoint at google/vit-base-patch16-224-in21k were not used when initializing ViTForImageClassification: ['pooler.dense.bias', 'pooler.dense.weight']\n",
      "- This IS expected if you are initializing ViTForImageClassification from the checkpoint of a model trained on another task or with another architecture (e.g. initializing a BertForSequenceClassification model from a BertForPreTraining model).\n",
      "- This IS NOT expected if you are initializing ViTForImageClassification from the checkpoint of a model that you expect to be exactly identical (initializing a BertForSequenceClassification model from a BertForSequenceClassification model).\n",
      "Some weights of ViTForImageClassification were not initialized from the model checkpoint at google/vit-base-patch16-224-in21k and are newly initialized: ['classifier.weight', 'classifier.bias']\n",
      "You should probably TRAIN this model on a down-stream task to be able to use it for predictions and inference.\n"
     ]
    },
    {
     "data": {
      "text/plain": [
       "{'height': 224, 'width': 224}"
      ]
     },
     "execution_count": 1,
     "metadata": {},
     "output_type": "execute_result"
    }
   ],
   "source": [
    "import torch\n",
    "from transformers import ViTForImageClassification, ViTImageProcessor\n",
    "\n",
    "import warnings\n",
    "warnings.filterwarnings('ignore')\n",
    "\n",
    "device = torch.device('cuda' if torch.cuda.is_available() else 'cpu')\n",
    "\n",
    "#model_name = 'google/vit-base-patch16-224'\n",
    "model_name = 'google/vit-base-patch16-224-in21k'\n",
    "model_predict = ViTForImageClassification.from_pretrained(model_name)\n",
    "model_predict.to(device)\n",
    "\n",
    "processor = ViTImageProcessor.from_pretrained(model_name)\n",
    "processor.size"
   ]
  },
  {
   "attachments": {},
   "cell_type": "markdown",
   "metadata": {},
   "source": [
    "### Load data"
   ]
  },
  {
   "cell_type": "code",
   "execution_count": 2,
   "metadata": {},
   "outputs": [
    {
     "data": {
      "application/vnd.jupyter.widget-view+json": {
       "model_id": "d06faaef6db54a1a955504905eba3390",
       "version_major": 2,
       "version_minor": 0
      },
      "text/plain": [
       "  0%|          | 0/2 [00:00<?, ?it/s]"
      ]
     },
     "metadata": {},
     "output_type": "display_data"
    },
    {
     "data": {
      "text/plain": [
       "DatasetDict({\n",
       "    train: Dataset({\n",
       "        features: ['img', 'label'],\n",
       "        num_rows: 50000\n",
       "    })\n",
       "    test: Dataset({\n",
       "        features: ['img', 'label'],\n",
       "        num_rows: 10000\n",
       "    })\n",
       "})"
      ]
     },
     "execution_count": 2,
     "metadata": {},
     "output_type": "execute_result"
    }
   ],
   "source": [
    "import datasets\n",
    "\n",
    "datasets.logging.set_verbosity(datasets.logging.ERROR)\n",
    "dataset = datasets.load_dataset('cifar10')\n",
    "#dataset = datasets.load_dataset('beans')\n",
    "dataset"
   ]
  },
  {
   "cell_type": "code",
   "execution_count": 3,
   "metadata": {},
   "outputs": [],
   "source": [
    "dataset_train_val = dataset['train'].train_test_split(0.2)\n",
    "#dataset_train = dataset_train_val['train'].select(range(5000))\n",
    "#dataset_val = dataset_train_val['test'].select(range(1000))\n",
    "#dataset_test = dataset['test'].select(range(1000))\n",
    "dataset_train = dataset_train_val['train']\n",
    "if len(dataset_train) > 10000:\n",
    "    dataset_train = dataset_train.select(range(10000))\n",
    "dataset_val = dataset_train_val['test']\n",
    "if len(dataset_val) > 2000:\n",
    "    dataset_val = dataset_val.select(range(2000))\n",
    "dataset_test = dataset['test']\n",
    "if len(dataset_test) > 2000:\n",
    "    dataset_test = dataset_test.select(range(2000))\n"
   ]
  },
  {
   "cell_type": "code",
   "execution_count": 4,
   "metadata": {},
   "outputs": [
    {
     "name": "stdout",
     "output_type": "stream",
     "text": [
      "dict_keys(['img', 'label'])\n",
      "Dataset({\n",
      "    features: ['img', 'label'],\n",
      "    num_rows: 10000\n",
      "})\n",
      "Dataset({\n",
      "    features: ['img', 'label'],\n",
      "    num_rows: 2000\n",
      "})\n",
      "Dataset({\n",
      "    features: ['img', 'label'],\n",
      "    num_rows: 2000\n",
      "})\n",
      "image_name = img, label_name = label\n"
     ]
    }
   ],
   "source": [
    "print(dataset_train.features.keys())\n",
    "image_name = 'image'\n",
    "label_name = 'labels'\n",
    "for k in dataset_train.features.keys():\n",
    "    if k == 'img':\n",
    "        image_name = k\n",
    "    if k == 'label':\n",
    "        label_name = k\n",
    "print(dataset_train)\n",
    "print(dataset_val)\n",
    "print(dataset_test)\n",
    "\n",
    "print(f'image_name = {image_name}, label_name = {label_name}')"
   ]
  },
  {
   "cell_type": "code",
   "execution_count": 5,
   "metadata": {},
   "outputs": [
    {
     "data": {
      "text/plain": [
       "{0: 'airplane',\n",
       " 1: 'automobile',\n",
       " 2: 'bird',\n",
       " 3: 'cat',\n",
       " 4: 'deer',\n",
       " 5: 'dog',\n",
       " 6: 'frog',\n",
       " 7: 'horse',\n",
       " 8: 'ship',\n",
       " 9: 'truck'}"
      ]
     },
     "execution_count": 5,
     "metadata": {},
     "output_type": "execute_result"
    }
   ],
   "source": [
    "id2label = {i: l for i, l in enumerate(dataset_train.features[label_name].names)}\n",
    "label2id = {l: i for i, l in id2label.items()}\n",
    "id2label"
   ]
  },
  {
   "attachments": {},
   "cell_type": "markdown",
   "metadata": {},
   "source": [
    "## Predict test by default model without fine-tuning"
   ]
  },
  {
   "cell_type": "code",
   "execution_count": 6,
   "metadata": {},
   "outputs": [],
   "source": [
    "from PIL import Image\n",
    "\n",
    "def predict(imgfile, print_flg=False):\n",
    "    img = Image.open(imgfile)\n",
    "    inputs = processor(images=img, return_tensors=\"pt\").to(device)\n",
    "    pixel_values = inputs.pixel_values\n",
    "    print(f'pixel_values shape = {pixel_values.shape}')\n",
    "    with torch.no_grad():\n",
    "      outputs = model_predict(pixel_values)\n",
    "    logits = outputs.logits\n",
    "    print(f'logits shape = {logits.shape} , logits type = {type(logits)}, model type = {type(model_predict)}')\n",
    "    if print_flg:\n",
    "       print(f'logits = {logits}')\n",
    "    prediction = logits.argmax(-1)\n",
    "    print(f\"Predicted class:\", model_predict.config.id2label[prediction.item()])\n",
    "    print(f\"prediction type = {prediction}, prediction item = {prediction.item()}\")\n",
    "    return prediction"
   ]
  },
  {
   "cell_type": "code",
   "execution_count": 7,
   "metadata": {},
   "outputs": [
    {
     "data": {
      "image/png": "[encoded data removed]",
      "text/plain": [
       "<PIL.PngImagePlugin.PngImageFile image mode=RGB size=32x32>"
      ]
     },
     "metadata": {},
     "output_type": "display_data"
    },
    {
     "name": "stdout",
     "output_type": "stream",
     "text": [
      "torch.Size([1, 3, 224, 224])\n",
      "ImageClassifierOutput(loss=None, logits=tensor([[ 0.1252, -0.0470]], device='cuda:0'), hidden_states=None, attentions=None)\n",
      "torch.Size([1, 2])\n",
      "Predicted = 0 :  LABEL_0\n",
      "Actual = 7 : horse\n"
     ]
    }
   ],
   "source": [
    "import torch\n",
    "\n",
    "idx = 100\n",
    "display(dataset_train[idx][image_name])\n",
    "inputs = processor(images=dataset_train[idx][image_name], return_tensors=\"pt\").to(device)\n",
    "pixel_values = inputs.pixel_values\n",
    "print(pixel_values.shape)\n",
    "with torch.no_grad():\n",
    "    outputs = model_predict(pixel_values)\n",
    "print(outputs)\n",
    "logits = outputs.logits\n",
    "print(logits.shape)\n",
    "prediction = logits.argmax(-1)\n",
    "print(f\"Predicted = {prediction.item()} :  {model_predict.config.id2label[prediction.item()]}\")\n",
    "print(f\"Actual = {dataset_train[idx][label_name]} : {id2label[dataset_train[idx][label_name]]}\")"
   ]
  },
  {
   "attachments": {},
   "cell_type": "markdown",
   "metadata": {},
   "source": [
    "## Fine Tuning"
   ]
  },
  {
   "attachments": {},
   "cell_type": "markdown",
   "metadata": {},
   "source": [
    "### Data Preprocess"
   ]
  },
  {
   "cell_type": "code",
   "execution_count": 8,
   "metadata": {},
   "outputs": [
    {
     "data": {
      "text/plain": [
       "ViTImageProcessor {\n",
       "  \"do_normalize\": true,\n",
       "  \"do_rescale\": true,\n",
       "  \"do_resize\": true,\n",
       "  \"image_mean\": [\n",
       "    0.5,\n",
       "    0.5,\n",
       "    0.5\n",
       "  ],\n",
       "  \"image_processor_type\": \"ViTImageProcessor\",\n",
       "  \"image_std\": [\n",
       "    0.5,\n",
       "    0.5,\n",
       "    0.5\n",
       "  ],\n",
       "  \"resample\": 2,\n",
       "  \"rescale_factor\": 0.00392156862745098,\n",
       "  \"size\": {\n",
       "    \"height\": 224,\n",
       "    \"width\": 224\n",
       "  }\n",
       "}"
      ]
     },
     "execution_count": 8,
     "metadata": {},
     "output_type": "execute_result"
    }
   ],
   "source": [
    "from transformers import ViTFeatureExtractor\n",
    "\n",
    "# ViTImageProcessorと実体は同じ (https://github.com/huggingface/transformers/blob/v4.28.1/src/transformers/models/vit/feature_extraction_vit.py)\n",
    "feature_extractor = ViTFeatureExtractor.from_pretrained(model_name)\n",
    "feature_extractor"
   ]
  },
  {
   "cell_type": "code",
   "execution_count": 9,
   "metadata": {},
   "outputs": [
    {
     "data": {
      "text/plain": [
       "{'img': <PIL.PngImagePlugin.PngImageFile image mode=RGB size=32x32>,\n",
       " 'label': 6}"
      ]
     },
     "execution_count": 9,
     "metadata": {},
     "output_type": "execute_result"
    }
   ],
   "source": [
    "dataset_train[0]"
   ]
  },
  {
   "cell_type": "code",
   "execution_count": 10,
   "metadata": {},
   "outputs": [
    {
     "data": {
      "text/plain": [
       "{'pixel_values': tensor([[[[ 0.1137,  0.1137,  0.1137,  ..., -0.1529, -0.1529, -0.1529],\n",
       "          [ 0.1137,  0.1137,  0.1137,  ..., -0.1529, -0.1529, -0.1529],\n",
       "          [ 0.1137,  0.1137,  0.1137,  ..., -0.1529, -0.1529, -0.1529],\n",
       "          ...,\n",
       "          [-0.2078, -0.2078, -0.2078,  ..., -0.3412, -0.3412, -0.3412],\n",
       "          [-0.2078, -0.2078, -0.2078,  ..., -0.3412, -0.3412, -0.3412],\n",
       "          [-0.2078, -0.2078, -0.2078,  ..., -0.3412, -0.3412, -0.3412]],\n",
       "\n",
       "         [[ 0.0902,  0.0902,  0.0902,  ...,  0.0196,  0.0196,  0.0196],\n",
       "          [ 0.0902,  0.0902,  0.0902,  ...,  0.0196,  0.0196,  0.0196],\n",
       "          [ 0.0902,  0.0902,  0.0902,  ...,  0.0196,  0.0196,  0.0196],\n",
       "          ...,\n",
       "          [-0.0431, -0.0431, -0.0431,  ..., -0.2235, -0.2235, -0.2235],\n",
       "          [-0.0431, -0.0431, -0.0431,  ..., -0.2235, -0.2235, -0.2235],\n",
       "          [-0.0431, -0.0431, -0.0431,  ..., -0.2235, -0.2235, -0.2235]],\n",
       "\n",
       "         [[-0.3725, -0.3725, -0.3725,  ..., -0.4431, -0.4431, -0.4431],\n",
       "          [-0.3725, -0.3725, -0.3725,  ..., -0.4431, -0.4431, -0.4431],\n",
       "          [-0.3725, -0.3725, -0.3725,  ..., -0.4431, -0.4431, -0.4431],\n",
       "          ...,\n",
       "          [-0.5294, -0.5294, -0.5294,  ..., -0.6941, -0.6941, -0.6941],\n",
       "          [-0.5294, -0.5294, -0.5294,  ..., -0.6941, -0.6941, -0.6941],\n",
       "          [-0.5294, -0.5294, -0.5294,  ..., -0.6941, -0.6941, -0.6941]]],\n",
       "\n",
       "\n",
       "        [[[-0.0745, -0.0745, -0.0745,  ..., -0.8667, -0.8667, -0.8667],\n",
       "          [-0.0745, -0.0745, -0.0745,  ..., -0.8667, -0.8667, -0.8667],\n",
       "          [-0.0745, -0.0745, -0.0745,  ..., -0.8667, -0.8667, -0.8667],\n",
       "          ...,\n",
       "          [-0.2000, -0.2000, -0.2000,  ..., -0.7725, -0.7725, -0.7725],\n",
       "          [-0.2000, -0.2000, -0.2000,  ..., -0.7725, -0.7725, -0.7725],\n",
       "          [-0.2000, -0.2000, -0.2000,  ..., -0.7725, -0.7725, -0.7725]],\n",
       "\n",
       "         [[-0.0039, -0.0039, -0.0039,  ..., -0.7961, -0.7961, -0.7961],\n",
       "          [-0.0039, -0.0039, -0.0039,  ..., -0.7961, -0.7961, -0.7961],\n",
       "          [-0.0039, -0.0039, -0.0039,  ..., -0.7961, -0.7961, -0.7961],\n",
       "          ...,\n",
       "          [-0.1686, -0.1686, -0.1686,  ..., -0.7020, -0.7020, -0.7020],\n",
       "          [-0.1686, -0.1686, -0.1686,  ..., -0.7020, -0.7020, -0.7020],\n",
       "          [-0.1686, -0.1686, -0.1686,  ..., -0.7020, -0.7020, -0.7020]],\n",
       "\n",
       "         [[-0.4902, -0.4902, -0.4902,  ..., -0.9216, -0.9216, -0.9216],\n",
       "          [-0.4902, -0.4902, -0.4902,  ..., -0.9216, -0.9216, -0.9216],\n",
       "          [-0.4902, -0.4902, -0.4902,  ..., -0.9216, -0.9216, -0.9216],\n",
       "          ...,\n",
       "          [-0.4275, -0.4275, -0.4275,  ..., -0.8431, -0.8431, -0.8431],\n",
       "          [-0.4275, -0.4275, -0.4275,  ..., -0.8431, -0.8431, -0.8431],\n",
       "          [-0.4275, -0.4275, -0.4275,  ..., -0.8431, -0.8431, -0.8431]]]]), 'label': [6, 6]}"
      ]
     },
     "execution_count": 10,
     "metadata": {},
     "output_type": "execute_result"
    }
   ],
   "source": [
    "# transformはdatasetのitemがsliceされた分まとまって呼ばれる(Trainerからは1個づつ呼ばれる)\n",
    "# 例)\n",
    "#  item1 = {key-A:value-A-1, key-B:value-B-1, ...}, item2 = {key-A:value-A-2, key-B:value-B-2, ...}, \n",
    "#   => slice_items = {key-A: [value-A-1, value-A-2, ...], key-B: [value-B-1, value-B-2...]} \n",
    "def transform_func(slice_items):\n",
    "    inputs = feature_extractor([x for x in slice_items[image_name]], return_tensors='pt')\n",
    "    inputs[label_name] = slice_items[label_name]\n",
    "    return inputs\n",
    "\n",
    "transformed_dataset_train = dataset_train.with_transform(transform_func)\n",
    "transformed_dataset_val = dataset_val.with_transform(transform_func)\n",
    "transformed_dataset_test = dataset_test.with_transform(transform_func)\n",
    "transformed_dataset_train[0:2]\n"
   ]
  },
  {
   "cell_type": "code",
   "execution_count": 11,
   "metadata": {},
   "outputs": [],
   "source": [
    "import numpy as np\n",
    "import evaluate\n",
    "\n",
    "# collateはbatchサイズ分まとまって呼ばれるので tensorに変換して返す (transformでfeature_extractor適用済みの場合)\n",
    "# trainだけの場合feature_extractorもここで処理すれば 前述の transform_funcは不要になる（はず）だが、evaluationのためcollate前にfeature extractorを通しておく必要がある\n",
    "def collate_func(batch):\n",
    "    return {\n",
    "        'pixel_values': torch.stack([x['pixel_values'] for x in batch]),\n",
    "        'labels': torch.tensor([x[label_name] for x in batch])\n",
    "    }\n",
    "\n",
    "accuracy_metric = evaluate.load('accuracy')\n",
    "\n",
    "def metrics_func(p):\n",
    "    return accuracy_metric.compute(predictions=np.argmax(p.predictions, axis=1), references=p.label_ids)"
   ]
  },
  {
   "cell_type": "code",
   "execution_count": 12,
   "metadata": {},
   "outputs": [
    {
     "name": "stderr",
     "output_type": "stream",
     "text": [
      "Some weights of the model checkpoint at google/vit-base-patch16-224-in21k were not used when initializing ViTForImageClassification: ['pooler.dense.bias', 'pooler.dense.weight']\n",
      "- This IS expected if you are initializing ViTForImageClassification from the checkpoint of a model trained on another task or with another architecture (e.g. initializing a BertForSequenceClassification model from a BertForPreTraining model).\n",
      "- This IS NOT expected if you are initializing ViTForImageClassification from the checkpoint of a model that you expect to be exactly identical (initializing a BertForSequenceClassification model from a BertForSequenceClassification model).\n",
      "Some weights of ViTForImageClassification were not initialized from the model checkpoint at google/vit-base-patch16-224-in21k and are newly initialized: ['classifier.weight', 'classifier.bias']\n",
      "You should probably TRAIN this model on a down-stream task to be able to use it for predictions and inference.\n"
     ]
    }
   ],
   "source": [
    "# from_pretrained keyward arguments are passed to PretrainedConfig (https://huggingface.co/docs/transformers/main_classes/configuration#transformers.PretrainedConfig)\n",
    "# num_labels, id2label, label2id are the parameters of PretrainedConfig for Classification\n",
    "model = ViTForImageClassification.from_pretrained(model_name, num_labels=len(id2label), id2label=id2label, label2id=label2id)\n",
    "#, ignore_mismatched_sizes=True)"
   ]
  },
  {
   "attachments": {},
   "cell_type": "markdown",
   "metadata": {},
   "source": [
    "### Train"
   ]
  },
  {
   "cell_type": "code",
   "execution_count": 13,
   "metadata": {},
   "outputs": [
    {
     "name": "stderr",
     "output_type": "stream",
     "text": [
      "Using cuda_amp half precision backend\n"
     ]
    }
   ],
   "source": [
    "from transformers import TrainingArguments, Trainer\n",
    "\n",
    "\n",
    "training_args = TrainingArguments(\n",
    "    output_dir=\"./vit-base-finetuning-test\",\n",
    "    per_device_eval_batch_size=16,\n",
    "    evaluation_strategy=\"steps\",\n",
    "    num_train_epochs=4,\n",
    "    fp16=True,\n",
    "    save_steps=100,\n",
    "    eval_steps=100,\n",
    "    logging_steps=10,\n",
    "    learning_rate=2e-4,\n",
    "    save_total_limit=2,\n",
    "    remove_unused_columns=False,\n",
    "    push_to_hub=False,\n",
    "    report_to=\"tensorboard\",\n",
    "    load_best_model_at_end=True\n",
    ")\n",
    "\n",
    "trainer = Trainer(\n",
    "    model=model,\n",
    "    args=training_args,\n",
    "    data_collator=collate_func,\n",
    "    compute_metrics=metrics_func,\n",
    "    train_dataset=transformed_dataset_train,\n",
    "    eval_dataset=transformed_dataset_val,\n",
    "    tokenizer=feature_extractor\n",
    ")"
   ]
  },
  {
   "cell_type": "code",
   "execution_count": null,
   "metadata": {},
   "outputs": [],
   "source": [
    "train_results = trainer.train()\n",
    "trainer.save_model()\n",
    "trainer.log_metrics('train', train_results.metrics)\n",
    "trainer.save_metrics('train', train_results.metrics)\n",
    "trainer.save_state()"
   ]
  },
  {
   "attachments": {},
   "cell_type": "markdown",
   "metadata": {},
   "source": [
    "### Evaluate"
   ]
  },
  {
   "cell_type": "code",
   "execution_count": 15,
   "metadata": {},
   "outputs": [
    {
     "name": "stderr",
     "output_type": "stream",
     "text": [
      "***** Running Evaluation *****\n",
      "  Num examples = 2000\n",
      "  Batch size = 16\n"
     ]
    },
    {
     "data": {
      "application/vnd.jupyter.widget-view+json": {
       "model_id": "fd1adec57d754c9c819e9e5ae7ea4aa0",
       "version_major": 2,
       "version_minor": 0
      },
      "text/plain": [
       "  0%|          | 0/125 [00:00<?, ?it/s]"
      ]
     },
     "metadata": {},
     "output_type": "display_data"
    },
    {
     "name": "stderr",
     "output_type": "stream",
     "text": [
      "***** Running Evaluation *****\n",
      "  Num examples = 2000\n",
      "  Batch size = 16\n"
     ]
    },
    {
     "name": "stdout",
     "output_type": "stream",
     "text": [
      "***** eval metrics *****\n",
      "  epoch                   =        4.0\n",
      "  eval_accuracy           =     0.9545\n",
      "  eval_loss               =     0.1926\n",
      "  eval_runtime            = 0:00:07.75\n",
      "  eval_samples_per_second =    258.006\n",
      "  eval_steps_per_second   =     16.125\n"
     ]
    },
    {
     "data": {
      "application/vnd.jupyter.widget-view+json": {
       "model_id": "b717e876997543758390527bdece895e",
       "version_major": 2,
       "version_minor": 0
      },
      "text/plain": [
       "  0%|          | 0/125 [00:00<?, ?it/s]"
      ]
     },
     "metadata": {},
     "output_type": "display_data"
    },
    {
     "name": "stdout",
     "output_type": "stream",
     "text": [
      "***** test metrics *****\n",
      "  epoch                   =        4.0\n",
      "  eval_accuracy           =      0.959\n",
      "  eval_loss               =     0.1907\n",
      "  eval_runtime            = 0:00:07.81\n",
      "  eval_samples_per_second =    256.073\n",
      "  eval_steps_per_second   =     16.005\n"
     ]
    }
   ],
   "source": [
    "metrics_val = trainer.evaluate(transformed_dataset_val)\n",
    "trainer.log_metrics('eval', metrics_val)\n",
    "trainer.save_metrics('eval', metrics_val)\n",
    "\n",
    "metrics_test = trainer.evaluate(transformed_dataset_test)\n",
    "trainer.log_metrics('test', metrics_test)\n",
    "trainer.save_metrics('test', metrics_test)"
   ]
  },
  {
   "cell_type": "code",
   "execution_count": 16,
   "metadata": {},
   "outputs": [
    {
     "data": {
      "image/png": "[encoded data removed]",
      "text/plain": [
       "<PIL.PngImagePlugin.PngImageFile image mode=RGB size=32x32>"
      ]
     },
     "metadata": {},
     "output_type": "display_data"
    },
    {
     "name": "stdout",
     "output_type": "stream",
     "text": [
      "torch.Size([1, 3, 224, 224])\n",
      "torch.Size([1, 10])\n",
      "Predicted class :  deer\n",
      "Actual class :  deer\n"
     ]
    }
   ],
   "source": [
    "idx = 100\n",
    "display(dataset_test[idx][image_name])\n",
    "inputs = processor(images=dataset_test[idx][image_name], return_tensors=\"pt\").to(device)\n",
    "pixel_values = inputs.pixel_values\n",
    "print(pixel_values.shape)\n",
    "with torch.no_grad():\n",
    "    outputs = model(pixel_values)\n",
    "logits = outputs.logits\n",
    "print(logits.shape)\n",
    "prediction = logits.argmax(-1)\n",
    "print(\"Predicted class : \", model.config.id2label[prediction.item()])\n",
    "print(\"Actual class : \", model.config.id2label[dataset_test[idx][label_name]])"
   ]
  },
  {
   "cell_type": "code",
   "execution_count": 17,
   "metadata": {},
   "outputs": [
    {
     "data": {
      "text/html": [
       "<div>\n",
       "<style scoped>\n",
       "    .dataframe tbody tr th:only-of-type {\n",
       "        vertical-align: middle;\n",
       "    }\n",
       "\n",
       "    .dataframe tbody tr th {\n",
       "        vertical-align: top;\n",
       "    }\n",
       "\n",
       "    .dataframe thead th {\n",
       "        text-align: right;\n",
       "    }\n",
       "</style>\n",
       "<table border=\"1\" class=\"dataframe\">\n",
       "  <thead>\n",
       "    <tr style=\"text-align: right;\">\n",
       "      <th></th>\n",
       "      <th>label</th>\n",
       "      <th>accuracy</th>\n",
       "      <th>OK</th>\n",
       "      <th>NG</th>\n",
       "      <th>TOTAL</th>\n",
       "    </tr>\n",
       "  </thead>\n",
       "  <tbody>\n",
       "    <tr>\n",
       "      <th>0</th>\n",
       "      <td>cat</td>\n",
       "      <td>0.914573</td>\n",
       "      <td>182</td>\n",
       "      <td>17</td>\n",
       "      <td>199</td>\n",
       "    </tr>\n",
       "    <tr>\n",
       "      <th>1</th>\n",
       "      <td>ship</td>\n",
       "      <td>0.967742</td>\n",
       "      <td>210</td>\n",
       "      <td>7</td>\n",
       "      <td>217</td>\n",
       "    </tr>\n",
       "    <tr>\n",
       "      <th>2</th>\n",
       "      <td>airplane</td>\n",
       "      <td>0.974490</td>\n",
       "      <td>191</td>\n",
       "      <td>5</td>\n",
       "      <td>196</td>\n",
       "    </tr>\n",
       "    <tr>\n",
       "      <th>3</th>\n",
       "      <td>frog</td>\n",
       "      <td>0.981481</td>\n",
       "      <td>212</td>\n",
       "      <td>4</td>\n",
       "      <td>216</td>\n",
       "    </tr>\n",
       "    <tr>\n",
       "      <th>4</th>\n",
       "      <td>automobile</td>\n",
       "      <td>0.964646</td>\n",
       "      <td>191</td>\n",
       "      <td>7</td>\n",
       "      <td>198</td>\n",
       "    </tr>\n",
       "    <tr>\n",
       "      <th>5</th>\n",
       "      <td>truck</td>\n",
       "      <td>0.965517</td>\n",
       "      <td>196</td>\n",
       "      <td>7</td>\n",
       "      <td>203</td>\n",
       "    </tr>\n",
       "    <tr>\n",
       "      <th>6</th>\n",
       "      <td>dog</td>\n",
       "      <td>0.908108</td>\n",
       "      <td>168</td>\n",
       "      <td>17</td>\n",
       "      <td>185</td>\n",
       "    </tr>\n",
       "    <tr>\n",
       "      <th>7</th>\n",
       "      <td>horse</td>\n",
       "      <td>0.979275</td>\n",
       "      <td>189</td>\n",
       "      <td>4</td>\n",
       "      <td>193</td>\n",
       "    </tr>\n",
       "    <tr>\n",
       "      <th>8</th>\n",
       "      <td>deer</td>\n",
       "      <td>0.974747</td>\n",
       "      <td>193</td>\n",
       "      <td>5</td>\n",
       "      <td>198</td>\n",
       "    </tr>\n",
       "    <tr>\n",
       "      <th>9</th>\n",
       "      <td>bird</td>\n",
       "      <td>0.953846</td>\n",
       "      <td>186</td>\n",
       "      <td>9</td>\n",
       "      <td>195</td>\n",
       "    </tr>\n",
       "    <tr>\n",
       "      <th>10</th>\n",
       "      <td>all</td>\n",
       "      <td>0.959000</td>\n",
       "      <td>1918</td>\n",
       "      <td>82</td>\n",
       "      <td>2000</td>\n",
       "    </tr>\n",
       "  </tbody>\n",
       "</table>\n",
       "</div>"
      ],
      "text/plain": [
       "         label  accuracy    OK  NG  TOTAL\n",
       "0          cat  0.914573   182  17    199\n",
       "1         ship  0.967742   210   7    217\n",
       "2     airplane  0.974490   191   5    196\n",
       "3         frog  0.981481   212   4    216\n",
       "4   automobile  0.964646   191   7    198\n",
       "5        truck  0.965517   196   7    203\n",
       "6          dog  0.908108   168  17    185\n",
       "7        horse  0.979275   189   4    193\n",
       "8         deer  0.974747   193   5    198\n",
       "9         bird  0.953846   186   9    195\n",
       "10         all  0.959000  1918  82   2000"
      ]
     },
     "execution_count": 17,
     "metadata": {},
     "output_type": "execute_result"
    }
   ],
   "source": [
    "import pandas as pd\n",
    "\n",
    "result = {'OK': 0, 'NG': 0}\n",
    "result2 = {}\n",
    "for idx in range(len(dataset_test)):\n",
    "    inputs = processor(images=dataset_test[idx][image_name], return_tensors=\"pt\").to(device)\n",
    "    pixel_values = inputs.pixel_values\n",
    "    with torch.no_grad():\n",
    "        outputs = model(pixel_values)\n",
    "    logits = outputs.logits\n",
    "    prediction = logits.argmax(-1)\n",
    "    true_label = dataset_test[idx][label_name]\n",
    "    key = 'OK' if prediction.item() == true_label else 'NG'\n",
    "    result[key] = result[key] + 1\n",
    "    \n",
    "    result_per_label = result2.setdefault(id2label[true_label], {})\n",
    "    result_per_label[key] = result_per_label.setdefault(key, 0) + 1\n",
    "\n",
    "result_data = {'label': [], 'accuracy': [], 'OK': [], 'NG': [], 'TOTAL': []}\n",
    "for k, v in result2.items():\n",
    "    ok = v.get('OK', 0)\n",
    "    ng = v.get('NG', 0)\n",
    "    result_data['label'].append(k)\n",
    "    result_data['accuracy'].append(ok/(ok+ng))\n",
    "    result_data['OK'].append(ok)\n",
    "    result_data['NG'].append(ng)\n",
    "    result_data['TOTAL'].append(ok+ng)\n",
    "\n",
    "total = result['OK'] + result['NG']\n",
    "result_data['label'].append('all')\n",
    "result_data['accuracy'].append(result['OK']/(total))\n",
    "result_data['OK'].append(result['OK'])\n",
    "result_data['NG'].append(result['NG'])\n",
    "result_data['TOTAL'].append(total)\n",
    "\n",
    "df_accuracy = pd.DataFrame(result_data)\n",
    "df_accuracy"
   ]
  },
  {
   "cell_type": "code",
   "execution_count": 18,
   "metadata": {},
   "outputs": [
    {
     "data": {
      "text/html": [
       "<div>\n",
       "<style scoped>\n",
       "    .dataframe tbody tr th:only-of-type {\n",
       "        vertical-align: middle;\n",
       "    }\n",
       "\n",
       "    .dataframe tbody tr th {\n",
       "        vertical-align: top;\n",
       "    }\n",
       "\n",
       "    .dataframe thead th {\n",
       "        text-align: right;\n",
       "    }\n",
       "</style>\n",
       "<table border=\"1\" class=\"dataframe\">\n",
       "  <thead>\n",
       "    <tr style=\"text-align: right;\">\n",
       "      <th></th>\n",
       "      <th>loss</th>\n",
       "      <th>learning_rate</th>\n",
       "      <th>epoch</th>\n",
       "      <th>step</th>\n",
       "    </tr>\n",
       "  </thead>\n",
       "  <tbody>\n",
       "    <tr>\n",
       "      <th>0</th>\n",
       "      <td>2.1769</td>\n",
       "      <td>0.000200</td>\n",
       "      <td>0.01</td>\n",
       "      <td>10</td>\n",
       "    </tr>\n",
       "    <tr>\n",
       "      <th>1</th>\n",
       "      <td>1.8119</td>\n",
       "      <td>0.000199</td>\n",
       "      <td>0.02</td>\n",
       "      <td>20</td>\n",
       "    </tr>\n",
       "    <tr>\n",
       "      <th>2</th>\n",
       "      <td>1.3969</td>\n",
       "      <td>0.000199</td>\n",
       "      <td>0.02</td>\n",
       "      <td>30</td>\n",
       "    </tr>\n",
       "    <tr>\n",
       "      <th>3</th>\n",
       "      <td>1.1679</td>\n",
       "      <td>0.000198</td>\n",
       "      <td>0.03</td>\n",
       "      <td>40</td>\n",
       "    </tr>\n",
       "    <tr>\n",
       "      <th>4</th>\n",
       "      <td>0.9264</td>\n",
       "      <td>0.000198</td>\n",
       "      <td>0.04</td>\n",
       "      <td>50</td>\n",
       "    </tr>\n",
       "    <tr>\n",
       "      <th>5</th>\n",
       "      <td>0.9068</td>\n",
       "      <td>0.000198</td>\n",
       "      <td>0.05</td>\n",
       "      <td>60</td>\n",
       "    </tr>\n",
       "    <tr>\n",
       "      <th>6</th>\n",
       "      <td>0.7919</td>\n",
       "      <td>0.000197</td>\n",
       "      <td>0.06</td>\n",
       "      <td>70</td>\n",
       "    </tr>\n",
       "    <tr>\n",
       "      <th>7</th>\n",
       "      <td>0.6830</td>\n",
       "      <td>0.000197</td>\n",
       "      <td>0.06</td>\n",
       "      <td>80</td>\n",
       "    </tr>\n",
       "    <tr>\n",
       "      <th>8</th>\n",
       "      <td>0.5890</td>\n",
       "      <td>0.000196</td>\n",
       "      <td>0.07</td>\n",
       "      <td>90</td>\n",
       "    </tr>\n",
       "    <tr>\n",
       "      <th>9</th>\n",
       "      <td>0.8122</td>\n",
       "      <td>0.000196</td>\n",
       "      <td>0.08</td>\n",
       "      <td>100</td>\n",
       "    </tr>\n",
       "  </tbody>\n",
       "</table>\n",
       "</div>"
      ],
      "text/plain": [
       "     loss  learning_rate  epoch  step\n",
       "0  2.1769       0.000200   0.01    10\n",
       "1  1.8119       0.000199   0.02    20\n",
       "2  1.3969       0.000199   0.02    30\n",
       "3  1.1679       0.000198   0.03    40\n",
       "4  0.9264       0.000198   0.04    50\n",
       "5  0.9068       0.000198   0.05    60\n",
       "6  0.7919       0.000197   0.06    70\n",
       "7  0.6830       0.000197   0.06    80\n",
       "8  0.5890       0.000196   0.07    90\n",
       "9  0.8122       0.000196   0.08   100"
      ]
     },
     "metadata": {},
     "output_type": "display_data"
    },
    {
     "data": {
      "text/html": [
       "<div>\n",
       "<style scoped>\n",
       "    .dataframe tbody tr th:only-of-type {\n",
       "        vertical-align: middle;\n",
       "    }\n",
       "\n",
       "    .dataframe tbody tr th {\n",
       "        vertical-align: top;\n",
       "    }\n",
       "\n",
       "    .dataframe thead th {\n",
       "        text-align: right;\n",
       "    }\n",
       "</style>\n",
       "<table border=\"1\" class=\"dataframe\">\n",
       "  <thead>\n",
       "    <tr style=\"text-align: right;\">\n",
       "      <th></th>\n",
       "      <th>epoch</th>\n",
       "      <th>step</th>\n",
       "      <th>eval_loss</th>\n",
       "      <th>eval_accuracy</th>\n",
       "      <th>eval_runtime</th>\n",
       "      <th>eval_samples_per_second</th>\n",
       "      <th>eval_steps_per_second</th>\n",
       "    </tr>\n",
       "  </thead>\n",
       "  <tbody>\n",
       "    <tr>\n",
       "      <th>0</th>\n",
       "      <td>0.08</td>\n",
       "      <td>100</td>\n",
       "      <td>0.512354</td>\n",
       "      <td>0.8995</td>\n",
       "      <td>7.7459</td>\n",
       "      <td>258.202</td>\n",
       "      <td>16.138</td>\n",
       "    </tr>\n",
       "    <tr>\n",
       "      <th>1</th>\n",
       "      <td>0.16</td>\n",
       "      <td>200</td>\n",
       "      <td>0.478266</td>\n",
       "      <td>0.8680</td>\n",
       "      <td>7.6130</td>\n",
       "      <td>262.709</td>\n",
       "      <td>16.419</td>\n",
       "    </tr>\n",
       "    <tr>\n",
       "      <th>2</th>\n",
       "      <td>0.24</td>\n",
       "      <td>300</td>\n",
       "      <td>0.414870</td>\n",
       "      <td>0.8860</td>\n",
       "      <td>7.6575</td>\n",
       "      <td>261.180</td>\n",
       "      <td>16.324</td>\n",
       "    </tr>\n",
       "    <tr>\n",
       "      <th>3</th>\n",
       "      <td>0.32</td>\n",
       "      <td>400</td>\n",
       "      <td>0.569641</td>\n",
       "      <td>0.8285</td>\n",
       "      <td>7.6847</td>\n",
       "      <td>260.258</td>\n",
       "      <td>16.266</td>\n",
       "    </tr>\n",
       "    <tr>\n",
       "      <th>4</th>\n",
       "      <td>0.40</td>\n",
       "      <td>500</td>\n",
       "      <td>0.348265</td>\n",
       "      <td>0.8980</td>\n",
       "      <td>7.7132</td>\n",
       "      <td>259.297</td>\n",
       "      <td>16.206</td>\n",
       "    </tr>\n",
       "    <tr>\n",
       "      <th>5</th>\n",
       "      <td>0.48</td>\n",
       "      <td>600</td>\n",
       "      <td>0.523978</td>\n",
       "      <td>0.8535</td>\n",
       "      <td>7.7125</td>\n",
       "      <td>259.320</td>\n",
       "      <td>16.207</td>\n",
       "    </tr>\n",
       "    <tr>\n",
       "      <th>6</th>\n",
       "      <td>0.56</td>\n",
       "      <td>700</td>\n",
       "      <td>0.371732</td>\n",
       "      <td>0.8920</td>\n",
       "      <td>7.7033</td>\n",
       "      <td>259.630</td>\n",
       "      <td>16.227</td>\n",
       "    </tr>\n",
       "    <tr>\n",
       "      <th>7</th>\n",
       "      <td>0.64</td>\n",
       "      <td>800</td>\n",
       "      <td>0.371396</td>\n",
       "      <td>0.8925</td>\n",
       "      <td>7.6736</td>\n",
       "      <td>260.634</td>\n",
       "      <td>16.290</td>\n",
       "    </tr>\n",
       "    <tr>\n",
       "      <th>8</th>\n",
       "      <td>0.72</td>\n",
       "      <td>900</td>\n",
       "      <td>0.455156</td>\n",
       "      <td>0.8640</td>\n",
       "      <td>7.6644</td>\n",
       "      <td>260.948</td>\n",
       "      <td>16.309</td>\n",
       "    </tr>\n",
       "    <tr>\n",
       "      <th>9</th>\n",
       "      <td>0.80</td>\n",
       "      <td>1000</td>\n",
       "      <td>0.491928</td>\n",
       "      <td>0.8535</td>\n",
       "      <td>7.6505</td>\n",
       "      <td>261.420</td>\n",
       "      <td>16.339</td>\n",
       "    </tr>\n",
       "  </tbody>\n",
       "</table>\n",
       "</div>"
      ],
      "text/plain": [
       "   epoch  step  eval_loss  eval_accuracy  eval_runtime  \\\n",
       "0   0.08   100   0.512354         0.8995        7.7459   \n",
       "1   0.16   200   0.478266         0.8680        7.6130   \n",
       "2   0.24   300   0.414870         0.8860        7.6575   \n",
       "3   0.32   400   0.569641         0.8285        7.6847   \n",
       "4   0.40   500   0.348265         0.8980        7.7132   \n",
       "5   0.48   600   0.523978         0.8535        7.7125   \n",
       "6   0.56   700   0.371732         0.8920        7.7033   \n",
       "7   0.64   800   0.371396         0.8925        7.6736   \n",
       "8   0.72   900   0.455156         0.8640        7.6644   \n",
       "9   0.80  1000   0.491928         0.8535        7.6505   \n",
       "\n",
       "   eval_samples_per_second  eval_steps_per_second  \n",
       "0                  258.202                 16.138  \n",
       "1                  262.709                 16.419  \n",
       "2                  261.180                 16.324  \n",
       "3                  260.258                 16.266  \n",
       "4                  259.297                 16.206  \n",
       "5                  259.320                 16.207  \n",
       "6                  259.630                 16.227  \n",
       "7                  260.634                 16.290  \n",
       "8                  260.948                 16.309  \n",
       "9                  261.420                 16.339  "
      ]
     },
     "metadata": {},
     "output_type": "display_data"
    }
   ],
   "source": [
    "import pandas as pd\n",
    "df_train_log_tmp = pd.DataFrame(trainer.state.log_history)\n",
    "df_train_log = df_train_log_tmp[df_train_log_tmp['eval_accuracy'].isnull()][['loss', 'learning_rate', 'epoch', 'step']].reset_index(drop=True)\n",
    "display(df_train_log.head(10))\n",
    "df_train_eval_log = df_train_log_tmp[~df_train_log_tmp['eval_accuracy'].isnull()][['epoch', 'step', 'eval_loss', 'eval_accuracy', 'eval_runtime', 'eval_samples_per_second', 'eval_steps_per_second']].reset_index(drop=True)\n",
    "display(df_train_eval_log.head(10))"
   ]
  },
  {
   "cell_type": "code",
   "execution_count": 19,
   "metadata": {},
   "outputs": [
    {
     "data": {
      "application/vnd.plotly.v1+json": {
       "config": {
        "plotlyServerURL": "https://plot.ly"
       },
       "data": [
        {
         "name": "train_loss",
         "type": "scatter",
         "x": [
          0.01,
          0.02,
          0.02,
          0.03,
          0.04,
          0.05,
          0.06,
          0.06,
          0.07,
          0.08,
          0.09,
          0.1,
          0.1,
          0.11,
          0.12,
          0.13,
          0.14,
          0.14,
          0.15,
          0.16,
          0.17,
          0.18,
          0.18,
          0.19,
          0.2,
          0.21,
          0.22,
          0.22,
          0.23,
          0.24,
          0.25,
          0.26,
          0.26,
          0.27,
          0.28,
          0.29,
          0.3,
          0.3,
          0.31,
          0.32,
          0.33,
          0.34,
          0.34,
          0.35,
          0.36,
          0.37,
          0.38,
          0.38,
          0.39,
          0.4,
          0.41,
          0.42,
          0.42,
          0.43,
          0.44,
          0.45,
          0.46,
          0.46,
          0.47,
          0.48,
          0.49,
          0.5,
          0.5,
          0.51,
          0.52,
          0.53,
          0.54,
          0.54,
          0.55,
          0.56,
          0.57,
          0.58,
          0.58,
          0.59,
          0.6,
          0.61,
          0.62,
          0.62,
          0.63,
          0.64,
          0.65,
          0.66,
          0.66,
          0.67,
          0.68,
          0.69,
          0.7,
          0.7,
          0.71,
          0.72,
          0.73,
          0.74,
          0.74,
          0.75,
          0.76,
          0.77,
          0.78,
          0.78,
          0.79,
          0.8,
          0.81,
          0.82,
          0.82,
          0.83,
          0.84,
          0.85,
          0.86,
          0.86,
          0.87,
          0.88,
          0.89,
          0.9,
          0.9,
          0.91,
          0.92,
          0.93,
          0.94,
          0.94,
          0.95,
          0.96,
          0.97,
          0.98,
          0.98,
          0.99,
          1,
          1.01,
          1.02,
          1.02,
          1.03,
          1.04,
          1.05,
          1.06,
          1.06,
          1.07,
          1.08,
          1.09,
          1.1,
          1.1,
          1.11,
          1.12,
          1.13,
          1.14,
          1.14,
          1.15,
          1.16,
          1.17,
          1.18,
          1.18,
          1.19,
          1.2,
          1.21,
          1.22,
          1.22,
          1.23,
          1.24,
          1.25,
          1.26,
          1.26,
          1.27,
          1.28,
          1.29,
          1.3,
          1.3,
          1.31,
          1.32,
          1.33,
          1.34,
          1.34,
          1.35,
          1.36,
          1.37,
          1.38,
          1.38,
          1.39,
          1.4,
          1.41,
          1.42,
          1.42,
          1.43,
          1.44,
          1.45,
          1.46,
          1.46,
          1.47,
          1.48,
          1.49,
          1.5,
          1.5,
          1.51,
          1.52,
          1.53,
          1.54,
          1.54,
          1.55,
          1.56,
          1.57,
          1.58,
          1.58,
          1.59,
          1.6,
          1.61,
          1.62,
          1.62,
          1.63,
          1.64,
          1.65,
          1.66,
          1.66,
          1.67,
          1.68,
          1.69,
          1.7,
          1.7,
          1.71,
          1.72,
          1.73,
          1.74,
          1.74,
          1.75,
          1.76,
          1.77,
          1.78,
          1.78,
          1.79,
          1.8,
          1.81,
          1.82,
          1.82,
          1.83,
          1.84,
          1.85,
          1.86,
          1.86,
          1.87,
          1.88,
          1.89,
          1.9,
          1.9,
          1.91,
          1.92,
          1.93,
          1.94,
          1.94,
          1.95,
          1.96,
          1.97,
          1.98,
          1.98,
          1.99,
          2,
          2.01,
          2.02,
          2.02,
          2.03,
          2.04,
          2.05,
          2.06,
          2.06,
          2.07,
          2.08,
          2.09,
          2.1,
          2.1,
          2.11,
          2.12,
          2.13,
          2.14,
          2.14,
          2.15,
          2.16,
          2.17,
          2.18,
          2.18,
          2.19,
          2.2,
          2.21,
          2.22,
          2.22,
          2.23,
          2.24,
          2.25,
          2.26,
          2.26,
          2.27,
          2.28,
          2.29,
          2.3,
          2.3,
          2.31,
          2.32,
          2.33,
          2.34,
          2.34,
          2.35,
          2.36,
          2.37,
          2.38,
          2.38,
          2.39,
          2.4,
          2.41,
          2.42,
          2.42,
          2.43,
          2.44,
          2.45,
          2.46,
          2.46,
          2.47,
          2.48,
          2.49,
          2.5,
          2.5,
          2.51,
          2.52,
          2.53,
          2.54,
          2.54,
          2.55,
          2.56,
          2.57,
          2.58,
          2.58,
          2.59,
          2.6,
          2.61,
          2.62,
          2.62,
          2.63,
          2.64,
          2.65,
          2.66,
          2.66,
          2.67,
          2.68,
          2.69,
          2.7,
          2.7,
          2.71,
          2.72,
          2.73,
          2.74,
          2.74,
          2.75,
          2.76,
          2.77,
          2.78,
          2.78,
          2.79,
          2.8,
          2.81,
          2.82,
          2.82,
          2.83,
          2.84,
          2.85,
          2.86,
          2.86,
          2.87,
          2.88,
          2.89,
          2.9,
          2.9,
          2.91,
          2.92,
          2.93,
          2.94,
          2.94,
          2.95,
          2.96,
          2.97,
          2.98,
          2.98,
          2.99,
          3,
          3.01,
          3.02,
          3.02,
          3.03,
          3.04,
          3.05,
          3.06,
          3.06,
          3.07,
          3.08,
          3.09,
          3.1,
          3.1,
          3.11,
          3.12,
          3.13,
          3.14,
          3.14,
          3.15,
          3.16,
          3.17,
          3.18,
          3.18,
          3.19,
          3.2,
          3.21,
          3.22,
          3.22,
          3.23,
          3.24,
          3.25,
          3.26,
          3.26,
          3.27,
          3.28,
          3.29,
          3.3,
          3.3,
          3.31,
          3.32,
          3.33,
          3.34,
          3.34,
          3.35,
          3.36,
          3.37,
          3.38,
          3.38,
          3.39,
          3.4,
          3.41,
          3.42,
          3.42,
          3.43,
          3.44,
          3.45,
          3.46,
          3.46,
          3.47,
          3.48,
          3.49,
          3.5,
          3.5,
          3.51,
          3.52,
          3.53,
          3.54,
          3.54,
          3.55,
          3.56,
          3.57,
          3.58,
          3.58,
          3.59,
          3.6,
          3.61,
          3.62,
          3.62,
          3.63,
          3.64,
          3.65,
          3.66,
          3.66,
          3.67,
          3.68,
          3.69,
          3.7,
          3.7,
          3.71,
          3.72,
          3.73,
          3.74,
          3.74,
          3.75,
          3.76,
          3.77,
          3.78,
          3.78,
          3.79,
          3.8,
          3.81,
          3.82,
          3.82,
          3.83,
          3.84,
          3.85,
          3.86,
          3.86,
          3.87,
          3.88,
          3.89,
          3.9,
          3.9,
          3.91,
          3.92,
          3.93,
          3.94,
          3.94,
          3.95,
          3.96,
          3.97,
          3.98,
          3.98,
          3.99,
          4,
          4
         ],
         "xaxis": "x",
         "y": [
          2.1769,
          1.8119,
          1.3969,
          1.1679,
          0.9264,
          0.9068,
          0.7919,
          0.683,
          0.589,
          0.8122,
          0.6701,
          0.6707,
          0.6483,
          0.5529,
          0.5543,
          0.5869,
          0.5881,
          0.5922,
          0.3357,
          0.6247,
          0.4607,
          0.5456,
          0.4163,
          0.3201,
          0.4001,
          0.5257,
          0.2846,
          0.6623,
          0.3806,
          0.4463,
          0.3625,
          0.481,
          0.3306,
          0.4374,
          0.579,
          0.5645,
          0.3382,
          0.6523,
          0.3065,
          0.8069,
          0.422,
          0.7828,
          0.3497,
          0.4807,
          0.3557,
          0.32,
          0.5073,
          0.5314,
          0.4165,
          0.395,
          0.2299,
          0.3343,
          0.4417,
          0.611,
          0.3747,
          0.4088,
          0.4598,
          0.362,
          0.4962,
          0.369,
          0.5781,
          0.57,
          0.5524,
          0.2447,
          0.3369,
          0.3018,
          0.6165,
          0.407,
          0.1966,
          0.2758,
          0.5651,
          0.4097,
          0.416,
          0.4031,
          0.3561,
          0.3727,
          0.385,
          0.4843,
          0.4622,
          0.5162,
          0.4659,
          0.2915,
          0.2094,
          0.2821,
          0.4669,
          0.5795,
          0.4704,
          0.6259,
          0.3309,
          0.3326,
          0.3198,
          0.4154,
          0.5244,
          0.4157,
          0.5014,
          0.3159,
          0.3527,
          0.6026,
          0.5422,
          0.4796,
          0.3465,
          0.4662,
          0.5146,
          0.4216,
          0.4954,
          0.5797,
          0.4788,
          0.397,
          0.2088,
          0.3835,
          0.3906,
          0.3464,
          0.4382,
          0.5522,
          0.2029,
          0.4584,
          0.3138,
          0.3259,
          0.4228,
          0.2812,
          0.3042,
          0.2794,
          0.459,
          0.2383,
          0.2817,
          0.0972,
          0.2271,
          0.0898,
          0.1588,
          0.1978,
          0.1867,
          0.0846,
          0.1591,
          0.3375,
          0.1363,
          0.2154,
          0.1156,
          0.1988,
          0.0885,
          0.1251,
          0.1351,
          0.1699,
          0.1118,
          0.367,
          0.3158,
          0.2731,
          0.2934,
          0.1614,
          0.3285,
          0.1561,
          0.2649,
          0.2419,
          0.2873,
          0.1792,
          0.2443,
          0.1758,
          0.2174,
          0.2546,
          0.1127,
          0.1403,
          0.1732,
          0.1564,
          0.198,
          0.0566,
          0.2734,
          0.427,
          0.3268,
          0.1386,
          0.1903,
          0.1754,
          0.1869,
          0.0408,
          0.297,
          0.2614,
          0.0932,
          0.2583,
          0.3476,
          0.3184,
          0.3773,
          0.1695,
          0.1249,
          0.1495,
          0.185,
          0.2097,
          0.191,
          0.0977,
          0.2215,
          0.1088,
          0.2415,
          0.1299,
          0.2639,
          0.1183,
          0.293,
          0.2543,
          0.204,
          0.0653,
          0.215,
          0.1664,
          0.2635,
          0.2383,
          0.241,
          0.3554,
          0.1931,
          0.4256,
          0.2953,
          0.0986,
          0.0919,
          0.1797,
          0.2358,
          0.049,
          0.0541,
          0.0189,
          0.1077,
          0.2311,
          0.2122,
          0.2019,
          0.1737,
          0.1175,
          0.2234,
          0.0689,
          0.0838,
          0.2277,
          0.1004,
          0.1059,
          0.0099,
          0.12,
          0.3143,
          0.1799,
          0.1766,
          0.1425,
          0.1172,
          0.1196,
          0.0733,
          0.0459,
          0.282,
          0.033,
          0.0769,
          0.0816,
          0.229,
          0.1308,
          0.3471,
          0.0912,
          0.2087,
          0.0257,
          0.2507,
          0.1216,
          0.2108,
          0.0876,
          0.3172,
          0.2189,
          0.0442,
          0.0045,
          0.0938,
          0.0583,
          0.0186,
          0.0094,
          0.0652,
          0.0888,
          0.0995,
          0.0063,
          0.0042,
          0.0272,
          0.0308,
          0.0915,
          0.0662,
          0.0392,
          0.0177,
          0.0323,
          0.0207,
          0.0071,
          0.0186,
          0.0448,
          0.0604,
          0.0207,
          0.0031,
          0.0026,
          0.0739,
          0.0367,
          0.0712,
          0.1227,
          0.0339,
          0.0086,
          0.0467,
          0.1681,
          0.0156,
          0.0267,
          0.103,
          0.0679,
          0.0048,
          0.0579,
          0.0404,
          0.0692,
          0.0526,
          0.0488,
          0.0734,
          0.0101,
          0.0589,
          0.0493,
          0.0806,
          0.0329,
          0.0159,
          0.0728,
          0.0031,
          0.0951,
          0.0072,
          0.0401,
          0.032,
          0.0024,
          0.1193,
          0.002,
          0.0336,
          0.0508,
          0.0525,
          0.0524,
          0.0021,
          0.117,
          0.0732,
          0.0107,
          0.1148,
          0.0402,
          0.0714,
          0.1077,
          0.0117,
          0.003,
          0.0518,
          0.1029,
          0.0065,
          0.0316,
          0.0606,
          0.0772,
          0.0533,
          0.0855,
          0.028,
          0.0081,
          0.03,
          0.0474,
          0.0021,
          0.0065,
          0.0078,
          0.0553,
          0.1201,
          0.098,
          0.0461,
          0.0038,
          0.0475,
          0.0834,
          0.0676,
          0.26,
          0.0394,
          0.0028,
          0.1436,
          0.002,
          0.047,
          0.0258,
          0.0987,
          0.0873,
          0.0023,
          0.002,
          0.0339,
          0.0109,
          0.0633,
          0.1334,
          0.0524,
          0.0034,
          0.0036,
          0.0117,
          0.0018,
          0.0017,
          0.1125,
          0.0017,
          0.0032,
          0.1458,
          0.0051,
          0.0728,
          0.0111,
          0.0086,
          0.0017,
          0.0018,
          0.0102,
          0.0017,
          0.0018,
          0.0013,
          0.0013,
          0.0407,
          0.0041,
          0.0016,
          0.0016,
          0.0013,
          0.0014,
          0.0013,
          0.0012,
          0.0012,
          0.0608,
          0.0014,
          0.0015,
          0.0013,
          0.0021,
          0.0011,
          0.0015,
          0.0014,
          0.0016,
          0.0013,
          0.0013,
          0.0013,
          0.0092,
          0.0016,
          0.0013,
          0.0077,
          0.0016,
          0.0013,
          0.0024,
          0.0011,
          0.0012,
          0.0011,
          0.0048,
          0.0012,
          0.0628,
          0.001,
          0.0329,
          0.0011,
          0.0052,
          0.0878,
          0.001,
          0.0009,
          0.0029,
          0.0011,
          0.0036,
          0.0011,
          0.001,
          0.0015,
          0.0576,
          0.0138,
          0.0619,
          0.0011,
          0.0011,
          0.0012,
          0.001,
          0.0019,
          0.0009,
          0.0147,
          0.0013,
          0.001,
          0.0017,
          0.0161,
          0.001,
          0.0011,
          0.0009,
          0.0009,
          0.0009,
          0.0009,
          0.0011,
          0.0012,
          0.0011,
          0.0011,
          0.0011,
          0.001,
          0.001,
          0.0009,
          0.0023,
          0.001,
          0.0009,
          0.001,
          0.001,
          0.0009,
          0.0009,
          0.0009,
          0.0009,
          0.0048,
          0.0009,
          0.0008,
          0.0009,
          0.0011,
          0.0009,
          0.001,
          0.0009,
          0.0009,
          0.0009,
          0.0009,
          0.0009,
          0.0009,
          0.0037,
          0.0009,
          0.0011,
          0.0022,
          0.001,
          0.0008,
          0.0009,
          0.001,
          0.0009,
          0.0009,
          0.0008,
          0.001,
          0.0009,
          0.0011,
          0.0019,
          0.0009,
          0.0008,
          0.0934,
          0.001,
          0.001,
          null
         ],
         "yaxis": "y"
        },
        {
         "name": "accuracy",
         "type": "scatter",
         "x": [
          0.01,
          0.02,
          0.02,
          0.03,
          0.04,
          0.05,
          0.06,
          0.06,
          0.07,
          0.08,
          0.09,
          0.1,
          0.1,
          0.11,
          0.12,
          0.13,
          0.14,
          0.14,
          0.15,
          0.16,
          0.17,
          0.18,
          0.18,
          0.19,
          0.2,
          0.21,
          0.22,
          0.22,
          0.23,
          0.24,
          0.25,
          0.26,
          0.26,
          0.27,
          0.28,
          0.29,
          0.3,
          0.3,
          0.31,
          0.32,
          0.33,
          0.34,
          0.34,
          0.35,
          0.36,
          0.37,
          0.38,
          0.38,
          0.39,
          0.4,
          0.41,
          0.42,
          0.42,
          0.43,
          0.44,
          0.45,
          0.46,
          0.46,
          0.47,
          0.48,
          0.49,
          0.5,
          0.5,
          0.51,
          0.52,
          0.53,
          0.54,
          0.54,
          0.55,
          0.56,
          0.57,
          0.58,
          0.58,
          0.59,
          0.6,
          0.61,
          0.62,
          0.62,
          0.63,
          0.64,
          0.65,
          0.66,
          0.66,
          0.67,
          0.68,
          0.69,
          0.7,
          0.7,
          0.71,
          0.72,
          0.73,
          0.74,
          0.74,
          0.75,
          0.76,
          0.77,
          0.78,
          0.78,
          0.79,
          0.8,
          0.81,
          0.82,
          0.82,
          0.83,
          0.84,
          0.85,
          0.86,
          0.86,
          0.87,
          0.88,
          0.89,
          0.9,
          0.9,
          0.91,
          0.92,
          0.93,
          0.94,
          0.94,
          0.95,
          0.96,
          0.97,
          0.98,
          0.98,
          0.99,
          1,
          1.01,
          1.02,
          1.02,
          1.03,
          1.04,
          1.05,
          1.06,
          1.06,
          1.07,
          1.08,
          1.09,
          1.1,
          1.1,
          1.11,
          1.12,
          1.13,
          1.14,
          1.14,
          1.15,
          1.16,
          1.17,
          1.18,
          1.18,
          1.19,
          1.2,
          1.21,
          1.22,
          1.22,
          1.23,
          1.24,
          1.25,
          1.26,
          1.26,
          1.27,
          1.28,
          1.29,
          1.3,
          1.3,
          1.31,
          1.32,
          1.33,
          1.34,
          1.34,
          1.35,
          1.36,
          1.37,
          1.38,
          1.38,
          1.39,
          1.4,
          1.41,
          1.42,
          1.42,
          1.43,
          1.44,
          1.45,
          1.46,
          1.46,
          1.47,
          1.48,
          1.49,
          1.5,
          1.5,
          1.51,
          1.52,
          1.53,
          1.54,
          1.54,
          1.55,
          1.56,
          1.57,
          1.58,
          1.58,
          1.59,
          1.6,
          1.61,
          1.62,
          1.62,
          1.63,
          1.64,
          1.65,
          1.66,
          1.66,
          1.67,
          1.68,
          1.69,
          1.7,
          1.7,
          1.71,
          1.72,
          1.73,
          1.74,
          1.74,
          1.75,
          1.76,
          1.77,
          1.78,
          1.78,
          1.79,
          1.8,
          1.81,
          1.82,
          1.82,
          1.83,
          1.84,
          1.85,
          1.86,
          1.86,
          1.87,
          1.88,
          1.89,
          1.9,
          1.9,
          1.91,
          1.92,
          1.93,
          1.94,
          1.94,
          1.95,
          1.96,
          1.97,
          1.98,
          1.98,
          1.99,
          2,
          2.01,
          2.02,
          2.02,
          2.03,
          2.04,
          2.05,
          2.06,
          2.06,
          2.07,
          2.08,
          2.09,
          2.1,
          2.1,
          2.11,
          2.12,
          2.13,
          2.14,
          2.14,
          2.15,
          2.16,
          2.17,
          2.18,
          2.18,
          2.19,
          2.2,
          2.21,
          2.22,
          2.22,
          2.23,
          2.24,
          2.25,
          2.26,
          2.26,
          2.27,
          2.28,
          2.29,
          2.3,
          2.3,
          2.31,
          2.32,
          2.33,
          2.34,
          2.34,
          2.35,
          2.36,
          2.37,
          2.38,
          2.38,
          2.39,
          2.4,
          2.41,
          2.42,
          2.42,
          2.43,
          2.44,
          2.45,
          2.46,
          2.46,
          2.47,
          2.48,
          2.49,
          2.5,
          2.5,
          2.51,
          2.52,
          2.53,
          2.54,
          2.54,
          2.55,
          2.56,
          2.57,
          2.58,
          2.58,
          2.59,
          2.6,
          2.61,
          2.62,
          2.62,
          2.63,
          2.64,
          2.65,
          2.66,
          2.66,
          2.67,
          2.68,
          2.69,
          2.7,
          2.7,
          2.71,
          2.72,
          2.73,
          2.74,
          2.74,
          2.75,
          2.76,
          2.77,
          2.78,
          2.78,
          2.79,
          2.8,
          2.81,
          2.82,
          2.82,
          2.83,
          2.84,
          2.85,
          2.86,
          2.86,
          2.87,
          2.88,
          2.89,
          2.9,
          2.9,
          2.91,
          2.92,
          2.93,
          2.94,
          2.94,
          2.95,
          2.96,
          2.97,
          2.98,
          2.98,
          2.99,
          3,
          3.01,
          3.02,
          3.02,
          3.03,
          3.04,
          3.05,
          3.06,
          3.06,
          3.07,
          3.08,
          3.09,
          3.1,
          3.1,
          3.11,
          3.12,
          3.13,
          3.14,
          3.14,
          3.15,
          3.16,
          3.17,
          3.18,
          3.18,
          3.19,
          3.2,
          3.21,
          3.22,
          3.22,
          3.23,
          3.24,
          3.25,
          3.26,
          3.26,
          3.27,
          3.28,
          3.29,
          3.3,
          3.3,
          3.31,
          3.32,
          3.33,
          3.34,
          3.34,
          3.35,
          3.36,
          3.37,
          3.38,
          3.38,
          3.39,
          3.4,
          3.41,
          3.42,
          3.42,
          3.43,
          3.44,
          3.45,
          3.46,
          3.46,
          3.47,
          3.48,
          3.49,
          3.5,
          3.5,
          3.51,
          3.52,
          3.53,
          3.54,
          3.54,
          3.55,
          3.56,
          3.57,
          3.58,
          3.58,
          3.59,
          3.6,
          3.61,
          3.62,
          3.62,
          3.63,
          3.64,
          3.65,
          3.66,
          3.66,
          3.67,
          3.68,
          3.69,
          3.7,
          3.7,
          3.71,
          3.72,
          3.73,
          3.74,
          3.74,
          3.75,
          3.76,
          3.77,
          3.78,
          3.78,
          3.79,
          3.8,
          3.81,
          3.82,
          3.82,
          3.83,
          3.84,
          3.85,
          3.86,
          3.86,
          3.87,
          3.88,
          3.89,
          3.9,
          3.9,
          3.91,
          3.92,
          3.93,
          3.94,
          3.94,
          3.95,
          3.96,
          3.97,
          3.98,
          3.98,
          3.99,
          4,
          4
         ],
         "xaxis": "x2",
         "y": [
          0.0001996,
          0.00019920000000000002,
          0.0001988,
          0.0001984,
          0.00019800000000000002,
          0.0001976,
          0.0001972,
          0.0001968,
          0.0001964,
          0.000196,
          0.0001956,
          0.0001952,
          0.0001948,
          0.0001944,
          0.000194,
          0.00019360000000000002,
          0.0001932,
          0.0001928,
          0.00019240000000000001,
          0.000192,
          0.0001916,
          0.0001912,
          0.0001908,
          0.0001904,
          0.00019,
          0.00018964,
          0.00018924000000000002,
          0.00018884000000000001,
          0.00018844,
          0.00018804000000000002,
          0.00018764,
          0.00018724,
          0.00018684000000000002,
          0.00018644,
          0.00018604,
          0.00018564000000000002,
          0.00018524,
          0.00018484000000000003,
          0.00018444000000000002,
          0.00018404,
          0.00018364000000000002,
          0.00018324000000000001,
          0.00018284,
          0.00018244000000000002,
          0.00018204,
          0.00018164,
          0.00018124000000000002,
          0.00018084,
          0.00018044,
          0.00018004000000000002,
          0.00017964,
          0.00017924,
          0.00017884000000000002,
          0.00017844,
          0.00017804,
          0.00017764000000000001,
          0.00017724,
          0.00017684,
          0.00017644,
          0.00017604,
          0.00017564,
          0.00017524,
          0.00017484,
          0.00017444,
          0.00017404,
          0.00017364,
          0.00017324000000000002,
          0.00017284,
          0.00017244,
          0.00017204,
          0.00017164,
          0.00017124,
          0.00017084,
          0.00017044,
          0.00017004,
          0.00016964,
          0.00016924,
          0.00016884,
          0.00016844,
          0.00016804,
          0.00016764,
          0.00016724000000000003,
          0.00016684000000000002,
          0.00016644,
          0.00016604000000000003,
          0.00016564000000000002,
          0.00016524,
          0.00016484000000000003,
          0.00016444000000000002,
          0.00016404,
          0.00016364000000000003,
          0.00016324000000000002,
          0.00016284,
          0.00016244000000000002,
          0.00016204000000000001,
          0.00016164,
          0.00016124000000000002,
          0.00016084,
          0.00016044,
          0.00016004000000000002,
          0.00015964,
          0.00015924,
          0.00015884000000000002,
          0.00015844,
          0.00015804,
          0.00015764000000000002,
          0.00015724,
          0.00015684,
          0.00015644,
          0.00015604,
          0.00015564000000000002,
          0.00015524,
          0.00015484,
          0.00015444000000000002,
          0.00015404,
          0.00015364,
          0.00015324000000000002,
          0.00015284,
          0.00015244,
          0.00015204000000000001,
          0.00015164,
          0.00015124,
          0.00015084,
          0.00015044,
          0.00015004,
          0.00014964,
          0.00014924,
          0.00014884,
          0.00014844,
          0.00014804,
          0.00014764,
          0.00014724,
          0.00014684,
          0.00014644,
          0.00014604,
          0.00014564,
          0.00014523999999999998,
          0.00014484,
          0.00014444,
          0.00014404,
          0.00014364,
          0.00014324,
          0.00014284,
          0.00014244000000000003,
          0.00014204000000000002,
          0.00014164,
          0.00014124000000000002,
          0.00014084000000000001,
          0.00014044,
          0.00014004000000000002,
          0.00013964,
          0.00013924,
          0.00013884000000000002,
          0.00013844,
          0.00013804000000000003,
          0.00013764000000000002,
          0.00013724,
          0.00013684000000000002,
          0.00013644000000000002,
          0.00013604,
          0.00013564000000000002,
          0.00013524,
          0.00013484,
          0.00013444000000000002,
          0.00013404,
          0.00013364,
          0.00013324000000000002,
          0.00013284,
          0.00013244,
          0.00013204000000000002,
          0.00013164,
          0.00013124,
          0.00013084000000000001,
          0.00013044,
          0.00013004,
          0.00012964,
          0.00012924,
          0.00012884,
          0.00012844,
          0.00012804,
          0.00012764,
          0.00012724,
          0.00012684,
          0.00012644000000000002,
          0.00012604,
          0.00012564,
          0.00012524000000000001,
          0.00012484,
          0.00012444,
          0.00012404,
          0.00012364,
          0.00012324,
          0.00012288,
          0.00012248,
          0.00012208000000000002,
          0.00012168000000000001,
          0.00012128000000000002,
          0.00012088000000000002,
          0.00012048000000000001,
          0.00012008000000000002,
          0.00011968000000000002,
          0.00011928000000000001,
          0.00011888000000000001,
          0.00011848000000000002,
          0.00011808000000000001,
          0.00011768000000000001,
          0.00011728000000000002,
          0.00011688,
          0.00011648000000000001,
          0.00011608000000000001,
          0.00011568000000000002,
          0.00011528000000000001,
          0.00011488000000000001,
          0.00011448000000000002,
          0.00011408,
          0.00011368000000000001,
          0.00011328000000000001,
          0.00011288,
          0.00011248000000000001,
          0.00011208000000000001,
          0.00011168,
          0.00011128,
          0.00011088000000000001,
          0.00011048,
          0.00011008,
          0.00010968000000000001,
          0.00010928000000000001,
          0.00010888,
          0.00010848,
          0.00010808000000000001,
          0.00010768,
          0.00010728,
          0.00010688,
          0.00010648,
          0.00010608,
          0.00010568,
          0.00010528,
          0.00010488,
          0.00010448,
          0.00010408,
          0.00010368,
          0.00010328,
          0.00010288,
          0.00010248,
          0.00010208,
          0.00010168,
          0.00010127999999999999,
          0.00010088,
          0.00010048,
          0.00010007999999999999,
          0.00009968000000000001,
          0.00009928000000000001,
          0.00009888,
          0.00009848,
          0.00009808000000000001,
          0.00009768,
          0.00009728,
          0.00009688000000000001,
          0.00009648,
          0.00009608,
          0.00009568,
          0.00009528000000000001,
          0.00009488,
          0.00009448,
          0.00009408000000000001,
          0.00009368,
          0.00009328,
          0.00009288,
          0.00009248,
          0.00009208,
          0.00009168,
          0.00009128,
          0.00009088000000000001,
          0.00009048000000000001,
          0.00009008,
          0.00008968000000000001,
          0.00008928000000000001,
          0.00008888,
          0.00008848,
          0.00008808000000000001,
          0.00008768,
          0.00008728,
          0.00008688000000000001,
          0.00008648,
          0.00008608,
          0.00008568,
          0.00008528000000000001,
          0.00008488,
          0.00008448,
          0.00008408000000000001,
          0.00008368,
          0.00008328,
          0.00008288,
          0.00008248,
          0.00008208,
          0.00008168,
          0.00008128,
          0.00008088,
          0.00008048,
          0.00008008,
          0.00007968,
          0.00007928,
          0.00007888,
          0.00007848000000000001,
          0.00007808000000000001,
          0.00007768,
          0.00007728,
          0.00007688000000000001,
          0.00007648000000000001,
          0.00007608,
          0.00007568000000000001,
          0.00007528000000000001,
          0.00007488,
          0.00007448,
          0.00007408000000000001,
          0.00007368,
          0.00007328,
          0.00007288000000000001,
          0.00007248,
          0.00007208,
          0.00007168,
          0.00007128000000000001,
          0.00007088,
          0.00007048,
          0.00007008,
          0.00006968,
          0.00006928,
          0.00006888,
          0.00006848,
          0.00006808,
          0.00006768,
          0.00006727999999999999,
          0.00006688,
          0.00006648,
          0.00006608,
          0.00006568000000000001,
          0.00006528000000000001,
          0.00006488,
          0.00006448,
          0.00006408000000000001,
          0.00006368,
          0.00006328,
          0.00006288000000000001,
          0.00006248000000000001,
          0.00006208,
          0.00006168,
          0.00006128000000000001,
          0.00006088000000000001,
          0.000060480000000000004,
          0.00006008,
          0.000059680000000000005,
          0.00005928,
          0.00005888,
          0.00005848,
          0.00005808,
          0.000057680000000000003,
          0.00005728,
          0.00005688,
          0.00005648,
          0.00005608,
          0.000055679999999999995,
          0.00005528,
          0.000054879999999999996,
          0.00005448,
          0.00005408,
          0.00005368000000000001,
          0.000053280000000000005,
          0.00005288000000000001,
          0.000052480000000000006,
          0.00005208000000000001,
          0.00005168000000000001,
          0.000051280000000000004,
          0.00005088000000000001,
          0.000050480000000000005,
          0.00005008,
          0.000049680000000000005,
          0.00004928,
          0.000048880000000000006,
          0.000048480000000000003,
          0.00004808,
          0.000047680000000000004,
          0.00004728,
          0.00004688,
          0.00004648,
          0.00004608,
          0.00004568,
          0.00004528,
          0.00004488,
          0.00004448,
          0.000044080000000000005,
          0.00004368,
          0.000043280000000000006,
          0.00004288,
          0.00004248,
          0.000042080000000000004,
          0.00004168,
          0.000041280000000000005,
          0.00004088,
          0.00004048,
          0.00004008,
          0.00003968,
          0.000039280000000000003,
          0.00003888,
          0.00003848,
          0.00003808,
          0.000037680000000000005,
          0.00003728,
          0.000036880000000000006,
          0.00003648,
          0.00003608,
          0.000035680000000000004,
          0.00003528,
          0.000034880000000000005,
          0.00003448,
          0.00003408,
          0.00003368,
          0.00003328,
          0.00003288,
          0.00003248,
          0.00003208,
          0.00003168,
          0.000031280000000000005,
          0.00003088,
          0.000030480000000000003,
          0.000030080000000000003,
          0.000029680000000000004,
          0.00002928,
          0.00002888,
          0.000028480000000000002,
          0.000028080000000000002,
          0.00002768,
          0.00002728,
          0.00002688,
          0.00002648,
          0.000026079999999999998,
          0.000025679999999999998,
          0.000025280000000000005,
          0.00002488,
          0.00002448,
          0.00002408,
          0.000023680000000000004,
          0.00002328,
          0.00002288,
          0.00002248,
          0.000022080000000000002,
          0.00002168,
          0.00002128,
          0.000020880000000000003,
          0.00002048,
          0.00002008,
          0.00001968,
          0.000019280000000000002,
          0.00001888,
          0.00001848,
          0.00001808,
          0.000017680000000000004,
          0.00001728,
          0.00001688,
          0.00001648,
          0.000016080000000000002,
          0.00001568,
          0.00001528,
          0.00001488,
          0.000014480000000000002,
          0.00001408,
          0.000013680000000000001,
          0.000013280000000000002,
          0.00001288,
          0.00001248,
          0.000012080000000000001,
          0.00001168,
          0.00001128,
          0.00001088,
          0.000010480000000000001,
          0.00001008,
          0.00000968,
          0.00000928,
          0.000008880000000000001,
          0.00000848,
          0.00000808,
          0.00000768,
          0.000007280000000000001,
          0.00000688,
          0.00000648,
          0.00000608,
          0.000005680000000000001,
          0.00000528,
          0.000004880000000000001,
          0.00000448,
          0.000004080000000000001,
          0.00000368,
          0.0000032800000000000004,
          0.00000288,
          0.00000248,
          0.00000208,
          0.00000168,
          0.00000128,
          8.8e-7,
          4.8e-7,
          8e-8,
          null
         ],
         "yaxis": "y2"
        }
       ],
       "layout": {
        "annotations": [
         {
          "font": {
           "size": 16
          },
          "showarrow": false,
          "text": "train loss",
          "x": 0.225,
          "xanchor": "center",
          "xref": "paper",
          "y": 1,
          "yanchor": "bottom",
          "yref": "paper"
         },
         {
          "font": {
           "size": 16
          },
          "showarrow": false,
          "text": "learning rate",
          "x": 0.775,
          "xanchor": "center",
          "xref": "paper",
          "y": 1,
          "yanchor": "bottom",
          "yref": "paper"
         }
        ],
        "template": {
         "data": {
          "bar": [
           {
            "error_x": {
             "color": "#2a3f5f"
            },
            "error_y": {
             "color": "#2a3f5f"
            },
            "marker": {
             "line": {
              "color": "#E5ECF6",
              "width": 0.5
             },
             "pattern": {
              "fillmode": "overlay",
              "size": 10,
              "solidity": 0.2
             }
            },
            "type": "bar"
           }
          ],
          "barpolar": [
           {
            "marker": {
             "line": {
              "color": "#E5ECF6",
              "width": 0.5
             },
             "pattern": {
              "fillmode": "overlay",
              "size": 10,
              "solidity": 0.2
             }
            },
            "type": "barpolar"
           }
          ],
          "carpet": [
           {
            "aaxis": {
             "endlinecolor": "#2a3f5f",
             "gridcolor": "white",
             "linecolor": "white",
             "minorgridcolor": "white",
             "startlinecolor": "#2a3f5f"
            },
            "baxis": {
             "endlinecolor": "#2a3f5f",
             "gridcolor": "white",
             "linecolor": "white",
             "minorgridcolor": "white",
             "startlinecolor": "#2a3f5f"
            },
            "type": "carpet"
           }
          ],
          "choropleth": [
           {
            "colorbar": {
             "outlinewidth": 0,
             "ticks": ""
            },
            "type": "choropleth"
           }
          ],
          "contour": [
           {
            "colorbar": {
             "outlinewidth": 0,
             "ticks": ""
            },
            "colorscale": [
             [
              0,
              "#0d0887"
             ],
             [
              0.1111111111111111,
              "#46039f"
             ],
             [
              0.2222222222222222,
              "#7201a8"
             ],
             [
              0.3333333333333333,
              "#9c179e"
             ],
             [
              0.4444444444444444,
              "#bd3786"
             ],
             [
              0.5555555555555556,
              "#d8576b"
             ],
             [
              0.6666666666666666,
              "#ed7953"
             ],
             [
              0.7777777777777778,
              "#fb9f3a"
             ],
             [
              0.8888888888888888,
              "#fdca26"
             ],
             [
              1,
              "#f0f921"
             ]
            ],
            "type": "contour"
           }
          ],
          "contourcarpet": [
           {
            "colorbar": {
             "outlinewidth": 0,
             "ticks": ""
            },
            "type": "contourcarpet"
           }
          ],
          "heatmap": [
           {
            "colorbar": {
             "outlinewidth": 0,
             "ticks": ""
            },
            "colorscale": [
             [
              0,
              "#0d0887"
             ],
             [
              0.1111111111111111,
              "#46039f"
             ],
             [
              0.2222222222222222,
              "#7201a8"
             ],
             [
              0.3333333333333333,
              "#9c179e"
             ],
             [
              0.4444444444444444,
              "#bd3786"
             ],
             [
              0.5555555555555556,
              "#d8576b"
             ],
             [
              0.6666666666666666,
              "#ed7953"
             ],
             [
              0.7777777777777778,
              "#fb9f3a"
             ],
             [
              0.8888888888888888,
              "#fdca26"
             ],
             [
              1,
              "#f0f921"
             ]
            ],
            "type": "heatmap"
           }
          ],
          "heatmapgl": [
           {
            "colorbar": {
             "outlinewidth": 0,
             "ticks": ""
            },
            "colorscale": [
             [
              0,
              "#0d0887"
             ],
             [
              0.1111111111111111,
              "#46039f"
             ],
             [
              0.2222222222222222,
              "#7201a8"
             ],
             [
              0.3333333333333333,
              "#9c179e"
             ],
             [
              0.4444444444444444,
              "#bd3786"
             ],
             [
              0.5555555555555556,
              "#d8576b"
             ],
             [
              0.6666666666666666,
              "#ed7953"
             ],
             [
              0.7777777777777778,
              "#fb9f3a"
             ],
             [
              0.8888888888888888,
              "#fdca26"
             ],
             [
              1,
              "#f0f921"
             ]
            ],
            "type": "heatmapgl"
           }
          ],
          "histogram": [
           {
            "marker": {
             "pattern": {
              "fillmode": "overlay",
              "size": 10,
              "solidity": 0.2
             }
            },
            "type": "histogram"
           }
          ],
          "histogram2d": [
           {
            "colorbar": {
             "outlinewidth": 0,
             "ticks": ""
            },
            "colorscale": [
             [
              0,
              "#0d0887"
             ],
             [
              0.1111111111111111,
              "#46039f"
             ],
             [
              0.2222222222222222,
              "#7201a8"
             ],
             [
              0.3333333333333333,
              "#9c179e"
             ],
             [
              0.4444444444444444,
              "#bd3786"
             ],
             [
              0.5555555555555556,
              "#d8576b"
             ],
             [
              0.6666666666666666,
              "#ed7953"
             ],
             [
              0.7777777777777778,
              "#fb9f3a"
             ],
             [
              0.8888888888888888,
              "#fdca26"
             ],
             [
              1,
              "#f0f921"
             ]
            ],
            "type": "histogram2d"
           }
          ],
          "histogram2dcontour": [
           {
            "colorbar": {
             "outlinewidth": 0,
             "ticks": ""
            },
            "colorscale": [
             [
              0,
              "#0d0887"
             ],
             [
              0.1111111111111111,
              "#46039f"
             ],
             [
              0.2222222222222222,
              "#7201a8"
             ],
             [
              0.3333333333333333,
              "#9c179e"
             ],
             [
              0.4444444444444444,
              "#bd3786"
             ],
             [
              0.5555555555555556,
              "#d8576b"
             ],
             [
              0.6666666666666666,
              "#ed7953"
             ],
             [
              0.7777777777777778,
              "#fb9f3a"
             ],
             [
              0.8888888888888888,
              "#fdca26"
             ],
             [
              1,
              "#f0f921"
             ]
            ],
            "type": "histogram2dcontour"
           }
          ],
          "mesh3d": [
           {
            "colorbar": {
             "outlinewidth": 0,
             "ticks": ""
            },
            "type": "mesh3d"
           }
          ],
          "parcoords": [
           {
            "line": {
             "colorbar": {
              "outlinewidth": 0,
              "ticks": ""
             }
            },
            "type": "parcoords"
           }
          ],
          "pie": [
           {
            "automargin": true,
            "type": "pie"
           }
          ],
          "scatter": [
           {
            "fillpattern": {
             "fillmode": "overlay",
             "size": 10,
             "solidity": 0.2
            },
            "type": "scatter"
           }
          ],
          "scatter3d": [
           {
            "line": {
             "colorbar": {
              "outlinewidth": 0,
              "ticks": ""
             }
            },
            "marker": {
             "colorbar": {
              "outlinewidth": 0,
              "ticks": ""
             }
            },
            "type": "scatter3d"
           }
          ],
          "scattercarpet": [
           {
            "marker": {
             "colorbar": {
              "outlinewidth": 0,
              "ticks": ""
             }
            },
            "type": "scattercarpet"
           }
          ],
          "scattergeo": [
           {
            "marker": {
             "colorbar": {
              "outlinewidth": 0,
              "ticks": ""
             }
            },
            "type": "scattergeo"
           }
          ],
          "scattergl": [
           {
            "marker": {
             "colorbar": {
              "outlinewidth": 0,
              "ticks": ""
             }
            },
            "type": "scattergl"
           }
          ],
          "scattermapbox": [
           {
            "marker": {
             "colorbar": {
              "outlinewidth": 0,
              "ticks": ""
             }
            },
            "type": "scattermapbox"
           }
          ],
          "scatterpolar": [
           {
            "marker": {
             "colorbar": {
              "outlinewidth": 0,
              "ticks": ""
             }
            },
            "type": "scatterpolar"
           }
          ],
          "scatterpolargl": [
           {
            "marker": {
             "colorbar": {
              "outlinewidth": 0,
              "ticks": ""
             }
            },
            "type": "scatterpolargl"
           }
          ],
          "scatterternary": [
           {
            "marker": {
             "colorbar": {
              "outlinewidth": 0,
              "ticks": ""
             }
            },
            "type": "scatterternary"
           }
          ],
          "surface": [
           {
            "colorbar": {
             "outlinewidth": 0,
             "ticks": ""
            },
            "colorscale": [
             [
              0,
              "#0d0887"
             ],
             [
              0.1111111111111111,
              "#46039f"
             ],
             [
              0.2222222222222222,
              "#7201a8"
             ],
             [
              0.3333333333333333,
              "#9c179e"
             ],
             [
              0.4444444444444444,
              "#bd3786"
             ],
             [
              0.5555555555555556,
              "#d8576b"
             ],
             [
              0.6666666666666666,
              "#ed7953"
             ],
             [
              0.7777777777777778,
              "#fb9f3a"
             ],
             [
              0.8888888888888888,
              "#fdca26"
             ],
             [
              1,
              "#f0f921"
             ]
            ],
            "type": "surface"
           }
          ],
          "table": [
           {
            "cells": {
             "fill": {
              "color": "#EBF0F8"
             },
             "line": {
              "color": "white"
             }
            },
            "header": {
             "fill": {
              "color": "#C8D4E3"
             },
             "line": {
              "color": "white"
             }
            },
            "type": "table"
           }
          ]
         },
         "layout": {
          "annotationdefaults": {
           "arrowcolor": "#2a3f5f",
           "arrowhead": 0,
           "arrowwidth": 1
          },
          "autotypenumbers": "strict",
          "coloraxis": {
           "colorbar": {
            "outlinewidth": 0,
            "ticks": ""
           }
          },
          "colorscale": {
           "diverging": [
            [
             0,
             "#8e0152"
            ],
            [
             0.1,
             "#c51b7d"
            ],
            [
             0.2,
             "#de77ae"
            ],
            [
             0.3,
             "#f1b6da"
            ],
            [
             0.4,
             "#fde0ef"
            ],
            [
             0.5,
             "#f7f7f7"
            ],
            [
             0.6,
             "#e6f5d0"
            ],
            [
             0.7,
             "#b8e186"
            ],
            [
             0.8,
             "#7fbc41"
            ],
            [
             0.9,
             "#4d9221"
            ],
            [
             1,
             "#276419"
            ]
           ],
           "sequential": [
            [
             0,
             "#0d0887"
            ],
            [
             0.1111111111111111,
             "#46039f"
            ],
            [
             0.2222222222222222,
             "#7201a8"
            ],
            [
             0.3333333333333333,
             "#9c179e"
            ],
            [
             0.4444444444444444,
             "#bd3786"
            ],
            [
             0.5555555555555556,
             "#d8576b"
            ],
            [
             0.6666666666666666,
             "#ed7953"
            ],
            [
             0.7777777777777778,
             "#fb9f3a"
            ],
            [
             0.8888888888888888,
             "#fdca26"
            ],
            [
             1,
             "#f0f921"
            ]
           ],
           "sequentialminus": [
            [
             0,
             "#0d0887"
            ],
            [
             0.1111111111111111,
             "#46039f"
            ],
            [
             0.2222222222222222,
             "#7201a8"
            ],
            [
             0.3333333333333333,
             "#9c179e"
            ],
            [
             0.4444444444444444,
             "#bd3786"
            ],
            [
             0.5555555555555556,
             "#d8576b"
            ],
            [
             0.6666666666666666,
             "#ed7953"
            ],
            [
             0.7777777777777778,
             "#fb9f3a"
            ],
            [
             0.8888888888888888,
             "#fdca26"
            ],
            [
             1,
             "#f0f921"
            ]
           ]
          },
          "colorway": [
           "#636efa",
           "#EF553B",
           "#00cc96",
           "#ab63fa",
           "#FFA15A",
           "#19d3f3",
           "#FF6692",
           "#B6E880",
           "#FF97FF",
           "#FECB52"
          ],
          "font": {
           "color": "#2a3f5f"
          },
          "geo": {
           "bgcolor": "white",
           "lakecolor": "white",
           "landcolor": "#E5ECF6",
           "showlakes": true,
           "showland": true,
           "subunitcolor": "white"
          },
          "hoverlabel": {
           "align": "left"
          },
          "hovermode": "closest",
          "mapbox": {
           "style": "light"
          },
          "paper_bgcolor": "white",
          "plot_bgcolor": "#E5ECF6",
          "polar": {
           "angularaxis": {
            "gridcolor": "white",
            "linecolor": "white",
            "ticks": ""
           },
           "bgcolor": "#E5ECF6",
           "radialaxis": {
            "gridcolor": "white",
            "linecolor": "white",
            "ticks": ""
           }
          },
          "scene": {
           "xaxis": {
            "backgroundcolor": "#E5ECF6",
            "gridcolor": "white",
            "gridwidth": 2,
            "linecolor": "white",
            "showbackground": true,
            "ticks": "",
            "zerolinecolor": "white"
           },
           "yaxis": {
            "backgroundcolor": "#E5ECF6",
            "gridcolor": "white",
            "gridwidth": 2,
            "linecolor": "white",
            "showbackground": true,
            "ticks": "",
            "zerolinecolor": "white"
           },
           "zaxis": {
            "backgroundcolor": "#E5ECF6",
            "gridcolor": "white",
            "gridwidth": 2,
            "linecolor": "white",
            "showbackground": true,
            "ticks": "",
            "zerolinecolor": "white"
           }
          },
          "shapedefaults": {
           "line": {
            "color": "#2a3f5f"
           }
          },
          "ternary": {
           "aaxis": {
            "gridcolor": "white",
            "linecolor": "white",
            "ticks": ""
           },
           "baxis": {
            "gridcolor": "white",
            "linecolor": "white",
            "ticks": ""
           },
           "bgcolor": "#E5ECF6",
           "caxis": {
            "gridcolor": "white",
            "linecolor": "white",
            "ticks": ""
           }
          },
          "title": {
           "x": 0.05
          },
          "xaxis": {
           "automargin": true,
           "gridcolor": "white",
           "linecolor": "white",
           "ticks": "",
           "title": {
            "standoff": 15
           },
           "zerolinecolor": "white",
           "zerolinewidth": 2
          },
          "yaxis": {
           "automargin": true,
           "gridcolor": "white",
           "linecolor": "white",
           "ticks": "",
           "title": {
            "standoff": 15
           },
           "zerolinecolor": "white",
           "zerolinewidth": 2
          }
         }
        },
        "xaxis": {
         "anchor": "y",
         "domain": [
          0,
          0.45
         ],
         "title": {
          "text": "epoch"
         }
        },
        "xaxis2": {
         "anchor": "y2",
         "domain": [
          0.55,
          1
         ],
         "title": {
          "text": "epoch"
         }
        },
        "yaxis": {
         "anchor": "x",
         "domain": [
          0,
          1
         ],
         "title": {
          "text": "accuracy"
         }
        },
        "yaxis2": {
         "anchor": "x2",
         "domain": [
          0,
          1
         ]
        }
       }
      }
     },
     "metadata": {},
     "output_type": "display_data"
    }
   ],
   "source": [
    "import plotly.graph_objects as go\n",
    "from plotly.subplots import make_subplots\n",
    "\n",
    "fig = make_subplots(rows=1, cols=2, subplot_titles=['train loss', 'learning rate'])\n",
    "\n",
    "fig.add_trace(go.Scatter(x=df_train_log['epoch'], y=df_train_log['loss'], name='train_loss'), row=1, col=1)\n",
    "fig.update_xaxes(title=\"epoch\", row=1, col=1)\n",
    "fig.update_yaxes(title=\"loss\", row=1, col=1)\n",
    "fig.add_trace(go.Scatter(x=df_train_log['epoch'], y=df_train_log['learning_rate'], name='accuracy'), row=1, col=2)\n",
    "fig.update_xaxes(title=\"epoch\", row=1, col=2)\n",
    "fig.update_yaxes(title=\"accuracy\", row=1, col=1)\n",
    "fig.show()"
   ]
  },
  {
   "cell_type": "code",
   "execution_count": 20,
   "metadata": {},
   "outputs": [
    {
     "data": {
      "application/vnd.plotly.v1+json": {
       "config": {
        "plotlyServerURL": "https://plot.ly"
       },
       "data": [
        {
         "name": "train_loss",
         "type": "scatter",
         "x": [
          0.08,
          0.16,
          0.24,
          0.32,
          0.4,
          0.48,
          0.56,
          0.64,
          0.72,
          0.8,
          0.88,
          0.96,
          1.04,
          1.12,
          1.2,
          1.28,
          1.36,
          1.44,
          1.52,
          1.6,
          1.68,
          1.76,
          1.84,
          1.92,
          2,
          2.08,
          2.16,
          2.24,
          2.32,
          2.4,
          2.48,
          2.56,
          2.64,
          2.72,
          2.8,
          2.88,
          2.96,
          3.04,
          3.12,
          3.2,
          3.28,
          3.36,
          3.44,
          3.52,
          3.6,
          3.68,
          3.76,
          3.84,
          3.92,
          4,
          4,
          4
         ],
         "xaxis": "x",
         "y": [
          0.5123539566993713,
          0.47826647758483887,
          0.41486966609954834,
          0.5696406364440918,
          0.3482650816440582,
          0.5239782929420471,
          0.37173208594322205,
          0.37139594554901123,
          0.4551563560962677,
          0.49192824959754944,
          0.40994587540626526,
          0.30615901947021484,
          0.28111353516578674,
          0.29273077845573425,
          0.40542203187942505,
          0.4292181432247162,
          0.30612146854400635,
          0.33223357796669006,
          0.3528488278388977,
          0.3964221775531769,
          0.305724561214447,
          0.26032519340515137,
          0.26428815722465515,
          0.26961493492126465,
          0.2548530697822571,
          0.21202389895915985,
          0.23603790998458862,
          0.21915316581726074,
          0.2567563056945801,
          0.23763823509216309,
          0.21153393387794495,
          0.23895002901554108,
          0.22739285230636597,
          0.24000319838523865,
          0.28292182087898254,
          0.25889137387275696,
          0.21813659369945526,
          0.22764360904693604,
          0.21127739548683167,
          0.19256097078323364,
          0.21892544627189636,
          0.20954057574272156,
          0.2167956829071045,
          0.2059483379125595,
          0.2076192945241928,
          0.1989278495311737,
          0.2030533403158188,
          0.20384109020233154,
          0.20405133068561554,
          0.20343925058841705,
          0.19256097078323364,
          0.19065973162651062
         ],
         "yaxis": "y"
        },
        {
         "name": "accuracy",
         "type": "scatter",
         "x": [
          0.08,
          0.16,
          0.24,
          0.32,
          0.4,
          0.48,
          0.56,
          0.64,
          0.72,
          0.8,
          0.88,
          0.96,
          1.04,
          1.12,
          1.2,
          1.28,
          1.36,
          1.44,
          1.52,
          1.6,
          1.68,
          1.76,
          1.84,
          1.92,
          2,
          2.08,
          2.16,
          2.24,
          2.32,
          2.4,
          2.48,
          2.56,
          2.64,
          2.72,
          2.8,
          2.88,
          2.96,
          3.04,
          3.12,
          3.2,
          3.28,
          3.36,
          3.44,
          3.52,
          3.6,
          3.68,
          3.76,
          3.84,
          3.92,
          4,
          4,
          4
         ],
         "xaxis": "x2",
         "y": [
          0.8995,
          0.868,
          0.886,
          0.8285,
          0.898,
          0.8535,
          0.892,
          0.8925,
          0.864,
          0.8535,
          0.881,
          0.907,
          0.9165,
          0.9195,
          0.899,
          0.8915,
          0.9195,
          0.9115,
          0.9135,
          0.9035,
          0.9155,
          0.935,
          0.934,
          0.936,
          0.9385,
          0.95,
          0.9465,
          0.95,
          0.944,
          0.944,
          0.949,
          0.9485,
          0.9475,
          0.947,
          0.9405,
          0.943,
          0.9545,
          0.95,
          0.955,
          0.9545,
          0.9555,
          0.957,
          0.956,
          0.955,
          0.9565,
          0.958,
          0.9565,
          0.9555,
          0.9575,
          0.9575,
          0.9545,
          0.959
         ],
         "yaxis": "y2"
        }
       ],
       "layout": {
        "annotations": [
         {
          "font": {
           "size": 16
          },
          "showarrow": false,
          "text": "Eval loss",
          "x": 0.225,
          "xanchor": "center",
          "xref": "paper",
          "y": 1,
          "yanchor": "bottom",
          "yref": "paper"
         },
         {
          "font": {
           "size": 16
          },
          "showarrow": false,
          "text": "Eval accuracy",
          "x": 0.775,
          "xanchor": "center",
          "xref": "paper",
          "y": 1,
          "yanchor": "bottom",
          "yref": "paper"
         }
        ],
        "template": {
         "data": {
          "bar": [
           {
            "error_x": {
             "color": "#2a3f5f"
            },
            "error_y": {
             "color": "#2a3f5f"
            },
            "marker": {
             "line": {
              "color": "#E5ECF6",
              "width": 0.5
             },
             "pattern": {
              "fillmode": "overlay",
              "size": 10,
              "solidity": 0.2
             }
            },
            "type": "bar"
           }
          ],
          "barpolar": [
           {
            "marker": {
             "line": {
              "color": "#E5ECF6",
              "width": 0.5
             },
             "pattern": {
              "fillmode": "overlay",
              "size": 10,
              "solidity": 0.2
             }
            },
            "type": "barpolar"
           }
          ],
          "carpet": [
           {
            "aaxis": {
             "endlinecolor": "#2a3f5f",
             "gridcolor": "white",
             "linecolor": "white",
             "minorgridcolor": "white",
             "startlinecolor": "#2a3f5f"
            },
            "baxis": {
             "endlinecolor": "#2a3f5f",
             "gridcolor": "white",
             "linecolor": "white",
             "minorgridcolor": "white",
             "startlinecolor": "#2a3f5f"
            },
            "type": "carpet"
           }
          ],
          "choropleth": [
           {
            "colorbar": {
             "outlinewidth": 0,
             "ticks": ""
            },
            "type": "choropleth"
           }
          ],
          "contour": [
           {
            "colorbar": {
             "outlinewidth": 0,
             "ticks": ""
            },
            "colorscale": [
             [
              0,
              "#0d0887"
             ],
             [
              0.1111111111111111,
              "#46039f"
             ],
             [
              0.2222222222222222,
              "#7201a8"
             ],
             [
              0.3333333333333333,
              "#9c179e"
             ],
             [
              0.4444444444444444,
              "#bd3786"
             ],
             [
              0.5555555555555556,
              "#d8576b"
             ],
             [
              0.6666666666666666,
              "#ed7953"
             ],
             [
              0.7777777777777778,
              "#fb9f3a"
             ],
             [
              0.8888888888888888,
              "#fdca26"
             ],
             [
              1,
              "#f0f921"
             ]
            ],
            "type": "contour"
           }
          ],
          "contourcarpet": [
           {
            "colorbar": {
             "outlinewidth": 0,
             "ticks": ""
            },
            "type": "contourcarpet"
           }
          ],
          "heatmap": [
           {
            "colorbar": {
             "outlinewidth": 0,
             "ticks": ""
            },
            "colorscale": [
             [
              0,
              "#0d0887"
             ],
             [
              0.1111111111111111,
              "#46039f"
             ],
             [
              0.2222222222222222,
              "#7201a8"
             ],
             [
              0.3333333333333333,
              "#9c179e"
             ],
             [
              0.4444444444444444,
              "#bd3786"
             ],
             [
              0.5555555555555556,
              "#d8576b"
             ],
             [
              0.6666666666666666,
              "#ed7953"
             ],
             [
              0.7777777777777778,
              "#fb9f3a"
             ],
             [
              0.8888888888888888,
              "#fdca26"
             ],
             [
              1,
              "#f0f921"
             ]
            ],
            "type": "heatmap"
           }
          ],
          "heatmapgl": [
           {
            "colorbar": {
             "outlinewidth": 0,
             "ticks": ""
            },
            "colorscale": [
             [
              0,
              "#0d0887"
             ],
             [
              0.1111111111111111,
              "#46039f"
             ],
             [
              0.2222222222222222,
              "#7201a8"
             ],
             [
              0.3333333333333333,
              "#9c179e"
             ],
             [
              0.4444444444444444,
              "#bd3786"
             ],
             [
              0.5555555555555556,
              "#d8576b"
             ],
             [
              0.6666666666666666,
              "#ed7953"
             ],
             [
              0.7777777777777778,
              "#fb9f3a"
             ],
             [
              0.8888888888888888,
              "#fdca26"
             ],
             [
              1,
              "#f0f921"
             ]
            ],
            "type": "heatmapgl"
           }
          ],
          "histogram": [
           {
            "marker": {
             "pattern": {
              "fillmode": "overlay",
              "size": 10,
              "solidity": 0.2
             }
            },
            "type": "histogram"
           }
          ],
          "histogram2d": [
           {
            "colorbar": {
             "outlinewidth": 0,
             "ticks": ""
            },
            "colorscale": [
             [
              0,
              "#0d0887"
             ],
             [
              0.1111111111111111,
              "#46039f"
             ],
             [
              0.2222222222222222,
              "#7201a8"
             ],
             [
              0.3333333333333333,
              "#9c179e"
             ],
             [
              0.4444444444444444,
              "#bd3786"
             ],
             [
              0.5555555555555556,
              "#d8576b"
             ],
             [
              0.6666666666666666,
              "#ed7953"
             ],
             [
              0.7777777777777778,
              "#fb9f3a"
             ],
             [
              0.8888888888888888,
              "#fdca26"
             ],
             [
              1,
              "#f0f921"
             ]
            ],
            "type": "histogram2d"
           }
          ],
          "histogram2dcontour": [
           {
            "colorbar": {
             "outlinewidth": 0,
             "ticks": ""
            },
            "colorscale": [
             [
              0,
              "#0d0887"
             ],
             [
              0.1111111111111111,
              "#46039f"
             ],
             [
              0.2222222222222222,
              "#7201a8"
             ],
             [
              0.3333333333333333,
              "#9c179e"
             ],
             [
              0.4444444444444444,
              "#bd3786"
             ],
             [
              0.5555555555555556,
              "#d8576b"
             ],
             [
              0.6666666666666666,
              "#ed7953"
             ],
             [
              0.7777777777777778,
              "#fb9f3a"
             ],
             [
              0.8888888888888888,
              "#fdca26"
             ],
             [
              1,
              "#f0f921"
             ]
            ],
            "type": "histogram2dcontour"
           }
          ],
          "mesh3d": [
           {
            "colorbar": {
             "outlinewidth": 0,
             "ticks": ""
            },
            "type": "mesh3d"
           }
          ],
          "parcoords": [
           {
            "line": {
             "colorbar": {
              "outlinewidth": 0,
              "ticks": ""
             }
            },
            "type": "parcoords"
           }
          ],
          "pie": [
           {
            "automargin": true,
            "type": "pie"
           }
          ],
          "scatter": [
           {
            "fillpattern": {
             "fillmode": "overlay",
             "size": 10,
             "solidity": 0.2
            },
            "type": "scatter"
           }
          ],
          "scatter3d": [
           {
            "line": {
             "colorbar": {
              "outlinewidth": 0,
              "ticks": ""
             }
            },
            "marker": {
             "colorbar": {
              "outlinewidth": 0,
              "ticks": ""
             }
            },
            "type": "scatter3d"
           }
          ],
          "scattercarpet": [
           {
            "marker": {
             "colorbar": {
              "outlinewidth": 0,
              "ticks": ""
             }
            },
            "type": "scattercarpet"
           }
          ],
          "scattergeo": [
           {
            "marker": {
             "colorbar": {
              "outlinewidth": 0,
              "ticks": ""
             }
            },
            "type": "scattergeo"
           }
          ],
          "scattergl": [
           {
            "marker": {
             "colorbar": {
              "outlinewidth": 0,
              "ticks": ""
             }
            },
            "type": "scattergl"
           }
          ],
          "scattermapbox": [
           {
            "marker": {
             "colorbar": {
              "outlinewidth": 0,
              "ticks": ""
             }
            },
            "type": "scattermapbox"
           }
          ],
          "scatterpolar": [
           {
            "marker": {
             "colorbar": {
              "outlinewidth": 0,
              "ticks": ""
             }
            },
            "type": "scatterpolar"
           }
          ],
          "scatterpolargl": [
           {
            "marker": {
             "colorbar": {
              "outlinewidth": 0,
              "ticks": ""
             }
            },
            "type": "scatterpolargl"
           }
          ],
          "scatterternary": [
           {
            "marker": {
             "colorbar": {
              "outlinewidth": 0,
              "ticks": ""
             }
            },
            "type": "scatterternary"
           }
          ],
          "surface": [
           {
            "colorbar": {
             "outlinewidth": 0,
             "ticks": ""
            },
            "colorscale": [
             [
              0,
              "#0d0887"
             ],
             [
              0.1111111111111111,
              "#46039f"
             ],
             [
              0.2222222222222222,
              "#7201a8"
             ],
             [
              0.3333333333333333,
              "#9c179e"
             ],
             [
              0.4444444444444444,
              "#bd3786"
             ],
             [
              0.5555555555555556,
              "#d8576b"
             ],
             [
              0.6666666666666666,
              "#ed7953"
             ],
             [
              0.7777777777777778,
              "#fb9f3a"
             ],
             [
              0.8888888888888888,
              "#fdca26"
             ],
             [
              1,
              "#f0f921"
             ]
            ],
            "type": "surface"
           }
          ],
          "table": [
           {
            "cells": {
             "fill": {
              "color": "#EBF0F8"
             },
             "line": {
              "color": "white"
             }
            },
            "header": {
             "fill": {
              "color": "#C8D4E3"
             },
             "line": {
              "color": "white"
             }
            },
            "type": "table"
           }
          ]
         },
         "layout": {
          "annotationdefaults": {
           "arrowcolor": "#2a3f5f",
           "arrowhead": 0,
           "arrowwidth": 1
          },
          "autotypenumbers": "strict",
          "coloraxis": {
           "colorbar": {
            "outlinewidth": 0,
            "ticks": ""
           }
          },
          "colorscale": {
           "diverging": [
            [
             0,
             "#8e0152"
            ],
            [
             0.1,
             "#c51b7d"
            ],
            [
             0.2,
             "#de77ae"
            ],
            [
             0.3,
             "#f1b6da"
            ],
            [
             0.4,
             "#fde0ef"
            ],
            [
             0.5,
             "#f7f7f7"
            ],
            [
             0.6,
             "#e6f5d0"
            ],
            [
             0.7,
             "#b8e186"
            ],
            [
             0.8,
             "#7fbc41"
            ],
            [
             0.9,
             "#4d9221"
            ],
            [
             1,
             "#276419"
            ]
           ],
           "sequential": [
            [
             0,
             "#0d0887"
            ],
            [
             0.1111111111111111,
             "#46039f"
            ],
            [
             0.2222222222222222,
             "#7201a8"
            ],
            [
             0.3333333333333333,
             "#9c179e"
            ],
            [
             0.4444444444444444,
             "#bd3786"
            ],
            [
             0.5555555555555556,
             "#d8576b"
            ],
            [
             0.6666666666666666,
             "#ed7953"
            ],
            [
             0.7777777777777778,
             "#fb9f3a"
            ],
            [
             0.8888888888888888,
             "#fdca26"
            ],
            [
             1,
             "#f0f921"
            ]
           ],
           "sequentialminus": [
            [
             0,
             "#0d0887"
            ],
            [
             0.1111111111111111,
             "#46039f"
            ],
            [
             0.2222222222222222,
             "#7201a8"
            ],
            [
             0.3333333333333333,
             "#9c179e"
            ],
            [
             0.4444444444444444,
             "#bd3786"
            ],
            [
             0.5555555555555556,
             "#d8576b"
            ],
            [
             0.6666666666666666,
             "#ed7953"
            ],
            [
             0.7777777777777778,
             "#fb9f3a"
            ],
            [
             0.8888888888888888,
             "#fdca26"
            ],
            [
             1,
             "#f0f921"
            ]
           ]
          },
          "colorway": [
           "#636efa",
           "#EF553B",
           "#00cc96",
           "#ab63fa",
           "#FFA15A",
           "#19d3f3",
           "#FF6692",
           "#B6E880",
           "#FF97FF",
           "#FECB52"
          ],
          "font": {
           "color": "#2a3f5f"
          },
          "geo": {
           "bgcolor": "white",
           "lakecolor": "white",
           "landcolor": "#E5ECF6",
           "showlakes": true,
           "showland": true,
           "subunitcolor": "white"
          },
          "hoverlabel": {
           "align": "left"
          },
          "hovermode": "closest",
          "mapbox": {
           "style": "light"
          },
          "paper_bgcolor": "white",
          "plot_bgcolor": "#E5ECF6",
          "polar": {
           "angularaxis": {
            "gridcolor": "white",
            "linecolor": "white",
            "ticks": ""
           },
           "bgcolor": "#E5ECF6",
           "radialaxis": {
            "gridcolor": "white",
            "linecolor": "white",
            "ticks": ""
           }
          },
          "scene": {
           "xaxis": {
            "backgroundcolor": "#E5ECF6",
            "gridcolor": "white",
            "gridwidth": 2,
            "linecolor": "white",
            "showbackground": true,
            "ticks": "",
            "zerolinecolor": "white"
           },
           "yaxis": {
            "backgroundcolor": "#E5ECF6",
            "gridcolor": "white",
            "gridwidth": 2,
            "linecolor": "white",
            "showbackground": true,
            "ticks": "",
            "zerolinecolor": "white"
           },
           "zaxis": {
            "backgroundcolor": "#E5ECF6",
            "gridcolor": "white",
            "gridwidth": 2,
            "linecolor": "white",
            "showbackground": true,
            "ticks": "",
            "zerolinecolor": "white"
           }
          },
          "shapedefaults": {
           "line": {
            "color": "#2a3f5f"
           }
          },
          "ternary": {
           "aaxis": {
            "gridcolor": "white",
            "linecolor": "white",
            "ticks": ""
           },
           "baxis": {
            "gridcolor": "white",
            "linecolor": "white",
            "ticks": ""
           },
           "bgcolor": "#E5ECF6",
           "caxis": {
            "gridcolor": "white",
            "linecolor": "white",
            "ticks": ""
           }
          },
          "title": {
           "x": 0.05
          },
          "xaxis": {
           "automargin": true,
           "gridcolor": "white",
           "linecolor": "white",
           "ticks": "",
           "title": {
            "standoff": 15
           },
           "zerolinecolor": "white",
           "zerolinewidth": 2
          },
          "yaxis": {
           "automargin": true,
           "gridcolor": "white",
           "linecolor": "white",
           "ticks": "",
           "title": {
            "standoff": 15
           },
           "zerolinecolor": "white",
           "zerolinewidth": 2
          }
         }
        },
        "xaxis": {
         "anchor": "y",
         "domain": [
          0,
          0.45
         ],
         "title": {
          "text": "epoch"
         }
        },
        "xaxis2": {
         "anchor": "y2",
         "domain": [
          0.55,
          1
         ],
         "title": {
          "text": "epoch"
         }
        },
        "yaxis": {
         "anchor": "x",
         "domain": [
          0,
          1
         ],
         "title": {
          "text": "accuracy"
         }
        },
        "yaxis2": {
         "anchor": "x2",
         "domain": [
          0,
          1
         ]
        }
       }
      }
     },
     "metadata": {},
     "output_type": "display_data"
    }
   ],
   "source": [
    "fig = make_subplots(rows=1, cols=2, subplot_titles=['Eval loss', 'Eval accuracy'])\n",
    "\n",
    "fig.add_trace(go.Scatter(x=df_train_eval_log['epoch'], y=df_train_eval_log['eval_loss'], name='train_loss'), row=1, col=1)\n",
    "fig.update_xaxes(title=\"epoch\", row=1, col=1)\n",
    "fig.update_yaxes(title=\"loss\", row=1, col=1)\n",
    "fig.add_trace(go.Scatter(x=df_train_eval_log['epoch'], y=df_train_eval_log['eval_accuracy'], name='accuracy'), row=1, col=2)\n",
    "fig.update_xaxes(title=\"epoch\", row=1, col=2)\n",
    "fig.update_yaxes(title=\"accuracy\", row=1, col=1)\n",
    "fig.show()"
   ]
  },
  {
   "cell_type": "code",
   "execution_count": null,
   "metadata": {},
   "outputs": [],
   "source": []
  }
 ],
 "metadata": {
  "kernelspec": {
   "display_name": "Python 3",
   "language": "python",
   "name": "python3"
  },
  "language_info": {
   "codemirror_mode": {
    "name": "ipython",
    "version": 3
   },
   "file_extension": ".py",
   "mimetype": "text/x-python",
   "name": "python",
   "nbconvert_exporter": "python",
   "pygments_lexer": "ipython3",
   "version": "3.10.11"
  },
  "orig_nbformat": 4
 },
 "nbformat": 4,
 "nbformat_minor": 2
}
