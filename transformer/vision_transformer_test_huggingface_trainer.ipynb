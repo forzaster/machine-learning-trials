{
 "cells": [
  {
   "attachments": {},
   "cell_type": "markdown",
   "metadata": {},
   "source": [
    "# Vision Transformer Exercise by using Huggingface libraries\n",
    "\n",
    "Reference : https://huggingface.co/blog/fine-tune-vit"
   ]
  },
  {
   "attachments": {},
   "cell_type": "markdown",
   "metadata": {},
   "source": [
    "## Setup"
   ]
  },
  {
   "cell_type": "code",
   "execution_count": 1,
   "metadata": {},
   "outputs": [
    {
     "name": "stderr",
     "output_type": "stream",
     "text": [
      "Some weights of the model checkpoint at google/vit-base-patch16-224-in21k were not used when initializing ViTForImageClassification: ['pooler.dense.weight', 'pooler.dense.bias']\n",
      "- This IS expected if you are initializing ViTForImageClassification from the checkpoint of a model trained on another task or with another architecture (e.g. initializing a BertForSequenceClassification model from a BertForPreTraining model).\n",
      "- This IS NOT expected if you are initializing ViTForImageClassification from the checkpoint of a model that you expect to be exactly identical (initializing a BertForSequenceClassification model from a BertForSequenceClassification model).\n",
      "Some weights of ViTForImageClassification were not initialized from the model checkpoint at google/vit-base-patch16-224-in21k and are newly initialized: ['classifier.bias', 'classifier.weight']\n",
      "You should probably TRAIN this model on a down-stream task to be able to use it for predictions and inference.\n"
     ]
    },
    {
     "data": {
      "text/plain": [
       "{'height': 224, 'width': 224}"
      ]
     },
     "execution_count": 1,
     "metadata": {},
     "output_type": "execute_result"
    }
   ],
   "source": [
    "import torch\n",
    "from transformers import ViTForImageClassification, ViTImageProcessor\n",
    "\n",
    "import warnings\n",
    "warnings.filterwarnings('ignore')\n",
    "\n",
    "device = torch.device('cuda' if torch.cuda.is_available() else 'cpu')\n",
    "\n",
    "#model_name = 'google/vit-base-patch16-224'\n",
    "model_name = 'google/vit-base-patch16-224-in21k'\n",
    "model_predict = ViTForImageClassification.from_pretrained(model_name)\n",
    "model_predict.to(device)\n",
    "\n",
    "processor = ViTImageProcessor.from_pretrained(model_name)\n",
    "processor.size"
   ]
  },
  {
   "attachments": {},
   "cell_type": "markdown",
   "metadata": {},
   "source": [
    "### Load data"
   ]
  },
  {
   "cell_type": "code",
   "execution_count": 2,
   "metadata": {},
   "outputs": [
    {
     "data": {
      "application/vnd.jupyter.widget-view+json": {
       "model_id": "ab94be9aa6ea42f8864c1b4c111efe49",
       "version_major": 2,
       "version_minor": 0
      },
      "text/plain": [
       "  0%|          | 0/2 [00:00<?, ?it/s]"
      ]
     },
     "metadata": {},
     "output_type": "display_data"
    },
    {
     "data": {
      "text/plain": [
       "DatasetDict({\n",
       "    train: Dataset({\n",
       "        features: ['img', 'label'],\n",
       "        num_rows: 50000\n",
       "    })\n",
       "    test: Dataset({\n",
       "        features: ['img', 'label'],\n",
       "        num_rows: 10000\n",
       "    })\n",
       "})"
      ]
     },
     "execution_count": 2,
     "metadata": {},
     "output_type": "execute_result"
    }
   ],
   "source": [
    "import datasets\n",
    "\n",
    "datasets.logging.set_verbosity(datasets.logging.ERROR)\n",
    "dataset = datasets.load_dataset('cifar10')\n",
    "#dataset = datasets.load_dataset('beans')\n",
    "dataset"
   ]
  },
  {
   "cell_type": "code",
   "execution_count": 3,
   "metadata": {},
   "outputs": [],
   "source": [
    "dataset_train_val = dataset['train'].train_test_split(0.2)\n",
    "#dataset_train = dataset_train_val['train'].select(range(5000))\n",
    "#dataset_val = dataset_train_val['test'].select(range(1000))\n",
    "#dataset_test = dataset['test'].select(range(1000))\n",
    "dataset_train = dataset_train_val['train']\n",
    "if len(dataset_train) > 10000:\n",
    "    dataset_train = dataset_train.select(range(10000))\n",
    "dataset_val = dataset_train_val['test']\n",
    "if len(dataset_val) > 2000:\n",
    "    dataset_val = dataset_val.select(range(2000))\n",
    "dataset_test = dataset['test']\n",
    "if len(dataset_test) > 2000:\n",
    "    dataset_test = dataset_test.select(range(2000))\n"
   ]
  },
  {
   "cell_type": "code",
   "execution_count": 4,
   "metadata": {},
   "outputs": [
    {
     "name": "stdout",
     "output_type": "stream",
     "text": [
      "dict_keys(['img', 'label'])\n",
      "Dataset({\n",
      "    features: ['img', 'label'],\n",
      "    num_rows: 10000\n",
      "})\n",
      "Dataset({\n",
      "    features: ['img', 'label'],\n",
      "    num_rows: 2000\n",
      "})\n",
      "Dataset({\n",
      "    features: ['img', 'label'],\n",
      "    num_rows: 2000\n",
      "})\n",
      "image_name = img, label_name = label\n"
     ]
    }
   ],
   "source": [
    "print(dataset_train.features.keys())\n",
    "image_name = 'image'\n",
    "label_name = 'labels'\n",
    "for k in dataset_train.features.keys():\n",
    "    if k == 'img':\n",
    "        image_name = k\n",
    "    if k == 'label':\n",
    "        label_name = k\n",
    "print(dataset_train)\n",
    "print(dataset_val)\n",
    "print(dataset_test)\n",
    "\n",
    "print(f'image_name = {image_name}, label_name = {label_name}')"
   ]
  },
  {
   "cell_type": "code",
   "execution_count": 5,
   "metadata": {},
   "outputs": [
    {
     "data": {
      "text/plain": [
       "{0: 'airplane',\n",
       " 1: 'automobile',\n",
       " 2: 'bird',\n",
       " 3: 'cat',\n",
       " 4: 'deer',\n",
       " 5: 'dog',\n",
       " 6: 'frog',\n",
       " 7: 'horse',\n",
       " 8: 'ship',\n",
       " 9: 'truck'}"
      ]
     },
     "execution_count": 5,
     "metadata": {},
     "output_type": "execute_result"
    }
   ],
   "source": [
    "id2label = {i: l for i, l in enumerate(dataset_train.features[label_name].names)}\n",
    "label2id = {l: i for i, l in id2label.items()}\n",
    "id2label"
   ]
  },
  {
   "attachments": {},
   "cell_type": "markdown",
   "metadata": {},
   "source": [
    "## Predict test by default model without fine-tuning"
   ]
  },
  {
   "cell_type": "code",
   "execution_count": 6,
   "metadata": {},
   "outputs": [],
   "source": [
    "from PIL import Image\n",
    "\n",
    "def predict(imgfile, print_flg=False):\n",
    "    img = Image.open(imgfile)\n",
    "    inputs = processor(images=img, return_tensors=\"pt\").to(device)\n",
    "    pixel_values = inputs.pixel_values\n",
    "    print(f'pixel_values shape = {pixel_values.shape}')\n",
    "    with torch.no_grad():\n",
    "      outputs = model_predict(pixel_values)\n",
    "    logits = outputs.logits\n",
    "    print(f'logits shape = {logits.shape} , logits type = {type(logits)}, model type = {type(model_predict)}')\n",
    "    if print_flg:\n",
    "       print(f'logits = {logits}')\n",
    "    prediction = logits.argmax(-1)\n",
    "    print(f\"Predicted class:\", model_predict.config.id2label[prediction.item()])\n",
    "    print(f\"prediction type = {prediction}, prediction item = {prediction.item()}\")\n",
    "    return prediction"
   ]
  },
  {
   "cell_type": "code",
   "execution_count": 7,
   "metadata": {},
   "outputs": [
    {
     "data": {
      "image/png": "[encoded data removed]",
      "text/plain": [
       "<PIL.PngImagePlugin.PngImageFile image mode=RGB size=32x32>"
      ]
     },
     "metadata": {},
     "output_type": "display_data"
    },
    {
     "name": "stdout",
     "output_type": "stream",
     "text": [
      "torch.Size([1, 3, 224, 224])\n",
      "ImageClassifierOutput(loss=None, logits=tensor([[-0.0740,  0.0314]], device='cuda:0'), hidden_states=None, attentions=None)\n",
      "torch.Size([1, 2])\n",
      "Predicted = 1 :  LABEL_1\n",
      "Actual = 2 : bird\n"
     ]
    }
   ],
   "source": [
    "import torch\n",
    "\n",
    "idx = 100\n",
    "display(dataset_train[idx][image_name])\n",
    "inputs = processor(images=dataset_train[idx][image_name], return_tensors=\"pt\").to(device)\n",
    "pixel_values = inputs.pixel_values\n",
    "print(pixel_values.shape)\n",
    "with torch.no_grad():\n",
    "    outputs = model_predict(pixel_values)\n",
    "print(outputs)\n",
    "logits = outputs.logits\n",
    "print(logits.shape)\n",
    "prediction = logits.argmax(-1)\n",
    "print(f\"Predicted = {prediction.item()} :  {model_predict.config.id2label[prediction.item()]}\")\n",
    "print(f\"Actual = {dataset_train[idx][label_name]} : {id2label[dataset_train[idx][label_name]]}\")"
   ]
  },
  {
   "attachments": {},
   "cell_type": "markdown",
   "metadata": {},
   "source": [
    "## Fine Tuning"
   ]
  },
  {
   "attachments": {},
   "cell_type": "markdown",
   "metadata": {},
   "source": [
    "### Data Preprocess"
   ]
  },
  {
   "cell_type": "code",
   "execution_count": 8,
   "metadata": {},
   "outputs": [
    {
     "data": {
      "text/plain": [
       "ViTImageProcessor {\n",
       "  \"do_normalize\": true,\n",
       "  \"do_rescale\": true,\n",
       "  \"do_resize\": true,\n",
       "  \"image_mean\": [\n",
       "    0.5,\n",
       "    0.5,\n",
       "    0.5\n",
       "  ],\n",
       "  \"image_processor_type\": \"ViTImageProcessor\",\n",
       "  \"image_std\": [\n",
       "    0.5,\n",
       "    0.5,\n",
       "    0.5\n",
       "  ],\n",
       "  \"resample\": 2,\n",
       "  \"rescale_factor\": 0.00392156862745098,\n",
       "  \"size\": {\n",
       "    \"height\": 224,\n",
       "    \"width\": 224\n",
       "  }\n",
       "}"
      ]
     },
     "execution_count": 8,
     "metadata": {},
     "output_type": "execute_result"
    }
   ],
   "source": [
    "from transformers import ViTFeatureExtractor\n",
    "\n",
    "# ViTImageProcessorと実体は同じ (https://github.com/huggingface/transformers/blob/v4.28.1/src/transformers/models/vit/feature_extraction_vit.py)\n",
    "feature_extractor = ViTFeatureExtractor.from_pretrained(model_name)\n",
    "feature_extractor"
   ]
  },
  {
   "cell_type": "code",
   "execution_count": 9,
   "metadata": {},
   "outputs": [
    {
     "data": {
      "text/plain": [
       "{'img': <PIL.PngImagePlugin.PngImageFile image mode=RGB size=32x32>,\n",
       " 'label': 0}"
      ]
     },
     "execution_count": 9,
     "metadata": {},
     "output_type": "execute_result"
    }
   ],
   "source": [
    "dataset_train[0]"
   ]
  },
  {
   "cell_type": "code",
   "execution_count": 10,
   "metadata": {},
   "outputs": [
    {
     "data": {
      "text/plain": [
       "{'pixel_values': tensor([[[[-0.3725, -0.3725, -0.3725,  ..., -0.4118, -0.4118, -0.4118],\n",
       "          [-0.3725, -0.3725, -0.3725,  ..., -0.4118, -0.4118, -0.4118],\n",
       "          [-0.3725, -0.3725, -0.3725,  ..., -0.4118, -0.4118, -0.4118],\n",
       "          ...,\n",
       "          [-0.3882, -0.3882, -0.3882,  ..., -0.3804, -0.3804, -0.3804],\n",
       "          [-0.3882, -0.3882, -0.3882,  ..., -0.3804, -0.3804, -0.3804],\n",
       "          [-0.3882, -0.3882, -0.3882,  ..., -0.3804, -0.3804, -0.3804]],\n",
       "\n",
       "         [[-0.1373, -0.1373, -0.1373,  ..., -0.1608, -0.1608, -0.1608],\n",
       "          [-0.1373, -0.1373, -0.1373,  ..., -0.1608, -0.1608, -0.1608],\n",
       "          [-0.1373, -0.1373, -0.1373,  ..., -0.1608, -0.1608, -0.1608],\n",
       "          ...,\n",
       "          [-0.1294, -0.1294, -0.1294,  ..., -0.1451, -0.1451, -0.1451],\n",
       "          [-0.1294, -0.1294, -0.1294,  ..., -0.1451, -0.1451, -0.1451],\n",
       "          [-0.1294, -0.1294, -0.1294,  ..., -0.1451, -0.1451, -0.1451]],\n",
       "\n",
       "         [[ 0.1922,  0.1922,  0.1922,  ...,  0.1529,  0.1529,  0.1529],\n",
       "          [ 0.1922,  0.1922,  0.1922,  ...,  0.1529,  0.1529,  0.1529],\n",
       "          [ 0.1922,  0.1922,  0.1922,  ...,  0.1529,  0.1529,  0.1529],\n",
       "          ...,\n",
       "          [ 0.1922,  0.1922,  0.1922,  ...,  0.1765,  0.1765,  0.1765],\n",
       "          [ 0.1922,  0.1922,  0.1922,  ...,  0.1765,  0.1765,  0.1765],\n",
       "          [ 0.1922,  0.1922,  0.1922,  ...,  0.1765,  0.1765,  0.1765]]],\n",
       "\n",
       "\n",
       "        [[[ 0.0353,  0.0353,  0.0353,  ..., -0.0745, -0.0745, -0.0745],\n",
       "          [ 0.0353,  0.0353,  0.0353,  ..., -0.0745, -0.0745, -0.0745],\n",
       "          [ 0.0353,  0.0353,  0.0353,  ..., -0.0745, -0.0745, -0.0745],\n",
       "          ...,\n",
       "          [-0.5529, -0.5529, -0.5529,  ..., -0.1922, -0.1922, -0.1922],\n",
       "          [-0.5529, -0.5529, -0.5529,  ..., -0.1922, -0.1922, -0.1922],\n",
       "          [-0.5529, -0.5529, -0.5529,  ..., -0.1922, -0.1922, -0.1922]],\n",
       "\n",
       "         [[-0.8667, -0.8667, -0.8667,  ..., -0.8275, -0.8275, -0.8275],\n",
       "          [-0.8667, -0.8667, -0.8667,  ..., -0.8275, -0.8275, -0.8275],\n",
       "          [-0.8667, -0.8667, -0.8667,  ..., -0.8275, -0.8275, -0.8275],\n",
       "          ...,\n",
       "          [-0.6863, -0.6863, -0.6863,  ..., -0.3176, -0.3176, -0.3176],\n",
       "          [-0.6863, -0.6863, -0.6863,  ..., -0.3176, -0.3176, -0.3176],\n",
       "          [-0.6863, -0.6863, -0.6863,  ..., -0.3176, -0.3176, -0.3176]],\n",
       "\n",
       "         [[-0.9686, -0.9686, -0.9686,  ..., -0.9843, -0.9843, -0.9843],\n",
       "          [-0.9686, -0.9686, -0.9686,  ..., -0.9843, -0.9843, -0.9843],\n",
       "          [-0.9686, -0.9686, -0.9686,  ..., -0.9843, -0.9843, -0.9843],\n",
       "          ...,\n",
       "          [-0.7098, -0.7098, -0.7098,  ..., -0.3725, -0.3725, -0.3725],\n",
       "          [-0.7098, -0.7098, -0.7098,  ..., -0.3725, -0.3725, -0.3725],\n",
       "          [-0.7098, -0.7098, -0.7098,  ..., -0.3725, -0.3725, -0.3725]]]]), 'label': [0, 1]}"
      ]
     },
     "execution_count": 10,
     "metadata": {},
     "output_type": "execute_result"
    }
   ],
   "source": [
    "# transformはdatasetのitemがsliceされた分まとまって呼ばれる(Trainerからは1個づつ呼ばれる)\n",
    "# 例)\n",
    "#  item1 = {key-A:value-A-1, key-B:value-B-1, ...}, item2 = {key-A:value-A-2, key-B:value-B-2, ...}, \n",
    "#   => slice_items = {key-A: [value-A-1, value-A-2, ...], key-B: [value-B-1, value-B-2...]} \n",
    "def transform_func(slice_items):\n",
    "    inputs = feature_extractor([x for x in slice_items[image_name]], return_tensors='pt')\n",
    "    inputs[label_name] = slice_items[label_name]\n",
    "    return inputs\n",
    "\n",
    "transformed_dataset_train = dataset_train.with_transform(transform_func)\n",
    "transformed_dataset_val = dataset_val.with_transform(transform_func)\n",
    "transformed_dataset_test = dataset_test.with_transform(transform_func)\n",
    "transformed_dataset_train[0:2]"
   ]
  },
  {
   "cell_type": "code",
   "execution_count": 11,
   "metadata": {},
   "outputs": [],
   "source": [
    "import numpy as np\n",
    "import evaluate\n",
    "\n",
    "# collateはbatchサイズ分まとまって呼ばれるので tensorに変換して返す\n",
    "# feature_extractorもここで処理すれば 前述の transform_funcは不要になる（はず）\n",
    "def collate_func(batch):\n",
    "    return {\n",
    "        'pixel_values': torch.stack([x['pixel_values'] for x in batch]),\n",
    "        'labels': torch.tensor([x[label_name] for x in batch])\n",
    "    }\n",
    "\n",
    "accuracy_metric = evaluate.load('accuracy')\n",
    "\n",
    "def metrics_func(p):\n",
    "    return accuracy_metric.compute(predictions=np.argmax(p.predictions, axis=1), references=p.label_ids)"
   ]
  },
  {
   "cell_type": "code",
   "execution_count": 12,
   "metadata": {},
   "outputs": [
    {
     "name": "stderr",
     "output_type": "stream",
     "text": [
      "Some weights of the model checkpoint at google/vit-base-patch16-224-in21k were not used when initializing ViTForImageClassification: ['pooler.dense.weight', 'pooler.dense.bias']\n",
      "- This IS expected if you are initializing ViTForImageClassification from the checkpoint of a model trained on another task or with another architecture (e.g. initializing a BertForSequenceClassification model from a BertForPreTraining model).\n",
      "- This IS NOT expected if you are initializing ViTForImageClassification from the checkpoint of a model that you expect to be exactly identical (initializing a BertForSequenceClassification model from a BertForSequenceClassification model).\n",
      "Some weights of ViTForImageClassification were not initialized from the model checkpoint at google/vit-base-patch16-224-in21k and are newly initialized: ['classifier.bias', 'classifier.weight']\n",
      "You should probably TRAIN this model on a down-stream task to be able to use it for predictions and inference.\n"
     ]
    }
   ],
   "source": [
    "model = ViTForImageClassification.from_pretrained(model_name, num_labels=len(id2label), id2label=id2label, label2id=label2id)\n",
    "#, ignore_mismatched_sizes=True)"
   ]
  },
  {
   "attachments": {},
   "cell_type": "markdown",
   "metadata": {},
   "source": [
    "### Train"
   ]
  },
  {
   "cell_type": "code",
   "execution_count": 13,
   "metadata": {},
   "outputs": [
    {
     "name": "stderr",
     "output_type": "stream",
     "text": [
      "Using cuda_amp half precision backend\n"
     ]
    }
   ],
   "source": [
    "from transformers import TrainingArguments, Trainer\n",
    "\n",
    "\n",
    "training_args = TrainingArguments(\n",
    "    output_dir=\"./vit-base-finetuning-test\",\n",
    "    per_device_eval_batch_size=16,\n",
    "    evaluation_strategy=\"steps\",\n",
    "    num_train_epochs=4,\n",
    "    fp16=True,\n",
    "    save_steps=100,\n",
    "    eval_steps=100,\n",
    "    logging_steps=10,\n",
    "    learning_rate=2e-4,\n",
    "    save_total_limit=2,\n",
    "    remove_unused_columns=False,\n",
    "    push_to_hub=False,\n",
    "    report_to=\"tensorboard\",\n",
    "    load_best_model_at_end=True\n",
    ")\n",
    "\n",
    "trainer = Trainer(\n",
    "    model=model,\n",
    "    args=training_args,\n",
    "    data_collator=collate_func,\n",
    "    compute_metrics=metrics_func,\n",
    "    train_dataset=transformed_dataset_train,\n",
    "    eval_dataset=transformed_dataset_val,\n",
    "    tokenizer=feature_extractor\n",
    ")"
   ]
  },
  {
   "cell_type": "code",
   "execution_count": null,
   "metadata": {},
   "outputs": [],
   "source": [
    "train_results = trainer.train()\n",
    "trainer.save_model()\n",
    "trainer.log_metrics('train', train_results.metrics)\n",
    "trainer.save_metrics('train', train_results.metrics)\n",
    "trainer.save_state()"
   ]
  },
  {
   "attachments": {},
   "cell_type": "markdown",
   "metadata": {},
   "source": [
    "### Evaluate"
   ]
  },
  {
   "cell_type": "code",
   "execution_count": null,
   "metadata": {},
   "outputs": [],
   "source": [
    "metrics_val = trainer.evaluate(transformed_dataset_val)\n",
    "trainer.log_metrics('eval', metrics_val)\n",
    "trainer.save_metrics('eval', metrics_val)\n",
    "\n",
    "metrics_test = trainer.evaluate(transformed_dataset_test)\n",
    "trainer.log_metrics('test', metrics_test)\n",
    "trainer.save_metrics('test', metrics_test)"
   ]
  },
  {
   "cell_type": "code",
   "execution_count": 16,
   "metadata": {},
   "outputs": [
    {
     "data": {
      "image/png": "[encoded data removed]",
      "text/plain": [
       "<PIL.PngImagePlugin.PngImageFile image mode=RGB size=32x32>"
      ]
     },
     "metadata": {},
     "output_type": "display_data"
    },
    {
     "name": "stdout",
     "output_type": "stream",
     "text": [
      "torch.Size([1, 3, 224, 224])\n",
      "torch.Size([1, 10])\n",
      "Predicted class :  deer\n",
      "Actual class :  deer\n"
     ]
    }
   ],
   "source": [
    "idx = 100\n",
    "display(dataset_test[idx][image_name])\n",
    "inputs = processor(images=dataset_test[idx][image_name], return_tensors=\"pt\").to(device)\n",
    "pixel_values = inputs.pixel_values\n",
    "print(pixel_values.shape)\n",
    "with torch.no_grad():\n",
    "    outputs = model(pixel_values)\n",
    "logits = outputs.logits\n",
    "print(logits.shape)\n",
    "prediction = logits.argmax(-1)\n",
    "print(\"Predicted class : \", model.config.id2label[prediction.item()])\n",
    "print(\"Actual class : \", model.config.id2label[dataset_test[idx][label_name]])"
   ]
  },
  {
   "cell_type": "code",
   "execution_count": 17,
   "metadata": {},
   "outputs": [
    {
     "data": {
      "text/html": [
       "<div>\n",
       "<style scoped>\n",
       "    .dataframe tbody tr th:only-of-type {\n",
       "        vertical-align: middle;\n",
       "    }\n",
       "\n",
       "    .dataframe tbody tr th {\n",
       "        vertical-align: top;\n",
       "    }\n",
       "\n",
       "    .dataframe thead th {\n",
       "        text-align: right;\n",
       "    }\n",
       "</style>\n",
       "<table border=\"1\" class=\"dataframe\">\n",
       "  <thead>\n",
       "    <tr style=\"text-align: right;\">\n",
       "      <th></th>\n",
       "      <th>label</th>\n",
       "      <th>accuracy</th>\n",
       "      <th>OK</th>\n",
       "      <th>NG</th>\n",
       "      <th>TOTAL</th>\n",
       "    </tr>\n",
       "  </thead>\n",
       "  <tbody>\n",
       "    <tr>\n",
       "      <th>0</th>\n",
       "      <td>cat</td>\n",
       "      <td>0.894472</td>\n",
       "      <td>178</td>\n",
       "      <td>21</td>\n",
       "      <td>199</td>\n",
       "    </tr>\n",
       "    <tr>\n",
       "      <th>1</th>\n",
       "      <td>ship</td>\n",
       "      <td>0.990783</td>\n",
       "      <td>215</td>\n",
       "      <td>2</td>\n",
       "      <td>217</td>\n",
       "    </tr>\n",
       "    <tr>\n",
       "      <th>2</th>\n",
       "      <td>airplane</td>\n",
       "      <td>0.969388</td>\n",
       "      <td>190</td>\n",
       "      <td>6</td>\n",
       "      <td>196</td>\n",
       "    </tr>\n",
       "    <tr>\n",
       "      <th>3</th>\n",
       "      <td>frog</td>\n",
       "      <td>0.958333</td>\n",
       "      <td>207</td>\n",
       "      <td>9</td>\n",
       "      <td>216</td>\n",
       "    </tr>\n",
       "    <tr>\n",
       "      <th>4</th>\n",
       "      <td>automobile</td>\n",
       "      <td>0.964646</td>\n",
       "      <td>191</td>\n",
       "      <td>7</td>\n",
       "      <td>198</td>\n",
       "    </tr>\n",
       "    <tr>\n",
       "      <th>5</th>\n",
       "      <td>truck</td>\n",
       "      <td>0.970443</td>\n",
       "      <td>197</td>\n",
       "      <td>6</td>\n",
       "      <td>203</td>\n",
       "    </tr>\n",
       "    <tr>\n",
       "      <th>6</th>\n",
       "      <td>dog</td>\n",
       "      <td>0.945946</td>\n",
       "      <td>175</td>\n",
       "      <td>10</td>\n",
       "      <td>185</td>\n",
       "    </tr>\n",
       "    <tr>\n",
       "      <th>7</th>\n",
       "      <td>horse</td>\n",
       "      <td>0.979275</td>\n",
       "      <td>189</td>\n",
       "      <td>4</td>\n",
       "      <td>193</td>\n",
       "    </tr>\n",
       "    <tr>\n",
       "      <th>8</th>\n",
       "      <td>deer</td>\n",
       "      <td>0.964646</td>\n",
       "      <td>191</td>\n",
       "      <td>7</td>\n",
       "      <td>198</td>\n",
       "    </tr>\n",
       "    <tr>\n",
       "      <th>9</th>\n",
       "      <td>bird</td>\n",
       "      <td>0.964103</td>\n",
       "      <td>188</td>\n",
       "      <td>7</td>\n",
       "      <td>195</td>\n",
       "    </tr>\n",
       "    <tr>\n",
       "      <th>10</th>\n",
       "      <td>all</td>\n",
       "      <td>0.960500</td>\n",
       "      <td>1921</td>\n",
       "      <td>79</td>\n",
       "      <td>2000</td>\n",
       "    </tr>\n",
       "  </tbody>\n",
       "</table>\n",
       "</div>"
      ],
      "text/plain": [
       "         label  accuracy    OK  NG  TOTAL\n",
       "0          cat  0.894472   178  21    199\n",
       "1         ship  0.990783   215   2    217\n",
       "2     airplane  0.969388   190   6    196\n",
       "3         frog  0.958333   207   9    216\n",
       "4   automobile  0.964646   191   7    198\n",
       "5        truck  0.970443   197   6    203\n",
       "6          dog  0.945946   175  10    185\n",
       "7        horse  0.979275   189   4    193\n",
       "8         deer  0.964646   191   7    198\n",
       "9         bird  0.964103   188   7    195\n",
       "10         all  0.960500  1921  79   2000"
      ]
     },
     "execution_count": 17,
     "metadata": {},
     "output_type": "execute_result"
    }
   ],
   "source": [
    "import pandas as pd\n",
    "\n",
    "result = {'OK': 0, 'NG': 0}\n",
    "result2 = {}\n",
    "for idx in range(len(dataset_test)):\n",
    "    inputs = processor(images=dataset_test[idx][image_name], return_tensors=\"pt\").to(device)\n",
    "    pixel_values = inputs.pixel_values\n",
    "    with torch.no_grad():\n",
    "        outputs = model(pixel_values)\n",
    "    logits = outputs.logits\n",
    "    prediction = logits.argmax(-1)\n",
    "    true_label = dataset_test[idx][label_name]\n",
    "    key = 'OK' if prediction.item() == true_label else 'NG'\n",
    "    result[key] = result[key] + 1\n",
    "    \n",
    "    result_per_label = result2.setdefault(id2label[true_label], {})\n",
    "    result_per_label[key] = result_per_label.setdefault(key, 0) + 1\n",
    "\n",
    "result_data = {'label': [], 'accuracy': [], 'OK': [], 'NG': [], 'TOTAL': []}\n",
    "for k, v in result2.items():\n",
    "    ok = v.get('OK', 0)\n",
    "    ng = v.get('NG', 0)\n",
    "    result_data['label'].append(k)\n",
    "    result_data['accuracy'].append(ok/(ok+ng))\n",
    "    result_data['OK'].append(ok)\n",
    "    result_data['NG'].append(ng)\n",
    "    result_data['TOTAL'].append(ok+ng)\n",
    "\n",
    "total = result['OK'] + result['NG']\n",
    "result_data['label'].append('all')\n",
    "result_data['accuracy'].append(result['OK']/(total))\n",
    "result_data['OK'].append(result['OK'])\n",
    "result_data['NG'].append(result['NG'])\n",
    "result_data['TOTAL'].append(total)\n",
    "\n",
    "df_accuracy = pd.DataFrame(result_data)\n",
    "df_accuracy"
   ]
  },
  {
   "cell_type": "code",
   "execution_count": 40,
   "metadata": {},
   "outputs": [
    {
     "data": {
      "text/html": [
       "<div>\n",
       "<style scoped>\n",
       "    .dataframe tbody tr th:only-of-type {\n",
       "        vertical-align: middle;\n",
       "    }\n",
       "\n",
       "    .dataframe tbody tr th {\n",
       "        vertical-align: top;\n",
       "    }\n",
       "\n",
       "    .dataframe thead th {\n",
       "        text-align: right;\n",
       "    }\n",
       "</style>\n",
       "<table border=\"1\" class=\"dataframe\">\n",
       "  <thead>\n",
       "    <tr style=\"text-align: right;\">\n",
       "      <th></th>\n",
       "      <th>loss</th>\n",
       "      <th>learning_rate</th>\n",
       "      <th>epoch</th>\n",
       "      <th>step</th>\n",
       "    </tr>\n",
       "  </thead>\n",
       "  <tbody>\n",
       "    <tr>\n",
       "      <th>0</th>\n",
       "      <td>2.1232</td>\n",
       "      <td>0.000200</td>\n",
       "      <td>0.01</td>\n",
       "      <td>10</td>\n",
       "    </tr>\n",
       "    <tr>\n",
       "      <th>1</th>\n",
       "      <td>1.8882</td>\n",
       "      <td>0.000199</td>\n",
       "      <td>0.02</td>\n",
       "      <td>20</td>\n",
       "    </tr>\n",
       "    <tr>\n",
       "      <th>2</th>\n",
       "      <td>1.5310</td>\n",
       "      <td>0.000199</td>\n",
       "      <td>0.02</td>\n",
       "      <td>30</td>\n",
       "    </tr>\n",
       "    <tr>\n",
       "      <th>3</th>\n",
       "      <td>1.1406</td>\n",
       "      <td>0.000198</td>\n",
       "      <td>0.03</td>\n",
       "      <td>40</td>\n",
       "    </tr>\n",
       "    <tr>\n",
       "      <th>4</th>\n",
       "      <td>0.9781</td>\n",
       "      <td>0.000198</td>\n",
       "      <td>0.04</td>\n",
       "      <td>50</td>\n",
       "    </tr>\n",
       "    <tr>\n",
       "      <th>5</th>\n",
       "      <td>0.7938</td>\n",
       "      <td>0.000198</td>\n",
       "      <td>0.05</td>\n",
       "      <td>60</td>\n",
       "    </tr>\n",
       "    <tr>\n",
       "      <th>6</th>\n",
       "      <td>0.7169</td>\n",
       "      <td>0.000197</td>\n",
       "      <td>0.06</td>\n",
       "      <td>70</td>\n",
       "    </tr>\n",
       "    <tr>\n",
       "      <th>7</th>\n",
       "      <td>0.8274</td>\n",
       "      <td>0.000197</td>\n",
       "      <td>0.06</td>\n",
       "      <td>80</td>\n",
       "    </tr>\n",
       "    <tr>\n",
       "      <th>8</th>\n",
       "      <td>0.6704</td>\n",
       "      <td>0.000196</td>\n",
       "      <td>0.07</td>\n",
       "      <td>90</td>\n",
       "    </tr>\n",
       "    <tr>\n",
       "      <th>9</th>\n",
       "      <td>0.7292</td>\n",
       "      <td>0.000196</td>\n",
       "      <td>0.08</td>\n",
       "      <td>100</td>\n",
       "    </tr>\n",
       "  </tbody>\n",
       "</table>\n",
       "</div>"
      ],
      "text/plain": [
       "     loss  learning_rate  epoch  step\n",
       "0  2.1232       0.000200   0.01    10\n",
       "1  1.8882       0.000199   0.02    20\n",
       "2  1.5310       0.000199   0.02    30\n",
       "3  1.1406       0.000198   0.03    40\n",
       "4  0.9781       0.000198   0.04    50\n",
       "5  0.7938       0.000198   0.05    60\n",
       "6  0.7169       0.000197   0.06    70\n",
       "7  0.8274       0.000197   0.06    80\n",
       "8  0.6704       0.000196   0.07    90\n",
       "9  0.7292       0.000196   0.08   100"
      ]
     },
     "metadata": {},
     "output_type": "display_data"
    },
    {
     "data": {
      "text/html": [
       "<div>\n",
       "<style scoped>\n",
       "    .dataframe tbody tr th:only-of-type {\n",
       "        vertical-align: middle;\n",
       "    }\n",
       "\n",
       "    .dataframe tbody tr th {\n",
       "        vertical-align: top;\n",
       "    }\n",
       "\n",
       "    .dataframe thead th {\n",
       "        text-align: right;\n",
       "    }\n",
       "</style>\n",
       "<table border=\"1\" class=\"dataframe\">\n",
       "  <thead>\n",
       "    <tr style=\"text-align: right;\">\n",
       "      <th></th>\n",
       "      <th>epoch</th>\n",
       "      <th>step</th>\n",
       "      <th>eval_loss</th>\n",
       "      <th>eval_accuracy</th>\n",
       "      <th>eval_runtime</th>\n",
       "      <th>eval_samples_per_second</th>\n",
       "      <th>eval_steps_per_second</th>\n",
       "    </tr>\n",
       "  </thead>\n",
       "  <tbody>\n",
       "    <tr>\n",
       "      <th>0</th>\n",
       "      <td>0.08</td>\n",
       "      <td>100</td>\n",
       "      <td>0.612488</td>\n",
       "      <td>0.8625</td>\n",
       "      <td>8.5546</td>\n",
       "      <td>233.793</td>\n",
       "      <td>14.612</td>\n",
       "    </tr>\n",
       "    <tr>\n",
       "      <th>1</th>\n",
       "      <td>0.16</td>\n",
       "      <td>200</td>\n",
       "      <td>0.565239</td>\n",
       "      <td>0.8345</td>\n",
       "      <td>8.4662</td>\n",
       "      <td>236.233</td>\n",
       "      <td>14.765</td>\n",
       "    </tr>\n",
       "    <tr>\n",
       "      <th>2</th>\n",
       "      <td>0.24</td>\n",
       "      <td>300</td>\n",
       "      <td>0.410211</td>\n",
       "      <td>0.8780</td>\n",
       "      <td>8.2606</td>\n",
       "      <td>242.113</td>\n",
       "      <td>15.132</td>\n",
       "    </tr>\n",
       "    <tr>\n",
       "      <th>3</th>\n",
       "      <td>0.32</td>\n",
       "      <td>400</td>\n",
       "      <td>0.460396</td>\n",
       "      <td>0.8650</td>\n",
       "      <td>8.3720</td>\n",
       "      <td>238.891</td>\n",
       "      <td>14.931</td>\n",
       "    </tr>\n",
       "    <tr>\n",
       "      <th>4</th>\n",
       "      <td>0.40</td>\n",
       "      <td>500</td>\n",
       "      <td>0.391624</td>\n",
       "      <td>0.8835</td>\n",
       "      <td>8.3504</td>\n",
       "      <td>239.510</td>\n",
       "      <td>14.969</td>\n",
       "    </tr>\n",
       "    <tr>\n",
       "      <th>5</th>\n",
       "      <td>0.48</td>\n",
       "      <td>600</td>\n",
       "      <td>0.392214</td>\n",
       "      <td>0.8895</td>\n",
       "      <td>8.4258</td>\n",
       "      <td>237.367</td>\n",
       "      <td>14.835</td>\n",
       "    </tr>\n",
       "    <tr>\n",
       "      <th>6</th>\n",
       "      <td>0.56</td>\n",
       "      <td>700</td>\n",
       "      <td>0.384685</td>\n",
       "      <td>0.8880</td>\n",
       "      <td>8.3143</td>\n",
       "      <td>240.551</td>\n",
       "      <td>15.034</td>\n",
       "    </tr>\n",
       "    <tr>\n",
       "      <th>7</th>\n",
       "      <td>0.64</td>\n",
       "      <td>800</td>\n",
       "      <td>0.341089</td>\n",
       "      <td>0.8975</td>\n",
       "      <td>9.0188</td>\n",
       "      <td>221.759</td>\n",
       "      <td>13.860</td>\n",
       "    </tr>\n",
       "    <tr>\n",
       "      <th>8</th>\n",
       "      <td>0.72</td>\n",
       "      <td>900</td>\n",
       "      <td>0.411878</td>\n",
       "      <td>0.8750</td>\n",
       "      <td>8.1618</td>\n",
       "      <td>245.044</td>\n",
       "      <td>15.315</td>\n",
       "    </tr>\n",
       "    <tr>\n",
       "      <th>9</th>\n",
       "      <td>0.80</td>\n",
       "      <td>1000</td>\n",
       "      <td>0.270881</td>\n",
       "      <td>0.9205</td>\n",
       "      <td>8.0817</td>\n",
       "      <td>247.472</td>\n",
       "      <td>15.467</td>\n",
       "    </tr>\n",
       "  </tbody>\n",
       "</table>\n",
       "</div>"
      ],
      "text/plain": [
       "   epoch  step  eval_loss  eval_accuracy  eval_runtime  \\\n",
       "0   0.08   100   0.612488         0.8625        8.5546   \n",
       "1   0.16   200   0.565239         0.8345        8.4662   \n",
       "2   0.24   300   0.410211         0.8780        8.2606   \n",
       "3   0.32   400   0.460396         0.8650        8.3720   \n",
       "4   0.40   500   0.391624         0.8835        8.3504   \n",
       "5   0.48   600   0.392214         0.8895        8.4258   \n",
       "6   0.56   700   0.384685         0.8880        8.3143   \n",
       "7   0.64   800   0.341089         0.8975        9.0188   \n",
       "8   0.72   900   0.411878         0.8750        8.1618   \n",
       "9   0.80  1000   0.270881         0.9205        8.0817   \n",
       "\n",
       "   eval_samples_per_second  eval_steps_per_second  \n",
       "0                  233.793                 14.612  \n",
       "1                  236.233                 14.765  \n",
       "2                  242.113                 15.132  \n",
       "3                  238.891                 14.931  \n",
       "4                  239.510                 14.969  \n",
       "5                  237.367                 14.835  \n",
       "6                  240.551                 15.034  \n",
       "7                  221.759                 13.860  \n",
       "8                  245.044                 15.315  \n",
       "9                  247.472                 15.467  "
      ]
     },
     "metadata": {},
     "output_type": "display_data"
    }
   ],
   "source": [
    "import pandas as pd\n",
    "df_train_log_tmp = pd.DataFrame(trainer.state.log_history)\n",
    "df_train_log = df_train_log_tmp[df_train_log_tmp['eval_accuracy'].isnull()][['loss', 'learning_rate', 'epoch', 'step']].reset_index(drop=True)\n",
    "display(df_train_log.head(10))\n",
    "df_train_eval_log = df_train_log_tmp[~df_train_log_tmp['eval_accuracy'].isnull()][['epoch', 'step', 'eval_loss', 'eval_accuracy', 'eval_runtime', 'eval_samples_per_second', 'eval_steps_per_second']].reset_index(drop=True)\n",
    "display(df_train_eval_log.head(10))"
   ]
  },
  {
   "cell_type": "code",
   "execution_count": 44,
   "metadata": {},
   "outputs": [
    {
     "data": {
      "application/vnd.plotly.v1+json": {
       "config": {
        "plotlyServerURL": "https://plot.ly"
       },
       "data": [
        {
         "name": "train_loss",
         "type": "scatter",
         "x": [
          0.01,
          0.02,
          0.02,
          0.03,
          0.04,
          0.05,
          0.06,
          0.06,
          0.07,
          0.08,
          0.09,
          0.1,
          0.1,
          0.11,
          0.12,
          0.13,
          0.14,
          0.14,
          0.15,
          0.16,
          0.17,
          0.18,
          0.18,
          0.19,
          0.2,
          0.21,
          0.22,
          0.22,
          0.23,
          0.24,
          0.25,
          0.26,
          0.26,
          0.27,
          0.28,
          0.29,
          0.3,
          0.3,
          0.31,
          0.32,
          0.33,
          0.34,
          0.34,
          0.35,
          0.36,
          0.37,
          0.38,
          0.38,
          0.39,
          0.4,
          0.41,
          0.42,
          0.42,
          0.43,
          0.44,
          0.45,
          0.46,
          0.46,
          0.47,
          0.48,
          0.49,
          0.5,
          0.5,
          0.51,
          0.52,
          0.53,
          0.54,
          0.54,
          0.55,
          0.56,
          0.57,
          0.58,
          0.58,
          0.59,
          0.6,
          0.61,
          0.62,
          0.62,
          0.63,
          0.64,
          0.65,
          0.66,
          0.66,
          0.67,
          0.68,
          0.69,
          0.7,
          0.7,
          0.71,
          0.72,
          0.73,
          0.74,
          0.74,
          0.75,
          0.76,
          0.77,
          0.78,
          0.78,
          0.79,
          0.8,
          0.81,
          0.82,
          0.82,
          0.83,
          0.84,
          0.85,
          0.86,
          0.86,
          0.87,
          0.88,
          0.89,
          0.9,
          0.9,
          0.91,
          0.92,
          0.93,
          0.94,
          0.94,
          0.95,
          0.96,
          0.97,
          0.98,
          0.98,
          0.99,
          1,
          1.01,
          1.02,
          1.02,
          1.03,
          1.04,
          1.05,
          1.06,
          1.06,
          1.07,
          1.08,
          1.09,
          1.1,
          1.1,
          1.11,
          1.12,
          1.13,
          1.14,
          1.14,
          1.15,
          1.16,
          1.17,
          1.18,
          1.18,
          1.19,
          1.2,
          1.21,
          1.22,
          1.22,
          1.23,
          1.24,
          1.25,
          1.26,
          1.26,
          1.27,
          1.28,
          1.29,
          1.3,
          1.3,
          1.31,
          1.32,
          1.33,
          1.34,
          1.34,
          1.35,
          1.36,
          1.37,
          1.38,
          1.38,
          1.39,
          1.4,
          1.41,
          1.42,
          1.42,
          1.43,
          1.44,
          1.45,
          1.46,
          1.46,
          1.47,
          1.48,
          1.49,
          1.5,
          1.5,
          1.51,
          1.52,
          1.53,
          1.54,
          1.54,
          1.55,
          1.56,
          1.57,
          1.58,
          1.58,
          1.59,
          1.6,
          1.61,
          1.62,
          1.62,
          1.63,
          1.64,
          1.65,
          1.66,
          1.66,
          1.67,
          1.68,
          1.69,
          1.7,
          1.7,
          1.71,
          1.72,
          1.73,
          1.74,
          1.74,
          1.75,
          1.76,
          1.77,
          1.78,
          1.78,
          1.79,
          1.8,
          1.81,
          1.82,
          1.82,
          1.83,
          1.84,
          1.85,
          1.86,
          1.86,
          1.87,
          1.88,
          1.89,
          1.9,
          1.9,
          1.91,
          1.92,
          1.93,
          1.94,
          1.94,
          1.95,
          1.96,
          1.97,
          1.98,
          1.98,
          1.99,
          2,
          2.01,
          2.02,
          2.02,
          2.03,
          2.04,
          2.05,
          2.06,
          2.06,
          2.07,
          2.08,
          2.09,
          2.1,
          2.1,
          2.11,
          2.12,
          2.13,
          2.14,
          2.14,
          2.15,
          2.16,
          2.17,
          2.18,
          2.18,
          2.19,
          2.2,
          2.21,
          2.22,
          2.22,
          2.23,
          2.24,
          2.25,
          2.26,
          2.26,
          2.27,
          2.28,
          2.29,
          2.3,
          2.3,
          2.31,
          2.32,
          2.33,
          2.34,
          2.34,
          2.35,
          2.36,
          2.37,
          2.38,
          2.38,
          2.39,
          2.4,
          2.41,
          2.42,
          2.42,
          2.43,
          2.44,
          2.45,
          2.46,
          2.46,
          2.47,
          2.48,
          2.49,
          2.5,
          2.5,
          2.51,
          2.52,
          2.53,
          2.54,
          2.54,
          2.55,
          2.56,
          2.57,
          2.58,
          2.58,
          2.59,
          2.6,
          2.61,
          2.62,
          2.62,
          2.63,
          2.64,
          2.65,
          2.66,
          2.66,
          2.67,
          2.68,
          2.69,
          2.7,
          2.7,
          2.71,
          2.72,
          2.73,
          2.74,
          2.74,
          2.75,
          2.76,
          2.77,
          2.78,
          2.78,
          2.79,
          2.8,
          2.81,
          2.82,
          2.82,
          2.83,
          2.84,
          2.85,
          2.86,
          2.86,
          2.87,
          2.88,
          2.89,
          2.9,
          2.9,
          2.91,
          2.92,
          2.93,
          2.94,
          2.94,
          2.95,
          2.96,
          2.97,
          2.98,
          2.98,
          2.99,
          3,
          3.01,
          3.02,
          3.02,
          3.03,
          3.04,
          3.05,
          3.06,
          3.06,
          3.07,
          3.08,
          3.09,
          3.1,
          3.1,
          3.11,
          3.12,
          3.13,
          3.14,
          3.14,
          3.15,
          3.16,
          3.17,
          3.18,
          3.18,
          3.19,
          3.2,
          3.21,
          3.22,
          3.22,
          3.23,
          3.24,
          3.25,
          3.26,
          3.26,
          3.27,
          3.28,
          3.29,
          3.3,
          3.3,
          3.31,
          3.32,
          3.33,
          3.34,
          3.34,
          3.35,
          3.36,
          3.37,
          3.38,
          3.38,
          3.39,
          3.4,
          3.41,
          3.42,
          3.42,
          3.43,
          3.44,
          3.45,
          3.46,
          3.46,
          3.47,
          3.48,
          3.49,
          3.5,
          3.5,
          3.51,
          3.52,
          3.53,
          3.54,
          3.54,
          3.55,
          3.56,
          3.57,
          3.58,
          3.58,
          3.59,
          3.6,
          3.61,
          3.62,
          3.62,
          3.63,
          3.64,
          3.65,
          3.66,
          3.66,
          3.67,
          3.68,
          3.69,
          3.7,
          3.7,
          3.71,
          3.72,
          3.73,
          3.74,
          3.74,
          3.75,
          3.76,
          3.77,
          3.78,
          3.78,
          3.79,
          3.8,
          3.81,
          3.82,
          3.82,
          3.83,
          3.84,
          3.85,
          3.86,
          3.86,
          3.87,
          3.88,
          3.89,
          3.9,
          3.9,
          3.91,
          3.92,
          3.93,
          3.94,
          3.94,
          3.95,
          3.96,
          3.97,
          3.98,
          3.98,
          3.99,
          4,
          4
         ],
         "xaxis": "x",
         "y": [
          2.1232,
          1.8882,
          1.531,
          1.1406,
          0.9781,
          0.7938,
          0.7169,
          0.8274,
          0.6704,
          0.7292,
          0.6969,
          0.6988,
          0.434,
          0.8077,
          0.5305,
          0.6372,
          0.5813,
          0.3437,
          0.6187,
          0.5259,
          0.4799,
          0.3563,
          0.4941,
          0.4496,
          0.3229,
          0.5217,
          0.4537,
          0.5859,
          0.3726,
          0.4099,
          0.7444,
          0.411,
          0.7972,
          0.4886,
          0.3775,
          0.5246,
          0.4266,
          0.5156,
          0.5715,
          0.3643,
          0.6279,
          0.6496,
          0.5524,
          0.5645,
          0.3027,
          0.4301,
          0.3548,
          0.2614,
          0.353,
          0.4915,
          0.2147,
          0.807,
          0.5222,
          0.5438,
          0.3303,
          0.5878,
          0.3866,
          0.5112,
          0.3669,
          0.4861,
          0.3372,
          0.5062,
          0.3453,
          0.2981,
          0.529,
          0.6629,
          0.5883,
          0.6784,
          0.4106,
          0.4608,
          0.294,
          0.4416,
          0.5112,
          0.2221,
          0.545,
          0.5513,
          0.2054,
          0.4993,
          0.4839,
          0.4242,
          0.2785,
          0.3316,
          0.0655,
          0.3549,
          0.3528,
          0.2277,
          0.5738,
          0.6471,
          0.4671,
          0.3615,
          0.5548,
          0.2267,
          0.3841,
          0.3747,
          0.3785,
          0.5703,
          0.5348,
          0.3003,
          0.4848,
          0.2489,
          0.2669,
          0.3234,
          0.1299,
          0.5833,
          0.3862,
          0.3099,
          0.2513,
          0.2146,
          0.235,
          0.2975,
          0.3695,
          0.3602,
          0.2982,
          0.3361,
          0.318,
          0.4765,
          0.2018,
          0.1645,
          0.3519,
          0.2986,
          0.3713,
          0.254,
          0.2718,
          0.2107,
          0.2789,
          0.1639,
          0.3013,
          0.2251,
          0.2429,
          0.2154,
          0.2662,
          0.1792,
          0.2061,
          0.1691,
          0.2286,
          0.2086,
          0.1946,
          0.034,
          0.2275,
          0.1603,
          0.1993,
          0.1802,
          0.1409,
          0.2208,
          0.1877,
          0.1207,
          0.3201,
          0.0482,
          0.3383,
          0.3274,
          0.3874,
          0.1601,
          0.3119,
          0.083,
          0.3525,
          0.2954,
          0.0948,
          0.4831,
          0.1742,
          0.2369,
          0.0935,
          0.1065,
          0.3046,
          0.1335,
          0.2456,
          0.1038,
          0.2599,
          0.0933,
          0.1723,
          0.2013,
          0.3015,
          0.2033,
          0.3724,
          0.1523,
          0.1807,
          0.1784,
          0.1418,
          0.3616,
          0.081,
          0.0811,
          0.0162,
          0.1142,
          0.2515,
          0.0944,
          0.2621,
          0.2,
          0.2104,
          0.1568,
          0.116,
          0.122,
          0.234,
          0.0966,
          0.2003,
          0.0369,
          0.321,
          0.2743,
          0.255,
          0.2342,
          0.1871,
          0.188,
          0.1241,
          0.1709,
          0.1599,
          0.0983,
          0.3217,
          0.1347,
          0.2491,
          0.1836,
          0.376,
          0.2394,
          0.1821,
          0.034,
          0.2688,
          0.0751,
          0.1523,
          0.1468,
          0.1114,
          0.148,
          0.0621,
          0.0563,
          0.1403,
          0.2518,
          0.0877,
          0.0682,
          0.0325,
          0.1708,
          0.1913,
          0.2051,
          0.0193,
          0.1817,
          0.0944,
          0.2542,
          0.1774,
          0.2487,
          0.2939,
          0.1354,
          0.0119,
          0.2034,
          0.2022,
          0.1865,
          0.1859,
          0.4381,
          0.1304,
          0.2093,
          0.3321,
          0.2152,
          0.052,
          0.0923,
          0.23,
          0.0541,
          0.2154,
          0.1002,
          0.0072,
          0.0549,
          0.0515,
          0.1355,
          0.0055,
          0.0074,
          0.0803,
          0.0421,
          0.24,
          0.0154,
          0.1075,
          0.1088,
          0.0153,
          0.2012,
          0.0858,
          0.0542,
          0.0493,
          0.0971,
          0.0697,
          0.0965,
          0.0218,
          0.0406,
          0.0834,
          0.1353,
          0.0833,
          0.0447,
          0.0058,
          0.0059,
          0.0995,
          0.0047,
          0.0198,
          0.0149,
          0.0516,
          0.0456,
          0.0125,
          0.081,
          0.0741,
          0.0108,
          0.0058,
          0.0861,
          0.0982,
          0.0203,
          0.0027,
          0.0044,
          0.0113,
          0.1462,
          0.0228,
          0.0023,
          0.0162,
          0.0334,
          0.0026,
          0.047,
          0.0686,
          0.0134,
          0.0807,
          0.0844,
          0.2148,
          0.0042,
          0.0083,
          0.0787,
          0.0108,
          0.0873,
          0.1325,
          0.042,
          0.043,
          0.032,
          0.0133,
          0.0693,
          0.0175,
          0.1019,
          0.0043,
          0.1179,
          0.0643,
          0.0018,
          0.0018,
          0.0635,
          0.0092,
          0.1016,
          0.0017,
          0.0018,
          0.0667,
          0.0934,
          0.1013,
          0.2805,
          0.0293,
          0.0051,
          0.0359,
          0.0171,
          0.0178,
          0.0183,
          0.0035,
          0.0054,
          0.0025,
          0.029,
          0.1844,
          0.0118,
          0.0864,
          0.0022,
          0.1522,
          0.0895,
          0.0168,
          0.0013,
          0.0285,
          0.0019,
          0.0861,
          0.0869,
          0.06,
          0.0038,
          0.1065,
          0.0247,
          0.002,
          0.0026,
          0.0049,
          0.0295,
          0.0039,
          0.004,
          0.0584,
          0.0039,
          0.0013,
          0.0842,
          0.0014,
          0.0873,
          0.0046,
          0.0057,
          0.0016,
          0.0015,
          0.0078,
          0.0012,
          0.0053,
          0.0013,
          0.0015,
          0.0012,
          0.0125,
          0.0011,
          0.0041,
          0.0011,
          0.0101,
          0.0011,
          0.0012,
          0.0012,
          0.001,
          0.0011,
          0.0018,
          0.0479,
          0.0032,
          0.001,
          0.0083,
          0.0633,
          0.0009,
          0.001,
          0.0009,
          0.001,
          0.0075,
          0.0267,
          0.001,
          0.0013,
          0.0083,
          0.001,
          0.0012,
          0.0015,
          0.001,
          0.002,
          0.0012,
          0.0009,
          0.0196,
          0.0009,
          0.0008,
          0.0009,
          0.0009,
          0.001,
          0.0009,
          0.001,
          0.0073,
          0.0021,
          0.0009,
          0.001,
          0.0029,
          0.0009,
          0.0009,
          0.0014,
          0.0008,
          0.0128,
          0.001,
          0.0009,
          0.001,
          0.0008,
          0.001,
          0.0054,
          0.014,
          0.0113,
          0.0047,
          0.0008,
          0.0011,
          0.0008,
          0.0008,
          0.0008,
          0.0007,
          0.0615,
          0.0012,
          0.009,
          0.0011,
          0.001,
          0.001,
          0.0007,
          0.0088,
          0.0009,
          0.0184,
          0.0008,
          0.0037,
          0.0176,
          0.0008,
          0.0301,
          0.0008,
          0.0008,
          0.0007,
          0.0008,
          0.0024,
          0.0008,
          0.037,
          0.0008,
          0.0014,
          0.0008,
          0.0008,
          0.0529,
          0.0008,
          0.0407,
          0.001,
          0.0099,
          0.0038,
          0.0011,
          0.0007,
          0.0011,
          0.0008,
          0.0008,
          0.0007,
          0.0007,
          0.0374,
          0.0007,
          0.0008,
          0.0008,
          0.0012,
          0.0007,
          0.001,
          0.0007,
          0.0008,
          0.0008,
          0.0007,
          0.0008,
          null
         ],
         "yaxis": "y"
        },
        {
         "name": "accuracy",
         "type": "scatter",
         "x": [
          0.01,
          0.02,
          0.02,
          0.03,
          0.04,
          0.05,
          0.06,
          0.06,
          0.07,
          0.08,
          0.09,
          0.1,
          0.1,
          0.11,
          0.12,
          0.13,
          0.14,
          0.14,
          0.15,
          0.16,
          0.17,
          0.18,
          0.18,
          0.19,
          0.2,
          0.21,
          0.22,
          0.22,
          0.23,
          0.24,
          0.25,
          0.26,
          0.26,
          0.27,
          0.28,
          0.29,
          0.3,
          0.3,
          0.31,
          0.32,
          0.33,
          0.34,
          0.34,
          0.35,
          0.36,
          0.37,
          0.38,
          0.38,
          0.39,
          0.4,
          0.41,
          0.42,
          0.42,
          0.43,
          0.44,
          0.45,
          0.46,
          0.46,
          0.47,
          0.48,
          0.49,
          0.5,
          0.5,
          0.51,
          0.52,
          0.53,
          0.54,
          0.54,
          0.55,
          0.56,
          0.57,
          0.58,
          0.58,
          0.59,
          0.6,
          0.61,
          0.62,
          0.62,
          0.63,
          0.64,
          0.65,
          0.66,
          0.66,
          0.67,
          0.68,
          0.69,
          0.7,
          0.7,
          0.71,
          0.72,
          0.73,
          0.74,
          0.74,
          0.75,
          0.76,
          0.77,
          0.78,
          0.78,
          0.79,
          0.8,
          0.81,
          0.82,
          0.82,
          0.83,
          0.84,
          0.85,
          0.86,
          0.86,
          0.87,
          0.88,
          0.89,
          0.9,
          0.9,
          0.91,
          0.92,
          0.93,
          0.94,
          0.94,
          0.95,
          0.96,
          0.97,
          0.98,
          0.98,
          0.99,
          1,
          1.01,
          1.02,
          1.02,
          1.03,
          1.04,
          1.05,
          1.06,
          1.06,
          1.07,
          1.08,
          1.09,
          1.1,
          1.1,
          1.11,
          1.12,
          1.13,
          1.14,
          1.14,
          1.15,
          1.16,
          1.17,
          1.18,
          1.18,
          1.19,
          1.2,
          1.21,
          1.22,
          1.22,
          1.23,
          1.24,
          1.25,
          1.26,
          1.26,
          1.27,
          1.28,
          1.29,
          1.3,
          1.3,
          1.31,
          1.32,
          1.33,
          1.34,
          1.34,
          1.35,
          1.36,
          1.37,
          1.38,
          1.38,
          1.39,
          1.4,
          1.41,
          1.42,
          1.42,
          1.43,
          1.44,
          1.45,
          1.46,
          1.46,
          1.47,
          1.48,
          1.49,
          1.5,
          1.5,
          1.51,
          1.52,
          1.53,
          1.54,
          1.54,
          1.55,
          1.56,
          1.57,
          1.58,
          1.58,
          1.59,
          1.6,
          1.61,
          1.62,
          1.62,
          1.63,
          1.64,
          1.65,
          1.66,
          1.66,
          1.67,
          1.68,
          1.69,
          1.7,
          1.7,
          1.71,
          1.72,
          1.73,
          1.74,
          1.74,
          1.75,
          1.76,
          1.77,
          1.78,
          1.78,
          1.79,
          1.8,
          1.81,
          1.82,
          1.82,
          1.83,
          1.84,
          1.85,
          1.86,
          1.86,
          1.87,
          1.88,
          1.89,
          1.9,
          1.9,
          1.91,
          1.92,
          1.93,
          1.94,
          1.94,
          1.95,
          1.96,
          1.97,
          1.98,
          1.98,
          1.99,
          2,
          2.01,
          2.02,
          2.02,
          2.03,
          2.04,
          2.05,
          2.06,
          2.06,
          2.07,
          2.08,
          2.09,
          2.1,
          2.1,
          2.11,
          2.12,
          2.13,
          2.14,
          2.14,
          2.15,
          2.16,
          2.17,
          2.18,
          2.18,
          2.19,
          2.2,
          2.21,
          2.22,
          2.22,
          2.23,
          2.24,
          2.25,
          2.26,
          2.26,
          2.27,
          2.28,
          2.29,
          2.3,
          2.3,
          2.31,
          2.32,
          2.33,
          2.34,
          2.34,
          2.35,
          2.36,
          2.37,
          2.38,
          2.38,
          2.39,
          2.4,
          2.41,
          2.42,
          2.42,
          2.43,
          2.44,
          2.45,
          2.46,
          2.46,
          2.47,
          2.48,
          2.49,
          2.5,
          2.5,
          2.51,
          2.52,
          2.53,
          2.54,
          2.54,
          2.55,
          2.56,
          2.57,
          2.58,
          2.58,
          2.59,
          2.6,
          2.61,
          2.62,
          2.62,
          2.63,
          2.64,
          2.65,
          2.66,
          2.66,
          2.67,
          2.68,
          2.69,
          2.7,
          2.7,
          2.71,
          2.72,
          2.73,
          2.74,
          2.74,
          2.75,
          2.76,
          2.77,
          2.78,
          2.78,
          2.79,
          2.8,
          2.81,
          2.82,
          2.82,
          2.83,
          2.84,
          2.85,
          2.86,
          2.86,
          2.87,
          2.88,
          2.89,
          2.9,
          2.9,
          2.91,
          2.92,
          2.93,
          2.94,
          2.94,
          2.95,
          2.96,
          2.97,
          2.98,
          2.98,
          2.99,
          3,
          3.01,
          3.02,
          3.02,
          3.03,
          3.04,
          3.05,
          3.06,
          3.06,
          3.07,
          3.08,
          3.09,
          3.1,
          3.1,
          3.11,
          3.12,
          3.13,
          3.14,
          3.14,
          3.15,
          3.16,
          3.17,
          3.18,
          3.18,
          3.19,
          3.2,
          3.21,
          3.22,
          3.22,
          3.23,
          3.24,
          3.25,
          3.26,
          3.26,
          3.27,
          3.28,
          3.29,
          3.3,
          3.3,
          3.31,
          3.32,
          3.33,
          3.34,
          3.34,
          3.35,
          3.36,
          3.37,
          3.38,
          3.38,
          3.39,
          3.4,
          3.41,
          3.42,
          3.42,
          3.43,
          3.44,
          3.45,
          3.46,
          3.46,
          3.47,
          3.48,
          3.49,
          3.5,
          3.5,
          3.51,
          3.52,
          3.53,
          3.54,
          3.54,
          3.55,
          3.56,
          3.57,
          3.58,
          3.58,
          3.59,
          3.6,
          3.61,
          3.62,
          3.62,
          3.63,
          3.64,
          3.65,
          3.66,
          3.66,
          3.67,
          3.68,
          3.69,
          3.7,
          3.7,
          3.71,
          3.72,
          3.73,
          3.74,
          3.74,
          3.75,
          3.76,
          3.77,
          3.78,
          3.78,
          3.79,
          3.8,
          3.81,
          3.82,
          3.82,
          3.83,
          3.84,
          3.85,
          3.86,
          3.86,
          3.87,
          3.88,
          3.89,
          3.9,
          3.9,
          3.91,
          3.92,
          3.93,
          3.94,
          3.94,
          3.95,
          3.96,
          3.97,
          3.98,
          3.98,
          3.99,
          4,
          4
         ],
         "xaxis": "x2",
         "y": [
          0.0001996,
          0.00019920000000000002,
          0.0001988,
          0.0001984,
          0.00019800000000000002,
          0.0001976,
          0.0001972,
          0.0001968,
          0.0001964,
          0.000196,
          0.0001956,
          0.0001952,
          0.0001948,
          0.0001944,
          0.00019404,
          0.00019364,
          0.00019323999999999999,
          0.00019284,
          0.00019244000000000002,
          0.00019204,
          0.00019164000000000003,
          0.00019124000000000002,
          0.00019084,
          0.00019044000000000003,
          0.00019004000000000002,
          0.00018964,
          0.00018924000000000002,
          0.00018884000000000001,
          0.00018844,
          0.00018804000000000002,
          0.00018764,
          0.00018724,
          0.00018684000000000002,
          0.00018644,
          0.00018604,
          0.00018564000000000002,
          0.00018524,
          0.00018484000000000003,
          0.00018444000000000002,
          0.00018404,
          0.00018364000000000002,
          0.00018324000000000001,
          0.00018284,
          0.00018244000000000002,
          0.00018204,
          0.00018164,
          0.00018124000000000002,
          0.00018084,
          0.00018044,
          0.00018004000000000002,
          0.00017964,
          0.00017924,
          0.00017884000000000002,
          0.00017848,
          0.00017808,
          0.00017768,
          0.00017728,
          0.00017688,
          0.00017648,
          0.00017608,
          0.00017568,
          0.00017528,
          0.00017488,
          0.00017448,
          0.00017408,
          0.00017368,
          0.00017328,
          0.00017287999999999998,
          0.00017248000000000003,
          0.00017208000000000002,
          0.00017168,
          0.00017128000000000003,
          0.00017088000000000002,
          0.00017048,
          0.00017008000000000002,
          0.00016968000000000002,
          0.00016928,
          0.00016888000000000002,
          0.00016848,
          0.00016808,
          0.00016768000000000002,
          0.00016728,
          0.00016688,
          0.00016648000000000002,
          0.00016608,
          0.00016568000000000003,
          0.00016528000000000002,
          0.00016488,
          0.00016448000000000002,
          0.00016408000000000001,
          0.00016368,
          0.00016328000000000002,
          0.00016288,
          0.00016248,
          0.00016208000000000002,
          0.00016168,
          0.00016128,
          0.00016088000000000002,
          0.00016048,
          0.00016008,
          0.00015968000000000002,
          0.00015928,
          0.00015888,
          0.00015848000000000001,
          0.00015808,
          0.00015768,
          0.00015728,
          0.00015688,
          0.00015648,
          0.00015608,
          0.00015568,
          0.00015528,
          0.00015488,
          0.00015448,
          0.00015408000000000002,
          0.00015368,
          0.00015328,
          0.00015288,
          0.00015248,
          0.00015208,
          0.00015168,
          0.00015128,
          0.00015088,
          0.00015048,
          0.00015008,
          0.00014968,
          0.00014928,
          0.00014888,
          0.00014848,
          0.00014808,
          0.00014768,
          0.00014728,
          0.00014688000000000003,
          0.00014648000000000002,
          0.00014608,
          0.00014568000000000003,
          0.00014528000000000002,
          0.00014488,
          0.00014448000000000003,
          0.00014408000000000002,
          0.00014368,
          0.00014328000000000002,
          0.00014288000000000001,
          0.00014248,
          0.00014208000000000002,
          0.00014168,
          0.00014128,
          0.00014088000000000002,
          0.00014048,
          0.00014008,
          0.00013968000000000002,
          0.00013928,
          0.00013888,
          0.00013848000000000002,
          0.00013808,
          0.00013768,
          0.00013728000000000001,
          0.00013688,
          0.00013648,
          0.00013608,
          0.00013568,
          0.00013528000000000002,
          0.00013488,
          0.00013448,
          0.00013408000000000002,
          0.00013368,
          0.00013328,
          0.00013288000000000002,
          0.00013248,
          0.00013208,
          0.00013168,
          0.00013128,
          0.00013088,
          0.00013048,
          0.00013008,
          0.00012968,
          0.00012928,
          0.00012888,
          0.00012848,
          0.00012808,
          0.00012768,
          0.00012728,
          0.00012688,
          0.00012648,
          0.00012607999999999999,
          0.00012568,
          0.00012528,
          0.00012488,
          0.00012448,
          0.00012408,
          0.00012368,
          0.00012328,
          0.00012288,
          0.00012248,
          0.00012208000000000002,
          0.00012168000000000001,
          0.00012128000000000002,
          0.00012088000000000002,
          0.00012048000000000001,
          0.00012008000000000002,
          0.00011968000000000002,
          0.00011928000000000001,
          0.00011888000000000001,
          0.00011848000000000002,
          0.00011808000000000001,
          0.00011768000000000001,
          0.00011728000000000002,
          0.00011688,
          0.00011648000000000001,
          0.00011608000000000001,
          0.00011568000000000002,
          0.00011528000000000001,
          0.00011488000000000001,
          0.00011448000000000002,
          0.00011408,
          0.00011368000000000001,
          0.00011328000000000001,
          0.00011288,
          0.00011248000000000001,
          0.00011208000000000001,
          0.00011168,
          0.00011128,
          0.00011088000000000001,
          0.00011048,
          0.00011008,
          0.00010968000000000001,
          0.00010928000000000001,
          0.00010888,
          0.00010848,
          0.00010808000000000001,
          0.00010768,
          0.00010728,
          0.00010688,
          0.00010648,
          0.00010608,
          0.00010568,
          0.00010528,
          0.00010488,
          0.00010448,
          0.00010408,
          0.00010368,
          0.00010328,
          0.00010288,
          0.00010248,
          0.00010208,
          0.00010168,
          0.00010127999999999999,
          0.00010088,
          0.00010048,
          0.00010007999999999999,
          0.00009968000000000001,
          0.00009928000000000001,
          0.00009888,
          0.00009848,
          0.00009808000000000001,
          0.00009768,
          0.00009728,
          0.00009688000000000001,
          0.00009648,
          0.00009608,
          0.00009568,
          0.00009528000000000001,
          0.00009488,
          0.00009448,
          0.00009408000000000001,
          0.00009368,
          0.00009328,
          0.00009288,
          0.00009248,
          0.00009208,
          0.00009168,
          0.00009128,
          0.00009088000000000001,
          0.00009048000000000001,
          0.00009008,
          0.00008968000000000001,
          0.00008928000000000001,
          0.00008888,
          0.00008848,
          0.00008808000000000001,
          0.00008768,
          0.00008728,
          0.00008688000000000001,
          0.00008652,
          0.00008612,
          0.00008572,
          0.00008532,
          0.00008492,
          0.00008452,
          0.00008412,
          0.00008372,
          0.00008332000000000001,
          0.00008292000000000001,
          0.00008252,
          0.00008212,
          0.00008172000000000001,
          0.00008132,
          0.00008092,
          0.00008052000000000001,
          0.00008012000000000001,
          0.00007972,
          0.00007932,
          0.00007892000000000001,
          0.00007852,
          0.00007812,
          0.00007772000000000001,
          0.00007732,
          0.00007692,
          0.00007652,
          0.00007612,
          0.00007572,
          0.00007532,
          0.00007492000000000001,
          0.00007452,
          0.00007412,
          0.00007372,
          0.00007332,
          0.00007292,
          0.00007252,
          0.00007212,
          0.00007172,
          0.00007132,
          0.00007092,
          0.00007052000000000001,
          0.00007012000000000001,
          0.00006972,
          0.00006932000000000001,
          0.00006892000000000001,
          0.00006852,
          0.00006812,
          0.00006772000000000001,
          0.00006732,
          0.00006692,
          0.00006652000000000001,
          0.00006612000000000001,
          0.00006572,
          0.00006532,
          0.00006492000000000001,
          0.00006452,
          0.00006412,
          0.00006372,
          0.00006332,
          0.00006292,
          0.00006252,
          0.00006212,
          0.00006172,
          0.00006132,
          0.00006092,
          0.000060519999999999997,
          0.00006012,
          0.00005972,
          0.000059319999999999994,
          0.00005892,
          0.00005852000000000001,
          0.000058120000000000006,
          0.00005772000000000001,
          0.00005732000000000001,
          0.000056920000000000004,
          0.00005652000000000001,
          0.000056120000000000005,
          0.00005572000000000001,
          0.000055320000000000006,
          0.00005492,
          0.000054520000000000007,
          0.000054120000000000004,
          0.00005372,
          0.000053320000000000004,
          0.00005292,
          0.000052520000000000005,
          0.00005212,
          0.00005172,
          0.00005132,
          0.00005092,
          0.00005052,
          0.00005012,
          0.00004972,
          0.00004932,
          0.000048920000000000006,
          0.00004852,
          0.00004812000000000001,
          0.000047720000000000004,
          0.00004732,
          0.000046920000000000005,
          0.00004652,
          0.00004612,
          0.00004572,
          0.00004532,
          0.000044920000000000004,
          0.00004452,
          0.00004412,
          0.00004372,
          0.00004332,
          0.00004292,
          0.000042520000000000006,
          0.00004212,
          0.00004172,
          0.000041320000000000004,
          0.00004092,
          0.000040520000000000005,
          0.00004012,
          0.00003972,
          0.00003932,
          0.00003892,
          0.000038520000000000004,
          0.00003812,
          0.00003772,
          0.00003732,
          0.00003692,
          0.00003652,
          0.000036120000000000007,
          0.000035720000000000004,
          0.00003532,
          0.000034920000000000004,
          0.00003452,
          0.00003412,
          0.00003372,
          0.00003332,
          0.00003292,
          0.00003252,
          0.00003212,
          0.00003172,
          0.00003132,
          0.00003092,
          0.000030520000000000006,
          0.000030120000000000003,
          0.000029720000000000003,
          0.000029320000000000004,
          0.000028920000000000004,
          0.00002852,
          0.000028120000000000002,
          0.000027720000000000002,
          0.000027320000000000003,
          0.00002692,
          0.00002652,
          0.00002612,
          0.00002572,
          0.000025319999999999998,
          0.000024920000000000002,
          0.000024520000000000002,
          0.00002412,
          0.00002372,
          0.00002332,
          0.00002292,
          0.00002252,
          0.00002212,
          0.000021720000000000002,
          0.000021320000000000003,
          0.00002092,
          0.00002052,
          0.00002012,
          0.00001972,
          0.00001932,
          0.000018920000000000002,
          0.000018520000000000002,
          0.00001812,
          0.00001772,
          0.00001732,
          0.00001692,
          0.00001652,
          0.00001612,
          0.000015720000000000002,
          0.000015320000000000002,
          0.000014920000000000001,
          0.00001452,
          0.00001412,
          0.000013719999999999999,
          0.000013320000000000001,
          0.000012920000000000002,
          0.00001252,
          0.000012120000000000001,
          0.00001172,
          0.00001132,
          0.00001092,
          0.000010520000000000001,
          0.00001012,
          0.00000972,
          0.00000932,
          0.000008920000000000001,
          0.00000852,
          0.00000812,
          0.00000772,
          0.00000732,
          0.00000692,
          0.000006519999999999999,
          0.00000612,
          0.00000572,
          0.00000532,
          0.00000492,
          0.00000452,
          0.00000412,
          0.00000372,
          0.0000033200000000000004,
          0.00000292,
          0.00000252,
          0.00000212,
          0.00000172,
          0.00000132,
          9.2e-7,
          5.2e-7,
          1.2e-7,
          null
         ],
         "yaxis": "y2"
        }
       ],
       "layout": {
        "annotations": [
         {
          "font": {
           "size": 16
          },
          "showarrow": false,
          "text": "train loss",
          "x": 0.225,
          "xanchor": "center",
          "xref": "paper",
          "y": 1,
          "yanchor": "bottom",
          "yref": "paper"
         },
         {
          "font": {
           "size": 16
          },
          "showarrow": false,
          "text": "learning rate",
          "x": 0.775,
          "xanchor": "center",
          "xref": "paper",
          "y": 1,
          "yanchor": "bottom",
          "yref": "paper"
         }
        ],
        "template": {
         "data": {
          "bar": [
           {
            "error_x": {
             "color": "#2a3f5f"
            },
            "error_y": {
             "color": "#2a3f5f"
            },
            "marker": {
             "line": {
              "color": "#E5ECF6",
              "width": 0.5
             },
             "pattern": {
              "fillmode": "overlay",
              "size": 10,
              "solidity": 0.2
             }
            },
            "type": "bar"
           }
          ],
          "barpolar": [
           {
            "marker": {
             "line": {
              "color": "#E5ECF6",
              "width": 0.5
             },
             "pattern": {
              "fillmode": "overlay",
              "size": 10,
              "solidity": 0.2
             }
            },
            "type": "barpolar"
           }
          ],
          "carpet": [
           {
            "aaxis": {
             "endlinecolor": "#2a3f5f",
             "gridcolor": "white",
             "linecolor": "white",
             "minorgridcolor": "white",
             "startlinecolor": "#2a3f5f"
            },
            "baxis": {
             "endlinecolor": "#2a3f5f",
             "gridcolor": "white",
             "linecolor": "white",
             "minorgridcolor": "white",
             "startlinecolor": "#2a3f5f"
            },
            "type": "carpet"
           }
          ],
          "choropleth": [
           {
            "colorbar": {
             "outlinewidth": 0,
             "ticks": ""
            },
            "type": "choropleth"
           }
          ],
          "contour": [
           {
            "colorbar": {
             "outlinewidth": 0,
             "ticks": ""
            },
            "colorscale": [
             [
              0,
              "#0d0887"
             ],
             [
              0.1111111111111111,
              "#46039f"
             ],
             [
              0.2222222222222222,
              "#7201a8"
             ],
             [
              0.3333333333333333,
              "#9c179e"
             ],
             [
              0.4444444444444444,
              "#bd3786"
             ],
             [
              0.5555555555555556,
              "#d8576b"
             ],
             [
              0.6666666666666666,
              "#ed7953"
             ],
             [
              0.7777777777777778,
              "#fb9f3a"
             ],
             [
              0.8888888888888888,
              "#fdca26"
             ],
             [
              1,
              "#f0f921"
             ]
            ],
            "type": "contour"
           }
          ],
          "contourcarpet": [
           {
            "colorbar": {
             "outlinewidth": 0,
             "ticks": ""
            },
            "type": "contourcarpet"
           }
          ],
          "heatmap": [
           {
            "colorbar": {
             "outlinewidth": 0,
             "ticks": ""
            },
            "colorscale": [
             [
              0,
              "#0d0887"
             ],
             [
              0.1111111111111111,
              "#46039f"
             ],
             [
              0.2222222222222222,
              "#7201a8"
             ],
             [
              0.3333333333333333,
              "#9c179e"
             ],
             [
              0.4444444444444444,
              "#bd3786"
             ],
             [
              0.5555555555555556,
              "#d8576b"
             ],
             [
              0.6666666666666666,
              "#ed7953"
             ],
             [
              0.7777777777777778,
              "#fb9f3a"
             ],
             [
              0.8888888888888888,
              "#fdca26"
             ],
             [
              1,
              "#f0f921"
             ]
            ],
            "type": "heatmap"
           }
          ],
          "heatmapgl": [
           {
            "colorbar": {
             "outlinewidth": 0,
             "ticks": ""
            },
            "colorscale": [
             [
              0,
              "#0d0887"
             ],
             [
              0.1111111111111111,
              "#46039f"
             ],
             [
              0.2222222222222222,
              "#7201a8"
             ],
             [
              0.3333333333333333,
              "#9c179e"
             ],
             [
              0.4444444444444444,
              "#bd3786"
             ],
             [
              0.5555555555555556,
              "#d8576b"
             ],
             [
              0.6666666666666666,
              "#ed7953"
             ],
             [
              0.7777777777777778,
              "#fb9f3a"
             ],
             [
              0.8888888888888888,
              "#fdca26"
             ],
             [
              1,
              "#f0f921"
             ]
            ],
            "type": "heatmapgl"
           }
          ],
          "histogram": [
           {
            "marker": {
             "pattern": {
              "fillmode": "overlay",
              "size": 10,
              "solidity": 0.2
             }
            },
            "type": "histogram"
           }
          ],
          "histogram2d": [
           {
            "colorbar": {
             "outlinewidth": 0,
             "ticks": ""
            },
            "colorscale": [
             [
              0,
              "#0d0887"
             ],
             [
              0.1111111111111111,
              "#46039f"
             ],
             [
              0.2222222222222222,
              "#7201a8"
             ],
             [
              0.3333333333333333,
              "#9c179e"
             ],
             [
              0.4444444444444444,
              "#bd3786"
             ],
             [
              0.5555555555555556,
              "#d8576b"
             ],
             [
              0.6666666666666666,
              "#ed7953"
             ],
             [
              0.7777777777777778,
              "#fb9f3a"
             ],
             [
              0.8888888888888888,
              "#fdca26"
             ],
             [
              1,
              "#f0f921"
             ]
            ],
            "type": "histogram2d"
           }
          ],
          "histogram2dcontour": [
           {
            "colorbar": {
             "outlinewidth": 0,
             "ticks": ""
            },
            "colorscale": [
             [
              0,
              "#0d0887"
             ],
             [
              0.1111111111111111,
              "#46039f"
             ],
             [
              0.2222222222222222,
              "#7201a8"
             ],
             [
              0.3333333333333333,
              "#9c179e"
             ],
             [
              0.4444444444444444,
              "#bd3786"
             ],
             [
              0.5555555555555556,
              "#d8576b"
             ],
             [
              0.6666666666666666,
              "#ed7953"
             ],
             [
              0.7777777777777778,
              "#fb9f3a"
             ],
             [
              0.8888888888888888,
              "#fdca26"
             ],
             [
              1,
              "#f0f921"
             ]
            ],
            "type": "histogram2dcontour"
           }
          ],
          "mesh3d": [
           {
            "colorbar": {
             "outlinewidth": 0,
             "ticks": ""
            },
            "type": "mesh3d"
           }
          ],
          "parcoords": [
           {
            "line": {
             "colorbar": {
              "outlinewidth": 0,
              "ticks": ""
             }
            },
            "type": "parcoords"
           }
          ],
          "pie": [
           {
            "automargin": true,
            "type": "pie"
           }
          ],
          "scatter": [
           {
            "fillpattern": {
             "fillmode": "overlay",
             "size": 10,
             "solidity": 0.2
            },
            "type": "scatter"
           }
          ],
          "scatter3d": [
           {
            "line": {
             "colorbar": {
              "outlinewidth": 0,
              "ticks": ""
             }
            },
            "marker": {
             "colorbar": {
              "outlinewidth": 0,
              "ticks": ""
             }
            },
            "type": "scatter3d"
           }
          ],
          "scattercarpet": [
           {
            "marker": {
             "colorbar": {
              "outlinewidth": 0,
              "ticks": ""
             }
            },
            "type": "scattercarpet"
           }
          ],
          "scattergeo": [
           {
            "marker": {
             "colorbar": {
              "outlinewidth": 0,
              "ticks": ""
             }
            },
            "type": "scattergeo"
           }
          ],
          "scattergl": [
           {
            "marker": {
             "colorbar": {
              "outlinewidth": 0,
              "ticks": ""
             }
            },
            "type": "scattergl"
           }
          ],
          "scattermapbox": [
           {
            "marker": {
             "colorbar": {
              "outlinewidth": 0,
              "ticks": ""
             }
            },
            "type": "scattermapbox"
           }
          ],
          "scatterpolar": [
           {
            "marker": {
             "colorbar": {
              "outlinewidth": 0,
              "ticks": ""
             }
            },
            "type": "scatterpolar"
           }
          ],
          "scatterpolargl": [
           {
            "marker": {
             "colorbar": {
              "outlinewidth": 0,
              "ticks": ""
             }
            },
            "type": "scatterpolargl"
           }
          ],
          "scatterternary": [
           {
            "marker": {
             "colorbar": {
              "outlinewidth": 0,
              "ticks": ""
             }
            },
            "type": "scatterternary"
           }
          ],
          "surface": [
           {
            "colorbar": {
             "outlinewidth": 0,
             "ticks": ""
            },
            "colorscale": [
             [
              0,
              "#0d0887"
             ],
             [
              0.1111111111111111,
              "#46039f"
             ],
             [
              0.2222222222222222,
              "#7201a8"
             ],
             [
              0.3333333333333333,
              "#9c179e"
             ],
             [
              0.4444444444444444,
              "#bd3786"
             ],
             [
              0.5555555555555556,
              "#d8576b"
             ],
             [
              0.6666666666666666,
              "#ed7953"
             ],
             [
              0.7777777777777778,
              "#fb9f3a"
             ],
             [
              0.8888888888888888,
              "#fdca26"
             ],
             [
              1,
              "#f0f921"
             ]
            ],
            "type": "surface"
           }
          ],
          "table": [
           {
            "cells": {
             "fill": {
              "color": "#EBF0F8"
             },
             "line": {
              "color": "white"
             }
            },
            "header": {
             "fill": {
              "color": "#C8D4E3"
             },
             "line": {
              "color": "white"
             }
            },
            "type": "table"
           }
          ]
         },
         "layout": {
          "annotationdefaults": {
           "arrowcolor": "#2a3f5f",
           "arrowhead": 0,
           "arrowwidth": 1
          },
          "autotypenumbers": "strict",
          "coloraxis": {
           "colorbar": {
            "outlinewidth": 0,
            "ticks": ""
           }
          },
          "colorscale": {
           "diverging": [
            [
             0,
             "#8e0152"
            ],
            [
             0.1,
             "#c51b7d"
            ],
            [
             0.2,
             "#de77ae"
            ],
            [
             0.3,
             "#f1b6da"
            ],
            [
             0.4,
             "#fde0ef"
            ],
            [
             0.5,
             "#f7f7f7"
            ],
            [
             0.6,
             "#e6f5d0"
            ],
            [
             0.7,
             "#b8e186"
            ],
            [
             0.8,
             "#7fbc41"
            ],
            [
             0.9,
             "#4d9221"
            ],
            [
             1,
             "#276419"
            ]
           ],
           "sequential": [
            [
             0,
             "#0d0887"
            ],
            [
             0.1111111111111111,
             "#46039f"
            ],
            [
             0.2222222222222222,
             "#7201a8"
            ],
            [
             0.3333333333333333,
             "#9c179e"
            ],
            [
             0.4444444444444444,
             "#bd3786"
            ],
            [
             0.5555555555555556,
             "#d8576b"
            ],
            [
             0.6666666666666666,
             "#ed7953"
            ],
            [
             0.7777777777777778,
             "#fb9f3a"
            ],
            [
             0.8888888888888888,
             "#fdca26"
            ],
            [
             1,
             "#f0f921"
            ]
           ],
           "sequentialminus": [
            [
             0,
             "#0d0887"
            ],
            [
             0.1111111111111111,
             "#46039f"
            ],
            [
             0.2222222222222222,
             "#7201a8"
            ],
            [
             0.3333333333333333,
             "#9c179e"
            ],
            [
             0.4444444444444444,
             "#bd3786"
            ],
            [
             0.5555555555555556,
             "#d8576b"
            ],
            [
             0.6666666666666666,
             "#ed7953"
            ],
            [
             0.7777777777777778,
             "#fb9f3a"
            ],
            [
             0.8888888888888888,
             "#fdca26"
            ],
            [
             1,
             "#f0f921"
            ]
           ]
          },
          "colorway": [
           "#636efa",
           "#EF553B",
           "#00cc96",
           "#ab63fa",
           "#FFA15A",
           "#19d3f3",
           "#FF6692",
           "#B6E880",
           "#FF97FF",
           "#FECB52"
          ],
          "font": {
           "color": "#2a3f5f"
          },
          "geo": {
           "bgcolor": "white",
           "lakecolor": "white",
           "landcolor": "#E5ECF6",
           "showlakes": true,
           "showland": true,
           "subunitcolor": "white"
          },
          "hoverlabel": {
           "align": "left"
          },
          "hovermode": "closest",
          "mapbox": {
           "style": "light"
          },
          "paper_bgcolor": "white",
          "plot_bgcolor": "#E5ECF6",
          "polar": {
           "angularaxis": {
            "gridcolor": "white",
            "linecolor": "white",
            "ticks": ""
           },
           "bgcolor": "#E5ECF6",
           "radialaxis": {
            "gridcolor": "white",
            "linecolor": "white",
            "ticks": ""
           }
          },
          "scene": {
           "xaxis": {
            "backgroundcolor": "#E5ECF6",
            "gridcolor": "white",
            "gridwidth": 2,
            "linecolor": "white",
            "showbackground": true,
            "ticks": "",
            "zerolinecolor": "white"
           },
           "yaxis": {
            "backgroundcolor": "#E5ECF6",
            "gridcolor": "white",
            "gridwidth": 2,
            "linecolor": "white",
            "showbackground": true,
            "ticks": "",
            "zerolinecolor": "white"
           },
           "zaxis": {
            "backgroundcolor": "#E5ECF6",
            "gridcolor": "white",
            "gridwidth": 2,
            "linecolor": "white",
            "showbackground": true,
            "ticks": "",
            "zerolinecolor": "white"
           }
          },
          "shapedefaults": {
           "line": {
            "color": "#2a3f5f"
           }
          },
          "ternary": {
           "aaxis": {
            "gridcolor": "white",
            "linecolor": "white",
            "ticks": ""
           },
           "baxis": {
            "gridcolor": "white",
            "linecolor": "white",
            "ticks": ""
           },
           "bgcolor": "#E5ECF6",
           "caxis": {
            "gridcolor": "white",
            "linecolor": "white",
            "ticks": ""
           }
          },
          "title": {
           "x": 0.05
          },
          "xaxis": {
           "automargin": true,
           "gridcolor": "white",
           "linecolor": "white",
           "ticks": "",
           "title": {
            "standoff": 15
           },
           "zerolinecolor": "white",
           "zerolinewidth": 2
          },
          "yaxis": {
           "automargin": true,
           "gridcolor": "white",
           "linecolor": "white",
           "ticks": "",
           "title": {
            "standoff": 15
           },
           "zerolinecolor": "white",
           "zerolinewidth": 2
          }
         }
        },
        "xaxis": {
         "anchor": "y",
         "domain": [
          0,
          0.45
         ],
         "title": {
          "text": "epoch"
         }
        },
        "xaxis2": {
         "anchor": "y2",
         "domain": [
          0.55,
          1
         ],
         "title": {
          "text": "epoch"
         }
        },
        "yaxis": {
         "anchor": "x",
         "domain": [
          0,
          1
         ],
         "title": {
          "text": "accuracy"
         }
        },
        "yaxis2": {
         "anchor": "x2",
         "domain": [
          0,
          1
         ]
        }
       }
      }
     },
     "metadata": {},
     "output_type": "display_data"
    }
   ],
   "source": [
    "import plotly.graph_objects as go\n",
    "from plotly.subplots import make_subplots\n",
    "\n",
    "fig = make_subplots(rows=1, cols=2, subplot_titles=['train loss', 'learning rate'])\n",
    "\n",
    "fig.add_trace(go.Scatter(x=df_train_log['epoch'], y=df_train_log['loss'], name='train_loss'), row=1, col=1)\n",
    "fig.update_xaxes(title=\"epoch\", row=1, col=1)\n",
    "fig.update_yaxes(title=\"loss\", row=1, col=1)\n",
    "fig.add_trace(go.Scatter(x=df_train_log['epoch'], y=df_train_log['learning_rate'], name='accuracy'), row=1, col=2)\n",
    "fig.update_xaxes(title=\"epoch\", row=1, col=2)\n",
    "fig.update_yaxes(title=\"accuracy\", row=1, col=1)\n",
    "fig.show()"
   ]
  },
  {
   "cell_type": "code",
   "execution_count": 43,
   "metadata": {},
   "outputs": [
    {
     "data": {
      "application/vnd.plotly.v1+json": {
       "config": {
        "plotlyServerURL": "https://plot.ly"
       },
       "data": [
        {
         "name": "train_loss",
         "type": "scatter",
         "x": [
          0.08,
          0.16,
          0.24,
          0.32,
          0.4,
          0.48,
          0.56,
          0.64,
          0.72,
          0.8,
          0.88,
          0.96,
          1.04,
          1.12,
          1.2,
          1.28,
          1.36,
          1.44,
          1.52,
          1.6,
          1.68,
          1.76,
          1.84,
          1.92,
          2,
          2.08,
          2.16,
          2.24,
          2.32,
          2.4,
          2.48,
          2.56,
          2.64,
          2.72,
          2.8,
          2.88,
          2.96,
          3.04,
          3.12,
          3.2,
          3.28,
          3.36,
          3.44,
          3.52,
          3.6,
          3.68,
          3.76,
          3.84,
          3.92,
          4,
          4,
          4
         ],
         "xaxis": "x",
         "y": [
          0.6124878525733948,
          0.5652391314506531,
          0.41021081805229187,
          0.4603962004184723,
          0.391623854637146,
          0.3922136723995209,
          0.38468486070632935,
          0.3410891592502594,
          0.4118782877922058,
          0.27088072896003723,
          0.39658716320991516,
          0.34711840748786926,
          0.33414945006370544,
          0.3574184477329254,
          0.45138806104660034,
          0.33619123697280884,
          0.344542533159256,
          0.2852943241596222,
          0.25585052371025085,
          0.3027532994747162,
          0.28322264552116394,
          0.3264366090297699,
          0.3887541592121124,
          0.2699824273586273,
          0.2648172080516815,
          0.29150688648223877,
          0.2558836042881012,
          0.2356724888086319,
          0.20786993205547333,
          0.22363002598285675,
          0.2410803586244583,
          0.2785800099372864,
          0.24062445759773254,
          0.20084534585475922,
          0.21129852533340454,
          0.1757725477218628,
          0.16263310611248016,
          0.17060400545597076,
          0.17929892241954803,
          0.1566106230020523,
          0.17892175912857056,
          0.1648973673582077,
          0.15968511998653412,
          0.16582660377025604,
          0.16883739829063416,
          0.16447527706623077,
          0.16647540032863617,
          0.1613975167274475,
          0.1578325778245926,
          0.1566387265920639,
          0.1566106230020523,
          0.19852019846439362
         ],
         "yaxis": "y"
        },
        {
         "name": "accuracy",
         "type": "scatter",
         "x": [
          0.08,
          0.16,
          0.24,
          0.32,
          0.4,
          0.48,
          0.56,
          0.64,
          0.72,
          0.8,
          0.88,
          0.96,
          1.04,
          1.12,
          1.2,
          1.28,
          1.36,
          1.44,
          1.52,
          1.6,
          1.68,
          1.76,
          1.84,
          1.92,
          2,
          2.08,
          2.16,
          2.24,
          2.32,
          2.4,
          2.48,
          2.56,
          2.64,
          2.72,
          2.8,
          2.88,
          2.96,
          3.04,
          3.12,
          3.2,
          3.28,
          3.36,
          3.44,
          3.52,
          3.6,
          3.68,
          3.76,
          3.84,
          3.92,
          4,
          4,
          4
         ],
         "xaxis": "x2",
         "y": [
          0.8625,
          0.8345,
          0.878,
          0.865,
          0.8835,
          0.8895,
          0.888,
          0.8975,
          0.875,
          0.9205,
          0.894,
          0.8965,
          0.9025,
          0.906,
          0.8865,
          0.906,
          0.9125,
          0.92,
          0.927,
          0.9185,
          0.922,
          0.918,
          0.905,
          0.938,
          0.929,
          0.93,
          0.9365,
          0.942,
          0.9505,
          0.948,
          0.9465,
          0.9365,
          0.948,
          0.955,
          0.954,
          0.9585,
          0.965,
          0.963,
          0.965,
          0.967,
          0.958,
          0.966,
          0.9655,
          0.9635,
          0.962,
          0.965,
          0.9635,
          0.9655,
          0.9655,
          0.966,
          0.967,
          0.9605
         ],
         "yaxis": "y2"
        }
       ],
       "layout": {
        "annotations": [
         {
          "font": {
           "size": 16
          },
          "showarrow": false,
          "text": "Eval loss",
          "x": 0.225,
          "xanchor": "center",
          "xref": "paper",
          "y": 1,
          "yanchor": "bottom",
          "yref": "paper"
         },
         {
          "font": {
           "size": 16
          },
          "showarrow": false,
          "text": "Eval accuracy",
          "x": 0.775,
          "xanchor": "center",
          "xref": "paper",
          "y": 1,
          "yanchor": "bottom",
          "yref": "paper"
         }
        ],
        "template": {
         "data": {
          "bar": [
           {
            "error_x": {
             "color": "#2a3f5f"
            },
            "error_y": {
             "color": "#2a3f5f"
            },
            "marker": {
             "line": {
              "color": "#E5ECF6",
              "width": 0.5
             },
             "pattern": {
              "fillmode": "overlay",
              "size": 10,
              "solidity": 0.2
             }
            },
            "type": "bar"
           }
          ],
          "barpolar": [
           {
            "marker": {
             "line": {
              "color": "#E5ECF6",
              "width": 0.5
             },
             "pattern": {
              "fillmode": "overlay",
              "size": 10,
              "solidity": 0.2
             }
            },
            "type": "barpolar"
           }
          ],
          "carpet": [
           {
            "aaxis": {
             "endlinecolor": "#2a3f5f",
             "gridcolor": "white",
             "linecolor": "white",
             "minorgridcolor": "white",
             "startlinecolor": "#2a3f5f"
            },
            "baxis": {
             "endlinecolor": "#2a3f5f",
             "gridcolor": "white",
             "linecolor": "white",
             "minorgridcolor": "white",
             "startlinecolor": "#2a3f5f"
            },
            "type": "carpet"
           }
          ],
          "choropleth": [
           {
            "colorbar": {
             "outlinewidth": 0,
             "ticks": ""
            },
            "type": "choropleth"
           }
          ],
          "contour": [
           {
            "colorbar": {
             "outlinewidth": 0,
             "ticks": ""
            },
            "colorscale": [
             [
              0,
              "#0d0887"
             ],
             [
              0.1111111111111111,
              "#46039f"
             ],
             [
              0.2222222222222222,
              "#7201a8"
             ],
             [
              0.3333333333333333,
              "#9c179e"
             ],
             [
              0.4444444444444444,
              "#bd3786"
             ],
             [
              0.5555555555555556,
              "#d8576b"
             ],
             [
              0.6666666666666666,
              "#ed7953"
             ],
             [
              0.7777777777777778,
              "#fb9f3a"
             ],
             [
              0.8888888888888888,
              "#fdca26"
             ],
             [
              1,
              "#f0f921"
             ]
            ],
            "type": "contour"
           }
          ],
          "contourcarpet": [
           {
            "colorbar": {
             "outlinewidth": 0,
             "ticks": ""
            },
            "type": "contourcarpet"
           }
          ],
          "heatmap": [
           {
            "colorbar": {
             "outlinewidth": 0,
             "ticks": ""
            },
            "colorscale": [
             [
              0,
              "#0d0887"
             ],
             [
              0.1111111111111111,
              "#46039f"
             ],
             [
              0.2222222222222222,
              "#7201a8"
             ],
             [
              0.3333333333333333,
              "#9c179e"
             ],
             [
              0.4444444444444444,
              "#bd3786"
             ],
             [
              0.5555555555555556,
              "#d8576b"
             ],
             [
              0.6666666666666666,
              "#ed7953"
             ],
             [
              0.7777777777777778,
              "#fb9f3a"
             ],
             [
              0.8888888888888888,
              "#fdca26"
             ],
             [
              1,
              "#f0f921"
             ]
            ],
            "type": "heatmap"
           }
          ],
          "heatmapgl": [
           {
            "colorbar": {
             "outlinewidth": 0,
             "ticks": ""
            },
            "colorscale": [
             [
              0,
              "#0d0887"
             ],
             [
              0.1111111111111111,
              "#46039f"
             ],
             [
              0.2222222222222222,
              "#7201a8"
             ],
             [
              0.3333333333333333,
              "#9c179e"
             ],
             [
              0.4444444444444444,
              "#bd3786"
             ],
             [
              0.5555555555555556,
              "#d8576b"
             ],
             [
              0.6666666666666666,
              "#ed7953"
             ],
             [
              0.7777777777777778,
              "#fb9f3a"
             ],
             [
              0.8888888888888888,
              "#fdca26"
             ],
             [
              1,
              "#f0f921"
             ]
            ],
            "type": "heatmapgl"
           }
          ],
          "histogram": [
           {
            "marker": {
             "pattern": {
              "fillmode": "overlay",
              "size": 10,
              "solidity": 0.2
             }
            },
            "type": "histogram"
           }
          ],
          "histogram2d": [
           {
            "colorbar": {
             "outlinewidth": 0,
             "ticks": ""
            },
            "colorscale": [
             [
              0,
              "#0d0887"
             ],
             [
              0.1111111111111111,
              "#46039f"
             ],
             [
              0.2222222222222222,
              "#7201a8"
             ],
             [
              0.3333333333333333,
              "#9c179e"
             ],
             [
              0.4444444444444444,
              "#bd3786"
             ],
             [
              0.5555555555555556,
              "#d8576b"
             ],
             [
              0.6666666666666666,
              "#ed7953"
             ],
             [
              0.7777777777777778,
              "#fb9f3a"
             ],
             [
              0.8888888888888888,
              "#fdca26"
             ],
             [
              1,
              "#f0f921"
             ]
            ],
            "type": "histogram2d"
           }
          ],
          "histogram2dcontour": [
           {
            "colorbar": {
             "outlinewidth": 0,
             "ticks": ""
            },
            "colorscale": [
             [
              0,
              "#0d0887"
             ],
             [
              0.1111111111111111,
              "#46039f"
             ],
             [
              0.2222222222222222,
              "#7201a8"
             ],
             [
              0.3333333333333333,
              "#9c179e"
             ],
             [
              0.4444444444444444,
              "#bd3786"
             ],
             [
              0.5555555555555556,
              "#d8576b"
             ],
             [
              0.6666666666666666,
              "#ed7953"
             ],
             [
              0.7777777777777778,
              "#fb9f3a"
             ],
             [
              0.8888888888888888,
              "#fdca26"
             ],
             [
              1,
              "#f0f921"
             ]
            ],
            "type": "histogram2dcontour"
           }
          ],
          "mesh3d": [
           {
            "colorbar": {
             "outlinewidth": 0,
             "ticks": ""
            },
            "type": "mesh3d"
           }
          ],
          "parcoords": [
           {
            "line": {
             "colorbar": {
              "outlinewidth": 0,
              "ticks": ""
             }
            },
            "type": "parcoords"
           }
          ],
          "pie": [
           {
            "automargin": true,
            "type": "pie"
           }
          ],
          "scatter": [
           {
            "fillpattern": {
             "fillmode": "overlay",
             "size": 10,
             "solidity": 0.2
            },
            "type": "scatter"
           }
          ],
          "scatter3d": [
           {
            "line": {
             "colorbar": {
              "outlinewidth": 0,
              "ticks": ""
             }
            },
            "marker": {
             "colorbar": {
              "outlinewidth": 0,
              "ticks": ""
             }
            },
            "type": "scatter3d"
           }
          ],
          "scattercarpet": [
           {
            "marker": {
             "colorbar": {
              "outlinewidth": 0,
              "ticks": ""
             }
            },
            "type": "scattercarpet"
           }
          ],
          "scattergeo": [
           {
            "marker": {
             "colorbar": {
              "outlinewidth": 0,
              "ticks": ""
             }
            },
            "type": "scattergeo"
           }
          ],
          "scattergl": [
           {
            "marker": {
             "colorbar": {
              "outlinewidth": 0,
              "ticks": ""
             }
            },
            "type": "scattergl"
           }
          ],
          "scattermapbox": [
           {
            "marker": {
             "colorbar": {
              "outlinewidth": 0,
              "ticks": ""
             }
            },
            "type": "scattermapbox"
           }
          ],
          "scatterpolar": [
           {
            "marker": {
             "colorbar": {
              "outlinewidth": 0,
              "ticks": ""
             }
            },
            "type": "scatterpolar"
           }
          ],
          "scatterpolargl": [
           {
            "marker": {
             "colorbar": {
              "outlinewidth": 0,
              "ticks": ""
             }
            },
            "type": "scatterpolargl"
           }
          ],
          "scatterternary": [
           {
            "marker": {
             "colorbar": {
              "outlinewidth": 0,
              "ticks": ""
             }
            },
            "type": "scatterternary"
           }
          ],
          "surface": [
           {
            "colorbar": {
             "outlinewidth": 0,
             "ticks": ""
            },
            "colorscale": [
             [
              0,
              "#0d0887"
             ],
             [
              0.1111111111111111,
              "#46039f"
             ],
             [
              0.2222222222222222,
              "#7201a8"
             ],
             [
              0.3333333333333333,
              "#9c179e"
             ],
             [
              0.4444444444444444,
              "#bd3786"
             ],
             [
              0.5555555555555556,
              "#d8576b"
             ],
             [
              0.6666666666666666,
              "#ed7953"
             ],
             [
              0.7777777777777778,
              "#fb9f3a"
             ],
             [
              0.8888888888888888,
              "#fdca26"
             ],
             [
              1,
              "#f0f921"
             ]
            ],
            "type": "surface"
           }
          ],
          "table": [
           {
            "cells": {
             "fill": {
              "color": "#EBF0F8"
             },
             "line": {
              "color": "white"
             }
            },
            "header": {
             "fill": {
              "color": "#C8D4E3"
             },
             "line": {
              "color": "white"
             }
            },
            "type": "table"
           }
          ]
         },
         "layout": {
          "annotationdefaults": {
           "arrowcolor": "#2a3f5f",
           "arrowhead": 0,
           "arrowwidth": 1
          },
          "autotypenumbers": "strict",
          "coloraxis": {
           "colorbar": {
            "outlinewidth": 0,
            "ticks": ""
           }
          },
          "colorscale": {
           "diverging": [
            [
             0,
             "#8e0152"
            ],
            [
             0.1,
             "#c51b7d"
            ],
            [
             0.2,
             "#de77ae"
            ],
            [
             0.3,
             "#f1b6da"
            ],
            [
             0.4,
             "#fde0ef"
            ],
            [
             0.5,
             "#f7f7f7"
            ],
            [
             0.6,
             "#e6f5d0"
            ],
            [
             0.7,
             "#b8e186"
            ],
            [
             0.8,
             "#7fbc41"
            ],
            [
             0.9,
             "#4d9221"
            ],
            [
             1,
             "#276419"
            ]
           ],
           "sequential": [
            [
             0,
             "#0d0887"
            ],
            [
             0.1111111111111111,
             "#46039f"
            ],
            [
             0.2222222222222222,
             "#7201a8"
            ],
            [
             0.3333333333333333,
             "#9c179e"
            ],
            [
             0.4444444444444444,
             "#bd3786"
            ],
            [
             0.5555555555555556,
             "#d8576b"
            ],
            [
             0.6666666666666666,
             "#ed7953"
            ],
            [
             0.7777777777777778,
             "#fb9f3a"
            ],
            [
             0.8888888888888888,
             "#fdca26"
            ],
            [
             1,
             "#f0f921"
            ]
           ],
           "sequentialminus": [
            [
             0,
             "#0d0887"
            ],
            [
             0.1111111111111111,
             "#46039f"
            ],
            [
             0.2222222222222222,
             "#7201a8"
            ],
            [
             0.3333333333333333,
             "#9c179e"
            ],
            [
             0.4444444444444444,
             "#bd3786"
            ],
            [
             0.5555555555555556,
             "#d8576b"
            ],
            [
             0.6666666666666666,
             "#ed7953"
            ],
            [
             0.7777777777777778,
             "#fb9f3a"
            ],
            [
             0.8888888888888888,
             "#fdca26"
            ],
            [
             1,
             "#f0f921"
            ]
           ]
          },
          "colorway": [
           "#636efa",
           "#EF553B",
           "#00cc96",
           "#ab63fa",
           "#FFA15A",
           "#19d3f3",
           "#FF6692",
           "#B6E880",
           "#FF97FF",
           "#FECB52"
          ],
          "font": {
           "color": "#2a3f5f"
          },
          "geo": {
           "bgcolor": "white",
           "lakecolor": "white",
           "landcolor": "#E5ECF6",
           "showlakes": true,
           "showland": true,
           "subunitcolor": "white"
          },
          "hoverlabel": {
           "align": "left"
          },
          "hovermode": "closest",
          "mapbox": {
           "style": "light"
          },
          "paper_bgcolor": "white",
          "plot_bgcolor": "#E5ECF6",
          "polar": {
           "angularaxis": {
            "gridcolor": "white",
            "linecolor": "white",
            "ticks": ""
           },
           "bgcolor": "#E5ECF6",
           "radialaxis": {
            "gridcolor": "white",
            "linecolor": "white",
            "ticks": ""
           }
          },
          "scene": {
           "xaxis": {
            "backgroundcolor": "#E5ECF6",
            "gridcolor": "white",
            "gridwidth": 2,
            "linecolor": "white",
            "showbackground": true,
            "ticks": "",
            "zerolinecolor": "white"
           },
           "yaxis": {
            "backgroundcolor": "#E5ECF6",
            "gridcolor": "white",
            "gridwidth": 2,
            "linecolor": "white",
            "showbackground": true,
            "ticks": "",
            "zerolinecolor": "white"
           },
           "zaxis": {
            "backgroundcolor": "#E5ECF6",
            "gridcolor": "white",
            "gridwidth": 2,
            "linecolor": "white",
            "showbackground": true,
            "ticks": "",
            "zerolinecolor": "white"
           }
          },
          "shapedefaults": {
           "line": {
            "color": "#2a3f5f"
           }
          },
          "ternary": {
           "aaxis": {
            "gridcolor": "white",
            "linecolor": "white",
            "ticks": ""
           },
           "baxis": {
            "gridcolor": "white",
            "linecolor": "white",
            "ticks": ""
           },
           "bgcolor": "#E5ECF6",
           "caxis": {
            "gridcolor": "white",
            "linecolor": "white",
            "ticks": ""
           }
          },
          "title": {
           "x": 0.05
          },
          "xaxis": {
           "automargin": true,
           "gridcolor": "white",
           "linecolor": "white",
           "ticks": "",
           "title": {
            "standoff": 15
           },
           "zerolinecolor": "white",
           "zerolinewidth": 2
          },
          "yaxis": {
           "automargin": true,
           "gridcolor": "white",
           "linecolor": "white",
           "ticks": "",
           "title": {
            "standoff": 15
           },
           "zerolinecolor": "white",
           "zerolinewidth": 2
          }
         }
        },
        "xaxis": {
         "anchor": "y",
         "domain": [
          0,
          0.45
         ],
         "title": {
          "text": "epoch"
         }
        },
        "xaxis2": {
         "anchor": "y2",
         "domain": [
          0.55,
          1
         ],
         "title": {
          "text": "epoch"
         }
        },
        "yaxis": {
         "anchor": "x",
         "domain": [
          0,
          1
         ],
         "title": {
          "text": "accuracy"
         }
        },
        "yaxis2": {
         "anchor": "x2",
         "domain": [
          0,
          1
         ]
        }
       }
      }
     },
     "metadata": {},
     "output_type": "display_data"
    }
   ],
   "source": [
    "fig = make_subplots(rows=1, cols=2, subplot_titles=['Eval loss', 'Eval accuracy'])\n",
    "\n",
    "fig.add_trace(go.Scatter(x=df_train_eval_log['epoch'], y=df_train_eval_log['eval_loss'], name='train_loss'), row=1, col=1)\n",
    "fig.update_xaxes(title=\"epoch\", row=1, col=1)\n",
    "fig.update_yaxes(title=\"loss\", row=1, col=1)\n",
    "fig.add_trace(go.Scatter(x=df_train_eval_log['epoch'], y=df_train_eval_log['eval_accuracy'], name='accuracy'), row=1, col=2)\n",
    "fig.update_xaxes(title=\"epoch\", row=1, col=2)\n",
    "fig.update_yaxes(title=\"accuracy\", row=1, col=1)\n",
    "fig.show()"
   ]
  },
  {
   "cell_type": "code",
   "execution_count": null,
   "metadata": {},
   "outputs": [],
   "source": []
  }
 ],
 "metadata": {
  "kernelspec": {
   "display_name": "Python 3",
   "language": "python",
   "name": "python3"
  },
  "language_info": {
   "codemirror_mode": {
    "name": "ipython",
    "version": 3
   },
   "file_extension": ".py",
   "mimetype": "text/x-python",
   "name": "python",
   "nbconvert_exporter": "python",
   "pygments_lexer": "ipython3",
   "version": "3.10.11"
  },
  "orig_nbformat": 4
 },
 "nbformat": 4,
 "nbformat_minor": 2
}
