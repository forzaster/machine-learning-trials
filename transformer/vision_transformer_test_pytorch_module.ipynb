{
 "cells": [
  {
   "attachments": {},
   "cell_type": "markdown",
   "metadata": {},
   "source": [
    "# Vision Transformer Hands-on by using huggingface libraries (pytorch for fine-tuning)\n",
    "\n",
    "Reference : https://huggingface.co/blog/fine-tune-vit"
   ]
  },
  {
   "attachments": {},
   "cell_type": "markdown",
   "metadata": {},
   "source": [
    "## Setup"
   ]
  },
  {
   "cell_type": "code",
   "execution_count": 1,
   "metadata": {},
   "outputs": [],
   "source": [
    "import torch\n",
    "from transformers import ViTForImageClassification, ViTImageProcessor, ViTFeatureExtractor, ViTModel\n",
    "\n",
    "import warnings\n",
    "warnings.filterwarnings('ignore')\n",
    "\n",
    "if torch.cuda.is_available():\n",
    "    torch.cuda.empty_cache()\n",
    "\n",
    "device = torch.device('cuda' if torch.cuda.is_available() else 'cpu')\n",
    "\n",
    "#model_name = 'google/vit-base-patch16-224'\n",
    "model_name = 'google/vit-base-patch16-224-in21k'"
   ]
  },
  {
   "attachments": {},
   "cell_type": "markdown",
   "metadata": {},
   "source": [
    "### Load data"
   ]
  },
  {
   "cell_type": "code",
   "execution_count": 2,
   "metadata": {},
   "outputs": [
    {
     "data": {
      "application/vnd.jupyter.widget-view+json": {
       "model_id": "42e588eb35ea4ba89896ad3dcf9d181b",
       "version_major": 2,
       "version_minor": 0
      },
      "text/plain": [
       "  0%|          | 0/2 [00:00<?, ?it/s]"
      ]
     },
     "metadata": {},
     "output_type": "display_data"
    },
    {
     "data": {
      "text/plain": [
       "DatasetDict({\n",
       "    train: Dataset({\n",
       "        features: ['img', 'label'],\n",
       "        num_rows: 50000\n",
       "    })\n",
       "    test: Dataset({\n",
       "        features: ['img', 'label'],\n",
       "        num_rows: 10000\n",
       "    })\n",
       "})"
      ]
     },
     "execution_count": 2,
     "metadata": {},
     "output_type": "execute_result"
    }
   ],
   "source": [
    "import datasets\n",
    "\n",
    "datasets.logging.set_verbosity(datasets.logging.ERROR)\n",
    "dataset = datasets.load_dataset('cifar10')\n",
    "#dataset = datasets.load_dataset('beans')\n",
    "dataset"
   ]
  },
  {
   "cell_type": "code",
   "execution_count": 3,
   "metadata": {},
   "outputs": [],
   "source": [
    "dataset_train_val = dataset['train'].train_test_split(0.2)\n",
    "#dataset_train = dataset_train_val['train'].select(range(5000))\n",
    "#dataset_val = dataset_train_val['test'].select(range(1000))\n",
    "#dataset_test = dataset['test'].select(range(1000))\n",
    "dataset_train = dataset_train_val['train']\n",
    "if len(dataset_train) > 10000:\n",
    "    dataset_train = dataset_train.select(range(10000))\n",
    "dataset_val = dataset_train_val['test']\n",
    "if len(dataset_val) > 2000:\n",
    "    dataset_val = dataset_val.select(range(2000))\n",
    "dataset_test = dataset['test']\n",
    "if len(dataset_test) > 2000:\n",
    "    dataset_test = dataset_test.select(range(2000))\n"
   ]
  },
  {
   "cell_type": "code",
   "execution_count": 4,
   "metadata": {},
   "outputs": [
    {
     "name": "stdout",
     "output_type": "stream",
     "text": [
      "dict_keys(['img', 'label'])\n",
      "Dataset({\n",
      "    features: ['img', 'label'],\n",
      "    num_rows: 10000\n",
      "})\n",
      "Dataset({\n",
      "    features: ['img', 'label'],\n",
      "    num_rows: 2000\n",
      "})\n",
      "Dataset({\n",
      "    features: ['img', 'label'],\n",
      "    num_rows: 2000\n",
      "})\n",
      "image_name = img, label_name = label\n"
     ]
    }
   ],
   "source": [
    "print(dataset_train.features.keys())\n",
    "image_name = 'image'\n",
    "label_name = 'labels'\n",
    "for k in dataset_train.features.keys():\n",
    "    if k == 'img':\n",
    "        image_name = k\n",
    "    if k == 'label':\n",
    "        label_name = k\n",
    "print(dataset_train)\n",
    "print(dataset_val)\n",
    "print(dataset_test)\n",
    "\n",
    "print(f'image_name = {image_name}, label_name = {label_name}')"
   ]
  },
  {
   "cell_type": "code",
   "execution_count": 5,
   "metadata": {},
   "outputs": [
    {
     "data": {
      "text/plain": [
       "{0: 'airplane',\n",
       " 1: 'automobile',\n",
       " 2: 'bird',\n",
       " 3: 'cat',\n",
       " 4: 'deer',\n",
       " 5: 'dog',\n",
       " 6: 'frog',\n",
       " 7: 'horse',\n",
       " 8: 'ship',\n",
       " 9: 'truck'}"
      ]
     },
     "execution_count": 5,
     "metadata": {},
     "output_type": "execute_result"
    }
   ],
   "source": [
    "id2label = {i: l for i, l in enumerate(dataset_train.features[label_name].names)}\n",
    "label2id = {l: i for i, l in id2label.items()}\n",
    "id2label"
   ]
  },
  {
   "attachments": {},
   "cell_type": "markdown",
   "metadata": {},
   "source": [
    "## Fine Tuning"
   ]
  },
  {
   "cell_type": "code",
   "execution_count": 6,
   "metadata": {},
   "outputs": [
    {
     "data": {
      "text/plain": [
       "ViTImageProcessor {\n",
       "  \"do_normalize\": true,\n",
       "  \"do_rescale\": true,\n",
       "  \"do_resize\": true,\n",
       "  \"image_mean\": [\n",
       "    0.5,\n",
       "    0.5,\n",
       "    0.5\n",
       "  ],\n",
       "  \"image_processor_type\": \"ViTImageProcessor\",\n",
       "  \"image_std\": [\n",
       "    0.5,\n",
       "    0.5,\n",
       "    0.5\n",
       "  ],\n",
       "  \"resample\": 2,\n",
       "  \"rescale_factor\": 0.00392156862745098,\n",
       "  \"size\": {\n",
       "    \"height\": 224,\n",
       "    \"width\": 224\n",
       "  }\n",
       "}"
      ]
     },
     "execution_count": 6,
     "metadata": {},
     "output_type": "execute_result"
    }
   ],
   "source": [
    "from transformers import ViTFeatureExtractor\n",
    "\n",
    "# ViTImageProcessorと実体は同じ (https://github.com/huggingface/transformers/blob/v4.28.1/src/transformers/models/vit/feature_extraction_vit.py)\n",
    "feature_extractor = ViTFeatureExtractor.from_pretrained(model_name)\n",
    "feature_extractor"
   ]
  },
  {
   "cell_type": "code",
   "execution_count": 7,
   "metadata": {},
   "outputs": [
    {
     "data": {
      "text/plain": [
       "{'pixel_values': tensor([[[[-0.2627, -0.2627, -0.2627,  ..., -0.4902, -0.4902, -0.4902],\n",
       "          [-0.2627, -0.2627, -0.2627,  ..., -0.4902, -0.4902, -0.4902],\n",
       "          [-0.2627, -0.2627, -0.2627,  ..., -0.4902, -0.4902, -0.4902],\n",
       "          ...,\n",
       "          [-0.5922, -0.5922, -0.5922,  ..., -0.4510, -0.4510, -0.4510],\n",
       "          [-0.5922, -0.5922, -0.5922,  ..., -0.4510, -0.4510, -0.4510],\n",
       "          [-0.5922, -0.5922, -0.5922,  ..., -0.4510, -0.4510, -0.4510]],\n",
       "\n",
       "         [[-0.0275, -0.0275, -0.0275,  ..., -0.2863, -0.2863, -0.2863],\n",
       "          [-0.0275, -0.0275, -0.0275,  ..., -0.2863, -0.2863, -0.2863],\n",
       "          [-0.0275, -0.0275, -0.0275,  ..., -0.2863, -0.2863, -0.2863],\n",
       "          ...,\n",
       "          [-0.4667, -0.4667, -0.4667,  ..., -0.2471, -0.2471, -0.2471],\n",
       "          [-0.4667, -0.4667, -0.4667,  ..., -0.2471, -0.2471, -0.2471],\n",
       "          [-0.4667, -0.4667, -0.4667,  ..., -0.2471, -0.2471, -0.2471]],\n",
       "\n",
       "         [[-0.4118, -0.4118, -0.4118,  ..., -0.6941, -0.6941, -0.6941],\n",
       "          [-0.4118, -0.4118, -0.4118,  ..., -0.6941, -0.6941, -0.6941],\n",
       "          [-0.4118, -0.4118, -0.4118,  ..., -0.6941, -0.6941, -0.6941],\n",
       "          ...,\n",
       "          [-0.7020, -0.7020, -0.7020,  ..., -0.5843, -0.5843, -0.5843],\n",
       "          [-0.7020, -0.7020, -0.7020,  ..., -0.5843, -0.5843, -0.5843],\n",
       "          [-0.7020, -0.7020, -0.7020,  ..., -0.5843, -0.5843, -0.5843]]],\n",
       "\n",
       "\n",
       "        [[[-0.6863, -0.6863, -0.6863,  ...,  0.2706,  0.2706,  0.2706],\n",
       "          [-0.6863, -0.6863, -0.6863,  ...,  0.2706,  0.2706,  0.2706],\n",
       "          [-0.6863, -0.6863, -0.6863,  ...,  0.2706,  0.2706,  0.2706],\n",
       "          ...,\n",
       "          [ 0.2235,  0.2235,  0.2235,  ..., -0.1451, -0.1451, -0.1451],\n",
       "          [ 0.2235,  0.2235,  0.2235,  ..., -0.1451, -0.1451, -0.1451],\n",
       "          [ 0.2235,  0.2235,  0.2235,  ..., -0.1451, -0.1451, -0.1451]],\n",
       "\n",
       "         [[-0.7176, -0.7176, -0.7176,  ...,  0.0902,  0.0902,  0.0902],\n",
       "          [-0.7176, -0.7176, -0.7176,  ...,  0.0902,  0.0902,  0.0902],\n",
       "          [-0.7176, -0.7176, -0.7176,  ...,  0.0902,  0.0902,  0.0902],\n",
       "          ...,\n",
       "          [-0.0039, -0.0039, -0.0039,  ..., -0.3412, -0.3412, -0.3412],\n",
       "          [-0.0039, -0.0039, -0.0039,  ..., -0.3412, -0.3412, -0.3412],\n",
       "          [-0.0039, -0.0039, -0.0039,  ..., -0.3412, -0.3412, -0.3412]],\n",
       "\n",
       "         [[-0.7176, -0.7176, -0.7176,  ..., -0.0980, -0.0980, -0.0980],\n",
       "          [-0.7176, -0.7176, -0.7176,  ..., -0.0980, -0.0980, -0.0980],\n",
       "          [-0.7176, -0.7176, -0.7176,  ..., -0.0980, -0.0980, -0.0980],\n",
       "          ...,\n",
       "          [-0.0353, -0.0353, -0.0353,  ..., -0.3098, -0.3098, -0.3098],\n",
       "          [-0.0353, -0.0353, -0.0353,  ..., -0.3098, -0.3098, -0.3098],\n",
       "          [-0.0353, -0.0353, -0.0353,  ..., -0.3098, -0.3098, -0.3098]]]]), 'labels': tensor([4, 7])}"
      ]
     },
     "execution_count": 7,
     "metadata": {},
     "output_type": "execute_result"
    }
   ],
   "source": [
    "def transform_func(batch_examples):\n",
    "    inputs = feature_extractor([x for x in batch_examples[image_name]], return_tensors='pt')\n",
    "    inputs['labels'] = torch.tensor(batch_examples[label_name])\n",
    "    return inputs\n",
    "\n",
    "transformed_dataset_train = dataset_train.with_transform(transform_func)\n",
    "transformed_dataset_val = dataset_val.with_transform(transform_func)\n",
    "transformed_dataset_test = dataset_test.with_transform(transform_func)\n",
    "transformed_dataset_train[0:2]"
   ]
  },
  {
   "cell_type": "code",
   "execution_count": 8,
   "metadata": {},
   "outputs": [
    {
     "name": "stdout",
     "output_type": "stream",
     "text": [
      "tensor([[ 0.0107,  0.0449, -0.0354, -0.0417, -0.1392,  0.0315,  0.0136, -0.0830,\n",
      "         -0.0148,  0.1794]], device='cuda:0', grad_fn=<AddmmBackward0>)\n",
      "Prediced = 9 : truck\n",
      "Actual = 3 : cat\n"
     ]
    }
   ],
   "source": [
    "#from transformers.modeling_outputs import BaseModelOutput\n",
    "\n",
    "class MyModel(torch.nn.Module):\n",
    "    def __init__(self, **kwargs):\n",
    "        super().__init__()\n",
    "        self._model = ViTModel.from_pretrained(model_name, num_labels=len(kwargs['id2label']), id2label=kwargs['id2label'], label2id=kwargs['label2id'])\n",
    "        self._model.to(device)\n",
    "        feature_num = self._model.encoder.layer[0].output.dense.out_features\n",
    "        self._fc = torch.nn.Linear(feature_num, len(id2label))\n",
    "        self._fc.to(device)\n",
    "\n",
    "    \n",
    "    def forward(self, x):\n",
    "        outputs = self._model(x)\n",
    "        cls_vec = outputs.last_hidden_state[:, 0, :]\n",
    "        return self._fc(cls_vec)\n",
    "\n",
    "model = MyModel(id2label=id2label, label2id=label2id)\n",
    "model.to(device)\n",
    "\n",
    "# test before train\n",
    "test_idx = 0\n",
    "test_inputs = feature_extractor(images=dataset_test[test_idx][image_name], return_tensors=\"pt\").to(device)\n",
    "outputs = model.forward(test_inputs.pixel_values)\n",
    "print(outputs)\n",
    "idx = outputs.argmax(dim=1).cpu().detach().numpy().tolist()[0]\n",
    "print(f'Prediced = {idx} : {id2label.get(idx)}')\n",
    "print(f'Actual = {dataset_test[test_idx][label_name]} : {id2label.get(dataset_test[test_idx][label_name])}')\n",
    "\n",
    "del test_inputs"
   ]
  },
  {
   "attachments": {},
   "cell_type": "markdown",
   "metadata": {},
   "source": [
    "### Train"
   ]
  },
  {
   "cell_type": "code",
   "execution_count": 9,
   "metadata": {},
   "outputs": [
    {
     "name": "stdout",
     "output_type": "stream",
     "text": [
      "=== epoch=0 start ===\n",
      "epoch=0-100 : accuracy=0.599375, avg_loss=2.0800041270256044\n",
      "epoch=0-200 : accuracy=0.7553125, avg_loss=1.8593998420238496\n",
      "epoch=0-300 : accuracy=0.8152083333333333, avg_loss=1.6633917013804118\n",
      "epoch=0-400 : accuracy=0.84875, avg_loss=1.4955319295823575\n",
      "epoch=0-500 : accuracy=0.86925, avg_loss=1.3567614068984986\n",
      "epoch=0-600 : accuracy=0.8828125, avg_loss=1.2412941975394884\n",
      "=== epoch=0 done : accuracy=0.8866, loss=1.2148175803661347\n",
      "=== epoch=0 validation : accuracy=0.952, loss=0.59495769405365\n",
      "=== epoch=1 start ===\n",
      "epoch=1-100 : accuracy=0.9525, avg_loss=0.5437280306220055\n",
      "epoch=1-200 : accuracy=0.95, avg_loss=0.5196286731958389\n",
      "epoch=1-300 : accuracy=0.9504166666666667, avg_loss=0.49430385023355483\n",
      "epoch=1-400 : accuracy=0.95109375, avg_loss=0.4672631512954831\n",
      "epoch=1-500 : accuracy=0.952125, avg_loss=0.4447244592308998\n",
      "epoch=1-600 : accuracy=0.9528125, avg_loss=0.42531299972285824\n",
      "=== epoch=1 done : accuracy=0.9541, loss=0.4199235842347145\n",
      "=== epoch=1 validation : accuracy=0.9565, loss=0.31924419808387755\n",
      "=== epoch=2 start ===\n",
      "epoch=2-100 : accuracy=0.96, avg_loss=0.2962731546163559\n",
      "epoch=2-200 : accuracy=0.955625, avg_loss=0.29660940390080215\n",
      "epoch=2-300 : accuracy=0.9545833333333333, avg_loss=0.29259477376937865\n",
      "epoch=2-400 : accuracy=0.955, avg_loss=0.2828987181559205\n",
      "epoch=2-500 : accuracy=0.956, avg_loss=0.2748980858027935\n",
      "epoch=2-600 : accuracy=0.9560416666666667, avg_loss=0.26847215747460723\n",
      "=== epoch=2 done : accuracy=0.9572, loss=0.2657575877130032\n",
      "=== epoch=2 validation : accuracy=0.957, loss=0.23475921523571014\n",
      "=== epoch=3 start ===\n",
      "epoch=3-100 : accuracy=0.964375, avg_loss=0.21769342124462127\n",
      "epoch=3-200 : accuracy=0.9584375, avg_loss=0.2229916681535542\n",
      "epoch=3-300 : accuracy=0.9570833333333333, avg_loss=0.22340933753798406\n",
      "epoch=3-400 : accuracy=0.95734375, avg_loss=0.21759341506287455\n",
      "epoch=3-500 : accuracy=0.958375, avg_loss=0.2130414374396205\n",
      "epoch=3-600 : accuracy=0.958125, avg_loss=0.21013958756501475\n",
      "=== epoch=3 done : accuracy=0.9592, loss=0.20803840544223787\n",
      "=== epoch=3 validation : accuracy=0.961, loss=0.19564917933940887\n"
     ]
    }
   ],
   "source": [
    "from sklearn.metrics import accuracy_score, precision_score, recall_score, f1_score\n",
    "epoch = 4\n",
    "batch_size = 16\n",
    "batch_start = 0\n",
    "\n",
    "# gradient require :only Fully Connected Layer of last layer ?\n",
    "model.requires_grad_(False)\n",
    "model._fc.requires_grad_(True)\n",
    "\n",
    "optimizer = torch.optim.AdamW(params=model._fc.parameters(), lr=2e-4)\n",
    "scheduler = torch.optim.lr_scheduler.ExponentialLR(optimizer=optimizer, gamma=0.95)\n",
    "loss_func = torch.nn.CrossEntropyLoss()\n",
    "\n",
    "train_epochs = []\n",
    "train_lrs = []\n",
    "\n",
    "train_losses = []\n",
    "train_accuracies = []\n",
    "val_losses = []\n",
    "val_accuracies = []\n",
    "log_steps = 100\n",
    "\n",
    "for i in range(epoch):\n",
    "    print(f'=== epoch={i} start ===')\n",
    "    batch_start = 0\n",
    "    batch_guard_count = 0\n",
    "    train_loss = 0.0\n",
    "    predicts = []\n",
    "    labels = []\n",
    "    while True:\n",
    "        # Preprocess (TODO DataLoader for random sampling)\n",
    "        batch_end = batch_start + batch_size\n",
    "        if batch_end > len(transformed_dataset_train):\n",
    "            batch_end = len(transformed_dataset_train)\n",
    "        batch = transformed_dataset_train[batch_start:batch_end]\n",
    "        in_data = batch['pixel_values'].to(device)\n",
    "        label_data = batch['labels'].to(device)\n",
    "\n",
    "        # Train : predict\n",
    "        outputs = model.forward(in_data)\n",
    "\n",
    "        # Train : Loss calc & optimization\n",
    "        loss = loss_func(outputs, label_data)\n",
    "        optimizer.zero_grad()\n",
    "        loss.backward()\n",
    "        optimizer.step()\n",
    "\n",
    "        predicts += outputs.argmax(dim=1).cpu().detach().numpy().tolist()\n",
    "        labels += label_data.cpu().detach().numpy().tolist()\n",
    "        train_loss += loss.item()\n",
    "\n",
    "        train_epochs.append(batch_end/len(transformed_dataset_train) + i)\n",
    "        train_lrs.append(optimizer.param_groups[0]['lr'])\n",
    "\n",
    "        del in_data\n",
    "        del label_data\n",
    "\n",
    "        # Set next data range\n",
    "        batch_start = batch_end\n",
    "        batch_guard_count += 1\n",
    "        if batch_end >= len(transformed_dataset_train):\n",
    "            break\n",
    "\n",
    "        if batch_guard_count > len(transformed_dataset_train):\n",
    "            raise Exception(f'Invalid batch loop count {batch_guard_count}')\n",
    "        \n",
    "        if batch_guard_count % log_steps == 0:\n",
    "            accuracy = accuracy_score(labels, predicts)\n",
    "            print(f'epoch={i}-{batch_guard_count} : accuracy={accuracy}, avg_loss={train_loss/batch_guard_count}')\n",
    "    \n",
    "    # Logging\n",
    "    accuracy = accuracy_score(labels, predicts)\n",
    "\n",
    "    print(f'=== epoch={i} done : accuracy={accuracy}, loss={train_loss/batch_guard_count}')\n",
    "    train_losses.append(train_loss/batch_guard_count)\n",
    "    train_accuracies.append(accuracy) \n",
    "\n",
    "    # validation\n",
    "    val_predicts = []\n",
    "    val_labels = []\n",
    "    val_loss = 0.0\n",
    "    val_batch_count = 0\n",
    "    for batch_start in range(0, len(transformed_dataset_val), 16):\n",
    "        batch_end = batch_start + 16\n",
    "        if batch_end > len(transformed_dataset_val):\n",
    "            batch_end = len(transformed_dataset_val)\n",
    "        batch = transformed_dataset_val[batch_start:batch_end]\n",
    "        in_data = batch['pixel_values'].to(device)\n",
    "        label_data = batch['labels'].to(device)\n",
    "        outputs = model.forward(in_data)\n",
    "        val_loss += loss_func(outputs, label_data).item()\n",
    "        val_predicts += outputs.argmax(dim=1).cpu().detach().numpy().tolist()\n",
    "        val_labels += label_data.cpu().detach().numpy().tolist()\n",
    "        val_batch_count += 1\n",
    "        del in_data\n",
    "        del label_data\n",
    "    val_accuracy = accuracy_score(val_labels, val_predicts)\n",
    "    val_losses.append(val_loss/val_batch_count)\n",
    "    val_accuracies.append(val_accuracy)\n",
    "    print(f'=== epoch={i} validation : accuracy={val_accuracy}, loss={val_loss/val_batch_count}')\n",
    "\n",
    "    torch.cuda.empty_cache()\n",
    "    scheduler.step()"
   ]
  },
  {
   "cell_type": "code",
   "execution_count": 10,
   "metadata": {},
   "outputs": [
    {
     "data": {
      "application/vnd.plotly.v1+json": {
       "config": {
        "plotlyServerURL": "https://plot.ly"
       },
       "data": [
        {
         "name": "train_loss",
         "type": "scatter",
         "x": [
          1,
          2,
          3,
          4
         ],
         "xaxis": "x",
         "y": [
          1.2148175803661347,
          0.4199235842347145,
          0.2657575877130032,
          0.20803840544223787
         ],
         "yaxis": "y"
        },
        {
         "name": "accuracy",
         "type": "scatter",
         "x": [
          1,
          2,
          3,
          4
         ],
         "xaxis": "x2",
         "y": [
          0.8866,
          0.9541,
          0.9572,
          0.9592
         ],
         "yaxis": "y2"
        },
        {
         "name": "learning rate",
         "type": "scatter",
         "x": [
          0.0016,
          0.0032,
          0.0048,
          0.0064,
          0.008,
          0.0096,
          0.0112,
          0.0128,
          0.0144,
          0.016,
          0.0176,
          0.0192,
          0.0208,
          0.0224,
          0.024,
          0.0256,
          0.0272,
          0.0288,
          0.0304,
          0.032,
          0.0336,
          0.0352,
          0.0368,
          0.0384,
          0.04,
          0.0416,
          0.0432,
          0.0448,
          0.0464,
          0.048,
          0.0496,
          0.0512,
          0.0528,
          0.0544,
          0.056,
          0.0576,
          0.0592,
          0.0608,
          0.0624,
          0.064,
          0.0656,
          0.0672,
          0.0688,
          0.0704,
          0.072,
          0.0736,
          0.0752,
          0.0768,
          0.0784,
          0.08,
          0.0816,
          0.0832,
          0.0848,
          0.0864,
          0.088,
          0.0896,
          0.0912,
          0.0928,
          0.0944,
          0.096,
          0.0976,
          0.0992,
          0.1008,
          0.1024,
          0.104,
          0.1056,
          0.1072,
          0.1088,
          0.1104,
          0.112,
          0.1136,
          0.1152,
          0.1168,
          0.1184,
          0.12,
          0.1216,
          0.1232,
          0.1248,
          0.1264,
          0.128,
          0.1296,
          0.1312,
          0.1328,
          0.1344,
          0.136,
          0.1376,
          0.1392,
          0.1408,
          0.1424,
          0.144,
          0.1456,
          0.1472,
          0.1488,
          0.1504,
          0.152,
          0.1536,
          0.1552,
          0.1568,
          0.1584,
          0.16,
          0.1616,
          0.1632,
          0.1648,
          0.1664,
          0.168,
          0.1696,
          0.1712,
          0.1728,
          0.1744,
          0.176,
          0.1776,
          0.1792,
          0.1808,
          0.1824,
          0.184,
          0.1856,
          0.1872,
          0.1888,
          0.1904,
          0.192,
          0.1936,
          0.1952,
          0.1968,
          0.1984,
          0.2,
          0.2016,
          0.2032,
          0.2048,
          0.2064,
          0.208,
          0.2096,
          0.2112,
          0.2128,
          0.2144,
          0.216,
          0.2176,
          0.2192,
          0.2208,
          0.2224,
          0.224,
          0.2256,
          0.2272,
          0.2288,
          0.2304,
          0.232,
          0.2336,
          0.2352,
          0.2368,
          0.2384,
          0.24,
          0.2416,
          0.2432,
          0.2448,
          0.2464,
          0.248,
          0.2496,
          0.2512,
          0.2528,
          0.2544,
          0.256,
          0.2576,
          0.2592,
          0.2608,
          0.2624,
          0.264,
          0.2656,
          0.2672,
          0.2688,
          0.2704,
          0.272,
          0.2736,
          0.2752,
          0.2768,
          0.2784,
          0.28,
          0.2816,
          0.2832,
          0.2848,
          0.2864,
          0.288,
          0.2896,
          0.2912,
          0.2928,
          0.2944,
          0.296,
          0.2976,
          0.2992,
          0.3008,
          0.3024,
          0.304,
          0.3056,
          0.3072,
          0.3088,
          0.3104,
          0.312,
          0.3136,
          0.3152,
          0.3168,
          0.3184,
          0.32,
          0.3216,
          0.3232,
          0.3248,
          0.3264,
          0.328,
          0.3296,
          0.3312,
          0.3328,
          0.3344,
          0.336,
          0.3376,
          0.3392,
          0.3408,
          0.3424,
          0.344,
          0.3456,
          0.3472,
          0.3488,
          0.3504,
          0.352,
          0.3536,
          0.3552,
          0.3568,
          0.3584,
          0.36,
          0.3616,
          0.3632,
          0.3648,
          0.3664,
          0.368,
          0.3696,
          0.3712,
          0.3728,
          0.3744,
          0.376,
          0.3776,
          0.3792,
          0.3808,
          0.3824,
          0.384,
          0.3856,
          0.3872,
          0.3888,
          0.3904,
          0.392,
          0.3936,
          0.3952,
          0.3968,
          0.3984,
          0.4,
          0.4016,
          0.4032,
          0.4048,
          0.4064,
          0.408,
          0.4096,
          0.4112,
          0.4128,
          0.4144,
          0.416,
          0.4176,
          0.4192,
          0.4208,
          0.4224,
          0.424,
          0.4256,
          0.4272,
          0.4288,
          0.4304,
          0.432,
          0.4336,
          0.4352,
          0.4368,
          0.4384,
          0.44,
          0.4416,
          0.4432,
          0.4448,
          0.4464,
          0.448,
          0.4496,
          0.4512,
          0.4528,
          0.4544,
          0.456,
          0.4576,
          0.4592,
          0.4608,
          0.4624,
          0.464,
          0.4656,
          0.4672,
          0.4688,
          0.4704,
          0.472,
          0.4736,
          0.4752,
          0.4768,
          0.4784,
          0.48,
          0.4816,
          0.4832,
          0.4848,
          0.4864,
          0.488,
          0.4896,
          0.4912,
          0.4928,
          0.4944,
          0.496,
          0.4976,
          0.4992,
          0.5008,
          0.5024,
          0.504,
          0.5056,
          0.5072,
          0.5088,
          0.5104,
          0.512,
          0.5136,
          0.5152,
          0.5168,
          0.5184,
          0.52,
          0.5216,
          0.5232,
          0.5248,
          0.5264,
          0.528,
          0.5296,
          0.5312,
          0.5328,
          0.5344,
          0.536,
          0.5376,
          0.5392,
          0.5408,
          0.5424,
          0.544,
          0.5456,
          0.5472,
          0.5488,
          0.5504,
          0.552,
          0.5536,
          0.5552,
          0.5568,
          0.5584,
          0.56,
          0.5616,
          0.5632,
          0.5648,
          0.5664,
          0.568,
          0.5696,
          0.5712,
          0.5728,
          0.5744,
          0.576,
          0.5776,
          0.5792,
          0.5808,
          0.5824,
          0.584,
          0.5856,
          0.5872,
          0.5888,
          0.5904,
          0.592,
          0.5936,
          0.5952,
          0.5968,
          0.5984,
          0.6,
          0.6016,
          0.6032,
          0.6048,
          0.6064,
          0.608,
          0.6096,
          0.6112,
          0.6128,
          0.6144,
          0.616,
          0.6176,
          0.6192,
          0.6208,
          0.6224,
          0.624,
          0.6256,
          0.6272,
          0.6288,
          0.6304,
          0.632,
          0.6336,
          0.6352,
          0.6368,
          0.6384,
          0.64,
          0.6416,
          0.6432,
          0.6448,
          0.6464,
          0.648,
          0.6496,
          0.6512,
          0.6528,
          0.6544,
          0.656,
          0.6576,
          0.6592,
          0.6608,
          0.6624,
          0.664,
          0.6656,
          0.6672,
          0.6688,
          0.6704,
          0.672,
          0.6736,
          0.6752,
          0.6768,
          0.6784,
          0.68,
          0.6816,
          0.6832,
          0.6848,
          0.6864,
          0.688,
          0.6896,
          0.6912,
          0.6928,
          0.6944,
          0.696,
          0.6976,
          0.6992,
          0.7008,
          0.7024,
          0.704,
          0.7056,
          0.7072,
          0.7088,
          0.7104,
          0.712,
          0.7136,
          0.7152,
          0.7168,
          0.7184,
          0.72,
          0.7216,
          0.7232,
          0.7248,
          0.7264,
          0.728,
          0.7296,
          0.7312,
          0.7328,
          0.7344,
          0.736,
          0.7376,
          0.7392,
          0.7408,
          0.7424,
          0.744,
          0.7456,
          0.7472,
          0.7488,
          0.7504,
          0.752,
          0.7536,
          0.7552,
          0.7568,
          0.7584,
          0.76,
          0.7616,
          0.7632,
          0.7648,
          0.7664,
          0.768,
          0.7696,
          0.7712,
          0.7728,
          0.7744,
          0.776,
          0.7776,
          0.7792,
          0.7808,
          0.7824,
          0.784,
          0.7856,
          0.7872,
          0.7888,
          0.7904,
          0.792,
          0.7936,
          0.7952,
          0.7968,
          0.7984,
          0.8,
          0.8016,
          0.8032,
          0.8048,
          0.8064,
          0.808,
          0.8096,
          0.8112,
          0.8128,
          0.8144,
          0.816,
          0.8176,
          0.8192,
          0.8208,
          0.8224,
          0.824,
          0.8256,
          0.8272,
          0.8288,
          0.8304,
          0.832,
          0.8336,
          0.8352,
          0.8368,
          0.8384,
          0.84,
          0.8416,
          0.8432,
          0.8448,
          0.8464,
          0.848,
          0.8496,
          0.8512,
          0.8528,
          0.8544,
          0.856,
          0.8576,
          0.8592,
          0.8608,
          0.8624,
          0.864,
          0.8656,
          0.8672,
          0.8688,
          0.8704,
          0.872,
          0.8736,
          0.8752,
          0.8768,
          0.8784,
          0.88,
          0.8816,
          0.8832,
          0.8848,
          0.8864,
          0.888,
          0.8896,
          0.8912,
          0.8928,
          0.8944,
          0.896,
          0.8976,
          0.8992,
          0.9008,
          0.9024,
          0.904,
          0.9056,
          0.9072,
          0.9088,
          0.9104,
          0.912,
          0.9136,
          0.9152,
          0.9168,
          0.9184,
          0.92,
          0.9216,
          0.9232,
          0.9248,
          0.9264,
          0.928,
          0.9296,
          0.9312,
          0.9328,
          0.9344,
          0.936,
          0.9376,
          0.9392,
          0.9408,
          0.9424,
          0.944,
          0.9456,
          0.9472,
          0.9488,
          0.9504,
          0.952,
          0.9536,
          0.9552,
          0.9568,
          0.9584,
          0.96,
          0.9616,
          0.9632,
          0.9648,
          0.9664,
          0.968,
          0.9696,
          0.9712,
          0.9728,
          0.9744,
          0.976,
          0.9776,
          0.9792,
          0.9808,
          0.9824,
          0.984,
          0.9856,
          0.9872,
          0.9888,
          0.9904,
          0.992,
          0.9936,
          0.9952,
          0.9968,
          0.9984,
          1,
          1.0016,
          1.0032,
          1.0048,
          1.0064,
          1.008,
          1.0096,
          1.0112,
          1.0128,
          1.0144,
          1.016,
          1.0176,
          1.0192,
          1.0208,
          1.0224,
          1.024,
          1.0256,
          1.0272,
          1.0288,
          1.0304,
          1.032,
          1.0336,
          1.0352,
          1.0368,
          1.0384,
          1.04,
          1.0416,
          1.0432,
          1.0448,
          1.0464,
          1.048,
          1.0496,
          1.0512,
          1.0528,
          1.0544,
          1.056,
          1.0576,
          1.0592,
          1.0608,
          1.0624,
          1.064,
          1.0656,
          1.0672,
          1.0688,
          1.0704,
          1.072,
          1.0735999999999999,
          1.0752,
          1.0768,
          1.0784,
          1.08,
          1.0816,
          1.0832,
          1.0848,
          1.0864,
          1.088,
          1.0896,
          1.0912,
          1.0928,
          1.0944,
          1.096,
          1.0976,
          1.0992,
          1.1008,
          1.1024,
          1.104,
          1.1056,
          1.1072,
          1.1088,
          1.1104,
          1.112,
          1.1136,
          1.1152,
          1.1168,
          1.1184,
          1.12,
          1.1216,
          1.1232,
          1.1248,
          1.1264,
          1.1280000000000001,
          1.1296,
          1.1312,
          1.1328,
          1.1344,
          1.1360000000000001,
          1.1376,
          1.1392,
          1.1408,
          1.1424,
          1.144,
          1.1456,
          1.1472,
          1.1488,
          1.1504,
          1.152,
          1.1536,
          1.1552,
          1.1568,
          1.1584,
          1.16,
          1.1616,
          1.1632,
          1.1648,
          1.1663999999999999,
          1.168,
          1.1696,
          1.1712,
          1.1728,
          1.1743999999999999,
          1.176,
          1.1776,
          1.1792,
          1.1808,
          1.1824,
          1.184,
          1.1856,
          1.1872,
          1.1888,
          1.1904,
          1.192,
          1.1936,
          1.1952,
          1.1968,
          1.1984,
          1.2,
          1.2016,
          1.2032,
          1.2048,
          1.2064,
          1.208,
          1.2096,
          1.2112,
          1.2128,
          1.2144,
          1.216,
          1.2176,
          1.2192,
          1.2208,
          1.2224,
          1.224,
          1.2256,
          1.2272,
          1.2288000000000001,
          1.2304,
          1.232,
          1.2336,
          1.2352,
          1.2368000000000001,
          1.2384,
          1.24,
          1.2416,
          1.2432,
          1.2448,
          1.2464,
          1.248,
          1.2496,
          1.2511999999999999,
          1.2528000000000001,
          1.2544,
          1.256,
          1.2576,
          1.2591999999999999,
          1.2608,
          1.2624,
          1.264,
          1.2656,
          1.2671999999999999,
          1.2688,
          1.2704,
          1.272,
          1.2736,
          1.2752,
          1.2768,
          1.2784,
          1.28,
          1.2816,
          1.2832,
          1.2848,
          1.2864,
          1.288,
          1.2896,
          1.2912,
          1.2928,
          1.2944,
          1.296,
          1.2976,
          1.2992,
          1.3008,
          1.3024,
          1.304,
          1.3056,
          1.3072,
          1.3088,
          1.3104,
          1.312,
          1.3136,
          1.3152,
          1.3168,
          1.3184,
          1.32,
          1.3216,
          1.3232,
          1.3248,
          1.3264,
          1.328,
          1.3296000000000001,
          1.3312,
          1.3328,
          1.3344,
          1.336,
          1.3376000000000001,
          1.3392,
          1.3408,
          1.3424,
          1.3439999999999999,
          1.3456000000000001,
          1.3472,
          1.3488,
          1.3504,
          1.3519999999999999,
          1.3536000000000001,
          1.3552,
          1.3568,
          1.3584,
          1.3599999999999999,
          1.3616,
          1.3632,
          1.3648,
          1.3664,
          1.3679999999999999,
          1.3696,
          1.3712,
          1.3728,
          1.3744,
          1.376,
          1.3776,
          1.3792,
          1.3808,
          1.3824,
          1.384,
          1.3856,
          1.3872,
          1.3888,
          1.3904,
          1.392,
          1.3936,
          1.3952,
          1.3968,
          1.3984,
          1.4,
          1.4016,
          1.4032,
          1.4048,
          1.4064,
          1.408,
          1.4096,
          1.4112,
          1.4128,
          1.4144,
          1.416,
          1.4176,
          1.4192,
          1.4208,
          1.4224,
          1.424,
          1.4256,
          1.4272,
          1.4288,
          1.4304000000000001,
          1.432,
          1.4336,
          1.4352,
          1.4368,
          1.4384000000000001,
          1.44,
          1.4416,
          1.4432,
          1.4447999999999999,
          1.4464000000000001,
          1.448,
          1.4496,
          1.4512,
          1.4527999999999999,
          1.4544000000000001,
          1.456,
          1.4576,
          1.4592,
          1.4607999999999999,
          1.4624,
          1.464,
          1.4656,
          1.4672,
          1.4687999999999999,
          1.4704,
          1.472,
          1.4736,
          1.4752,
          1.4768,
          1.4784,
          1.48,
          1.4816,
          1.4832,
          1.4848,
          1.4864,
          1.488,
          1.4896,
          1.4912,
          1.4928,
          1.4944,
          1.496,
          1.4976,
          1.4992,
          1.5008,
          1.5024,
          1.504,
          1.5056,
          1.5072,
          1.5088,
          1.5104,
          1.512,
          1.5135999999999998,
          1.5152,
          1.5168,
          1.5184,
          1.52,
          1.5215999999999998,
          1.5232,
          1.5248,
          1.5264,
          1.528,
          1.5295999999999998,
          1.5312000000000001,
          1.5328,
          1.5344,
          1.536,
          1.5375999999999999,
          1.5392000000000001,
          1.5408,
          1.5424,
          1.544,
          1.5455999999999999,
          1.5472000000000001,
          1.5488,
          1.5504,
          1.552,
          1.5535999999999999,
          1.5552000000000001,
          1.5568,
          1.5584,
          1.56,
          1.5615999999999999,
          1.5632000000000001,
          1.5648,
          1.5664,
          1.568,
          1.5695999999999999,
          1.5712000000000002,
          1.5728,
          1.5744,
          1.576,
          1.5776,
          1.5792000000000002,
          1.5808,
          1.5824,
          1.584,
          1.5856,
          1.5872000000000002,
          1.5888,
          1.5904,
          1.592,
          1.5936,
          1.5952,
          1.5968,
          1.5984,
          1.6,
          1.6016,
          1.6032,
          1.6048,
          1.6064,
          1.608,
          1.6096,
          1.6112,
          1.6128,
          1.6143999999999998,
          1.616,
          1.6176,
          1.6192,
          1.6208,
          1.6223999999999998,
          1.624,
          1.6256,
          1.6272,
          1.6288,
          1.6303999999999998,
          1.6320000000000001,
          1.6336,
          1.6352,
          1.6368,
          1.6383999999999999,
          1.6400000000000001,
          1.6416,
          1.6432,
          1.6448,
          1.6463999999999999,
          1.6480000000000001,
          1.6496,
          1.6512,
          1.6528,
          1.6543999999999999,
          1.6560000000000001,
          1.6576,
          1.6592,
          1.6608,
          1.6623999999999999,
          1.6640000000000001,
          1.6656,
          1.6672,
          1.6688,
          1.6703999999999999,
          1.6720000000000002,
          1.6736,
          1.6752,
          1.6768,
          1.6784,
          1.6800000000000002,
          1.6816,
          1.6832,
          1.6848,
          1.6864,
          1.688,
          1.6896,
          1.6912,
          1.6928,
          1.6944,
          1.696,
          1.6976,
          1.6992,
          1.7008,
          1.7024,
          1.704,
          1.7056,
          1.7072,
          1.7088,
          1.7104,
          1.712,
          1.7136,
          1.7151999999999998,
          1.7168,
          1.7184,
          1.72,
          1.7216,
          1.7231999999999998,
          1.7248,
          1.7264,
          1.728,
          1.7296,
          1.7311999999999999,
          1.7328000000000001,
          1.7344,
          1.736,
          1.7376,
          1.7391999999999999,
          1.7408000000000001,
          1.7424,
          1.744,
          1.7456,
          1.7471999999999999,
          1.7488000000000001,
          1.7504,
          1.752,
          1.7536,
          1.7551999999999999,
          1.7568000000000001,
          1.7584,
          1.76,
          1.7616,
          1.7631999999999999,
          1.7648000000000001,
          1.7664,
          1.768,
          1.7696,
          1.7711999999999999,
          1.7728000000000002,
          1.7744,
          1.776,
          1.7776,
          1.7792,
          1.7808000000000002,
          1.7824,
          1.784,
          1.7856,
          1.7872,
          1.7888,
          1.7904,
          1.792,
          1.7936,
          1.7952,
          1.7968,
          1.7984,
          1.8,
          1.8016,
          1.8032,
          1.8048,
          1.8064,
          1.808,
          1.8096,
          1.8112,
          1.8128,
          1.8144,
          1.8159999999999998,
          1.8176,
          1.8192,
          1.8208,
          1.8224,
          1.8239999999999998,
          1.8256000000000001,
          1.8272,
          1.8288,
          1.8304,
          1.8319999999999999,
          1.8336000000000001,
          1.8352,
          1.8368,
          1.8384,
          1.8399999999999999,
          1.8416000000000001,
          1.8432,
          1.8448,
          1.8464,
          1.8479999999999999,
          1.8496000000000001,
          1.8512,
          1.8528,
          1.8544,
          1.8559999999999999,
          1.8576000000000001,
          1.8592,
          1.8608,
          1.8624,
          1.8639999999999999,
          1.8656000000000001,
          1.8672,
          1.8688,
          1.8704,
          1.8719999999999999,
          1.8736000000000002,
          1.8752,
          1.8768,
          1.8784,
          1.88,
          1.8816000000000002,
          1.8832,
          1.8848,
          1.8864,
          1.888,
          1.8896,
          1.8912,
          1.8928,
          1.8944,
          1.896,
          1.8976,
          1.8992,
          1.9008,
          1.9024,
          1.904,
          1.9056,
          1.9072,
          1.9088,
          1.9104,
          1.912,
          1.9136,
          1.9152,
          1.9167999999999998,
          1.9184,
          1.92,
          1.9216,
          1.9232,
          1.9247999999999998,
          1.9264000000000001,
          1.928,
          1.9296,
          1.9312,
          1.9327999999999999,
          1.9344000000000001,
          1.936,
          1.9376,
          1.9392,
          1.9407999999999999,
          1.9424000000000001,
          1.944,
          1.9456,
          1.9472,
          1.9487999999999999,
          1.9504000000000001,
          1.952,
          1.9536,
          1.9552,
          1.9567999999999999,
          1.9584000000000001,
          1.96,
          1.9616,
          1.9632,
          1.9647999999999999,
          1.9664000000000001,
          1.968,
          1.9696,
          1.9712,
          1.9727999999999999,
          1.9744000000000002,
          1.976,
          1.9776,
          1.9792,
          1.9808,
          1.9824000000000002,
          1.984,
          1.9856,
          1.9872,
          1.9888,
          1.9904,
          1.992,
          1.9936,
          1.9952,
          1.9968,
          1.9984,
          2,
          2.0016,
          2.0032,
          2.0048,
          2.0064,
          2.008,
          2.0096,
          2.0112,
          2.0128,
          2.0144,
          2.016,
          2.0176,
          2.0192,
          2.0208,
          2.0224,
          2.024,
          2.0256,
          2.0272,
          2.0288,
          2.0304,
          2.032,
          2.0336,
          2.0352,
          2.0368,
          2.0384,
          2.04,
          2.0416,
          2.0432,
          2.0448,
          2.0464,
          2.048,
          2.0496,
          2.0512,
          2.0528,
          2.0544,
          2.056,
          2.0576,
          2.0592,
          2.0608,
          2.0624,
          2.064,
          2.0656,
          2.0672,
          2.0688,
          2.0704,
          2.072,
          2.0736,
          2.0752,
          2.0768,
          2.0784,
          2.08,
          2.0816,
          2.0832,
          2.0848,
          2.0864,
          2.088,
          2.0896,
          2.0912,
          2.0928,
          2.0944,
          2.096,
          2.0976,
          2.0992,
          2.1008,
          2.1024,
          2.104,
          2.1056,
          2.1072,
          2.1088,
          2.1104,
          2.112,
          2.1136,
          2.1152,
          2.1168,
          2.1184,
          2.12,
          2.1216,
          2.1232,
          2.1248,
          2.1264,
          2.128,
          2.1296,
          2.1312,
          2.1328,
          2.1344,
          2.136,
          2.1376,
          2.1391999999999998,
          2.1408,
          2.1424,
          2.144,
          2.1456,
          2.1471999999999998,
          2.1488,
          2.1504,
          2.152,
          2.1536,
          2.1552,
          2.1568,
          2.1584,
          2.16,
          2.1616,
          2.1632,
          2.1648,
          2.1664,
          2.168,
          2.1696,
          2.1712,
          2.1728,
          2.1744,
          2.176,
          2.1776,
          2.1792,
          2.1808,
          2.1824,
          2.184,
          2.1856,
          2.1872,
          2.1888,
          2.1904,
          2.192,
          2.1936,
          2.1952,
          2.1968,
          2.1984,
          2.2,
          2.2016,
          2.2032,
          2.2048,
          2.2064,
          2.208,
          2.2096,
          2.2112,
          2.2128,
          2.2144,
          2.216,
          2.2176,
          2.2192,
          2.2208,
          2.2224,
          2.224,
          2.2256,
          2.2272,
          2.2288,
          2.2304,
          2.232,
          2.2336,
          2.2352,
          2.2368,
          2.2384,
          2.24,
          2.2416,
          2.2432,
          2.2448,
          2.2464,
          2.248,
          2.2496,
          2.2512,
          2.2528,
          2.2544,
          2.2560000000000002,
          2.2576,
          2.2592,
          2.2608,
          2.2624,
          2.2640000000000002,
          2.2656,
          2.2672,
          2.2688,
          2.2704,
          2.2720000000000002,
          2.2736,
          2.2752,
          2.2768,
          2.2784,
          2.2800000000000002,
          2.2816,
          2.2832,
          2.2848,
          2.2864,
          2.288,
          2.2896,
          2.2912,
          2.2928,
          2.2944,
          2.296,
          2.2976,
          2.2992,
          2.3008,
          2.3024,
          2.304,
          2.3056,
          2.3072,
          2.3088,
          2.3104,
          2.312,
          2.3136,
          2.3152,
          2.3168,
          2.3184,
          2.32,
          2.3216,
          2.3232,
          2.3247999999999998,
          2.3264,
          2.328,
          2.3296,
          2.3312,
          2.3327999999999998,
          2.3344,
          2.336,
          2.3376,
          2.3392,
          2.3407999999999998,
          2.3424,
          2.344,
          2.3456,
          2.3472,
          2.3487999999999998,
          2.3504,
          2.352,
          2.3536,
          2.3552,
          2.3568,
          2.3584,
          2.36,
          2.3616,
          2.3632,
          2.3648,
          2.3664,
          2.368,
          2.3696,
          2.3712,
          2.3728,
          2.3744,
          2.376,
          2.3776,
          2.3792,
          2.3808,
          2.3824,
          2.384,
          2.3856,
          2.3872,
          2.3888,
          2.3904,
          2.392,
          2.3936,
          2.3952,
          2.3968,
          2.3984,
          2.4,
          2.4016,
          2.4032,
          2.4048,
          2.4064,
          2.408,
          2.4096,
          2.4112,
          2.4128,
          2.4144,
          2.416,
          2.4176,
          2.4192,
          2.4208,
          2.4224,
          2.424,
          2.4256,
          2.4272,
          2.4288,
          2.4304,
          2.432,
          2.4336,
          2.4352,
          2.4368,
          2.4384,
          2.44,
          2.4416,
          2.4432,
          2.4448,
          2.4464,
          2.448,
          2.4496,
          2.4512,
          2.4528,
          2.4544,
          2.456,
          2.4576000000000002,
          2.4592,
          2.4608,
          2.4624,
          2.464,
          2.4656000000000002,
          2.4672,
          2.4688,
          2.4704,
          2.472,
          2.4736000000000002,
          2.4752,
          2.4768,
          2.4784,
          2.48,
          2.4816,
          2.4832,
          2.4848,
          2.4864,
          2.488,
          2.4896,
          2.4912,
          2.4928,
          2.4944,
          2.496,
          2.4976,
          2.4992,
          2.5008,
          2.5023999999999997,
          2.504,
          2.5056000000000003,
          2.5072,
          2.5088,
          2.5103999999999997,
          2.512,
          2.5136,
          2.5152,
          2.5168,
          2.5183999999999997,
          2.52,
          2.5216,
          2.5232,
          2.5248,
          2.5263999999999998,
          2.528,
          2.5296,
          2.5312,
          2.5328,
          2.5343999999999998,
          2.536,
          2.5376,
          2.5392,
          2.5408,
          2.5423999999999998,
          2.544,
          2.5456,
          2.5472,
          2.5488,
          2.5504,
          2.552,
          2.5536,
          2.5552,
          2.5568,
          2.5584,
          2.56,
          2.5616,
          2.5632,
          2.5648,
          2.5664,
          2.568,
          2.5696,
          2.5712,
          2.5728,
          2.5744,
          2.576,
          2.5776,
          2.5792,
          2.5808,
          2.5824,
          2.584,
          2.5856,
          2.5872,
          2.5888,
          2.5904,
          2.592,
          2.5936,
          2.5952,
          2.5968,
          2.5984,
          2.6,
          2.6016,
          2.6032,
          2.6048,
          2.6064,
          2.608,
          2.6096,
          2.6112,
          2.6128,
          2.6144,
          2.616,
          2.6176,
          2.6192,
          2.6208,
          2.6224,
          2.624,
          2.6256,
          2.6272,
          2.6288,
          2.6304,
          2.632,
          2.6336,
          2.6352,
          2.6368,
          2.6384,
          2.64,
          2.6416,
          2.6432,
          2.6448,
          2.6464,
          2.648,
          2.6496,
          2.6512000000000002,
          2.6528,
          2.6544,
          2.656,
          2.6576,
          2.6592000000000002,
          2.6608,
          2.6624,
          2.664,
          2.6656,
          2.6672000000000002,
          2.6688,
          2.6704,
          2.672,
          2.6736,
          2.6752000000000002,
          2.6768,
          2.6784,
          2.68,
          2.6816,
          2.6832000000000003,
          2.6848,
          2.6864,
          2.6879999999999997,
          2.6896,
          2.6912000000000003,
          2.6928,
          2.6944,
          2.6959999999999997,
          2.6976,
          2.6992000000000003,
          2.7008,
          2.7024,
          2.7039999999999997,
          2.7056,
          2.7072000000000003,
          2.7088,
          2.7104,
          2.7119999999999997,
          2.7136,
          2.7152,
          2.7168,
          2.7184,
          2.7199999999999998,
          2.7216,
          2.7232,
          2.7248,
          2.7264,
          2.7279999999999998,
          2.7296,
          2.7312,
          2.7328,
          2.7344,
          2.7359999999999998,
          2.7376,
          2.7392,
          2.7408,
          2.7424,
          2.7439999999999998,
          2.7456,
          2.7472,
          2.7488,
          2.7504,
          2.752,
          2.7536,
          2.7552,
          2.7568,
          2.7584,
          2.76,
          2.7616,
          2.7632,
          2.7648,
          2.7664,
          2.768,
          2.7696,
          2.7712,
          2.7728,
          2.7744,
          2.776,
          2.7776,
          2.7792,
          2.7808,
          2.7824,
          2.784,
          2.7856,
          2.7872,
          2.7888,
          2.7904,
          2.792,
          2.7936,
          2.7952,
          2.7968,
          2.7984,
          2.8,
          2.8016,
          2.8032,
          2.8048,
          2.8064,
          2.808,
          2.8096,
          2.8112,
          2.8128,
          2.8144,
          2.816,
          2.8176,
          2.8192,
          2.8208,
          2.8224,
          2.824,
          2.8256,
          2.8272,
          2.8288,
          2.8304,
          2.832,
          2.8336,
          2.8352,
          2.8368,
          2.8384,
          2.84,
          2.8416,
          2.8432,
          2.8448,
          2.8464,
          2.848,
          2.8496,
          2.8512,
          2.8528000000000002,
          2.8544,
          2.856,
          2.8576,
          2.8592,
          2.8608000000000002,
          2.8624,
          2.864,
          2.8656,
          2.8672,
          2.8688000000000002,
          2.8704,
          2.872,
          2.8736,
          2.8752,
          2.8768000000000002,
          2.8784,
          2.88,
          2.8816,
          2.8832,
          2.8848000000000003,
          2.8864,
          2.888,
          2.8895999999999997,
          2.8912,
          2.8928000000000003,
          2.8944,
          2.896,
          2.8975999999999997,
          2.8992,
          2.9008000000000003,
          2.9024,
          2.904,
          2.9055999999999997,
          2.9072,
          2.9088000000000003,
          2.9104,
          2.912,
          2.9135999999999997,
          2.9152,
          2.9168,
          2.9184,
          2.92,
          2.9215999999999998,
          2.9232,
          2.9248,
          2.9264,
          2.928,
          2.9295999999999998,
          2.9312,
          2.9328,
          2.9344,
          2.936,
          2.9375999999999998,
          2.9392,
          2.9408,
          2.9424,
          2.944,
          2.9455999999999998,
          2.9472,
          2.9488,
          2.9504,
          2.952,
          2.9536,
          2.9552,
          2.9568,
          2.9584,
          2.96,
          2.9616,
          2.9632,
          2.9648,
          2.9664,
          2.968,
          2.9696,
          2.9712,
          2.9728,
          2.9744,
          2.976,
          2.9776,
          2.9792,
          2.9808,
          2.9824,
          2.984,
          2.9856,
          2.9872,
          2.9888,
          2.9904,
          2.992,
          2.9936,
          2.9952,
          2.9968,
          2.9984,
          3,
          3.0016,
          3.0032,
          3.0048,
          3.0064,
          3.008,
          3.0096,
          3.0112,
          3.0128,
          3.0144,
          3.016,
          3.0176,
          3.0192,
          3.0208,
          3.0224,
          3.024,
          3.0256,
          3.0272,
          3.0288,
          3.0304,
          3.032,
          3.0336,
          3.0352,
          3.0368,
          3.0384,
          3.04,
          3.0416,
          3.0432,
          3.0448,
          3.0464,
          3.048,
          3.0496,
          3.0512,
          3.0528,
          3.0544,
          3.056,
          3.0576,
          3.0592,
          3.0608,
          3.0624,
          3.064,
          3.0656,
          3.0672,
          3.0688,
          3.0704,
          3.072,
          3.0736,
          3.0752,
          3.0768,
          3.0784,
          3.08,
          3.0816,
          3.0832,
          3.0848,
          3.0864,
          3.088,
          3.0896,
          3.0912,
          3.0928,
          3.0944,
          3.096,
          3.0976,
          3.0992,
          3.1008,
          3.1024,
          3.104,
          3.1056,
          3.1072,
          3.1088,
          3.1104,
          3.112,
          3.1136,
          3.1152,
          3.1168,
          3.1184,
          3.12,
          3.1216,
          3.1232,
          3.1248,
          3.1264,
          3.128,
          3.1296,
          3.1312,
          3.1328,
          3.1344,
          3.136,
          3.1376,
          3.1391999999999998,
          3.1408,
          3.1424,
          3.144,
          3.1456,
          3.1471999999999998,
          3.1488,
          3.1504,
          3.152,
          3.1536,
          3.1552,
          3.1568,
          3.1584,
          3.16,
          3.1616,
          3.1632,
          3.1648,
          3.1664,
          3.168,
          3.1696,
          3.1712,
          3.1728,
          3.1744,
          3.176,
          3.1776,
          3.1792,
          3.1808,
          3.1824,
          3.184,
          3.1856,
          3.1872,
          3.1888,
          3.1904,
          3.192,
          3.1936,
          3.1952,
          3.1968,
          3.1984,
          3.2,
          3.2016,
          3.2032,
          3.2048,
          3.2064,
          3.208,
          3.2096,
          3.2112,
          3.2128,
          3.2144,
          3.216,
          3.2176,
          3.2192,
          3.2208,
          3.2224,
          3.224,
          3.2256,
          3.2272,
          3.2288,
          3.2304,
          3.232,
          3.2336,
          3.2352,
          3.2368,
          3.2384,
          3.24,
          3.2416,
          3.2432,
          3.2448,
          3.2464,
          3.248,
          3.2496,
          3.2512,
          3.2528,
          3.2544,
          3.2560000000000002,
          3.2576,
          3.2592,
          3.2608,
          3.2624,
          3.2640000000000002,
          3.2656,
          3.2672,
          3.2688,
          3.2704,
          3.2720000000000002,
          3.2736,
          3.2752,
          3.2768,
          3.2784,
          3.2800000000000002,
          3.2816,
          3.2832,
          3.2848,
          3.2864,
          3.288,
          3.2896,
          3.2912,
          3.2928,
          3.2944,
          3.296,
          3.2976,
          3.2992,
          3.3008,
          3.3024,
          3.304,
          3.3056,
          3.3072,
          3.3088,
          3.3104,
          3.312,
          3.3136,
          3.3152,
          3.3168,
          3.3184,
          3.32,
          3.3216,
          3.3232,
          3.3247999999999998,
          3.3264,
          3.328,
          3.3296,
          3.3312,
          3.3327999999999998,
          3.3344,
          3.336,
          3.3376,
          3.3392,
          3.3407999999999998,
          3.3424,
          3.344,
          3.3456,
          3.3472,
          3.3487999999999998,
          3.3504,
          3.352,
          3.3536,
          3.3552,
          3.3568,
          3.3584,
          3.36,
          3.3616,
          3.3632,
          3.3648,
          3.3664,
          3.368,
          3.3696,
          3.3712,
          3.3728,
          3.3744,
          3.376,
          3.3776,
          3.3792,
          3.3808,
          3.3824,
          3.384,
          3.3856,
          3.3872,
          3.3888,
          3.3904,
          3.392,
          3.3936,
          3.3952,
          3.3968,
          3.3984,
          3.4,
          3.4016,
          3.4032,
          3.4048,
          3.4064,
          3.408,
          3.4096,
          3.4112,
          3.4128,
          3.4144,
          3.416,
          3.4176,
          3.4192,
          3.4208,
          3.4224,
          3.424,
          3.4256,
          3.4272,
          3.4288,
          3.4304,
          3.432,
          3.4336,
          3.4352,
          3.4368,
          3.4384,
          3.44,
          3.4416,
          3.4432,
          3.4448,
          3.4464,
          3.448,
          3.4496,
          3.4512,
          3.4528,
          3.4544,
          3.456,
          3.4576000000000002,
          3.4592,
          3.4608,
          3.4624,
          3.464,
          3.4656000000000002,
          3.4672,
          3.4688,
          3.4704,
          3.472,
          3.4736000000000002,
          3.4752,
          3.4768,
          3.4784,
          3.48,
          3.4816,
          3.4832,
          3.4848,
          3.4864,
          3.488,
          3.4896,
          3.4912,
          3.4928,
          3.4944,
          3.496,
          3.4976,
          3.4992,
          3.5008,
          3.5023999999999997,
          3.504,
          3.5056000000000003,
          3.5072,
          3.5088,
          3.5103999999999997,
          3.512,
          3.5136,
          3.5152,
          3.5168,
          3.5183999999999997,
          3.52,
          3.5216,
          3.5232,
          3.5248,
          3.5263999999999998,
          3.528,
          3.5296,
          3.5312,
          3.5328,
          3.5343999999999998,
          3.536,
          3.5376,
          3.5392,
          3.5408,
          3.5423999999999998,
          3.544,
          3.5456,
          3.5472,
          3.5488,
          3.5504,
          3.552,
          3.5536,
          3.5552,
          3.5568,
          3.5584,
          3.56,
          3.5616,
          3.5632,
          3.5648,
          3.5664,
          3.568,
          3.5696,
          3.5712,
          3.5728,
          3.5744,
          3.576,
          3.5776,
          3.5792,
          3.5808,
          3.5824,
          3.584,
          3.5856,
          3.5872,
          3.5888,
          3.5904,
          3.592,
          3.5936,
          3.5952,
          3.5968,
          3.5984,
          3.6,
          3.6016,
          3.6032,
          3.6048,
          3.6064,
          3.608,
          3.6096,
          3.6112,
          3.6128,
          3.6144,
          3.616,
          3.6176,
          3.6192,
          3.6208,
          3.6224,
          3.624,
          3.6256,
          3.6272,
          3.6288,
          3.6304,
          3.632,
          3.6336,
          3.6352,
          3.6368,
          3.6384,
          3.64,
          3.6416,
          3.6432,
          3.6448,
          3.6464,
          3.648,
          3.6496,
          3.6512000000000002,
          3.6528,
          3.6544,
          3.656,
          3.6576,
          3.6592000000000002,
          3.6608,
          3.6624,
          3.664,
          3.6656,
          3.6672000000000002,
          3.6688,
          3.6704,
          3.672,
          3.6736,
          3.6752000000000002,
          3.6768,
          3.6784,
          3.68,
          3.6816,
          3.6832000000000003,
          3.6848,
          3.6864,
          3.6879999999999997,
          3.6896,
          3.6912000000000003,
          3.6928,
          3.6944,
          3.6959999999999997,
          3.6976,
          3.6992000000000003,
          3.7008,
          3.7024,
          3.7039999999999997,
          3.7056,
          3.7072000000000003,
          3.7088,
          3.7104,
          3.7119999999999997,
          3.7136,
          3.7152,
          3.7168,
          3.7184,
          3.7199999999999998,
          3.7216,
          3.7232,
          3.7248,
          3.7264,
          3.7279999999999998,
          3.7296,
          3.7312,
          3.7328,
          3.7344,
          3.7359999999999998,
          3.7376,
          3.7392,
          3.7408,
          3.7424,
          3.7439999999999998,
          3.7456,
          3.7472,
          3.7488,
          3.7504,
          3.752,
          3.7536,
          3.7552,
          3.7568,
          3.7584,
          3.76,
          3.7616,
          3.7632,
          3.7648,
          3.7664,
          3.768,
          3.7696,
          3.7712,
          3.7728,
          3.7744,
          3.776,
          3.7776,
          3.7792,
          3.7808,
          3.7824,
          3.784,
          3.7856,
          3.7872,
          3.7888,
          3.7904,
          3.792,
          3.7936,
          3.7952,
          3.7968,
          3.7984,
          3.8,
          3.8016,
          3.8032,
          3.8048,
          3.8064,
          3.808,
          3.8096,
          3.8112,
          3.8128,
          3.8144,
          3.816,
          3.8176,
          3.8192,
          3.8208,
          3.8224,
          3.824,
          3.8256,
          3.8272,
          3.8288,
          3.8304,
          3.832,
          3.8336,
          3.8352,
          3.8368,
          3.8384,
          3.84,
          3.8416,
          3.8432,
          3.8448,
          3.8464,
          3.848,
          3.8496,
          3.8512,
          3.8528000000000002,
          3.8544,
          3.856,
          3.8576,
          3.8592,
          3.8608000000000002,
          3.8624,
          3.864,
          3.8656,
          3.8672,
          3.8688000000000002,
          3.8704,
          3.872,
          3.8736,
          3.8752,
          3.8768000000000002,
          3.8784,
          3.88,
          3.8816,
          3.8832,
          3.8848000000000003,
          3.8864,
          3.888,
          3.8895999999999997,
          3.8912,
          3.8928000000000003,
          3.8944,
          3.896,
          3.8975999999999997,
          3.8992,
          3.9008000000000003,
          3.9024,
          3.904,
          3.9055999999999997,
          3.9072,
          3.9088000000000003,
          3.9104,
          3.912,
          3.9135999999999997,
          3.9152,
          3.9168,
          3.9184,
          3.92,
          3.9215999999999998,
          3.9232,
          3.9248,
          3.9264,
          3.928,
          3.9295999999999998,
          3.9312,
          3.9328,
          3.9344,
          3.936,
          3.9375999999999998,
          3.9392,
          3.9408,
          3.9424,
          3.944,
          3.9455999999999998,
          3.9472,
          3.9488,
          3.9504,
          3.952,
          3.9536,
          3.9552,
          3.9568,
          3.9584,
          3.96,
          3.9616,
          3.9632,
          3.9648,
          3.9664,
          3.968,
          3.9696,
          3.9712,
          3.9728,
          3.9744,
          3.976,
          3.9776,
          3.9792,
          3.9808,
          3.9824,
          3.984,
          3.9856,
          3.9872,
          3.9888,
          3.9904,
          3.992,
          3.9936,
          3.9952,
          3.9968,
          3.9984,
          4
         ],
         "xaxis": "x3",
         "y": [
          0.0002,
          0.0002,
          0.0002,
          0.0002,
          0.0002,
          0.0002,
          0.0002,
          0.0002,
          0.0002,
          0.0002,
          0.0002,
          0.0002,
          0.0002,
          0.0002,
          0.0002,
          0.0002,
          0.0002,
          0.0002,
          0.0002,
          0.0002,
          0.0002,
          0.0002,
          0.0002,
          0.0002,
          0.0002,
          0.0002,
          0.0002,
          0.0002,
          0.0002,
          0.0002,
          0.0002,
          0.0002,
          0.0002,
          0.0002,
          0.0002,
          0.0002,
          0.0002,
          0.0002,
          0.0002,
          0.0002,
          0.0002,
          0.0002,
          0.0002,
          0.0002,
          0.0002,
          0.0002,
          0.0002,
          0.0002,
          0.0002,
          0.0002,
          0.0002,
          0.0002,
          0.0002,
          0.0002,
          0.0002,
          0.0002,
          0.0002,
          0.0002,
          0.0002,
          0.0002,
          0.0002,
          0.0002,
          0.0002,
          0.0002,
          0.0002,
          0.0002,
          0.0002,
          0.0002,
          0.0002,
          0.0002,
          0.0002,
          0.0002,
          0.0002,
          0.0002,
          0.0002,
          0.0002,
          0.0002,
          0.0002,
          0.0002,
          0.0002,
          0.0002,
          0.0002,
          0.0002,
          0.0002,
          0.0002,
          0.0002,
          0.0002,
          0.0002,
          0.0002,
          0.0002,
          0.0002,
          0.0002,
          0.0002,
          0.0002,
          0.0002,
          0.0002,
          0.0002,
          0.0002,
          0.0002,
          0.0002,
          0.0002,
          0.0002,
          0.0002,
          0.0002,
          0.0002,
          0.0002,
          0.0002,
          0.0002,
          0.0002,
          0.0002,
          0.0002,
          0.0002,
          0.0002,
          0.0002,
          0.0002,
          0.0002,
          0.0002,
          0.0002,
          0.0002,
          0.0002,
          0.0002,
          0.0002,
          0.0002,
          0.0002,
          0.0002,
          0.0002,
          0.0002,
          0.0002,
          0.0002,
          0.0002,
          0.0002,
          0.0002,
          0.0002,
          0.0002,
          0.0002,
          0.0002,
          0.0002,
          0.0002,
          0.0002,
          0.0002,
          0.0002,
          0.0002,
          0.0002,
          0.0002,
          0.0002,
          0.0002,
          0.0002,
          0.0002,
          0.0002,
          0.0002,
          0.0002,
          0.0002,
          0.0002,
          0.0002,
          0.0002,
          0.0002,
          0.0002,
          0.0002,
          0.0002,
          0.0002,
          0.0002,
          0.0002,
          0.0002,
          0.0002,
          0.0002,
          0.0002,
          0.0002,
          0.0002,
          0.0002,
          0.0002,
          0.0002,
          0.0002,
          0.0002,
          0.0002,
          0.0002,
          0.0002,
          0.0002,
          0.0002,
          0.0002,
          0.0002,
          0.0002,
          0.0002,
          0.0002,
          0.0002,
          0.0002,
          0.0002,
          0.0002,
          0.0002,
          0.0002,
          0.0002,
          0.0002,
          0.0002,
          0.0002,
          0.0002,
          0.0002,
          0.0002,
          0.0002,
          0.0002,
          0.0002,
          0.0002,
          0.0002,
          0.0002,
          0.0002,
          0.0002,
          0.0002,
          0.0002,
          0.0002,
          0.0002,
          0.0002,
          0.0002,
          0.0002,
          0.0002,
          0.0002,
          0.0002,
          0.0002,
          0.0002,
          0.0002,
          0.0002,
          0.0002,
          0.0002,
          0.0002,
          0.0002,
          0.0002,
          0.0002,
          0.0002,
          0.0002,
          0.0002,
          0.0002,
          0.0002,
          0.0002,
          0.0002,
          0.0002,
          0.0002,
          0.0002,
          0.0002,
          0.0002,
          0.0002,
          0.0002,
          0.0002,
          0.0002,
          0.0002,
          0.0002,
          0.0002,
          0.0002,
          0.0002,
          0.0002,
          0.0002,
          0.0002,
          0.0002,
          0.0002,
          0.0002,
          0.0002,
          0.0002,
          0.0002,
          0.0002,
          0.0002,
          0.0002,
          0.0002,
          0.0002,
          0.0002,
          0.0002,
          0.0002,
          0.0002,
          0.0002,
          0.0002,
          0.0002,
          0.0002,
          0.0002,
          0.0002,
          0.0002,
          0.0002,
          0.0002,
          0.0002,
          0.0002,
          0.0002,
          0.0002,
          0.0002,
          0.0002,
          0.0002,
          0.0002,
          0.0002,
          0.0002,
          0.0002,
          0.0002,
          0.0002,
          0.0002,
          0.0002,
          0.0002,
          0.0002,
          0.0002,
          0.0002,
          0.0002,
          0.0002,
          0.0002,
          0.0002,
          0.0002,
          0.0002,
          0.0002,
          0.0002,
          0.0002,
          0.0002,
          0.0002,
          0.0002,
          0.0002,
          0.0002,
          0.0002,
          0.0002,
          0.0002,
          0.0002,
          0.0002,
          0.0002,
          0.0002,
          0.0002,
          0.0002,
          0.0002,
          0.0002,
          0.0002,
          0.0002,
          0.0002,
          0.0002,
          0.0002,
          0.0002,
          0.0002,
          0.0002,
          0.0002,
          0.0002,
          0.0002,
          0.0002,
          0.0002,
          0.0002,
          0.0002,
          0.0002,
          0.0002,
          0.0002,
          0.0002,
          0.0002,
          0.0002,
          0.0002,
          0.0002,
          0.0002,
          0.0002,
          0.0002,
          0.0002,
          0.0002,
          0.0002,
          0.0002,
          0.0002,
          0.0002,
          0.0002,
          0.0002,
          0.0002,
          0.0002,
          0.0002,
          0.0002,
          0.0002,
          0.0002,
          0.0002,
          0.0002,
          0.0002,
          0.0002,
          0.0002,
          0.0002,
          0.0002,
          0.0002,
          0.0002,
          0.0002,
          0.0002,
          0.0002,
          0.0002,
          0.0002,
          0.0002,
          0.0002,
          0.0002,
          0.0002,
          0.0002,
          0.0002,
          0.0002,
          0.0002,
          0.0002,
          0.0002,
          0.0002,
          0.0002,
          0.0002,
          0.0002,
          0.0002,
          0.0002,
          0.0002,
          0.0002,
          0.0002,
          0.0002,
          0.0002,
          0.0002,
          0.0002,
          0.0002,
          0.0002,
          0.0002,
          0.0002,
          0.0002,
          0.0002,
          0.0002,
          0.0002,
          0.0002,
          0.0002,
          0.0002,
          0.0002,
          0.0002,
          0.0002,
          0.0002,
          0.0002,
          0.0002,
          0.0002,
          0.0002,
          0.0002,
          0.0002,
          0.0002,
          0.0002,
          0.0002,
          0.0002,
          0.0002,
          0.0002,
          0.0002,
          0.0002,
          0.0002,
          0.0002,
          0.0002,
          0.0002,
          0.0002,
          0.0002,
          0.0002,
          0.0002,
          0.0002,
          0.0002,
          0.0002,
          0.0002,
          0.0002,
          0.0002,
          0.0002,
          0.0002,
          0.0002,
          0.0002,
          0.0002,
          0.0002,
          0.0002,
          0.0002,
          0.0002,
          0.0002,
          0.0002,
          0.0002,
          0.0002,
          0.0002,
          0.0002,
          0.0002,
          0.0002,
          0.0002,
          0.0002,
          0.0002,
          0.0002,
          0.0002,
          0.0002,
          0.0002,
          0.0002,
          0.0002,
          0.0002,
          0.0002,
          0.0002,
          0.0002,
          0.0002,
          0.0002,
          0.0002,
          0.0002,
          0.0002,
          0.0002,
          0.0002,
          0.0002,
          0.0002,
          0.0002,
          0.0002,
          0.0002,
          0.0002,
          0.0002,
          0.0002,
          0.0002,
          0.0002,
          0.0002,
          0.0002,
          0.0002,
          0.0002,
          0.0002,
          0.0002,
          0.0002,
          0.0002,
          0.0002,
          0.0002,
          0.0002,
          0.0002,
          0.0002,
          0.0002,
          0.0002,
          0.0002,
          0.0002,
          0.0002,
          0.0002,
          0.0002,
          0.0002,
          0.0002,
          0.0002,
          0.0002,
          0.0002,
          0.0002,
          0.0002,
          0.0002,
          0.0002,
          0.0002,
          0.0002,
          0.0002,
          0.0002,
          0.0002,
          0.0002,
          0.0002,
          0.0002,
          0.0002,
          0.0002,
          0.0002,
          0.0002,
          0.0002,
          0.0002,
          0.0002,
          0.0002,
          0.0002,
          0.0002,
          0.0002,
          0.0002,
          0.0002,
          0.0002,
          0.0002,
          0.0002,
          0.0002,
          0.0002,
          0.0002,
          0.0002,
          0.0002,
          0.0002,
          0.0002,
          0.0002,
          0.0002,
          0.0002,
          0.0002,
          0.0002,
          0.0002,
          0.0002,
          0.0002,
          0.0002,
          0.0002,
          0.0002,
          0.0002,
          0.0002,
          0.0002,
          0.0002,
          0.0002,
          0.0002,
          0.0002,
          0.0002,
          0.0002,
          0.0002,
          0.0002,
          0.0002,
          0.0002,
          0.0002,
          0.0002,
          0.0002,
          0.0002,
          0.0002,
          0.0002,
          0.0002,
          0.0002,
          0.0002,
          0.0002,
          0.0002,
          0.0002,
          0.0002,
          0.0002,
          0.0002,
          0.0002,
          0.0002,
          0.0002,
          0.0002,
          0.0002,
          0.0002,
          0.0002,
          0.0002,
          0.0002,
          0.0002,
          0.0002,
          0.0002,
          0.0002,
          0.0002,
          0.0002,
          0.0002,
          0.0002,
          0.0002,
          0.0002,
          0.0002,
          0.0002,
          0.0002,
          0.0002,
          0.0002,
          0.0002,
          0.0002,
          0.0002,
          0.0002,
          0.0002,
          0.0002,
          0.0002,
          0.0002,
          0.0002,
          0.0002,
          0.0002,
          0.0002,
          0.0002,
          0.0002,
          0.0002,
          0.0002,
          0.0002,
          0.0002,
          0.0002,
          0.00019,
          0.00019,
          0.00019,
          0.00019,
          0.00019,
          0.00019,
          0.00019,
          0.00019,
          0.00019,
          0.00019,
          0.00019,
          0.00019,
          0.00019,
          0.00019,
          0.00019,
          0.00019,
          0.00019,
          0.00019,
          0.00019,
          0.00019,
          0.00019,
          0.00019,
          0.00019,
          0.00019,
          0.00019,
          0.00019,
          0.00019,
          0.00019,
          0.00019,
          0.00019,
          0.00019,
          0.00019,
          0.00019,
          0.00019,
          0.00019,
          0.00019,
          0.00019,
          0.00019,
          0.00019,
          0.00019,
          0.00019,
          0.00019,
          0.00019,
          0.00019,
          0.00019,
          0.00019,
          0.00019,
          0.00019,
          0.00019,
          0.00019,
          0.00019,
          0.00019,
          0.00019,
          0.00019,
          0.00019,
          0.00019,
          0.00019,
          0.00019,
          0.00019,
          0.00019,
          0.00019,
          0.00019,
          0.00019,
          0.00019,
          0.00019,
          0.00019,
          0.00019,
          0.00019,
          0.00019,
          0.00019,
          0.00019,
          0.00019,
          0.00019,
          0.00019,
          0.00019,
          0.00019,
          0.00019,
          0.00019,
          0.00019,
          0.00019,
          0.00019,
          0.00019,
          0.00019,
          0.00019,
          0.00019,
          0.00019,
          0.00019,
          0.00019,
          0.00019,
          0.00019,
          0.00019,
          0.00019,
          0.00019,
          0.00019,
          0.00019,
          0.00019,
          0.00019,
          0.00019,
          0.00019,
          0.00019,
          0.00019,
          0.00019,
          0.00019,
          0.00019,
          0.00019,
          0.00019,
          0.00019,
          0.00019,
          0.00019,
          0.00019,
          0.00019,
          0.00019,
          0.00019,
          0.00019,
          0.00019,
          0.00019,
          0.00019,
          0.00019,
          0.00019,
          0.00019,
          0.00019,
          0.00019,
          0.00019,
          0.00019,
          0.00019,
          0.00019,
          0.00019,
          0.00019,
          0.00019,
          0.00019,
          0.00019,
          0.00019,
          0.00019,
          0.00019,
          0.00019,
          0.00019,
          0.00019,
          0.00019,
          0.00019,
          0.00019,
          0.00019,
          0.00019,
          0.00019,
          0.00019,
          0.00019,
          0.00019,
          0.00019,
          0.00019,
          0.00019,
          0.00019,
          0.00019,
          0.00019,
          0.00019,
          0.00019,
          0.00019,
          0.00019,
          0.00019,
          0.00019,
          0.00019,
          0.00019,
          0.00019,
          0.00019,
          0.00019,
          0.00019,
          0.00019,
          0.00019,
          0.00019,
          0.00019,
          0.00019,
          0.00019,
          0.00019,
          0.00019,
          0.00019,
          0.00019,
          0.00019,
          0.00019,
          0.00019,
          0.00019,
          0.00019,
          0.00019,
          0.00019,
          0.00019,
          0.00019,
          0.00019,
          0.00019,
          0.00019,
          0.00019,
          0.00019,
          0.00019,
          0.00019,
          0.00019,
          0.00019,
          0.00019,
          0.00019,
          0.00019,
          0.00019,
          0.00019,
          0.00019,
          0.00019,
          0.00019,
          0.00019,
          0.00019,
          0.00019,
          0.00019,
          0.00019,
          0.00019,
          0.00019,
          0.00019,
          0.00019,
          0.00019,
          0.00019,
          0.00019,
          0.00019,
          0.00019,
          0.00019,
          0.00019,
          0.00019,
          0.00019,
          0.00019,
          0.00019,
          0.00019,
          0.00019,
          0.00019,
          0.00019,
          0.00019,
          0.00019,
          0.00019,
          0.00019,
          0.00019,
          0.00019,
          0.00019,
          0.00019,
          0.00019,
          0.00019,
          0.00019,
          0.00019,
          0.00019,
          0.00019,
          0.00019,
          0.00019,
          0.00019,
          0.00019,
          0.00019,
          0.00019,
          0.00019,
          0.00019,
          0.00019,
          0.00019,
          0.00019,
          0.00019,
          0.00019,
          0.00019,
          0.00019,
          0.00019,
          0.00019,
          0.00019,
          0.00019,
          0.00019,
          0.00019,
          0.00019,
          0.00019,
          0.00019,
          0.00019,
          0.00019,
          0.00019,
          0.00019,
          0.00019,
          0.00019,
          0.00019,
          0.00019,
          0.00019,
          0.00019,
          0.00019,
          0.00019,
          0.00019,
          0.00019,
          0.00019,
          0.00019,
          0.00019,
          0.00019,
          0.00019,
          0.00019,
          0.00019,
          0.00019,
          0.00019,
          0.00019,
          0.00019,
          0.00019,
          0.00019,
          0.00019,
          0.00019,
          0.00019,
          0.00019,
          0.00019,
          0.00019,
          0.00019,
          0.00019,
          0.00019,
          0.00019,
          0.00019,
          0.00019,
          0.00019,
          0.00019,
          0.00019,
          0.00019,
          0.00019,
          0.00019,
          0.00019,
          0.00019,
          0.00019,
          0.00019,
          0.00019,
          0.00019,
          0.00019,
          0.00019,
          0.00019,
          0.00019,
          0.00019,
          0.00019,
          0.00019,
          0.00019,
          0.00019,
          0.00019,
          0.00019,
          0.00019,
          0.00019,
          0.00019,
          0.00019,
          0.00019,
          0.00019,
          0.00019,
          0.00019,
          0.00019,
          0.00019,
          0.00019,
          0.00019,
          0.00019,
          0.00019,
          0.00019,
          0.00019,
          0.00019,
          0.00019,
          0.00019,
          0.00019,
          0.00019,
          0.00019,
          0.00019,
          0.00019,
          0.00019,
          0.00019,
          0.00019,
          0.00019,
          0.00019,
          0.00019,
          0.00019,
          0.00019,
          0.00019,
          0.00019,
          0.00019,
          0.00019,
          0.00019,
          0.00019,
          0.00019,
          0.00019,
          0.00019,
          0.00019,
          0.00019,
          0.00019,
          0.00019,
          0.00019,
          0.00019,
          0.00019,
          0.00019,
          0.00019,
          0.00019,
          0.00019,
          0.00019,
          0.00019,
          0.00019,
          0.00019,
          0.00019,
          0.00019,
          0.00019,
          0.00019,
          0.00019,
          0.00019,
          0.00019,
          0.00019,
          0.00019,
          0.00019,
          0.00019,
          0.00019,
          0.00019,
          0.00019,
          0.00019,
          0.00019,
          0.00019,
          0.00019,
          0.00019,
          0.00019,
          0.00019,
          0.00019,
          0.00019,
          0.00019,
          0.00019,
          0.00019,
          0.00019,
          0.00019,
          0.00019,
          0.00019,
          0.00019,
          0.00019,
          0.00019,
          0.00019,
          0.00019,
          0.00019,
          0.00019,
          0.00019,
          0.00019,
          0.00019,
          0.00019,
          0.00019,
          0.00019,
          0.00019,
          0.00019,
          0.00019,
          0.00019,
          0.00019,
          0.00019,
          0.00019,
          0.00019,
          0.00019,
          0.00019,
          0.00019,
          0.00019,
          0.00019,
          0.00019,
          0.00019,
          0.00019,
          0.00019,
          0.00019,
          0.00019,
          0.00019,
          0.00019,
          0.00019,
          0.00019,
          0.00019,
          0.00019,
          0.00019,
          0.00019,
          0.00019,
          0.00019,
          0.00019,
          0.00019,
          0.00019,
          0.00019,
          0.00019,
          0.00019,
          0.00019,
          0.00019,
          0.00019,
          0.00019,
          0.00019,
          0.00019,
          0.00019,
          0.00019,
          0.00019,
          0.00019,
          0.00019,
          0.00019,
          0.00019,
          0.00019,
          0.00019,
          0.00019,
          0.00019,
          0.00019,
          0.00019,
          0.00019,
          0.00019,
          0.00019,
          0.00019,
          0.00019,
          0.00019,
          0.00019,
          0.00019,
          0.00019,
          0.00019,
          0.00019,
          0.00019,
          0.00019,
          0.00019,
          0.00019,
          0.00019,
          0.00019,
          0.00019,
          0.00019,
          0.00019,
          0.00019,
          0.00019,
          0.00019,
          0.00019,
          0.00019,
          0.00019,
          0.00019,
          0.00019,
          0.00019,
          0.00019,
          0.00019,
          0.00019,
          0.00019,
          0.00019,
          0.00019,
          0.00019,
          0.00019,
          0.00019,
          0.00019,
          0.00019,
          0.00019,
          0.00019,
          0.00019,
          0.00019,
          0.00019,
          0.00019,
          0.00019,
          0.00019,
          0.00019,
          0.00019,
          0.00019,
          0.00019,
          0.00019,
          0.00019,
          0.00019,
          0.00019,
          0.00019,
          0.00019,
          0.00019,
          0.00019,
          0.00019,
          0.00019,
          0.00019,
          0.00019,
          0.00019,
          0.00019,
          0.00019,
          0.00019,
          0.00019,
          0.00019,
          0.00019,
          0.00019,
          0.00019,
          0.00019,
          0.00019,
          0.00019,
          0.00019,
          0.00019,
          0.00019,
          0.00019,
          0.00019,
          0.00019,
          0.00019,
          0.00019,
          0.00019,
          0.00019,
          0.00019,
          0.00019,
          0.00019,
          0.00019,
          0.00019,
          0.00019,
          0.00019,
          0.00019,
          0.00019,
          0.00019,
          0.00019,
          0.00019,
          0.00019,
          0.00019,
          0.00019,
          0.00019,
          0.00019,
          0.00019,
          0.00019,
          0.00019,
          0.00019,
          0.00019,
          0.00019,
          0.00019,
          0.00019,
          0.00019,
          0.00019,
          0.00019,
          0.00019,
          0.00019,
          0.00019,
          0.00019,
          0.00019,
          0.00019,
          0.00019,
          0.00019,
          0.00019,
          0.00019,
          0.00019,
          0.00019,
          0.00019,
          0.00019,
          0.00019,
          0.00019,
          0.00019,
          0.00019,
          0.00019,
          0.00019,
          0.00019,
          0.00019,
          0.00019,
          0.00019,
          0.00019,
          0.00019,
          0.00019,
          0.00019,
          0.00019,
          0.00019,
          0.00019,
          0.00019,
          0.00019,
          0.00019,
          0.0001805,
          0.0001805,
          0.0001805,
          0.0001805,
          0.0001805,
          0.0001805,
          0.0001805,
          0.0001805,
          0.0001805,
          0.0001805,
          0.0001805,
          0.0001805,
          0.0001805,
          0.0001805,
          0.0001805,
          0.0001805,
          0.0001805,
          0.0001805,
          0.0001805,
          0.0001805,
          0.0001805,
          0.0001805,
          0.0001805,
          0.0001805,
          0.0001805,
          0.0001805,
          0.0001805,
          0.0001805,
          0.0001805,
          0.0001805,
          0.0001805,
          0.0001805,
          0.0001805,
          0.0001805,
          0.0001805,
          0.0001805,
          0.0001805,
          0.0001805,
          0.0001805,
          0.0001805,
          0.0001805,
          0.0001805,
          0.0001805,
          0.0001805,
          0.0001805,
          0.0001805,
          0.0001805,
          0.0001805,
          0.0001805,
          0.0001805,
          0.0001805,
          0.0001805,
          0.0001805,
          0.0001805,
          0.0001805,
          0.0001805,
          0.0001805,
          0.0001805,
          0.0001805,
          0.0001805,
          0.0001805,
          0.0001805,
          0.0001805,
          0.0001805,
          0.0001805,
          0.0001805,
          0.0001805,
          0.0001805,
          0.0001805,
          0.0001805,
          0.0001805,
          0.0001805,
          0.0001805,
          0.0001805,
          0.0001805,
          0.0001805,
          0.0001805,
          0.0001805,
          0.0001805,
          0.0001805,
          0.0001805,
          0.0001805,
          0.0001805,
          0.0001805,
          0.0001805,
          0.0001805,
          0.0001805,
          0.0001805,
          0.0001805,
          0.0001805,
          0.0001805,
          0.0001805,
          0.0001805,
          0.0001805,
          0.0001805,
          0.0001805,
          0.0001805,
          0.0001805,
          0.0001805,
          0.0001805,
          0.0001805,
          0.0001805,
          0.0001805,
          0.0001805,
          0.0001805,
          0.0001805,
          0.0001805,
          0.0001805,
          0.0001805,
          0.0001805,
          0.0001805,
          0.0001805,
          0.0001805,
          0.0001805,
          0.0001805,
          0.0001805,
          0.0001805,
          0.0001805,
          0.0001805,
          0.0001805,
          0.0001805,
          0.0001805,
          0.0001805,
          0.0001805,
          0.0001805,
          0.0001805,
          0.0001805,
          0.0001805,
          0.0001805,
          0.0001805,
          0.0001805,
          0.0001805,
          0.0001805,
          0.0001805,
          0.0001805,
          0.0001805,
          0.0001805,
          0.0001805,
          0.0001805,
          0.0001805,
          0.0001805,
          0.0001805,
          0.0001805,
          0.0001805,
          0.0001805,
          0.0001805,
          0.0001805,
          0.0001805,
          0.0001805,
          0.0001805,
          0.0001805,
          0.0001805,
          0.0001805,
          0.0001805,
          0.0001805,
          0.0001805,
          0.0001805,
          0.0001805,
          0.0001805,
          0.0001805,
          0.0001805,
          0.0001805,
          0.0001805,
          0.0001805,
          0.0001805,
          0.0001805,
          0.0001805,
          0.0001805,
          0.0001805,
          0.0001805,
          0.0001805,
          0.0001805,
          0.0001805,
          0.0001805,
          0.0001805,
          0.0001805,
          0.0001805,
          0.0001805,
          0.0001805,
          0.0001805,
          0.0001805,
          0.0001805,
          0.0001805,
          0.0001805,
          0.0001805,
          0.0001805,
          0.0001805,
          0.0001805,
          0.0001805,
          0.0001805,
          0.0001805,
          0.0001805,
          0.0001805,
          0.0001805,
          0.0001805,
          0.0001805,
          0.0001805,
          0.0001805,
          0.0001805,
          0.0001805,
          0.0001805,
          0.0001805,
          0.0001805,
          0.0001805,
          0.0001805,
          0.0001805,
          0.0001805,
          0.0001805,
          0.0001805,
          0.0001805,
          0.0001805,
          0.0001805,
          0.0001805,
          0.0001805,
          0.0001805,
          0.0001805,
          0.0001805,
          0.0001805,
          0.0001805,
          0.0001805,
          0.0001805,
          0.0001805,
          0.0001805,
          0.0001805,
          0.0001805,
          0.0001805,
          0.0001805,
          0.0001805,
          0.0001805,
          0.0001805,
          0.0001805,
          0.0001805,
          0.0001805,
          0.0001805,
          0.0001805,
          0.0001805,
          0.0001805,
          0.0001805,
          0.0001805,
          0.0001805,
          0.0001805,
          0.0001805,
          0.0001805,
          0.0001805,
          0.0001805,
          0.0001805,
          0.0001805,
          0.0001805,
          0.0001805,
          0.0001805,
          0.0001805,
          0.0001805,
          0.0001805,
          0.0001805,
          0.0001805,
          0.0001805,
          0.0001805,
          0.0001805,
          0.0001805,
          0.0001805,
          0.0001805,
          0.0001805,
          0.0001805,
          0.0001805,
          0.0001805,
          0.0001805,
          0.0001805,
          0.0001805,
          0.0001805,
          0.0001805,
          0.0001805,
          0.0001805,
          0.0001805,
          0.0001805,
          0.0001805,
          0.0001805,
          0.0001805,
          0.0001805,
          0.0001805,
          0.0001805,
          0.0001805,
          0.0001805,
          0.0001805,
          0.0001805,
          0.0001805,
          0.0001805,
          0.0001805,
          0.0001805,
          0.0001805,
          0.0001805,
          0.0001805,
          0.0001805,
          0.0001805,
          0.0001805,
          0.0001805,
          0.0001805,
          0.0001805,
          0.0001805,
          0.0001805,
          0.0001805,
          0.0001805,
          0.0001805,
          0.0001805,
          0.0001805,
          0.0001805,
          0.0001805,
          0.0001805,
          0.0001805,
          0.0001805,
          0.0001805,
          0.0001805,
          0.0001805,
          0.0001805,
          0.0001805,
          0.0001805,
          0.0001805,
          0.0001805,
          0.0001805,
          0.0001805,
          0.0001805,
          0.0001805,
          0.0001805,
          0.0001805,
          0.0001805,
          0.0001805,
          0.0001805,
          0.0001805,
          0.0001805,
          0.0001805,
          0.0001805,
          0.0001805,
          0.0001805,
          0.0001805,
          0.0001805,
          0.0001805,
          0.0001805,
          0.0001805,
          0.0001805,
          0.0001805,
          0.0001805,
          0.0001805,
          0.0001805,
          0.0001805,
          0.0001805,
          0.0001805,
          0.0001805,
          0.0001805,
          0.0001805,
          0.0001805,
          0.0001805,
          0.0001805,
          0.0001805,
          0.0001805,
          0.0001805,
          0.0001805,
          0.0001805,
          0.0001805,
          0.0001805,
          0.0001805,
          0.0001805,
          0.0001805,
          0.0001805,
          0.0001805,
          0.0001805,
          0.0001805,
          0.0001805,
          0.0001805,
          0.0001805,
          0.0001805,
          0.0001805,
          0.0001805,
          0.0001805,
          0.0001805,
          0.0001805,
          0.0001805,
          0.0001805,
          0.0001805,
          0.0001805,
          0.0001805,
          0.0001805,
          0.0001805,
          0.0001805,
          0.0001805,
          0.0001805,
          0.0001805,
          0.0001805,
          0.0001805,
          0.0001805,
          0.0001805,
          0.0001805,
          0.0001805,
          0.0001805,
          0.0001805,
          0.0001805,
          0.0001805,
          0.0001805,
          0.0001805,
          0.0001805,
          0.0001805,
          0.0001805,
          0.0001805,
          0.0001805,
          0.0001805,
          0.0001805,
          0.0001805,
          0.0001805,
          0.0001805,
          0.0001805,
          0.0001805,
          0.0001805,
          0.0001805,
          0.0001805,
          0.0001805,
          0.0001805,
          0.0001805,
          0.0001805,
          0.0001805,
          0.0001805,
          0.0001805,
          0.0001805,
          0.0001805,
          0.0001805,
          0.0001805,
          0.0001805,
          0.0001805,
          0.0001805,
          0.0001805,
          0.0001805,
          0.0001805,
          0.0001805,
          0.0001805,
          0.0001805,
          0.0001805,
          0.0001805,
          0.0001805,
          0.0001805,
          0.0001805,
          0.0001805,
          0.0001805,
          0.0001805,
          0.0001805,
          0.0001805,
          0.0001805,
          0.0001805,
          0.0001805,
          0.0001805,
          0.0001805,
          0.0001805,
          0.0001805,
          0.0001805,
          0.0001805,
          0.0001805,
          0.0001805,
          0.0001805,
          0.0001805,
          0.0001805,
          0.0001805,
          0.0001805,
          0.0001805,
          0.0001805,
          0.0001805,
          0.0001805,
          0.0001805,
          0.0001805,
          0.0001805,
          0.0001805,
          0.0001805,
          0.0001805,
          0.0001805,
          0.0001805,
          0.0001805,
          0.0001805,
          0.0001805,
          0.0001805,
          0.0001805,
          0.0001805,
          0.0001805,
          0.0001805,
          0.0001805,
          0.0001805,
          0.0001805,
          0.0001805,
          0.0001805,
          0.0001805,
          0.0001805,
          0.0001805,
          0.0001805,
          0.0001805,
          0.0001805,
          0.0001805,
          0.0001805,
          0.0001805,
          0.0001805,
          0.0001805,
          0.0001805,
          0.0001805,
          0.0001805,
          0.0001805,
          0.0001805,
          0.0001805,
          0.0001805,
          0.0001805,
          0.0001805,
          0.0001805,
          0.0001805,
          0.0001805,
          0.0001805,
          0.0001805,
          0.0001805,
          0.0001805,
          0.0001805,
          0.0001805,
          0.0001805,
          0.0001805,
          0.0001805,
          0.0001805,
          0.0001805,
          0.0001805,
          0.0001805,
          0.0001805,
          0.0001805,
          0.0001805,
          0.0001805,
          0.0001805,
          0.0001805,
          0.0001805,
          0.0001805,
          0.0001805,
          0.0001805,
          0.0001805,
          0.0001805,
          0.0001805,
          0.0001805,
          0.0001805,
          0.0001805,
          0.0001805,
          0.0001805,
          0.0001805,
          0.0001805,
          0.0001805,
          0.0001805,
          0.0001805,
          0.0001805,
          0.0001805,
          0.0001805,
          0.0001805,
          0.0001805,
          0.0001805,
          0.0001805,
          0.0001805,
          0.0001805,
          0.0001805,
          0.0001805,
          0.0001805,
          0.0001805,
          0.0001805,
          0.0001805,
          0.0001805,
          0.0001805,
          0.0001805,
          0.0001805,
          0.0001805,
          0.0001805,
          0.0001805,
          0.0001805,
          0.0001805,
          0.0001805,
          0.0001805,
          0.0001805,
          0.0001805,
          0.0001805,
          0.0001805,
          0.0001805,
          0.0001805,
          0.0001805,
          0.0001805,
          0.0001805,
          0.0001805,
          0.0001805,
          0.0001805,
          0.0001805,
          0.0001805,
          0.0001805,
          0.0001805,
          0.0001805,
          0.0001805,
          0.0001805,
          0.0001805,
          0.0001805,
          0.0001805,
          0.0001805,
          0.0001805,
          0.0001805,
          0.0001805,
          0.0001805,
          0.0001805,
          0.0001805,
          0.0001805,
          0.0001805,
          0.0001805,
          0.0001805,
          0.0001805,
          0.0001805,
          0.0001805,
          0.0001805,
          0.0001805,
          0.0001805,
          0.0001805,
          0.0001805,
          0.0001805,
          0.0001805,
          0.0001805,
          0.0001805,
          0.0001805,
          0.0001805,
          0.0001805,
          0.0001805,
          0.0001805,
          0.0001805,
          0.0001805,
          0.0001805,
          0.0001805,
          0.0001805,
          0.0001805,
          0.0001805,
          0.00017147499999999998,
          0.00017147499999999998,
          0.00017147499999999998,
          0.00017147499999999998,
          0.00017147499999999998,
          0.00017147499999999998,
          0.00017147499999999998,
          0.00017147499999999998,
          0.00017147499999999998,
          0.00017147499999999998,
          0.00017147499999999998,
          0.00017147499999999998,
          0.00017147499999999998,
          0.00017147499999999998,
          0.00017147499999999998,
          0.00017147499999999998,
          0.00017147499999999998,
          0.00017147499999999998,
          0.00017147499999999998,
          0.00017147499999999998,
          0.00017147499999999998,
          0.00017147499999999998,
          0.00017147499999999998,
          0.00017147499999999998,
          0.00017147499999999998,
          0.00017147499999999998,
          0.00017147499999999998,
          0.00017147499999999998,
          0.00017147499999999998,
          0.00017147499999999998,
          0.00017147499999999998,
          0.00017147499999999998,
          0.00017147499999999998,
          0.00017147499999999998,
          0.00017147499999999998,
          0.00017147499999999998,
          0.00017147499999999998,
          0.00017147499999999998,
          0.00017147499999999998,
          0.00017147499999999998,
          0.00017147499999999998,
          0.00017147499999999998,
          0.00017147499999999998,
          0.00017147499999999998,
          0.00017147499999999998,
          0.00017147499999999998,
          0.00017147499999999998,
          0.00017147499999999998,
          0.00017147499999999998,
          0.00017147499999999998,
          0.00017147499999999998,
          0.00017147499999999998,
          0.00017147499999999998,
          0.00017147499999999998,
          0.00017147499999999998,
          0.00017147499999999998,
          0.00017147499999999998,
          0.00017147499999999998,
          0.00017147499999999998,
          0.00017147499999999998,
          0.00017147499999999998,
          0.00017147499999999998,
          0.00017147499999999998,
          0.00017147499999999998,
          0.00017147499999999998,
          0.00017147499999999998,
          0.00017147499999999998,
          0.00017147499999999998,
          0.00017147499999999998,
          0.00017147499999999998,
          0.00017147499999999998,
          0.00017147499999999998,
          0.00017147499999999998,
          0.00017147499999999998,
          0.00017147499999999998,
          0.00017147499999999998,
          0.00017147499999999998,
          0.00017147499999999998,
          0.00017147499999999998,
          0.00017147499999999998,
          0.00017147499999999998,
          0.00017147499999999998,
          0.00017147499999999998,
          0.00017147499999999998,
          0.00017147499999999998,
          0.00017147499999999998,
          0.00017147499999999998,
          0.00017147499999999998,
          0.00017147499999999998,
          0.00017147499999999998,
          0.00017147499999999998,
          0.00017147499999999998,
          0.00017147499999999998,
          0.00017147499999999998,
          0.00017147499999999998,
          0.00017147499999999998,
          0.00017147499999999998,
          0.00017147499999999998,
          0.00017147499999999998,
          0.00017147499999999998,
          0.00017147499999999998,
          0.00017147499999999998,
          0.00017147499999999998,
          0.00017147499999999998,
          0.00017147499999999998,
          0.00017147499999999998,
          0.00017147499999999998,
          0.00017147499999999998,
          0.00017147499999999998,
          0.00017147499999999998,
          0.00017147499999999998,
          0.00017147499999999998,
          0.00017147499999999998,
          0.00017147499999999998,
          0.00017147499999999998,
          0.00017147499999999998,
          0.00017147499999999998,
          0.00017147499999999998,
          0.00017147499999999998,
          0.00017147499999999998,
          0.00017147499999999998,
          0.00017147499999999998,
          0.00017147499999999998,
          0.00017147499999999998,
          0.00017147499999999998,
          0.00017147499999999998,
          0.00017147499999999998,
          0.00017147499999999998,
          0.00017147499999999998,
          0.00017147499999999998,
          0.00017147499999999998,
          0.00017147499999999998,
          0.00017147499999999998,
          0.00017147499999999998,
          0.00017147499999999998,
          0.00017147499999999998,
          0.00017147499999999998,
          0.00017147499999999998,
          0.00017147499999999998,
          0.00017147499999999998,
          0.00017147499999999998,
          0.00017147499999999998,
          0.00017147499999999998,
          0.00017147499999999998,
          0.00017147499999999998,
          0.00017147499999999998,
          0.00017147499999999998,
          0.00017147499999999998,
          0.00017147499999999998,
          0.00017147499999999998,
          0.00017147499999999998,
          0.00017147499999999998,
          0.00017147499999999998,
          0.00017147499999999998,
          0.00017147499999999998,
          0.00017147499999999998,
          0.00017147499999999998,
          0.00017147499999999998,
          0.00017147499999999998,
          0.00017147499999999998,
          0.00017147499999999998,
          0.00017147499999999998,
          0.00017147499999999998,
          0.00017147499999999998,
          0.00017147499999999998,
          0.00017147499999999998,
          0.00017147499999999998,
          0.00017147499999999998,
          0.00017147499999999998,
          0.00017147499999999998,
          0.00017147499999999998,
          0.00017147499999999998,
          0.00017147499999999998,
          0.00017147499999999998,
          0.00017147499999999998,
          0.00017147499999999998,
          0.00017147499999999998,
          0.00017147499999999998,
          0.00017147499999999998,
          0.00017147499999999998,
          0.00017147499999999998,
          0.00017147499999999998,
          0.00017147499999999998,
          0.00017147499999999998,
          0.00017147499999999998,
          0.00017147499999999998,
          0.00017147499999999998,
          0.00017147499999999998,
          0.00017147499999999998,
          0.00017147499999999998,
          0.00017147499999999998,
          0.00017147499999999998,
          0.00017147499999999998,
          0.00017147499999999998,
          0.00017147499999999998,
          0.00017147499999999998,
          0.00017147499999999998,
          0.00017147499999999998,
          0.00017147499999999998,
          0.00017147499999999998,
          0.00017147499999999998,
          0.00017147499999999998,
          0.00017147499999999998,
          0.00017147499999999998,
          0.00017147499999999998,
          0.00017147499999999998,
          0.00017147499999999998,
          0.00017147499999999998,
          0.00017147499999999998,
          0.00017147499999999998,
          0.00017147499999999998,
          0.00017147499999999998,
          0.00017147499999999998,
          0.00017147499999999998,
          0.00017147499999999998,
          0.00017147499999999998,
          0.00017147499999999998,
          0.00017147499999999998,
          0.00017147499999999998,
          0.00017147499999999998,
          0.00017147499999999998,
          0.00017147499999999998,
          0.00017147499999999998,
          0.00017147499999999998,
          0.00017147499999999998,
          0.00017147499999999998,
          0.00017147499999999998,
          0.00017147499999999998,
          0.00017147499999999998,
          0.00017147499999999998,
          0.00017147499999999998,
          0.00017147499999999998,
          0.00017147499999999998,
          0.00017147499999999998,
          0.00017147499999999998,
          0.00017147499999999998,
          0.00017147499999999998,
          0.00017147499999999998,
          0.00017147499999999998,
          0.00017147499999999998,
          0.00017147499999999998,
          0.00017147499999999998,
          0.00017147499999999998,
          0.00017147499999999998,
          0.00017147499999999998,
          0.00017147499999999998,
          0.00017147499999999998,
          0.00017147499999999998,
          0.00017147499999999998,
          0.00017147499999999998,
          0.00017147499999999998,
          0.00017147499999999998,
          0.00017147499999999998,
          0.00017147499999999998,
          0.00017147499999999998,
          0.00017147499999999998,
          0.00017147499999999998,
          0.00017147499999999998,
          0.00017147499999999998,
          0.00017147499999999998,
          0.00017147499999999998,
          0.00017147499999999998,
          0.00017147499999999998,
          0.00017147499999999998,
          0.00017147499999999998,
          0.00017147499999999998,
          0.00017147499999999998,
          0.00017147499999999998,
          0.00017147499999999998,
          0.00017147499999999998,
          0.00017147499999999998,
          0.00017147499999999998,
          0.00017147499999999998,
          0.00017147499999999998,
          0.00017147499999999998,
          0.00017147499999999998,
          0.00017147499999999998,
          0.00017147499999999998,
          0.00017147499999999998,
          0.00017147499999999998,
          0.00017147499999999998,
          0.00017147499999999998,
          0.00017147499999999998,
          0.00017147499999999998,
          0.00017147499999999998,
          0.00017147499999999998,
          0.00017147499999999998,
          0.00017147499999999998,
          0.00017147499999999998,
          0.00017147499999999998,
          0.00017147499999999998,
          0.00017147499999999998,
          0.00017147499999999998,
          0.00017147499999999998,
          0.00017147499999999998,
          0.00017147499999999998,
          0.00017147499999999998,
          0.00017147499999999998,
          0.00017147499999999998,
          0.00017147499999999998,
          0.00017147499999999998,
          0.00017147499999999998,
          0.00017147499999999998,
          0.00017147499999999998,
          0.00017147499999999998,
          0.00017147499999999998,
          0.00017147499999999998,
          0.00017147499999999998,
          0.00017147499999999998,
          0.00017147499999999998,
          0.00017147499999999998,
          0.00017147499999999998,
          0.00017147499999999998,
          0.00017147499999999998,
          0.00017147499999999998,
          0.00017147499999999998,
          0.00017147499999999998,
          0.00017147499999999998,
          0.00017147499999999998,
          0.00017147499999999998,
          0.00017147499999999998,
          0.00017147499999999998,
          0.00017147499999999998,
          0.00017147499999999998,
          0.00017147499999999998,
          0.00017147499999999998,
          0.00017147499999999998,
          0.00017147499999999998,
          0.00017147499999999998,
          0.00017147499999999998,
          0.00017147499999999998,
          0.00017147499999999998,
          0.00017147499999999998,
          0.00017147499999999998,
          0.00017147499999999998,
          0.00017147499999999998,
          0.00017147499999999998,
          0.00017147499999999998,
          0.00017147499999999998,
          0.00017147499999999998,
          0.00017147499999999998,
          0.00017147499999999998,
          0.00017147499999999998,
          0.00017147499999999998,
          0.00017147499999999998,
          0.00017147499999999998,
          0.00017147499999999998,
          0.00017147499999999998,
          0.00017147499999999998,
          0.00017147499999999998,
          0.00017147499999999998,
          0.00017147499999999998,
          0.00017147499999999998,
          0.00017147499999999998,
          0.00017147499999999998,
          0.00017147499999999998,
          0.00017147499999999998,
          0.00017147499999999998,
          0.00017147499999999998,
          0.00017147499999999998,
          0.00017147499999999998,
          0.00017147499999999998,
          0.00017147499999999998,
          0.00017147499999999998,
          0.00017147499999999998,
          0.00017147499999999998,
          0.00017147499999999998,
          0.00017147499999999998,
          0.00017147499999999998,
          0.00017147499999999998,
          0.00017147499999999998,
          0.00017147499999999998,
          0.00017147499999999998,
          0.00017147499999999998,
          0.00017147499999999998,
          0.00017147499999999998,
          0.00017147499999999998,
          0.00017147499999999998,
          0.00017147499999999998,
          0.00017147499999999998,
          0.00017147499999999998,
          0.00017147499999999998,
          0.00017147499999999998,
          0.00017147499999999998,
          0.00017147499999999998,
          0.00017147499999999998,
          0.00017147499999999998,
          0.00017147499999999998,
          0.00017147499999999998,
          0.00017147499999999998,
          0.00017147499999999998,
          0.00017147499999999998,
          0.00017147499999999998,
          0.00017147499999999998,
          0.00017147499999999998,
          0.00017147499999999998,
          0.00017147499999999998,
          0.00017147499999999998,
          0.00017147499999999998,
          0.00017147499999999998,
          0.00017147499999999998,
          0.00017147499999999998,
          0.00017147499999999998,
          0.00017147499999999998,
          0.00017147499999999998,
          0.00017147499999999998,
          0.00017147499999999998,
          0.00017147499999999998,
          0.00017147499999999998,
          0.00017147499999999998,
          0.00017147499999999998,
          0.00017147499999999998,
          0.00017147499999999998,
          0.00017147499999999998,
          0.00017147499999999998,
          0.00017147499999999998,
          0.00017147499999999998,
          0.00017147499999999998,
          0.00017147499999999998,
          0.00017147499999999998,
          0.00017147499999999998,
          0.00017147499999999998,
          0.00017147499999999998,
          0.00017147499999999998,
          0.00017147499999999998,
          0.00017147499999999998,
          0.00017147499999999998,
          0.00017147499999999998,
          0.00017147499999999998,
          0.00017147499999999998,
          0.00017147499999999998,
          0.00017147499999999998,
          0.00017147499999999998,
          0.00017147499999999998,
          0.00017147499999999998,
          0.00017147499999999998,
          0.00017147499999999998,
          0.00017147499999999998,
          0.00017147499999999998,
          0.00017147499999999998,
          0.00017147499999999998,
          0.00017147499999999998,
          0.00017147499999999998,
          0.00017147499999999998,
          0.00017147499999999998,
          0.00017147499999999998,
          0.00017147499999999998,
          0.00017147499999999998,
          0.00017147499999999998,
          0.00017147499999999998,
          0.00017147499999999998,
          0.00017147499999999998,
          0.00017147499999999998,
          0.00017147499999999998,
          0.00017147499999999998,
          0.00017147499999999998,
          0.00017147499999999998,
          0.00017147499999999998,
          0.00017147499999999998,
          0.00017147499999999998,
          0.00017147499999999998,
          0.00017147499999999998,
          0.00017147499999999998,
          0.00017147499999999998,
          0.00017147499999999998,
          0.00017147499999999998,
          0.00017147499999999998,
          0.00017147499999999998,
          0.00017147499999999998,
          0.00017147499999999998,
          0.00017147499999999998,
          0.00017147499999999998,
          0.00017147499999999998,
          0.00017147499999999998,
          0.00017147499999999998,
          0.00017147499999999998,
          0.00017147499999999998,
          0.00017147499999999998,
          0.00017147499999999998,
          0.00017147499999999998,
          0.00017147499999999998,
          0.00017147499999999998,
          0.00017147499999999998,
          0.00017147499999999998,
          0.00017147499999999998,
          0.00017147499999999998,
          0.00017147499999999998,
          0.00017147499999999998,
          0.00017147499999999998,
          0.00017147499999999998,
          0.00017147499999999998,
          0.00017147499999999998,
          0.00017147499999999998,
          0.00017147499999999998,
          0.00017147499999999998,
          0.00017147499999999998,
          0.00017147499999999998,
          0.00017147499999999998,
          0.00017147499999999998,
          0.00017147499999999998,
          0.00017147499999999998,
          0.00017147499999999998,
          0.00017147499999999998,
          0.00017147499999999998,
          0.00017147499999999998,
          0.00017147499999999998,
          0.00017147499999999998,
          0.00017147499999999998,
          0.00017147499999999998,
          0.00017147499999999998,
          0.00017147499999999998,
          0.00017147499999999998,
          0.00017147499999999998,
          0.00017147499999999998,
          0.00017147499999999998,
          0.00017147499999999998,
          0.00017147499999999998,
          0.00017147499999999998,
          0.00017147499999999998,
          0.00017147499999999998,
          0.00017147499999999998,
          0.00017147499999999998,
          0.00017147499999999998,
          0.00017147499999999998,
          0.00017147499999999998,
          0.00017147499999999998,
          0.00017147499999999998,
          0.00017147499999999998,
          0.00017147499999999998,
          0.00017147499999999998,
          0.00017147499999999998,
          0.00017147499999999998,
          0.00017147499999999998,
          0.00017147499999999998,
          0.00017147499999999998,
          0.00017147499999999998,
          0.00017147499999999998,
          0.00017147499999999998,
          0.00017147499999999998,
          0.00017147499999999998,
          0.00017147499999999998,
          0.00017147499999999998,
          0.00017147499999999998,
          0.00017147499999999998,
          0.00017147499999999998,
          0.00017147499999999998,
          0.00017147499999999998,
          0.00017147499999999998,
          0.00017147499999999998,
          0.00017147499999999998,
          0.00017147499999999998,
          0.00017147499999999998,
          0.00017147499999999998,
          0.00017147499999999998,
          0.00017147499999999998,
          0.00017147499999999998,
          0.00017147499999999998,
          0.00017147499999999998,
          0.00017147499999999998,
          0.00017147499999999998,
          0.00017147499999999998,
          0.00017147499999999998,
          0.00017147499999999998,
          0.00017147499999999998,
          0.00017147499999999998,
          0.00017147499999999998,
          0.00017147499999999998,
          0.00017147499999999998,
          0.00017147499999999998,
          0.00017147499999999998,
          0.00017147499999999998,
          0.00017147499999999998,
          0.00017147499999999998,
          0.00017147499999999998,
          0.00017147499999999998,
          0.00017147499999999998,
          0.00017147499999999998,
          0.00017147499999999998,
          0.00017147499999999998,
          0.00017147499999999998,
          0.00017147499999999998,
          0.00017147499999999998,
          0.00017147499999999998,
          0.00017147499999999998,
          0.00017147499999999998,
          0.00017147499999999998,
          0.00017147499999999998,
          0.00017147499999999998,
          0.00017147499999999998,
          0.00017147499999999998,
          0.00017147499999999998,
          0.00017147499999999998,
          0.00017147499999999998,
          0.00017147499999999998,
          0.00017147499999999998,
          0.00017147499999999998,
          0.00017147499999999998,
          0.00017147499999999998,
          0.00017147499999999998,
          0.00017147499999999998,
          0.00017147499999999998,
          0.00017147499999999998,
          0.00017147499999999998,
          0.00017147499999999998,
          0.00017147499999999998,
          0.00017147499999999998,
          0.00017147499999999998,
          0.00017147499999999998,
          0.00017147499999999998,
          0.00017147499999999998,
          0.00017147499999999998,
          0.00017147499999999998,
          0.00017147499999999998,
          0.00017147499999999998,
          0.00017147499999999998,
          0.00017147499999999998,
          0.00017147499999999998,
          0.00017147499999999998,
          0.00017147499999999998,
          0.00017147499999999998,
          0.00017147499999999998,
          0.00017147499999999998,
          0.00017147499999999998,
          0.00017147499999999998,
          0.00017147499999999998
         ],
         "yaxis": "y3"
        }
       ],
       "layout": {
        "annotations": [
         {
          "font": {
           "size": 16
          },
          "showarrow": false,
          "text": "train loss",
          "x": 0.14444444444444446,
          "xanchor": "center",
          "xref": "paper",
          "y": 1,
          "yanchor": "bottom",
          "yref": "paper"
         },
         {
          "font": {
           "size": 16
          },
          "showarrow": false,
          "text": "train accuracy",
          "x": 0.5,
          "xanchor": "center",
          "xref": "paper",
          "y": 1,
          "yanchor": "bottom",
          "yref": "paper"
         },
         {
          "font": {
           "size": 16
          },
          "showarrow": false,
          "text": "train learning rate",
          "x": 0.8555555555555556,
          "xanchor": "center",
          "xref": "paper",
          "y": 1,
          "yanchor": "bottom",
          "yref": "paper"
         }
        ],
        "template": {
         "data": {
          "bar": [
           {
            "error_x": {
             "color": "#2a3f5f"
            },
            "error_y": {
             "color": "#2a3f5f"
            },
            "marker": {
             "line": {
              "color": "#E5ECF6",
              "width": 0.5
             },
             "pattern": {
              "fillmode": "overlay",
              "size": 10,
              "solidity": 0.2
             }
            },
            "type": "bar"
           }
          ],
          "barpolar": [
           {
            "marker": {
             "line": {
              "color": "#E5ECF6",
              "width": 0.5
             },
             "pattern": {
              "fillmode": "overlay",
              "size": 10,
              "solidity": 0.2
             }
            },
            "type": "barpolar"
           }
          ],
          "carpet": [
           {
            "aaxis": {
             "endlinecolor": "#2a3f5f",
             "gridcolor": "white",
             "linecolor": "white",
             "minorgridcolor": "white",
             "startlinecolor": "#2a3f5f"
            },
            "baxis": {
             "endlinecolor": "#2a3f5f",
             "gridcolor": "white",
             "linecolor": "white",
             "minorgridcolor": "white",
             "startlinecolor": "#2a3f5f"
            },
            "type": "carpet"
           }
          ],
          "choropleth": [
           {
            "colorbar": {
             "outlinewidth": 0,
             "ticks": ""
            },
            "type": "choropleth"
           }
          ],
          "contour": [
           {
            "colorbar": {
             "outlinewidth": 0,
             "ticks": ""
            },
            "colorscale": [
             [
              0,
              "#0d0887"
             ],
             [
              0.1111111111111111,
              "#46039f"
             ],
             [
              0.2222222222222222,
              "#7201a8"
             ],
             [
              0.3333333333333333,
              "#9c179e"
             ],
             [
              0.4444444444444444,
              "#bd3786"
             ],
             [
              0.5555555555555556,
              "#d8576b"
             ],
             [
              0.6666666666666666,
              "#ed7953"
             ],
             [
              0.7777777777777778,
              "#fb9f3a"
             ],
             [
              0.8888888888888888,
              "#fdca26"
             ],
             [
              1,
              "#f0f921"
             ]
            ],
            "type": "contour"
           }
          ],
          "contourcarpet": [
           {
            "colorbar": {
             "outlinewidth": 0,
             "ticks": ""
            },
            "type": "contourcarpet"
           }
          ],
          "heatmap": [
           {
            "colorbar": {
             "outlinewidth": 0,
             "ticks": ""
            },
            "colorscale": [
             [
              0,
              "#0d0887"
             ],
             [
              0.1111111111111111,
              "#46039f"
             ],
             [
              0.2222222222222222,
              "#7201a8"
             ],
             [
              0.3333333333333333,
              "#9c179e"
             ],
             [
              0.4444444444444444,
              "#bd3786"
             ],
             [
              0.5555555555555556,
              "#d8576b"
             ],
             [
              0.6666666666666666,
              "#ed7953"
             ],
             [
              0.7777777777777778,
              "#fb9f3a"
             ],
             [
              0.8888888888888888,
              "#fdca26"
             ],
             [
              1,
              "#f0f921"
             ]
            ],
            "type": "heatmap"
           }
          ],
          "heatmapgl": [
           {
            "colorbar": {
             "outlinewidth": 0,
             "ticks": ""
            },
            "colorscale": [
             [
              0,
              "#0d0887"
             ],
             [
              0.1111111111111111,
              "#46039f"
             ],
             [
              0.2222222222222222,
              "#7201a8"
             ],
             [
              0.3333333333333333,
              "#9c179e"
             ],
             [
              0.4444444444444444,
              "#bd3786"
             ],
             [
              0.5555555555555556,
              "#d8576b"
             ],
             [
              0.6666666666666666,
              "#ed7953"
             ],
             [
              0.7777777777777778,
              "#fb9f3a"
             ],
             [
              0.8888888888888888,
              "#fdca26"
             ],
             [
              1,
              "#f0f921"
             ]
            ],
            "type": "heatmapgl"
           }
          ],
          "histogram": [
           {
            "marker": {
             "pattern": {
              "fillmode": "overlay",
              "size": 10,
              "solidity": 0.2
             }
            },
            "type": "histogram"
           }
          ],
          "histogram2d": [
           {
            "colorbar": {
             "outlinewidth": 0,
             "ticks": ""
            },
            "colorscale": [
             [
              0,
              "#0d0887"
             ],
             [
              0.1111111111111111,
              "#46039f"
             ],
             [
              0.2222222222222222,
              "#7201a8"
             ],
             [
              0.3333333333333333,
              "#9c179e"
             ],
             [
              0.4444444444444444,
              "#bd3786"
             ],
             [
              0.5555555555555556,
              "#d8576b"
             ],
             [
              0.6666666666666666,
              "#ed7953"
             ],
             [
              0.7777777777777778,
              "#fb9f3a"
             ],
             [
              0.8888888888888888,
              "#fdca26"
             ],
             [
              1,
              "#f0f921"
             ]
            ],
            "type": "histogram2d"
           }
          ],
          "histogram2dcontour": [
           {
            "colorbar": {
             "outlinewidth": 0,
             "ticks": ""
            },
            "colorscale": [
             [
              0,
              "#0d0887"
             ],
             [
              0.1111111111111111,
              "#46039f"
             ],
             [
              0.2222222222222222,
              "#7201a8"
             ],
             [
              0.3333333333333333,
              "#9c179e"
             ],
             [
              0.4444444444444444,
              "#bd3786"
             ],
             [
              0.5555555555555556,
              "#d8576b"
             ],
             [
              0.6666666666666666,
              "#ed7953"
             ],
             [
              0.7777777777777778,
              "#fb9f3a"
             ],
             [
              0.8888888888888888,
              "#fdca26"
             ],
             [
              1,
              "#f0f921"
             ]
            ],
            "type": "histogram2dcontour"
           }
          ],
          "mesh3d": [
           {
            "colorbar": {
             "outlinewidth": 0,
             "ticks": ""
            },
            "type": "mesh3d"
           }
          ],
          "parcoords": [
           {
            "line": {
             "colorbar": {
              "outlinewidth": 0,
              "ticks": ""
             }
            },
            "type": "parcoords"
           }
          ],
          "pie": [
           {
            "automargin": true,
            "type": "pie"
           }
          ],
          "scatter": [
           {
            "fillpattern": {
             "fillmode": "overlay",
             "size": 10,
             "solidity": 0.2
            },
            "type": "scatter"
           }
          ],
          "scatter3d": [
           {
            "line": {
             "colorbar": {
              "outlinewidth": 0,
              "ticks": ""
             }
            },
            "marker": {
             "colorbar": {
              "outlinewidth": 0,
              "ticks": ""
             }
            },
            "type": "scatter3d"
           }
          ],
          "scattercarpet": [
           {
            "marker": {
             "colorbar": {
              "outlinewidth": 0,
              "ticks": ""
             }
            },
            "type": "scattercarpet"
           }
          ],
          "scattergeo": [
           {
            "marker": {
             "colorbar": {
              "outlinewidth": 0,
              "ticks": ""
             }
            },
            "type": "scattergeo"
           }
          ],
          "scattergl": [
           {
            "marker": {
             "colorbar": {
              "outlinewidth": 0,
              "ticks": ""
             }
            },
            "type": "scattergl"
           }
          ],
          "scattermapbox": [
           {
            "marker": {
             "colorbar": {
              "outlinewidth": 0,
              "ticks": ""
             }
            },
            "type": "scattermapbox"
           }
          ],
          "scatterpolar": [
           {
            "marker": {
             "colorbar": {
              "outlinewidth": 0,
              "ticks": ""
             }
            },
            "type": "scatterpolar"
           }
          ],
          "scatterpolargl": [
           {
            "marker": {
             "colorbar": {
              "outlinewidth": 0,
              "ticks": ""
             }
            },
            "type": "scatterpolargl"
           }
          ],
          "scatterternary": [
           {
            "marker": {
             "colorbar": {
              "outlinewidth": 0,
              "ticks": ""
             }
            },
            "type": "scatterternary"
           }
          ],
          "surface": [
           {
            "colorbar": {
             "outlinewidth": 0,
             "ticks": ""
            },
            "colorscale": [
             [
              0,
              "#0d0887"
             ],
             [
              0.1111111111111111,
              "#46039f"
             ],
             [
              0.2222222222222222,
              "#7201a8"
             ],
             [
              0.3333333333333333,
              "#9c179e"
             ],
             [
              0.4444444444444444,
              "#bd3786"
             ],
             [
              0.5555555555555556,
              "#d8576b"
             ],
             [
              0.6666666666666666,
              "#ed7953"
             ],
             [
              0.7777777777777778,
              "#fb9f3a"
             ],
             [
              0.8888888888888888,
              "#fdca26"
             ],
             [
              1,
              "#f0f921"
             ]
            ],
            "type": "surface"
           }
          ],
          "table": [
           {
            "cells": {
             "fill": {
              "color": "#EBF0F8"
             },
             "line": {
              "color": "white"
             }
            },
            "header": {
             "fill": {
              "color": "#C8D4E3"
             },
             "line": {
              "color": "white"
             }
            },
            "type": "table"
           }
          ]
         },
         "layout": {
          "annotationdefaults": {
           "arrowcolor": "#2a3f5f",
           "arrowhead": 0,
           "arrowwidth": 1
          },
          "autotypenumbers": "strict",
          "coloraxis": {
           "colorbar": {
            "outlinewidth": 0,
            "ticks": ""
           }
          },
          "colorscale": {
           "diverging": [
            [
             0,
             "#8e0152"
            ],
            [
             0.1,
             "#c51b7d"
            ],
            [
             0.2,
             "#de77ae"
            ],
            [
             0.3,
             "#f1b6da"
            ],
            [
             0.4,
             "#fde0ef"
            ],
            [
             0.5,
             "#f7f7f7"
            ],
            [
             0.6,
             "#e6f5d0"
            ],
            [
             0.7,
             "#b8e186"
            ],
            [
             0.8,
             "#7fbc41"
            ],
            [
             0.9,
             "#4d9221"
            ],
            [
             1,
             "#276419"
            ]
           ],
           "sequential": [
            [
             0,
             "#0d0887"
            ],
            [
             0.1111111111111111,
             "#46039f"
            ],
            [
             0.2222222222222222,
             "#7201a8"
            ],
            [
             0.3333333333333333,
             "#9c179e"
            ],
            [
             0.4444444444444444,
             "#bd3786"
            ],
            [
             0.5555555555555556,
             "#d8576b"
            ],
            [
             0.6666666666666666,
             "#ed7953"
            ],
            [
             0.7777777777777778,
             "#fb9f3a"
            ],
            [
             0.8888888888888888,
             "#fdca26"
            ],
            [
             1,
             "#f0f921"
            ]
           ],
           "sequentialminus": [
            [
             0,
             "#0d0887"
            ],
            [
             0.1111111111111111,
             "#46039f"
            ],
            [
             0.2222222222222222,
             "#7201a8"
            ],
            [
             0.3333333333333333,
             "#9c179e"
            ],
            [
             0.4444444444444444,
             "#bd3786"
            ],
            [
             0.5555555555555556,
             "#d8576b"
            ],
            [
             0.6666666666666666,
             "#ed7953"
            ],
            [
             0.7777777777777778,
             "#fb9f3a"
            ],
            [
             0.8888888888888888,
             "#fdca26"
            ],
            [
             1,
             "#f0f921"
            ]
           ]
          },
          "colorway": [
           "#636efa",
           "#EF553B",
           "#00cc96",
           "#ab63fa",
           "#FFA15A",
           "#19d3f3",
           "#FF6692",
           "#B6E880",
           "#FF97FF",
           "#FECB52"
          ],
          "font": {
           "color": "#2a3f5f"
          },
          "geo": {
           "bgcolor": "white",
           "lakecolor": "white",
           "landcolor": "#E5ECF6",
           "showlakes": true,
           "showland": true,
           "subunitcolor": "white"
          },
          "hoverlabel": {
           "align": "left"
          },
          "hovermode": "closest",
          "mapbox": {
           "style": "light"
          },
          "paper_bgcolor": "white",
          "plot_bgcolor": "#E5ECF6",
          "polar": {
           "angularaxis": {
            "gridcolor": "white",
            "linecolor": "white",
            "ticks": ""
           },
           "bgcolor": "#E5ECF6",
           "radialaxis": {
            "gridcolor": "white",
            "linecolor": "white",
            "ticks": ""
           }
          },
          "scene": {
           "xaxis": {
            "backgroundcolor": "#E5ECF6",
            "gridcolor": "white",
            "gridwidth": 2,
            "linecolor": "white",
            "showbackground": true,
            "ticks": "",
            "zerolinecolor": "white"
           },
           "yaxis": {
            "backgroundcolor": "#E5ECF6",
            "gridcolor": "white",
            "gridwidth": 2,
            "linecolor": "white",
            "showbackground": true,
            "ticks": "",
            "zerolinecolor": "white"
           },
           "zaxis": {
            "backgroundcolor": "#E5ECF6",
            "gridcolor": "white",
            "gridwidth": 2,
            "linecolor": "white",
            "showbackground": true,
            "ticks": "",
            "zerolinecolor": "white"
           }
          },
          "shapedefaults": {
           "line": {
            "color": "#2a3f5f"
           }
          },
          "ternary": {
           "aaxis": {
            "gridcolor": "white",
            "linecolor": "white",
            "ticks": ""
           },
           "baxis": {
            "gridcolor": "white",
            "linecolor": "white",
            "ticks": ""
           },
           "bgcolor": "#E5ECF6",
           "caxis": {
            "gridcolor": "white",
            "linecolor": "white",
            "ticks": ""
           }
          },
          "title": {
           "x": 0.05
          },
          "xaxis": {
           "automargin": true,
           "gridcolor": "white",
           "linecolor": "white",
           "ticks": "",
           "title": {
            "standoff": 15
           },
           "zerolinecolor": "white",
           "zerolinewidth": 2
          },
          "yaxis": {
           "automargin": true,
           "gridcolor": "white",
           "linecolor": "white",
           "ticks": "",
           "title": {
            "standoff": 15
           },
           "zerolinecolor": "white",
           "zerolinewidth": 2
          }
         }
        },
        "xaxis": {
         "anchor": "y",
         "domain": [
          0,
          0.2888888888888889
         ],
         "title": {
          "text": "epoch"
         }
        },
        "xaxis2": {
         "anchor": "y2",
         "domain": [
          0.35555555555555557,
          0.6444444444444445
         ],
         "title": {
          "text": "epoch"
         }
        },
        "xaxis3": {
         "anchor": "y3",
         "domain": [
          0.7111111111111111,
          1
         ],
         "title": {
          "text": "epoch"
         }
        },
        "yaxis": {
         "anchor": "x",
         "domain": [
          0,
          1
         ],
         "title": {
          "text": "loss"
         }
        },
        "yaxis2": {
         "anchor": "x2",
         "domain": [
          0,
          1
         ],
         "title": {
          "text": "accuracy"
         }
        },
        "yaxis3": {
         "anchor": "x3",
         "domain": [
          0,
          1
         ],
         "title": {
          "text": "learning rate"
         }
        }
       }
      }
     },
     "metadata": {},
     "output_type": "display_data"
    }
   ],
   "source": [
    "import plotly.graph_objects as go\n",
    "from plotly.subplots import make_subplots\n",
    "\n",
    "fig = make_subplots(rows=1, cols=3, subplot_titles=['train loss', 'train accuracy', 'train learning rate'])\n",
    "\n",
    "x = list(range(1, len(train_losses)+1))\n",
    "colidx = 1\n",
    "fig.add_trace(go.Scatter(x=x, y=train_losses, name='train_loss'), row=1, col=colidx)\n",
    "fig.update_xaxes(title=\"epoch\", row=1, col=colidx)\n",
    "fig.update_yaxes(title=\"loss\", row=1, col=colidx)\n",
    "colidx += 1\n",
    "fig.add_trace(go.Scatter(x=x, y=train_accuracies, name='accuracy'), row=1, col=colidx)\n",
    "fig.update_xaxes(title=\"epoch\", row=1, col=colidx)\n",
    "fig.update_yaxes(title=\"accuracy\", row=1, col=colidx)\n",
    "colidx += 1\n",
    "fig.add_trace(go.Scatter(x=train_epochs, y=train_lrs, name='learning rate'), row=1, col=colidx)\n",
    "fig.update_xaxes(title=\"epoch\", row=1, col=colidx)\n",
    "fig.update_yaxes(title=\"learning rate\", row=1, col=colidx)\n",
    "fig.show()"
   ]
  },
  {
   "cell_type": "code",
   "execution_count": 11,
   "metadata": {},
   "outputs": [
    {
     "data": {
      "application/vnd.plotly.v1+json": {
       "config": {
        "plotlyServerURL": "https://plot.ly"
       },
       "data": [
        {
         "name": "train_loss",
         "type": "scatter",
         "x": [
          1,
          2,
          3,
          4
         ],
         "xaxis": "x",
         "y": [
          0.59495769405365,
          0.31924419808387755,
          0.23475921523571014,
          0.19564917933940887
         ],
         "yaxis": "y"
        },
        {
         "name": "accuracy",
         "type": "scatter",
         "x": [
          1,
          2,
          3,
          4
         ],
         "xaxis": "x2",
         "y": [
          0.952,
          0.9565,
          0.957,
          0.961
         ],
         "yaxis": "y2"
        }
       ],
       "layout": {
        "annotations": [
         {
          "font": {
           "size": 16
          },
          "showarrow": false,
          "text": "validation loss",
          "x": 0.225,
          "xanchor": "center",
          "xref": "paper",
          "y": 1,
          "yanchor": "bottom",
          "yref": "paper"
         },
         {
          "font": {
           "size": 16
          },
          "showarrow": false,
          "text": "validation accuracy",
          "x": 0.775,
          "xanchor": "center",
          "xref": "paper",
          "y": 1,
          "yanchor": "bottom",
          "yref": "paper"
         }
        ],
        "template": {
         "data": {
          "bar": [
           {
            "error_x": {
             "color": "#2a3f5f"
            },
            "error_y": {
             "color": "#2a3f5f"
            },
            "marker": {
             "line": {
              "color": "#E5ECF6",
              "width": 0.5
             },
             "pattern": {
              "fillmode": "overlay",
              "size": 10,
              "solidity": 0.2
             }
            },
            "type": "bar"
           }
          ],
          "barpolar": [
           {
            "marker": {
             "line": {
              "color": "#E5ECF6",
              "width": 0.5
             },
             "pattern": {
              "fillmode": "overlay",
              "size": 10,
              "solidity": 0.2
             }
            },
            "type": "barpolar"
           }
          ],
          "carpet": [
           {
            "aaxis": {
             "endlinecolor": "#2a3f5f",
             "gridcolor": "white",
             "linecolor": "white",
             "minorgridcolor": "white",
             "startlinecolor": "#2a3f5f"
            },
            "baxis": {
             "endlinecolor": "#2a3f5f",
             "gridcolor": "white",
             "linecolor": "white",
             "minorgridcolor": "white",
             "startlinecolor": "#2a3f5f"
            },
            "type": "carpet"
           }
          ],
          "choropleth": [
           {
            "colorbar": {
             "outlinewidth": 0,
             "ticks": ""
            },
            "type": "choropleth"
           }
          ],
          "contour": [
           {
            "colorbar": {
             "outlinewidth": 0,
             "ticks": ""
            },
            "colorscale": [
             [
              0,
              "#0d0887"
             ],
             [
              0.1111111111111111,
              "#46039f"
             ],
             [
              0.2222222222222222,
              "#7201a8"
             ],
             [
              0.3333333333333333,
              "#9c179e"
             ],
             [
              0.4444444444444444,
              "#bd3786"
             ],
             [
              0.5555555555555556,
              "#d8576b"
             ],
             [
              0.6666666666666666,
              "#ed7953"
             ],
             [
              0.7777777777777778,
              "#fb9f3a"
             ],
             [
              0.8888888888888888,
              "#fdca26"
             ],
             [
              1,
              "#f0f921"
             ]
            ],
            "type": "contour"
           }
          ],
          "contourcarpet": [
           {
            "colorbar": {
             "outlinewidth": 0,
             "ticks": ""
            },
            "type": "contourcarpet"
           }
          ],
          "heatmap": [
           {
            "colorbar": {
             "outlinewidth": 0,
             "ticks": ""
            },
            "colorscale": [
             [
              0,
              "#0d0887"
             ],
             [
              0.1111111111111111,
              "#46039f"
             ],
             [
              0.2222222222222222,
              "#7201a8"
             ],
             [
              0.3333333333333333,
              "#9c179e"
             ],
             [
              0.4444444444444444,
              "#bd3786"
             ],
             [
              0.5555555555555556,
              "#d8576b"
             ],
             [
              0.6666666666666666,
              "#ed7953"
             ],
             [
              0.7777777777777778,
              "#fb9f3a"
             ],
             [
              0.8888888888888888,
              "#fdca26"
             ],
             [
              1,
              "#f0f921"
             ]
            ],
            "type": "heatmap"
           }
          ],
          "heatmapgl": [
           {
            "colorbar": {
             "outlinewidth": 0,
             "ticks": ""
            },
            "colorscale": [
             [
              0,
              "#0d0887"
             ],
             [
              0.1111111111111111,
              "#46039f"
             ],
             [
              0.2222222222222222,
              "#7201a8"
             ],
             [
              0.3333333333333333,
              "#9c179e"
             ],
             [
              0.4444444444444444,
              "#bd3786"
             ],
             [
              0.5555555555555556,
              "#d8576b"
             ],
             [
              0.6666666666666666,
              "#ed7953"
             ],
             [
              0.7777777777777778,
              "#fb9f3a"
             ],
             [
              0.8888888888888888,
              "#fdca26"
             ],
             [
              1,
              "#f0f921"
             ]
            ],
            "type": "heatmapgl"
           }
          ],
          "histogram": [
           {
            "marker": {
             "pattern": {
              "fillmode": "overlay",
              "size": 10,
              "solidity": 0.2
             }
            },
            "type": "histogram"
           }
          ],
          "histogram2d": [
           {
            "colorbar": {
             "outlinewidth": 0,
             "ticks": ""
            },
            "colorscale": [
             [
              0,
              "#0d0887"
             ],
             [
              0.1111111111111111,
              "#46039f"
             ],
             [
              0.2222222222222222,
              "#7201a8"
             ],
             [
              0.3333333333333333,
              "#9c179e"
             ],
             [
              0.4444444444444444,
              "#bd3786"
             ],
             [
              0.5555555555555556,
              "#d8576b"
             ],
             [
              0.6666666666666666,
              "#ed7953"
             ],
             [
              0.7777777777777778,
              "#fb9f3a"
             ],
             [
              0.8888888888888888,
              "#fdca26"
             ],
             [
              1,
              "#f0f921"
             ]
            ],
            "type": "histogram2d"
           }
          ],
          "histogram2dcontour": [
           {
            "colorbar": {
             "outlinewidth": 0,
             "ticks": ""
            },
            "colorscale": [
             [
              0,
              "#0d0887"
             ],
             [
              0.1111111111111111,
              "#46039f"
             ],
             [
              0.2222222222222222,
              "#7201a8"
             ],
             [
              0.3333333333333333,
              "#9c179e"
             ],
             [
              0.4444444444444444,
              "#bd3786"
             ],
             [
              0.5555555555555556,
              "#d8576b"
             ],
             [
              0.6666666666666666,
              "#ed7953"
             ],
             [
              0.7777777777777778,
              "#fb9f3a"
             ],
             [
              0.8888888888888888,
              "#fdca26"
             ],
             [
              1,
              "#f0f921"
             ]
            ],
            "type": "histogram2dcontour"
           }
          ],
          "mesh3d": [
           {
            "colorbar": {
             "outlinewidth": 0,
             "ticks": ""
            },
            "type": "mesh3d"
           }
          ],
          "parcoords": [
           {
            "line": {
             "colorbar": {
              "outlinewidth": 0,
              "ticks": ""
             }
            },
            "type": "parcoords"
           }
          ],
          "pie": [
           {
            "automargin": true,
            "type": "pie"
           }
          ],
          "scatter": [
           {
            "fillpattern": {
             "fillmode": "overlay",
             "size": 10,
             "solidity": 0.2
            },
            "type": "scatter"
           }
          ],
          "scatter3d": [
           {
            "line": {
             "colorbar": {
              "outlinewidth": 0,
              "ticks": ""
             }
            },
            "marker": {
             "colorbar": {
              "outlinewidth": 0,
              "ticks": ""
             }
            },
            "type": "scatter3d"
           }
          ],
          "scattercarpet": [
           {
            "marker": {
             "colorbar": {
              "outlinewidth": 0,
              "ticks": ""
             }
            },
            "type": "scattercarpet"
           }
          ],
          "scattergeo": [
           {
            "marker": {
             "colorbar": {
              "outlinewidth": 0,
              "ticks": ""
             }
            },
            "type": "scattergeo"
           }
          ],
          "scattergl": [
           {
            "marker": {
             "colorbar": {
              "outlinewidth": 0,
              "ticks": ""
             }
            },
            "type": "scattergl"
           }
          ],
          "scattermapbox": [
           {
            "marker": {
             "colorbar": {
              "outlinewidth": 0,
              "ticks": ""
             }
            },
            "type": "scattermapbox"
           }
          ],
          "scatterpolar": [
           {
            "marker": {
             "colorbar": {
              "outlinewidth": 0,
              "ticks": ""
             }
            },
            "type": "scatterpolar"
           }
          ],
          "scatterpolargl": [
           {
            "marker": {
             "colorbar": {
              "outlinewidth": 0,
              "ticks": ""
             }
            },
            "type": "scatterpolargl"
           }
          ],
          "scatterternary": [
           {
            "marker": {
             "colorbar": {
              "outlinewidth": 0,
              "ticks": ""
             }
            },
            "type": "scatterternary"
           }
          ],
          "surface": [
           {
            "colorbar": {
             "outlinewidth": 0,
             "ticks": ""
            },
            "colorscale": [
             [
              0,
              "#0d0887"
             ],
             [
              0.1111111111111111,
              "#46039f"
             ],
             [
              0.2222222222222222,
              "#7201a8"
             ],
             [
              0.3333333333333333,
              "#9c179e"
             ],
             [
              0.4444444444444444,
              "#bd3786"
             ],
             [
              0.5555555555555556,
              "#d8576b"
             ],
             [
              0.6666666666666666,
              "#ed7953"
             ],
             [
              0.7777777777777778,
              "#fb9f3a"
             ],
             [
              0.8888888888888888,
              "#fdca26"
             ],
             [
              1,
              "#f0f921"
             ]
            ],
            "type": "surface"
           }
          ],
          "table": [
           {
            "cells": {
             "fill": {
              "color": "#EBF0F8"
             },
             "line": {
              "color": "white"
             }
            },
            "header": {
             "fill": {
              "color": "#C8D4E3"
             },
             "line": {
              "color": "white"
             }
            },
            "type": "table"
           }
          ]
         },
         "layout": {
          "annotationdefaults": {
           "arrowcolor": "#2a3f5f",
           "arrowhead": 0,
           "arrowwidth": 1
          },
          "autotypenumbers": "strict",
          "coloraxis": {
           "colorbar": {
            "outlinewidth": 0,
            "ticks": ""
           }
          },
          "colorscale": {
           "diverging": [
            [
             0,
             "#8e0152"
            ],
            [
             0.1,
             "#c51b7d"
            ],
            [
             0.2,
             "#de77ae"
            ],
            [
             0.3,
             "#f1b6da"
            ],
            [
             0.4,
             "#fde0ef"
            ],
            [
             0.5,
             "#f7f7f7"
            ],
            [
             0.6,
             "#e6f5d0"
            ],
            [
             0.7,
             "#b8e186"
            ],
            [
             0.8,
             "#7fbc41"
            ],
            [
             0.9,
             "#4d9221"
            ],
            [
             1,
             "#276419"
            ]
           ],
           "sequential": [
            [
             0,
             "#0d0887"
            ],
            [
             0.1111111111111111,
             "#46039f"
            ],
            [
             0.2222222222222222,
             "#7201a8"
            ],
            [
             0.3333333333333333,
             "#9c179e"
            ],
            [
             0.4444444444444444,
             "#bd3786"
            ],
            [
             0.5555555555555556,
             "#d8576b"
            ],
            [
             0.6666666666666666,
             "#ed7953"
            ],
            [
             0.7777777777777778,
             "#fb9f3a"
            ],
            [
             0.8888888888888888,
             "#fdca26"
            ],
            [
             1,
             "#f0f921"
            ]
           ],
           "sequentialminus": [
            [
             0,
             "#0d0887"
            ],
            [
             0.1111111111111111,
             "#46039f"
            ],
            [
             0.2222222222222222,
             "#7201a8"
            ],
            [
             0.3333333333333333,
             "#9c179e"
            ],
            [
             0.4444444444444444,
             "#bd3786"
            ],
            [
             0.5555555555555556,
             "#d8576b"
            ],
            [
             0.6666666666666666,
             "#ed7953"
            ],
            [
             0.7777777777777778,
             "#fb9f3a"
            ],
            [
             0.8888888888888888,
             "#fdca26"
            ],
            [
             1,
             "#f0f921"
            ]
           ]
          },
          "colorway": [
           "#636efa",
           "#EF553B",
           "#00cc96",
           "#ab63fa",
           "#FFA15A",
           "#19d3f3",
           "#FF6692",
           "#B6E880",
           "#FF97FF",
           "#FECB52"
          ],
          "font": {
           "color": "#2a3f5f"
          },
          "geo": {
           "bgcolor": "white",
           "lakecolor": "white",
           "landcolor": "#E5ECF6",
           "showlakes": true,
           "showland": true,
           "subunitcolor": "white"
          },
          "hoverlabel": {
           "align": "left"
          },
          "hovermode": "closest",
          "mapbox": {
           "style": "light"
          },
          "paper_bgcolor": "white",
          "plot_bgcolor": "#E5ECF6",
          "polar": {
           "angularaxis": {
            "gridcolor": "white",
            "linecolor": "white",
            "ticks": ""
           },
           "bgcolor": "#E5ECF6",
           "radialaxis": {
            "gridcolor": "white",
            "linecolor": "white",
            "ticks": ""
           }
          },
          "scene": {
           "xaxis": {
            "backgroundcolor": "#E5ECF6",
            "gridcolor": "white",
            "gridwidth": 2,
            "linecolor": "white",
            "showbackground": true,
            "ticks": "",
            "zerolinecolor": "white"
           },
           "yaxis": {
            "backgroundcolor": "#E5ECF6",
            "gridcolor": "white",
            "gridwidth": 2,
            "linecolor": "white",
            "showbackground": true,
            "ticks": "",
            "zerolinecolor": "white"
           },
           "zaxis": {
            "backgroundcolor": "#E5ECF6",
            "gridcolor": "white",
            "gridwidth": 2,
            "linecolor": "white",
            "showbackground": true,
            "ticks": "",
            "zerolinecolor": "white"
           }
          },
          "shapedefaults": {
           "line": {
            "color": "#2a3f5f"
           }
          },
          "ternary": {
           "aaxis": {
            "gridcolor": "white",
            "linecolor": "white",
            "ticks": ""
           },
           "baxis": {
            "gridcolor": "white",
            "linecolor": "white",
            "ticks": ""
           },
           "bgcolor": "#E5ECF6",
           "caxis": {
            "gridcolor": "white",
            "linecolor": "white",
            "ticks": ""
           }
          },
          "title": {
           "x": 0.05
          },
          "xaxis": {
           "automargin": true,
           "gridcolor": "white",
           "linecolor": "white",
           "ticks": "",
           "title": {
            "standoff": 15
           },
           "zerolinecolor": "white",
           "zerolinewidth": 2
          },
          "yaxis": {
           "automargin": true,
           "gridcolor": "white",
           "linecolor": "white",
           "ticks": "",
           "title": {
            "standoff": 15
           },
           "zerolinecolor": "white",
           "zerolinewidth": 2
          }
         }
        },
        "xaxis": {
         "anchor": "y",
         "domain": [
          0,
          0.45
         ],
         "title": {
          "text": "epoch"
         }
        },
        "xaxis2": {
         "anchor": "y2",
         "domain": [
          0.55,
          1
         ],
         "title": {
          "text": "epoch"
         }
        },
        "yaxis": {
         "anchor": "x",
         "domain": [
          0,
          1
         ],
         "title": {
          "text": "accuracy"
         }
        },
        "yaxis2": {
         "anchor": "x2",
         "domain": [
          0,
          1
         ]
        }
       }
      }
     },
     "metadata": {},
     "output_type": "display_data"
    }
   ],
   "source": [
    "import plotly.graph_objects as go\n",
    "from plotly.subplots import make_subplots\n",
    "\n",
    "fig = make_subplots(rows=1, cols=2, subplot_titles=['validation loss', 'validation accuracy'])\n",
    "\n",
    "x = list(range(1, len(train_losses)+1))\n",
    "val_batch_count = len(transformed_dataset_val) // 16\n",
    "fig.add_trace(go.Scatter(x=x, y=val_losses, name='train_loss'), row=1, col=1)\n",
    "fig.update_xaxes(title=\"epoch\", row=1, col=1)\n",
    "fig.update_yaxes(title=\"loss\", row=1, col=1)\n",
    "fig.add_trace(go.Scatter(x=x, y=val_accuracies, name='accuracy'), row=1, col=2)\n",
    "fig.update_xaxes(title=\"epoch\", row=1, col=2)\n",
    "fig.update_yaxes(title=\"accuracy\", row=1, col=1)\n",
    "fig.show()"
   ]
  },
  {
   "cell_type": "code",
   "execution_count": 12,
   "metadata": {},
   "outputs": [],
   "source": [
    "import os\n",
    "os.makedirs('./pytorch_train', exist_ok=True)\n",
    "torch.save(model.state_dict(), './pytorch_train/model.pth')"
   ]
  },
  {
   "attachments": {},
   "cell_type": "markdown",
   "metadata": {},
   "source": [
    "### Evaluate"
   ]
  },
  {
   "cell_type": "code",
   "execution_count": 13,
   "metadata": {},
   "outputs": [
    {
     "data": {
      "image/png": "[encoded data removed]",
      "text/plain": [
       "<PIL.PngImagePlugin.PngImageFile image mode=RGB size=32x32>"
      ]
     },
     "metadata": {},
     "output_type": "display_data"
    },
    {
     "name": "stdout",
     "output_type": "stream",
     "text": [
      "torch.Size([1, 3, 224, 224])\n",
      "tensor([[-1.1526, -1.4450,  0.2398, -0.6484,  4.8575, -0.6308, -0.9770, -1.6007,\n",
      "         -1.1498, -1.0120]], device='cuda:0')\n",
      "Predicted class :  deer\n",
      "Actual class :  deer\n"
     ]
    }
   ],
   "source": [
    "idx = 100\n",
    "display(dataset_test[idx][image_name])\n",
    "inputs = feature_extractor(images=dataset_test[idx][image_name], return_tensors=\"pt\").to(device)\n",
    "pixel_values = inputs.pixel_values\n",
    "print(pixel_values.shape)\n",
    "with torch.no_grad():\n",
    "    output = model.forward(pixel_values)\n",
    "print(output)\n",
    "prediction = output.argmax(dim=1)\n",
    "print(\"Predicted class : \", id2label[prediction.item()])\n",
    "print(\"Actual class : \", id2label[dataset_test[idx][label_name]])"
   ]
  },
  {
   "cell_type": "code",
   "execution_count": 14,
   "metadata": {},
   "outputs": [
    {
     "data": {
      "text/html": [
       "<div>\n",
       "<style scoped>\n",
       "    .dataframe tbody tr th:only-of-type {\n",
       "        vertical-align: middle;\n",
       "    }\n",
       "\n",
       "    .dataframe tbody tr th {\n",
       "        vertical-align: top;\n",
       "    }\n",
       "\n",
       "    .dataframe thead th {\n",
       "        text-align: right;\n",
       "    }\n",
       "</style>\n",
       "<table border=\"1\" class=\"dataframe\">\n",
       "  <thead>\n",
       "    <tr style=\"text-align: right;\">\n",
       "      <th></th>\n",
       "      <th>label</th>\n",
       "      <th>accuracy</th>\n",
       "      <th>OK</th>\n",
       "      <th>NG</th>\n",
       "      <th>TOTAL</th>\n",
       "    </tr>\n",
       "  </thead>\n",
       "  <tbody>\n",
       "    <tr>\n",
       "      <th>0</th>\n",
       "      <td>cat</td>\n",
       "      <td>0.944724</td>\n",
       "      <td>188</td>\n",
       "      <td>11</td>\n",
       "      <td>199</td>\n",
       "    </tr>\n",
       "    <tr>\n",
       "      <th>1</th>\n",
       "      <td>ship</td>\n",
       "      <td>0.972350</td>\n",
       "      <td>211</td>\n",
       "      <td>6</td>\n",
       "      <td>217</td>\n",
       "    </tr>\n",
       "    <tr>\n",
       "      <th>2</th>\n",
       "      <td>airplane</td>\n",
       "      <td>0.933673</td>\n",
       "      <td>183</td>\n",
       "      <td>13</td>\n",
       "      <td>196</td>\n",
       "    </tr>\n",
       "    <tr>\n",
       "      <th>3</th>\n",
       "      <td>frog</td>\n",
       "      <td>0.944444</td>\n",
       "      <td>204</td>\n",
       "      <td>12</td>\n",
       "      <td>216</td>\n",
       "    </tr>\n",
       "    <tr>\n",
       "      <th>4</th>\n",
       "      <td>automobile</td>\n",
       "      <td>0.964646</td>\n",
       "      <td>191</td>\n",
       "      <td>7</td>\n",
       "      <td>198</td>\n",
       "    </tr>\n",
       "    <tr>\n",
       "      <th>5</th>\n",
       "      <td>truck</td>\n",
       "      <td>0.955665</td>\n",
       "      <td>194</td>\n",
       "      <td>9</td>\n",
       "      <td>203</td>\n",
       "    </tr>\n",
       "    <tr>\n",
       "      <th>6</th>\n",
       "      <td>dog</td>\n",
       "      <td>0.956757</td>\n",
       "      <td>177</td>\n",
       "      <td>8</td>\n",
       "      <td>185</td>\n",
       "    </tr>\n",
       "    <tr>\n",
       "      <th>7</th>\n",
       "      <td>horse</td>\n",
       "      <td>0.984456</td>\n",
       "      <td>190</td>\n",
       "      <td>3</td>\n",
       "      <td>193</td>\n",
       "    </tr>\n",
       "    <tr>\n",
       "      <th>8</th>\n",
       "      <td>deer</td>\n",
       "      <td>0.974747</td>\n",
       "      <td>193</td>\n",
       "      <td>5</td>\n",
       "      <td>198</td>\n",
       "    </tr>\n",
       "    <tr>\n",
       "      <th>9</th>\n",
       "      <td>bird</td>\n",
       "      <td>0.974359</td>\n",
       "      <td>190</td>\n",
       "      <td>5</td>\n",
       "      <td>195</td>\n",
       "    </tr>\n",
       "    <tr>\n",
       "      <th>10</th>\n",
       "      <td>all</td>\n",
       "      <td>0.960500</td>\n",
       "      <td>1921</td>\n",
       "      <td>79</td>\n",
       "      <td>2000</td>\n",
       "    </tr>\n",
       "  </tbody>\n",
       "</table>\n",
       "</div>"
      ],
      "text/plain": [
       "         label  accuracy    OK  NG  TOTAL\n",
       "0          cat  0.944724   188  11    199\n",
       "1         ship  0.972350   211   6    217\n",
       "2     airplane  0.933673   183  13    196\n",
       "3         frog  0.944444   204  12    216\n",
       "4   automobile  0.964646   191   7    198\n",
       "5        truck  0.955665   194   9    203\n",
       "6          dog  0.956757   177   8    185\n",
       "7        horse  0.984456   190   3    193\n",
       "8         deer  0.974747   193   5    198\n",
       "9         bird  0.974359   190   5    195\n",
       "10         all  0.960500  1921  79   2000"
      ]
     },
     "execution_count": 14,
     "metadata": {},
     "output_type": "execute_result"
    }
   ],
   "source": [
    "import pandas as pd\n",
    "\n",
    "result = {'OK': 0, 'NG': 0}\n",
    "result2 = {}\n",
    "for idx in range(len(dataset_test)):\n",
    "    inputs = feature_extractor(images=dataset_test[idx][image_name], return_tensors=\"pt\").to(device)\n",
    "    pixel_values = inputs.pixel_values\n",
    "    with torch.no_grad():\n",
    "        output = model.forward(pixel_values)\n",
    "    prediction = output.argmax(dim=1)\n",
    "    true_label = dataset_test[idx][label_name]\n",
    "    key = 'OK' if prediction.item() == true_label else 'NG'\n",
    "    result[key] = result[key] + 1\n",
    "    \n",
    "    result_per_label = result2.setdefault(id2label[true_label], {})\n",
    "    result_per_label[key] = result_per_label.setdefault(key, 0) + 1\n",
    "\n",
    "result_data = {'label': [], 'accuracy': [], 'OK': [], 'NG': [], 'TOTAL': []}\n",
    "for k, v in result2.items():\n",
    "    ok = v.get('OK', 0)\n",
    "    ng = v.get('NG', 0)\n",
    "    result_data['label'].append(k)\n",
    "    result_data['accuracy'].append(ok/(ok+ng))\n",
    "    result_data['OK'].append(ok)\n",
    "    result_data['NG'].append(ng)\n",
    "    result_data['TOTAL'].append(ok+ng)\n",
    "    \n",
    "\n",
    "total = result['OK'] + result['NG']\n",
    "result_data['label'].append('all')\n",
    "result_data['accuracy'].append(result['OK']/(total))\n",
    "result_data['OK'].append(result['OK'])\n",
    "result_data['NG'].append(result['NG'])\n",
    "result_data['TOTAL'].append(total)\n",
    "\n",
    "df_accuracy = pd.DataFrame(result_data)\n",
    "df_accuracy"
   ]
  },
  {
   "attachments": {},
   "cell_type": "markdown",
   "metadata": {},
   "source": [
    "## Similarity by Image Feature Vector"
   ]
  },
  {
   "cell_type": "code",
   "execution_count": 15,
   "metadata": {},
   "outputs": [],
   "source": [
    "#### predict func\n",
    "from PIL import Image\n",
    "from IPython.display import Image as ipython_image\n",
    "\n",
    "def predict_by_trained_model(imgfile):\n",
    "    display(ipython_image(filename=imgfile, width=150, height=150))\n",
    "    img = Image.open(imgfile)\n",
    "    inputs = feature_extractor(images=img, return_tensors=\"pt\").to(device)\n",
    "    pixel_values = inputs.pixel_values\n",
    "    print(pixel_values.shape)\n",
    "    with torch.no_grad():\n",
    "        feature_vector = model._model(pixel_values).last_hidden_state[:, 0, :]\n",
    "        output = model.forward(pixel_values)\n",
    "    print(output)\n",
    "    prediction = output.argmax(dim=1)\n",
    "    print(\"Predicted class : \", id2label[prediction.item()])\n",
    "\n",
    "    return f'{id2label[prediction.item()]}-{imgfile}', id2label[prediction.item()], feature_vector"
   ]
  },
  {
   "cell_type": "code",
   "execution_count": 19,
   "metadata": {},
   "outputs": [
    {
     "data": {
      "image/jpeg": "[encoded data removed]",
      "text/plain": [
       "<IPython.core.display.Image object>"
      ]
     },
     "metadata": {
      "image/jpeg": {
       "height": 150,
       "width": 150
      }
     },
     "output_type": "display_data"
    },
    {
     "name": "stdout",
     "output_type": "stream",
     "text": [
      "torch.Size([1, 3, 224, 224])\n",
      "tensor([[ 4.5417, -1.1340, -0.5534, -0.7441, -0.0561, -0.6750, -0.0235, -1.2442,\n",
      "         -1.4094, -0.2453]], device='cuda:0')\n",
      "Predicted class :  airplane\n"
     ]
    },
    {
     "data": {
      "image/jpeg": "[encoded data removed]",
      "text/plain": [
       "<IPython.core.display.Image object>"
      ]
     },
     "metadata": {
      "image/jpeg": {
       "height": 150,
       "width": 150
      }
     },
     "output_type": "display_data"
    },
    {
     "name": "stdout",
     "output_type": "stream",
     "text": [
      "torch.Size([1, 3, 224, 224])\n",
      "tensor([[ 3.8050, -1.5240, -0.1252, -0.8404, -0.1809, -0.9809, -0.2942, -0.8589,\n",
      "         -0.5290,  0.0946]], device='cuda:0')\n",
      "Predicted class :  airplane\n"
     ]
    },
    {
     "data": {
      "image/jpeg": "[encoded data removed]",
      "text/plain": [
       "<IPython.core.display.Image object>"
      ]
     },
     "metadata": {
      "image/jpeg": {
       "height": 150,
       "width": 150
      }
     },
     "output_type": "display_data"
    },
    {
     "name": "stdout",
     "output_type": "stream",
     "text": [
      "torch.Size([1, 3, 224, 224])\n",
      "tensor([[-0.3590, -0.9898,  1.8454, -0.2442,  0.1670, -0.8510,  0.2429, -0.1707,\n",
      "         -0.3225, -0.0204]], device='cuda:0')\n",
      "Predicted class :  bird\n"
     ]
    },
    {
     "data": {
      "image/jpeg": "[encoded data removed]",
      "text/plain": [
       "<IPython.core.display.Image object>"
      ]
     },
     "metadata": {
      "image/jpeg": {
       "height": 150,
       "width": 150
      }
     },
     "output_type": "display_data"
    },
    {
     "name": "stdout",
     "output_type": "stream",
     "text": [
      "torch.Size([1, 3, 224, 224])\n",
      "tensor([[-0.8937, -0.4289, -0.1881, -1.0522, -0.5111, -0.5720, -0.6441, -0.4643,\n",
      "          3.6261,  0.0932]], device='cuda:0')\n",
      "Predicted class :  ship\n"
     ]
    }
   ],
   "source": [
    "import glob\n",
    "files = glob.glob('testdata/*')\n",
    "jpg_files = [f for f in files if f.lower().endswith('jpg')]\n",
    "\n",
    "feature_vectors = {}\n",
    "feature_labels = {}\n",
    "for f in jpg_files:\n",
    "    k, label, v = predict_by_trained_model(f)\n",
    "    feature_vectors[k] = v\n",
    "    feature_labels[k] = label"
   ]
  },
  {
   "cell_type": "code",
   "execution_count": 20,
   "metadata": {},
   "outputs": [
    {
     "data": {
      "text/html": [
       "<div>\n",
       "<style scoped>\n",
       "    .dataframe tbody tr th:only-of-type {\n",
       "        vertical-align: middle;\n",
       "    }\n",
       "\n",
       "    .dataframe tbody tr th {\n",
       "        vertical-align: top;\n",
       "    }\n",
       "\n",
       "    .dataframe thead th {\n",
       "        text-align: right;\n",
       "    }\n",
       "</style>\n",
       "<table border=\"1\" class=\"dataframe\">\n",
       "  <thead>\n",
       "    <tr style=\"text-align: right;\">\n",
       "      <th></th>\n",
       "      <th>name</th>\n",
       "      <th>label</th>\n",
       "      <th>PCA1</th>\n",
       "      <th>PCA2</th>\n",
       "    </tr>\n",
       "  </thead>\n",
       "  <tbody>\n",
       "    <tr>\n",
       "      <th>0</th>\n",
       "      <td>airplane-testdata\\test11.jpg</td>\n",
       "      <td>airplane</td>\n",
       "      <td>-2.285337</td>\n",
       "      <td>-1.323485</td>\n",
       "    </tr>\n",
       "    <tr>\n",
       "      <th>1</th>\n",
       "      <td>airplane-testdata\\test22_background.jpg</td>\n",
       "      <td>airplane</td>\n",
       "      <td>-2.173894</td>\n",
       "      <td>-0.864092</td>\n",
       "    </tr>\n",
       "    <tr>\n",
       "      <th>2</th>\n",
       "      <td>bird-testdata\\test33.jpg</td>\n",
       "      <td>bird</td>\n",
       "      <td>4.122936</td>\n",
       "      <td>-1.489112</td>\n",
       "    </tr>\n",
       "    <tr>\n",
       "      <th>3</th>\n",
       "      <td>ship-testdata\\test44.jpg</td>\n",
       "      <td>ship</td>\n",
       "      <td>0.336297</td>\n",
       "      <td>3.676688</td>\n",
       "    </tr>\n",
       "  </tbody>\n",
       "</table>\n",
       "</div>"
      ],
      "text/plain": [
       "                                      name     label      PCA1      PCA2\n",
       "0             airplane-testdata\\test11.jpg  airplane -2.285337 -1.323485\n",
       "1  airplane-testdata\\test22_background.jpg  airplane -2.173894 -0.864092\n",
       "2                 bird-testdata\\test33.jpg      bird  4.122936 -1.489112\n",
       "3                 ship-testdata\\test44.jpg      ship  0.336297  3.676688"
      ]
     },
     "execution_count": 20,
     "metadata": {},
     "output_type": "execute_result"
    }
   ],
   "source": [
    "from sklearn.decomposition import PCA\n",
    "import numpy as np\n",
    "\n",
    "pca = PCA(n_components=2)\n",
    "\n",
    "names = []\n",
    "labels = []\n",
    "values = []\n",
    "for k, v in feature_vectors.items(): \n",
    "    names.append(k)\n",
    "    labels.append(feature_labels.get(k))\n",
    "    values.append(v.cpu().numpy()[0])\n",
    "\n",
    "df_samples = pd.DataFrame({'name': names, 'label': labels})\n",
    "df_samples[['PCA1', 'PCA2']] = pca.fit_transform(np.array(values))\n",
    "df_samples\n"
   ]
  },
  {
   "cell_type": "code",
   "execution_count": 23,
   "metadata": {},
   "outputs": [
    {
     "data": {
      "application/vnd.plotly.v1+json": {
       "config": {
        "plotlyServerURL": "https://plot.ly"
       },
       "data": [
        {
         "mode": "markers",
         "name": "airplane",
         "type": "scatter",
         "x": [
          -2.285337448120117,
          -2.173894166946411
         ],
         "y": [
          -1.323485255241394,
          -0.864091694355011
         ]
        },
        {
         "mode": "markers",
         "name": "bird",
         "type": "scatter",
         "x": [
          4.122935771942139
         ],
         "y": [
          -1.489112377166748
         ]
        },
        {
         "mode": "markers",
         "name": "ship",
         "type": "scatter",
         "x": [
          0.3362969160079956
         ],
         "y": [
          3.6766879558563232
         ]
        }
       ],
       "layout": {
        "height": 400,
        "template": {
         "data": {
          "bar": [
           {
            "error_x": {
             "color": "#2a3f5f"
            },
            "error_y": {
             "color": "#2a3f5f"
            },
            "marker": {
             "line": {
              "color": "#E5ECF6",
              "width": 0.5
             },
             "pattern": {
              "fillmode": "overlay",
              "size": 10,
              "solidity": 0.2
             }
            },
            "type": "bar"
           }
          ],
          "barpolar": [
           {
            "marker": {
             "line": {
              "color": "#E5ECF6",
              "width": 0.5
             },
             "pattern": {
              "fillmode": "overlay",
              "size": 10,
              "solidity": 0.2
             }
            },
            "type": "barpolar"
           }
          ],
          "carpet": [
           {
            "aaxis": {
             "endlinecolor": "#2a3f5f",
             "gridcolor": "white",
             "linecolor": "white",
             "minorgridcolor": "white",
             "startlinecolor": "#2a3f5f"
            },
            "baxis": {
             "endlinecolor": "#2a3f5f",
             "gridcolor": "white",
             "linecolor": "white",
             "minorgridcolor": "white",
             "startlinecolor": "#2a3f5f"
            },
            "type": "carpet"
           }
          ],
          "choropleth": [
           {
            "colorbar": {
             "outlinewidth": 0,
             "ticks": ""
            },
            "type": "choropleth"
           }
          ],
          "contour": [
           {
            "colorbar": {
             "outlinewidth": 0,
             "ticks": ""
            },
            "colorscale": [
             [
              0,
              "#0d0887"
             ],
             [
              0.1111111111111111,
              "#46039f"
             ],
             [
              0.2222222222222222,
              "#7201a8"
             ],
             [
              0.3333333333333333,
              "#9c179e"
             ],
             [
              0.4444444444444444,
              "#bd3786"
             ],
             [
              0.5555555555555556,
              "#d8576b"
             ],
             [
              0.6666666666666666,
              "#ed7953"
             ],
             [
              0.7777777777777778,
              "#fb9f3a"
             ],
             [
              0.8888888888888888,
              "#fdca26"
             ],
             [
              1,
              "#f0f921"
             ]
            ],
            "type": "contour"
           }
          ],
          "contourcarpet": [
           {
            "colorbar": {
             "outlinewidth": 0,
             "ticks": ""
            },
            "type": "contourcarpet"
           }
          ],
          "heatmap": [
           {
            "colorbar": {
             "outlinewidth": 0,
             "ticks": ""
            },
            "colorscale": [
             [
              0,
              "#0d0887"
             ],
             [
              0.1111111111111111,
              "#46039f"
             ],
             [
              0.2222222222222222,
              "#7201a8"
             ],
             [
              0.3333333333333333,
              "#9c179e"
             ],
             [
              0.4444444444444444,
              "#bd3786"
             ],
             [
              0.5555555555555556,
              "#d8576b"
             ],
             [
              0.6666666666666666,
              "#ed7953"
             ],
             [
              0.7777777777777778,
              "#fb9f3a"
             ],
             [
              0.8888888888888888,
              "#fdca26"
             ],
             [
              1,
              "#f0f921"
             ]
            ],
            "type": "heatmap"
           }
          ],
          "heatmapgl": [
           {
            "colorbar": {
             "outlinewidth": 0,
             "ticks": ""
            },
            "colorscale": [
             [
              0,
              "#0d0887"
             ],
             [
              0.1111111111111111,
              "#46039f"
             ],
             [
              0.2222222222222222,
              "#7201a8"
             ],
             [
              0.3333333333333333,
              "#9c179e"
             ],
             [
              0.4444444444444444,
              "#bd3786"
             ],
             [
              0.5555555555555556,
              "#d8576b"
             ],
             [
              0.6666666666666666,
              "#ed7953"
             ],
             [
              0.7777777777777778,
              "#fb9f3a"
             ],
             [
              0.8888888888888888,
              "#fdca26"
             ],
             [
              1,
              "#f0f921"
             ]
            ],
            "type": "heatmapgl"
           }
          ],
          "histogram": [
           {
            "marker": {
             "pattern": {
              "fillmode": "overlay",
              "size": 10,
              "solidity": 0.2
             }
            },
            "type": "histogram"
           }
          ],
          "histogram2d": [
           {
            "colorbar": {
             "outlinewidth": 0,
             "ticks": ""
            },
            "colorscale": [
             [
              0,
              "#0d0887"
             ],
             [
              0.1111111111111111,
              "#46039f"
             ],
             [
              0.2222222222222222,
              "#7201a8"
             ],
             [
              0.3333333333333333,
              "#9c179e"
             ],
             [
              0.4444444444444444,
              "#bd3786"
             ],
             [
              0.5555555555555556,
              "#d8576b"
             ],
             [
              0.6666666666666666,
              "#ed7953"
             ],
             [
              0.7777777777777778,
              "#fb9f3a"
             ],
             [
              0.8888888888888888,
              "#fdca26"
             ],
             [
              1,
              "#f0f921"
             ]
            ],
            "type": "histogram2d"
           }
          ],
          "histogram2dcontour": [
           {
            "colorbar": {
             "outlinewidth": 0,
             "ticks": ""
            },
            "colorscale": [
             [
              0,
              "#0d0887"
             ],
             [
              0.1111111111111111,
              "#46039f"
             ],
             [
              0.2222222222222222,
              "#7201a8"
             ],
             [
              0.3333333333333333,
              "#9c179e"
             ],
             [
              0.4444444444444444,
              "#bd3786"
             ],
             [
              0.5555555555555556,
              "#d8576b"
             ],
             [
              0.6666666666666666,
              "#ed7953"
             ],
             [
              0.7777777777777778,
              "#fb9f3a"
             ],
             [
              0.8888888888888888,
              "#fdca26"
             ],
             [
              1,
              "#f0f921"
             ]
            ],
            "type": "histogram2dcontour"
           }
          ],
          "mesh3d": [
           {
            "colorbar": {
             "outlinewidth": 0,
             "ticks": ""
            },
            "type": "mesh3d"
           }
          ],
          "parcoords": [
           {
            "line": {
             "colorbar": {
              "outlinewidth": 0,
              "ticks": ""
             }
            },
            "type": "parcoords"
           }
          ],
          "pie": [
           {
            "automargin": true,
            "type": "pie"
           }
          ],
          "scatter": [
           {
            "fillpattern": {
             "fillmode": "overlay",
             "size": 10,
             "solidity": 0.2
            },
            "type": "scatter"
           }
          ],
          "scatter3d": [
           {
            "line": {
             "colorbar": {
              "outlinewidth": 0,
              "ticks": ""
             }
            },
            "marker": {
             "colorbar": {
              "outlinewidth": 0,
              "ticks": ""
             }
            },
            "type": "scatter3d"
           }
          ],
          "scattercarpet": [
           {
            "marker": {
             "colorbar": {
              "outlinewidth": 0,
              "ticks": ""
             }
            },
            "type": "scattercarpet"
           }
          ],
          "scattergeo": [
           {
            "marker": {
             "colorbar": {
              "outlinewidth": 0,
              "ticks": ""
             }
            },
            "type": "scattergeo"
           }
          ],
          "scattergl": [
           {
            "marker": {
             "colorbar": {
              "outlinewidth": 0,
              "ticks": ""
             }
            },
            "type": "scattergl"
           }
          ],
          "scattermapbox": [
           {
            "marker": {
             "colorbar": {
              "outlinewidth": 0,
              "ticks": ""
             }
            },
            "type": "scattermapbox"
           }
          ],
          "scatterpolar": [
           {
            "marker": {
             "colorbar": {
              "outlinewidth": 0,
              "ticks": ""
             }
            },
            "type": "scatterpolar"
           }
          ],
          "scatterpolargl": [
           {
            "marker": {
             "colorbar": {
              "outlinewidth": 0,
              "ticks": ""
             }
            },
            "type": "scatterpolargl"
           }
          ],
          "scatterternary": [
           {
            "marker": {
             "colorbar": {
              "outlinewidth": 0,
              "ticks": ""
             }
            },
            "type": "scatterternary"
           }
          ],
          "surface": [
           {
            "colorbar": {
             "outlinewidth": 0,
             "ticks": ""
            },
            "colorscale": [
             [
              0,
              "#0d0887"
             ],
             [
              0.1111111111111111,
              "#46039f"
             ],
             [
              0.2222222222222222,
              "#7201a8"
             ],
             [
              0.3333333333333333,
              "#9c179e"
             ],
             [
              0.4444444444444444,
              "#bd3786"
             ],
             [
              0.5555555555555556,
              "#d8576b"
             ],
             [
              0.6666666666666666,
              "#ed7953"
             ],
             [
              0.7777777777777778,
              "#fb9f3a"
             ],
             [
              0.8888888888888888,
              "#fdca26"
             ],
             [
              1,
              "#f0f921"
             ]
            ],
            "type": "surface"
           }
          ],
          "table": [
           {
            "cells": {
             "fill": {
              "color": "#EBF0F8"
             },
             "line": {
              "color": "white"
             }
            },
            "header": {
             "fill": {
              "color": "#C8D4E3"
             },
             "line": {
              "color": "white"
             }
            },
            "type": "table"
           }
          ]
         },
         "layout": {
          "annotationdefaults": {
           "arrowcolor": "#2a3f5f",
           "arrowhead": 0,
           "arrowwidth": 1
          },
          "autotypenumbers": "strict",
          "coloraxis": {
           "colorbar": {
            "outlinewidth": 0,
            "ticks": ""
           }
          },
          "colorscale": {
           "diverging": [
            [
             0,
             "#8e0152"
            ],
            [
             0.1,
             "#c51b7d"
            ],
            [
             0.2,
             "#de77ae"
            ],
            [
             0.3,
             "#f1b6da"
            ],
            [
             0.4,
             "#fde0ef"
            ],
            [
             0.5,
             "#f7f7f7"
            ],
            [
             0.6,
             "#e6f5d0"
            ],
            [
             0.7,
             "#b8e186"
            ],
            [
             0.8,
             "#7fbc41"
            ],
            [
             0.9,
             "#4d9221"
            ],
            [
             1,
             "#276419"
            ]
           ],
           "sequential": [
            [
             0,
             "#0d0887"
            ],
            [
             0.1111111111111111,
             "#46039f"
            ],
            [
             0.2222222222222222,
             "#7201a8"
            ],
            [
             0.3333333333333333,
             "#9c179e"
            ],
            [
             0.4444444444444444,
             "#bd3786"
            ],
            [
             0.5555555555555556,
             "#d8576b"
            ],
            [
             0.6666666666666666,
             "#ed7953"
            ],
            [
             0.7777777777777778,
             "#fb9f3a"
            ],
            [
             0.8888888888888888,
             "#fdca26"
            ],
            [
             1,
             "#f0f921"
            ]
           ],
           "sequentialminus": [
            [
             0,
             "#0d0887"
            ],
            [
             0.1111111111111111,
             "#46039f"
            ],
            [
             0.2222222222222222,
             "#7201a8"
            ],
            [
             0.3333333333333333,
             "#9c179e"
            ],
            [
             0.4444444444444444,
             "#bd3786"
            ],
            [
             0.5555555555555556,
             "#d8576b"
            ],
            [
             0.6666666666666666,
             "#ed7953"
            ],
            [
             0.7777777777777778,
             "#fb9f3a"
            ],
            [
             0.8888888888888888,
             "#fdca26"
            ],
            [
             1,
             "#f0f921"
            ]
           ]
          },
          "colorway": [
           "#636efa",
           "#EF553B",
           "#00cc96",
           "#ab63fa",
           "#FFA15A",
           "#19d3f3",
           "#FF6692",
           "#B6E880",
           "#FF97FF",
           "#FECB52"
          ],
          "font": {
           "color": "#2a3f5f"
          },
          "geo": {
           "bgcolor": "white",
           "lakecolor": "white",
           "landcolor": "#E5ECF6",
           "showlakes": true,
           "showland": true,
           "subunitcolor": "white"
          },
          "hoverlabel": {
           "align": "left"
          },
          "hovermode": "closest",
          "mapbox": {
           "style": "light"
          },
          "paper_bgcolor": "white",
          "plot_bgcolor": "#E5ECF6",
          "polar": {
           "angularaxis": {
            "gridcolor": "white",
            "linecolor": "white",
            "ticks": ""
           },
           "bgcolor": "#E5ECF6",
           "radialaxis": {
            "gridcolor": "white",
            "linecolor": "white",
            "ticks": ""
           }
          },
          "scene": {
           "xaxis": {
            "backgroundcolor": "#E5ECF6",
            "gridcolor": "white",
            "gridwidth": 2,
            "linecolor": "white",
            "showbackground": true,
            "ticks": "",
            "zerolinecolor": "white"
           },
           "yaxis": {
            "backgroundcolor": "#E5ECF6",
            "gridcolor": "white",
            "gridwidth": 2,
            "linecolor": "white",
            "showbackground": true,
            "ticks": "",
            "zerolinecolor": "white"
           },
           "zaxis": {
            "backgroundcolor": "#E5ECF6",
            "gridcolor": "white",
            "gridwidth": 2,
            "linecolor": "white",
            "showbackground": true,
            "ticks": "",
            "zerolinecolor": "white"
           }
          },
          "shapedefaults": {
           "line": {
            "color": "#2a3f5f"
           }
          },
          "ternary": {
           "aaxis": {
            "gridcolor": "white",
            "linecolor": "white",
            "ticks": ""
           },
           "baxis": {
            "gridcolor": "white",
            "linecolor": "white",
            "ticks": ""
           },
           "bgcolor": "#E5ECF6",
           "caxis": {
            "gridcolor": "white",
            "linecolor": "white",
            "ticks": ""
           }
          },
          "title": {
           "x": 0.05
          },
          "xaxis": {
           "automargin": true,
           "gridcolor": "white",
           "linecolor": "white",
           "ticks": "",
           "title": {
            "standoff": 15
           },
           "zerolinecolor": "white",
           "zerolinewidth": 2
          },
          "yaxis": {
           "automargin": true,
           "gridcolor": "white",
           "linecolor": "white",
           "ticks": "",
           "title": {
            "standoff": 15
           },
           "zerolinecolor": "white",
           "zerolinewidth": 2
          }
         }
        },
        "title": {
         "text": "last_hidden_state decomposition vector plot"
        },
        "width": 500,
        "xaxis": {
         "title": {
          "text": "PCA1"
         }
        },
        "yaxis": {
         "title": {
          "text": "PCA2"
         }
        }
       }
      }
     },
     "metadata": {},
     "output_type": "display_data"
    }
   ],
   "source": [
    "import plotly.graph_objects as go\n",
    "\n",
    "fig = go.Figure()\n",
    "\n",
    "for l in df_samples['label'].unique().tolist():\n",
    "    df_tmp = df_samples[df_samples['label'] == l]\n",
    "    fig.add_trace(go.Scatter(x=df_tmp['PCA1'], y=df_tmp['PCA2'], name=l, mode='markers'))\n",
    "fig.update_layout(title='last_hidden_state decomposition vector plot', width=500, height=400)\n",
    "fig.update_xaxes(title='PCA1')\n",
    "fig.update_yaxes(title='PCA2')\n",
    "fig.show()"
   ]
  },
  {
   "cell_type": "code",
   "execution_count": null,
   "metadata": {},
   "outputs": [],
   "source": []
  }
 ],
 "metadata": {
  "kernelspec": {
   "display_name": "Python 3",
   "language": "python",
   "name": "python3"
  },
  "language_info": {
   "codemirror_mode": {
    "name": "ipython",
    "version": 3
   },
   "file_extension": ".py",
   "mimetype": "text/x-python",
   "name": "python",
   "nbconvert_exporter": "python",
   "pygments_lexer": "ipython3",
   "version": "3.10.11"
  },
  "orig_nbformat": 4
 },
 "nbformat": 4,
 "nbformat_minor": 2
}
